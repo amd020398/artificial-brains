{
  "nbformat": 4,
  "nbformat_minor": 0,
  "metadata": {
    "colab": {
      "name": "Recommender_system.ipynb",
      "provenance": [],
      "collapsed_sections": [],
      "include_colab_link": true
    },
    "kernelspec": {
      "display_name": "Python 3",
      "name": "python3"
    },
    "language_info": {
      "name": "python"
    }
  },
  "cells": [
    {
      "cell_type": "markdown",
      "metadata": {
        "id": "view-in-github",
        "colab_type": "text"
      },
      "source": [
        "<a href=\"https://colab.research.google.com/github/amd020398/artificial-brains/blob/development/Recommender_system.ipynb\" target=\"_parent\"><img src=\"https://colab.research.google.com/assets/colab-badge.svg\" alt=\"Open In Colab\"/></a>"
      ]
    },
    {
      "cell_type": "code",
      "metadata": {
        "id": "VNSJEtGZXtcV"
      },
      "source": [
        "import pandas as pd\n",
        "import numpy as np"
      ],
      "execution_count": null,
      "outputs": []
    },
    {
      "cell_type": "code",
      "metadata": {
        "id": "Et17bySgdvjR"
      },
      "source": [
        "# foodexp = pd.read_csv(\"/content/drive/MyDrive/BWAI Challenge 3 Dataset/foodexp.csv\")\n",
        "# foodfridge = pd.read_csv(\"/content/drive/MyDrive/BWAI Challenge 3 Dataset/foodfridge.csv\")\n",
        "# foodshelf = pd.read_csv(\"/content/drive/MyDrive/BWAI Challenge 3 Dataset/foodshelf.csv\")\n",
        "# foodsimple = pd.read_csv(\"/content/drive/MyDrive/BWAI Challenge 3 Dataset/foodsimple.csv\")\n",
        "\n",
        "# combined_food_df = pd.concat([foodexp, foodfridge, foodshelf,\n",
        "#                                            foodsimple]).drop_duplicates() "
      ],
      "execution_count": null,
      "outputs": []
    },
    {
      "cell_type": "code",
      "metadata": {
        "id": "S7p3knHo8W69"
      },
      "source": [
        "food_consumed = pd.read_csv(\"/content/drive/MyDrive/BWAI Challenge 3 Dataset/orderItemsRequests.csv\")"
      ],
      "execution_count": null,
      "outputs": []
    },
    {
      "cell_type": "code",
      "metadata": {
        "colab": {
          "base_uri": "https://localhost:8080/",
          "height": 204
        },
        "id": "RmZCYCzM2GWa",
        "outputId": "10c5782c-ee96-43cd-94c4-d4519d7908af"
      },
      "source": [
        "food_consumed.head()"
      ],
      "execution_count": null,
      "outputs": [
        {
          "output_type": "execute_result",
          "data": {
            "text/html": [
              "<div>\n",
              "<style scoped>\n",
              "    .dataframe tbody tr th:only-of-type {\n",
              "        vertical-align: middle;\n",
              "    }\n",
              "\n",
              "    .dataframe tbody tr th {\n",
              "        vertical-align: top;\n",
              "    }\n",
              "\n",
              "    .dataframe thead th {\n",
              "        text-align: right;\n",
              "    }\n",
              "</style>\n",
              "<table border=\"1\" class=\"dataframe\">\n",
              "  <thead>\n",
              "    <tr style=\"text-align: right;\">\n",
              "      <th></th>\n",
              "      <th>OrderId</th>\n",
              "      <th>OrderItemId</th>\n",
              "      <th>ProductType</th>\n",
              "      <th>ProductItem</th>\n",
              "      <th>ProductPeriod</th>\n",
              "      <th>ProductDetails</th>\n",
              "      <th>ProductStorage</th>\n",
              "    </tr>\n",
              "  </thead>\n",
              "  <tbody>\n",
              "    <tr>\n",
              "      <th>0</th>\n",
              "      <td>50050</td>\n",
              "      <td>1</td>\n",
              "      <td>DIARY</td>\n",
              "      <td>Eggs, in shell</td>\n",
              "      <td>NaN</td>\n",
              "      <td>Do not freeze</td>\n",
              "      <td>FROZEN</td>\n",
              "    </tr>\n",
              "    <tr>\n",
              "      <th>1</th>\n",
              "      <td>50050</td>\n",
              "      <td>2</td>\n",
              "      <td>SHELF_ITEM</td>\n",
              "      <td>Tea, bags</td>\n",
              "      <td>18 months</td>\n",
              "      <td>unopened</td>\n",
              "      <td>SHELF</td>\n",
              "    </tr>\n",
              "    <tr>\n",
              "      <th>2</th>\n",
              "      <td>50050</td>\n",
              "      <td>3</td>\n",
              "      <td>BAKERY</td>\n",
              "      <td>Pies, mincemeat</td>\n",
              "      <td>8 months</td>\n",
              "      <td>NaN</td>\n",
              "      <td>FROZEN</td>\n",
              "    </tr>\n",
              "    <tr>\n",
              "      <th>3</th>\n",
              "      <td>50050</td>\n",
              "      <td>4</td>\n",
              "      <td>SHELF_ITEM</td>\n",
              "      <td>Marshmallows, marshmallow creme</td>\n",
              "      <td>2-4 months</td>\n",
              "      <td>unopened</td>\n",
              "      <td>SHELF</td>\n",
              "    </tr>\n",
              "    <tr>\n",
              "      <th>4</th>\n",
              "      <td>50050</td>\n",
              "      <td>5</td>\n",
              "      <td>BAKERY</td>\n",
              "      <td>Doughnuts, glazed or cake</td>\n",
              "      <td>1 week</td>\n",
              "      <td>G</td>\n",
              "      <td>REFRIGERATED</td>\n",
              "    </tr>\n",
              "  </tbody>\n",
              "</table>\n",
              "</div>"
            ],
            "text/plain": [
              "   OrderId  OrderItemId ProductType  ... ProductPeriod ProductDetails ProductStorage\n",
              "0    50050            1       DIARY  ...           NaN  Do not freeze         FROZEN\n",
              "1    50050            2  SHELF_ITEM  ...     18 months       unopened          SHELF\n",
              "2    50050            3      BAKERY  ...      8 months            NaN         FROZEN\n",
              "3    50050            4  SHELF_ITEM  ...    2-4 months       unopened          SHELF\n",
              "4    50050            5      BAKERY  ...        1 week              G   REFRIGERATED\n",
              "\n",
              "[5 rows x 7 columns]"
            ]
          },
          "metadata": {},
          "execution_count": 4
        }
      ]
    },
    {
      "cell_type": "code",
      "metadata": {
        "colab": {
          "base_uri": "https://localhost:8080/"
        },
        "id": "0mF3JDHX6E3G",
        "outputId": "84443c47-54b1-444c-cd40-b9c230fd5120"
      },
      "source": [
        "from google.colab import drive\n",
        "drive.mount('/content/drive')"
      ],
      "execution_count": null,
      "outputs": [
        {
          "output_type": "stream",
          "name": "stdout",
          "text": [
            "Drive already mounted at /content/drive; to attempt to forcibly remount, call drive.mount(\"/content/drive\", force_remount=True).\n"
          ]
        }
      ]
    },
    {
      "cell_type": "code",
      "metadata": {
        "colab": {
          "base_uri": "https://localhost:8080/"
        },
        "id": "JJhpt7yt2kwv",
        "outputId": "9718ad48-230d-47de-cbbe-fc61658281b4"
      },
      "source": [
        "food_consumed[\"OrderId\"].value_counts()"
      ],
      "execution_count": null,
      "outputs": [
        {
          "output_type": "execute_result",
          "data": {
            "text/plain": [
              "50053    314\n",
              "50059    311\n",
              "50061    302\n",
              "50054    301\n",
              "50056    299\n",
              "50051    298\n",
              "50057    293\n",
              "50050    292\n",
              "50060    284\n",
              "50055    280\n",
              "50052    278\n",
              "50058    274\n",
              "50062    274\n",
              "50063    249\n",
              "50064    217\n",
              "50066    200\n",
              "50065    198\n",
              "50068    169\n",
              "50067    161\n",
              "50069    130\n",
              "50070    120\n",
              "50071    106\n",
              "50073     95\n",
              "50074     90\n",
              "50072     86\n",
              "50075     59\n",
              "50076     46\n",
              "50077     18\n",
              "Name: OrderId, dtype: int64"
            ]
          },
          "metadata": {},
          "execution_count": 6
        }
      ]
    },
    {
      "cell_type": "code",
      "metadata": {
        "colab": {
          "base_uri": "https://localhost:8080/"
        },
        "id": "9vsr7ofU4YfR",
        "outputId": "cbb1fea7-169b-4043-ac24-d8166b6d9e9f"
      },
      "source": [
        "food_consumed[\"ProductType\"].value_counts()"
      ],
      "execution_count": null,
      "outputs": [
        {
          "output_type": "execute_result",
          "data": {
            "text/plain": [
              "SHELF_ITEM           1469\n",
              "VEGETABLES            651\n",
              "BAKERY                569\n",
              "DIARY                 483\n",
              "FRUIT                 358\n",
              "FROZEN_ITEM           348\n",
              "DELI_ITEM             261\n",
              "BAKING                235\n",
              "PROCESSED_MEAT        206\n",
              "CONDIMENTS            197\n",
              "SHELLFISH             162\n",
              "PROCESSED_POULTRY     142\n",
              "SOY                   129\n",
              "FISH                  127\n",
              "FRESH_POULTRY          76\n",
              "DOUGH                  69\n",
              "FRESH_MEAT             67\n",
              "SMOKEDFISH             53\n",
              "COOKIES                35\n",
              "CRACKERS               34\n",
              "PESTO                  30\n",
              "PASTA                  23\n",
              "BEVERAGES              20\n",
              "Name: ProductType, dtype: int64"
            ]
          },
          "metadata": {},
          "execution_count": 7
        }
      ]
    },
    {
      "cell_type": "code",
      "metadata": {
        "colab": {
          "base_uri": "https://localhost:8080/"
        },
        "id": "XqAkajEQ4tX9",
        "outputId": "5ed57d6f-24ba-43a8-88bf-9f1f8e98a4f7"
      },
      "source": [
        "food_consumed[\"OrderItemId\"].value_counts()"
      ],
      "execution_count": null,
      "outputs": [
        {
          "output_type": "execute_result",
          "data": {
            "text/plain": [
              "4     392\n",
              "7     392\n",
              "3     392\n",
              "8     392\n",
              "10    392\n",
              "6     392\n",
              "2     392\n",
              "11    392\n",
              "9     392\n",
              "5     392\n",
              "1     392\n",
              "12    347\n",
              "13    301\n",
              "14    252\n",
              "15    216\n",
              "16    159\n",
              "17    104\n",
              "18     53\n",
              "Name: OrderItemId, dtype: int64"
            ]
          },
          "metadata": {},
          "execution_count": 8
        }
      ]
    },
    {
      "cell_type": "code",
      "metadata": {
        "colab": {
          "base_uri": "https://localhost:8080/"
        },
        "id": "my8RMdY_4tKU",
        "outputId": "f62b4051-2fe5-4efd-dc97-fb8df9bf8fd1"
      },
      "source": [
        "food_consumed[\"ProductItem\"].value_counts()"
      ],
      "execution_count": null,
      "outputs": [
        {
          "output_type": "execute_result",
          "data": {
            "text/plain": [
              "Pudding                 51\n",
              "Grapes                  38\n",
              "Citrus Fruit            36\n",
              "Cakes, fruit cake       35\n",
              "Apples                  35\n",
              "                        ..\n",
              "Sugar, confectioners     7\n",
              "Ice cream                7\n",
              "Berries, cherries        7\n",
              "Sugar, brown             6\n",
              "Pies, cream              3\n",
              "Name: ProductItem, Length: 300, dtype: int64"
            ]
          },
          "metadata": {},
          "execution_count": 9
        }
      ]
    },
    {
      "cell_type": "code",
      "metadata": {
        "colab": {
          "base_uri": "https://localhost:8080/"
        },
        "id": "LsJZ9lUGAIFj",
        "outputId": "54471f91-13eb-405d-e706-644c797b98fa"
      },
      "source": [
        "food_consumed[\"ProductDetails\"].value_counts()"
      ],
      "execution_count": null,
      "outputs": [
        {
          "output_type": "execute_result",
          "data": {
            "text/plain": [
              "opened                          1155\n",
              "unopened                        1019\n",
              "Do not freeze                    283\n",
              "fresh                             16\n",
              "Do not defrost. Cook frozen.      16\n",
              "Shredded                          13\n",
              "Cooked                            13\n",
              "G                                 13\n",
              "skin will blacken                 12\n",
              "After baking                      10\n",
              "Whole peeled                      10\n",
              "popped                            10\n",
              "Whole                              9\n",
              "Use entire can                     9\n",
              "Sliced, lemon juice & sugar        8\n",
              "Cool, dark place                   7\n",
              "Cooked and mashed                  7\n",
              "Mix entire packet                  7\n",
              "Balls                              5\n",
              "Use all                            4\n",
              "vacuum pkg                         4\n",
              "Name: ProductDetails, dtype: int64"
            ]
          },
          "metadata": {},
          "execution_count": 10
        }
      ]
    },
    {
      "cell_type": "code",
      "metadata": {
        "id": "uYgTTnNVAHyN",
        "colab": {
          "base_uri": "https://localhost:8080/"
        },
        "outputId": "3f76ad83-ff8c-40d3-8e38-6f60146356bf"
      },
      "source": [
        "food_consumed[\"ProductItem\"].value_counts()"
      ],
      "execution_count": null,
      "outputs": [
        {
          "output_type": "execute_result",
          "data": {
            "text/plain": [
              "Pudding                 51\n",
              "Grapes                  38\n",
              "Citrus Fruit            36\n",
              "Cakes, fruit cake       35\n",
              "Apples                  35\n",
              "                        ..\n",
              "Sugar, confectioners     7\n",
              "Ice cream                7\n",
              "Berries, cherries        7\n",
              "Sugar, brown             6\n",
              "Pies, cream              3\n",
              "Name: ProductItem, Length: 300, dtype: int64"
            ]
          },
          "metadata": {},
          "execution_count": 11
        }
      ]
    },
    {
      "cell_type": "code",
      "metadata": {
        "colab": {
          "base_uri": "https://localhost:8080/"
        },
        "id": "F9LVvw-L3JZs",
        "outputId": "157e9c4d-a95c-49f8-ced6-80352ceaf9ba"
      },
      "source": [
        "food_consumed.info()"
      ],
      "execution_count": null,
      "outputs": [
        {
          "output_type": "stream",
          "name": "stdout",
          "text": [
            "<class 'pandas.core.frame.DataFrame'>\n",
            "RangeIndex: 5744 entries, 0 to 5743\n",
            "Data columns (total 7 columns):\n",
            " #   Column          Non-Null Count  Dtype \n",
            "---  ------          --------------  ----- \n",
            " 0   OrderId         5744 non-null   int64 \n",
            " 1   OrderItemId     5744 non-null   int64 \n",
            " 2   ProductType     5744 non-null   object\n",
            " 3   ProductItem     5744 non-null   object\n",
            " 4   ProductPeriod   5425 non-null   object\n",
            " 5   ProductDetails  2630 non-null   object\n",
            " 6   ProductStorage  5744 non-null   object\n",
            "dtypes: int64(2), object(5)\n",
            "memory usage: 314.2+ KB\n"
          ]
        }
      ]
    },
    {
      "cell_type": "code",
      "metadata": {
        "id": "v3szX9ww4QTA",
        "colab": {
          "base_uri": "https://localhost:8080/"
        },
        "outputId": "7c066da0-cb78-4856-af25-ed07078e28fa"
      },
      "source": [
        "food_consumed.dtypes"
      ],
      "execution_count": null,
      "outputs": [
        {
          "output_type": "execute_result",
          "data": {
            "text/plain": [
              "OrderId            int64\n",
              "OrderItemId        int64\n",
              "ProductType       object\n",
              "ProductItem       object\n",
              "ProductPeriod     object\n",
              "ProductDetails    object\n",
              "ProductStorage    object\n",
              "dtype: object"
            ]
          },
          "metadata": {},
          "execution_count": 13
        }
      ]
    },
    {
      "cell_type": "markdown",
      "metadata": {
        "id": "XOjnjkcbCz4W"
      },
      "source": [
        ""
      ]
    },
    {
      "cell_type": "code",
      "metadata": {
        "colab": {
          "base_uri": "https://localhost:8080/",
          "height": 419
        },
        "id": "FMaoaEQIBev_",
        "outputId": "42ca2bf3-2053-4498-dfab-d2880e0f7dfe"
      },
      "source": [
        "df = food_consumed[(food_consumed['OrderItemId'] == 4)]\n",
        "df"
      ],
      "execution_count": null,
      "outputs": [
        {
          "output_type": "execute_result",
          "data": {
            "text/html": [
              "<div>\n",
              "<style scoped>\n",
              "    .dataframe tbody tr th:only-of-type {\n",
              "        vertical-align: middle;\n",
              "    }\n",
              "\n",
              "    .dataframe tbody tr th {\n",
              "        vertical-align: top;\n",
              "    }\n",
              "\n",
              "    .dataframe thead th {\n",
              "        text-align: right;\n",
              "    }\n",
              "</style>\n",
              "<table border=\"1\" class=\"dataframe\">\n",
              "  <thead>\n",
              "    <tr style=\"text-align: right;\">\n",
              "      <th></th>\n",
              "      <th>OrderId</th>\n",
              "      <th>OrderItemId</th>\n",
              "      <th>ProductType</th>\n",
              "      <th>ProductItem</th>\n",
              "      <th>ProductPeriod</th>\n",
              "      <th>ProductDetails</th>\n",
              "      <th>ProductStorage</th>\n",
              "    </tr>\n",
              "  </thead>\n",
              "  <tbody>\n",
              "    <tr>\n",
              "      <th>3</th>\n",
              "      <td>50050</td>\n",
              "      <td>4</td>\n",
              "      <td>SHELF_ITEM</td>\n",
              "      <td>Marshmallows, marshmallow creme</td>\n",
              "      <td>2-4 months</td>\n",
              "      <td>unopened</td>\n",
              "      <td>SHELF</td>\n",
              "    </tr>\n",
              "    <tr>\n",
              "      <th>17</th>\n",
              "      <td>50051</td>\n",
              "      <td>4</td>\n",
              "      <td>VEGETABLES</td>\n",
              "      <td>Eggplant</td>\n",
              "      <td>1 day</td>\n",
              "      <td>NaN</td>\n",
              "      <td>SHELF</td>\n",
              "    </tr>\n",
              "    <tr>\n",
              "      <th>33</th>\n",
              "      <td>50052</td>\n",
              "      <td>4</td>\n",
              "      <td>DIARY</td>\n",
              "      <td>Cream, whipping, ultrapasteurized</td>\n",
              "      <td>1 month</td>\n",
              "      <td>NaN</td>\n",
              "      <td>REFRIGERATED</td>\n",
              "    </tr>\n",
              "    <tr>\n",
              "      <th>47</th>\n",
              "      <td>50053</td>\n",
              "      <td>4</td>\n",
              "      <td>BAKERY</td>\n",
              "      <td>Pies, fruit</td>\n",
              "      <td>1 week</td>\n",
              "      <td>NaN</td>\n",
              "      <td>REFRIGERATED</td>\n",
              "    </tr>\n",
              "    <tr>\n",
              "      <th>62</th>\n",
              "      <td>50054</td>\n",
              "      <td>4</td>\n",
              "      <td>SHELF_ITEM</td>\n",
              "      <td>Peas, dried split</td>\n",
              "      <td>12 months</td>\n",
              "      <td>unopened</td>\n",
              "      <td>SHELF</td>\n",
              "    </tr>\n",
              "    <tr>\n",
              "      <th>...</th>\n",
              "      <td>...</td>\n",
              "      <td>...</td>\n",
              "      <td>...</td>\n",
              "      <td>...</td>\n",
              "      <td>...</td>\n",
              "      <td>...</td>\n",
              "      <td>...</td>\n",
              "    </tr>\n",
              "    <tr>\n",
              "      <th>5675</th>\n",
              "      <td>50064</td>\n",
              "      <td>4</td>\n",
              "      <td>DELI_ITEM</td>\n",
              "      <td>Pudding</td>\n",
              "      <td>NaN</td>\n",
              "      <td>Do not freeze</td>\n",
              "      <td>FROZEN</td>\n",
              "    </tr>\n",
              "    <tr>\n",
              "      <th>5690</th>\n",
              "      <td>50065</td>\n",
              "      <td>4</td>\n",
              "      <td>DIARY</td>\n",
              "      <td>Cream, half-and-half</td>\n",
              "      <td>4 months</td>\n",
              "      <td>NaN</td>\n",
              "      <td>FROZEN</td>\n",
              "    </tr>\n",
              "    <tr>\n",
              "      <th>5704</th>\n",
              "      <td>50066</td>\n",
              "      <td>4</td>\n",
              "      <td>DELI_ITEM</td>\n",
              "      <td>Meats covered with gravy or broth</td>\n",
              "      <td>1-2 days</td>\n",
              "      <td>NaN</td>\n",
              "      <td>REFRIGERATED</td>\n",
              "    </tr>\n",
              "    <tr>\n",
              "      <th>5721</th>\n",
              "      <td>50067</td>\n",
              "      <td>4</td>\n",
              "      <td>DIARY</td>\n",
              "      <td>Eggnog, commercial</td>\n",
              "      <td>6 months</td>\n",
              "      <td>NaN</td>\n",
              "      <td>FROZEN</td>\n",
              "    </tr>\n",
              "    <tr>\n",
              "      <th>5734</th>\n",
              "      <td>50068</td>\n",
              "      <td>4</td>\n",
              "      <td>DIARY</td>\n",
              "      <td>Buttermilk</td>\n",
              "      <td>1-2 weeks</td>\n",
              "      <td>NaN</td>\n",
              "      <td>REFRIGERATED</td>\n",
              "    </tr>\n",
              "  </tbody>\n",
              "</table>\n",
              "<p>392 rows × 7 columns</p>\n",
              "</div>"
            ],
            "text/plain": [
              "      OrderId  OrderItemId  ... ProductDetails ProductStorage\n",
              "3       50050            4  ...       unopened          SHELF\n",
              "17      50051            4  ...            NaN          SHELF\n",
              "33      50052            4  ...            NaN   REFRIGERATED\n",
              "47      50053            4  ...            NaN   REFRIGERATED\n",
              "62      50054            4  ...       unopened          SHELF\n",
              "...       ...          ...  ...            ...            ...\n",
              "5675    50064            4  ...  Do not freeze         FROZEN\n",
              "5690    50065            4  ...            NaN         FROZEN\n",
              "5704    50066            4  ...            NaN   REFRIGERATED\n",
              "5721    50067            4  ...            NaN         FROZEN\n",
              "5734    50068            4  ...            NaN   REFRIGERATED\n",
              "\n",
              "[392 rows x 7 columns]"
            ]
          },
          "metadata": {},
          "execution_count": 14
        }
      ]
    },
    {
      "cell_type": "code",
      "metadata": {
        "id": "ljPSkR-GBzDB"
      },
      "source": [
        "# order id , product item, product type, product fequency \n",
        "# save all the unique rows of product item \n",
        "# food_consumed[\"ProductItem\"].unique()"
      ],
      "execution_count": null,
      "outputs": []
    },
    {
      "cell_type": "code",
      "metadata": {
        "id": "6snN7cLHN_1h"
      },
      "source": [
        ""
      ],
      "execution_count": null,
      "outputs": []
    },
    {
      "cell_type": "code",
      "metadata": {
        "id": "P7iduYCZutkK"
      },
      "source": [
        "food_consumed_ = food_consumed.drop(columns=[\"OrderItemId\",\"ProductPeriod\",\"ProductDetails\",\"ProductStorage\"])"
      ],
      "execution_count": null,
      "outputs": []
    },
    {
      "cell_type": "code",
      "metadata": {
        "id": "DBbVkmnADb1r",
        "colab": {
          "base_uri": "https://localhost:8080/",
          "height": 419
        },
        "outputId": "220c79b5-29cb-45e6-e848-15c6e9b56919"
      },
      "source": [
        "food_consumed_['product fequency'] = food_consumed_['ProductItem'].map(food_consumed_['ProductItem'].value_counts())\n",
        "food_consumed_"
      ],
      "execution_count": null,
      "outputs": [
        {
          "output_type": "execute_result",
          "data": {
            "text/html": [
              "<div>\n",
              "<style scoped>\n",
              "    .dataframe tbody tr th:only-of-type {\n",
              "        vertical-align: middle;\n",
              "    }\n",
              "\n",
              "    .dataframe tbody tr th {\n",
              "        vertical-align: top;\n",
              "    }\n",
              "\n",
              "    .dataframe thead th {\n",
              "        text-align: right;\n",
              "    }\n",
              "</style>\n",
              "<table border=\"1\" class=\"dataframe\">\n",
              "  <thead>\n",
              "    <tr style=\"text-align: right;\">\n",
              "      <th></th>\n",
              "      <th>OrderId</th>\n",
              "      <th>ProductType</th>\n",
              "      <th>ProductItem</th>\n",
              "      <th>product fequency</th>\n",
              "    </tr>\n",
              "  </thead>\n",
              "  <tbody>\n",
              "    <tr>\n",
              "      <th>0</th>\n",
              "      <td>50050</td>\n",
              "      <td>DIARY</td>\n",
              "      <td>Eggs, in shell</td>\n",
              "      <td>18</td>\n",
              "    </tr>\n",
              "    <tr>\n",
              "      <th>1</th>\n",
              "      <td>50050</td>\n",
              "      <td>SHELF_ITEM</td>\n",
              "      <td>Tea, bags</td>\n",
              "      <td>21</td>\n",
              "    </tr>\n",
              "    <tr>\n",
              "      <th>2</th>\n",
              "      <td>50050</td>\n",
              "      <td>BAKERY</td>\n",
              "      <td>Pies, mincemeat</td>\n",
              "      <td>24</td>\n",
              "    </tr>\n",
              "    <tr>\n",
              "      <th>3</th>\n",
              "      <td>50050</td>\n",
              "      <td>SHELF_ITEM</td>\n",
              "      <td>Marshmallows, marshmallow creme</td>\n",
              "      <td>19</td>\n",
              "    </tr>\n",
              "    <tr>\n",
              "      <th>4</th>\n",
              "      <td>50050</td>\n",
              "      <td>BAKERY</td>\n",
              "      <td>Doughnuts, glazed or cake</td>\n",
              "      <td>32</td>\n",
              "    </tr>\n",
              "    <tr>\n",
              "      <th>...</th>\n",
              "      <td>...</td>\n",
              "      <td>...</td>\n",
              "      <td>...</td>\n",
              "      <td>...</td>\n",
              "    </tr>\n",
              "    <tr>\n",
              "      <th>5739</th>\n",
              "      <td>50068</td>\n",
              "      <td>BAKING</td>\n",
              "      <td>Flour, whole wheat</td>\n",
              "      <td>14</td>\n",
              "    </tr>\n",
              "    <tr>\n",
              "      <th>5740</th>\n",
              "      <td>50068</td>\n",
              "      <td>VEGETABLES</td>\n",
              "      <td>Cauliflower</td>\n",
              "      <td>19</td>\n",
              "    </tr>\n",
              "    <tr>\n",
              "      <th>5741</th>\n",
              "      <td>50068</td>\n",
              "      <td>PROCESSED_POULTRY</td>\n",
              "      <td>Lunch meats, after opening</td>\n",
              "      <td>30</td>\n",
              "    </tr>\n",
              "    <tr>\n",
              "      <th>5742</th>\n",
              "      <td>50068</td>\n",
              "      <td>SOY</td>\n",
              "      <td>Soy or rice beverage, Re-hydrated TSP</td>\n",
              "      <td>18</td>\n",
              "    </tr>\n",
              "    <tr>\n",
              "      <th>5743</th>\n",
              "      <td>50068</td>\n",
              "      <td>PROCESSED_MEAT</td>\n",
              "      <td>Sausage, raw, bulk type</td>\n",
              "      <td>21</td>\n",
              "    </tr>\n",
              "  </tbody>\n",
              "</table>\n",
              "<p>5744 rows × 4 columns</p>\n",
              "</div>"
            ],
            "text/plain": [
              "      OrderId  ... product fequency\n",
              "0       50050  ...               18\n",
              "1       50050  ...               21\n",
              "2       50050  ...               24\n",
              "3       50050  ...               19\n",
              "4       50050  ...               32\n",
              "...       ...  ...              ...\n",
              "5739    50068  ...               14\n",
              "5740    50068  ...               19\n",
              "5741    50068  ...               30\n",
              "5742    50068  ...               18\n",
              "5743    50068  ...               21\n",
              "\n",
              "[5744 rows x 4 columns]"
            ]
          },
          "metadata": {},
          "execution_count": 17
        }
      ]
    },
    {
      "cell_type": "code",
      "metadata": {
        "id": "cVxPjfu_KoWz"
      },
      "source": [
        "# filt = {1:range(0,5), 2:range(6,10), 3:range(11,15), 4:range(16,20), 5:range(21,25), 6:range(26,30), 7:range(31,35), 8:range(36,40), 9:range(41,45), 10:range(46,52)}\n",
        "# food_consumed_['score'] = food_consumed_['product fequency'].map(filt)"
      ],
      "execution_count": null,
      "outputs": []
    },
    {
      "cell_type": "code",
      "metadata": {
        "id": "dzsFfVnndeJy"
      },
      "source": [
        "\n",
        "# 1:range(0,5), 2:range(6,10), 3:range(11,15), 4:range(16,20), 5:range(21,25), 6:range(26,30), 7:range(31,35), 8:range(36,40), 9:range(41,45), 10:range(46,52)\n",
        "criteria = [food_consumed_['product fequency'].between(0,5), \n",
        "            food_consumed_['product fequency'].between(6,10), \n",
        "            food_consumed_['product fequency'].between(11,15),\n",
        "            food_consumed_['product fequency'].between(16,20),\n",
        "            food_consumed_['product fequency'].between(21,25),\n",
        "            food_consumed_['product fequency'].between(26,30),\n",
        "            food_consumed_['product fequency'].between(31,35),\n",
        "            food_consumed_['product fequency'].between(36,40),\n",
        "            food_consumed_['product fequency'].between(41,45),\n",
        "            food_consumed_['product fequency'].between(46,52)\n",
        "            ]\n",
        "values = [1, 2, 3, 4, 5, 6, 7, 8, 9, 10]\n",
        "\n",
        "food_consumed_['score'] = np.select(criteria, values, 0)"
      ],
      "execution_count": null,
      "outputs": []
    },
    {
      "cell_type": "code",
      "metadata": {
        "colab": {
          "base_uri": "https://localhost:8080/",
          "height": 419
        },
        "id": "kGO4DXb4QfO7",
        "outputId": "9a0e4697-afcd-41db-93c8-3fcd9e0d434a"
      },
      "source": [
        "food_consumed_"
      ],
      "execution_count": null,
      "outputs": [
        {
          "output_type": "execute_result",
          "data": {
            "text/html": [
              "<div>\n",
              "<style scoped>\n",
              "    .dataframe tbody tr th:only-of-type {\n",
              "        vertical-align: middle;\n",
              "    }\n",
              "\n",
              "    .dataframe tbody tr th {\n",
              "        vertical-align: top;\n",
              "    }\n",
              "\n",
              "    .dataframe thead th {\n",
              "        text-align: right;\n",
              "    }\n",
              "</style>\n",
              "<table border=\"1\" class=\"dataframe\">\n",
              "  <thead>\n",
              "    <tr style=\"text-align: right;\">\n",
              "      <th></th>\n",
              "      <th>OrderId</th>\n",
              "      <th>ProductType</th>\n",
              "      <th>ProductItem</th>\n",
              "      <th>product fequency</th>\n",
              "      <th>score</th>\n",
              "    </tr>\n",
              "  </thead>\n",
              "  <tbody>\n",
              "    <tr>\n",
              "      <th>0</th>\n",
              "      <td>50050</td>\n",
              "      <td>DIARY</td>\n",
              "      <td>Eggs, in shell</td>\n",
              "      <td>18</td>\n",
              "      <td>4</td>\n",
              "    </tr>\n",
              "    <tr>\n",
              "      <th>1</th>\n",
              "      <td>50050</td>\n",
              "      <td>SHELF_ITEM</td>\n",
              "      <td>Tea, bags</td>\n",
              "      <td>21</td>\n",
              "      <td>5</td>\n",
              "    </tr>\n",
              "    <tr>\n",
              "      <th>2</th>\n",
              "      <td>50050</td>\n",
              "      <td>BAKERY</td>\n",
              "      <td>Pies, mincemeat</td>\n",
              "      <td>24</td>\n",
              "      <td>5</td>\n",
              "    </tr>\n",
              "    <tr>\n",
              "      <th>3</th>\n",
              "      <td>50050</td>\n",
              "      <td>SHELF_ITEM</td>\n",
              "      <td>Marshmallows, marshmallow creme</td>\n",
              "      <td>19</td>\n",
              "      <td>4</td>\n",
              "    </tr>\n",
              "    <tr>\n",
              "      <th>4</th>\n",
              "      <td>50050</td>\n",
              "      <td>BAKERY</td>\n",
              "      <td>Doughnuts, glazed or cake</td>\n",
              "      <td>32</td>\n",
              "      <td>7</td>\n",
              "    </tr>\n",
              "    <tr>\n",
              "      <th>...</th>\n",
              "      <td>...</td>\n",
              "      <td>...</td>\n",
              "      <td>...</td>\n",
              "      <td>...</td>\n",
              "      <td>...</td>\n",
              "    </tr>\n",
              "    <tr>\n",
              "      <th>5739</th>\n",
              "      <td>50068</td>\n",
              "      <td>BAKING</td>\n",
              "      <td>Flour, whole wheat</td>\n",
              "      <td>14</td>\n",
              "      <td>3</td>\n",
              "    </tr>\n",
              "    <tr>\n",
              "      <th>5740</th>\n",
              "      <td>50068</td>\n",
              "      <td>VEGETABLES</td>\n",
              "      <td>Cauliflower</td>\n",
              "      <td>19</td>\n",
              "      <td>4</td>\n",
              "    </tr>\n",
              "    <tr>\n",
              "      <th>5741</th>\n",
              "      <td>50068</td>\n",
              "      <td>PROCESSED_POULTRY</td>\n",
              "      <td>Lunch meats, after opening</td>\n",
              "      <td>30</td>\n",
              "      <td>6</td>\n",
              "    </tr>\n",
              "    <tr>\n",
              "      <th>5742</th>\n",
              "      <td>50068</td>\n",
              "      <td>SOY</td>\n",
              "      <td>Soy or rice beverage, Re-hydrated TSP</td>\n",
              "      <td>18</td>\n",
              "      <td>4</td>\n",
              "    </tr>\n",
              "    <tr>\n",
              "      <th>5743</th>\n",
              "      <td>50068</td>\n",
              "      <td>PROCESSED_MEAT</td>\n",
              "      <td>Sausage, raw, bulk type</td>\n",
              "      <td>21</td>\n",
              "      <td>5</td>\n",
              "    </tr>\n",
              "  </tbody>\n",
              "</table>\n",
              "<p>5744 rows × 5 columns</p>\n",
              "</div>"
            ],
            "text/plain": [
              "      OrderId        ProductType  ... product fequency  score\n",
              "0       50050              DIARY  ...               18      4\n",
              "1       50050         SHELF_ITEM  ...               21      5\n",
              "2       50050             BAKERY  ...               24      5\n",
              "3       50050         SHELF_ITEM  ...               19      4\n",
              "4       50050             BAKERY  ...               32      7\n",
              "...       ...                ...  ...              ...    ...\n",
              "5739    50068             BAKING  ...               14      3\n",
              "5740    50068         VEGETABLES  ...               19      4\n",
              "5741    50068  PROCESSED_POULTRY  ...               30      6\n",
              "5742    50068                SOY  ...               18      4\n",
              "5743    50068     PROCESSED_MEAT  ...               21      5\n",
              "\n",
              "[5744 rows x 5 columns]"
            ]
          },
          "metadata": {},
          "execution_count": 20
        }
      ]
    },
    {
      "cell_type": "code",
      "metadata": {
        "colab": {
          "base_uri": "https://localhost:8080/",
          "height": 204
        },
        "id": "kyPLf7rmbLn4",
        "outputId": "cfe5b061-8cd1-4142-d84d-73c2d1b3cc4e"
      },
      "source": [
        "df = food_consumed_[(food_consumed_['score'] == 5)]\n",
        "df.tail()"
      ],
      "execution_count": null,
      "outputs": [
        {
          "output_type": "execute_result",
          "data": {
            "text/html": [
              "<div>\n",
              "<style scoped>\n",
              "    .dataframe tbody tr th:only-of-type {\n",
              "        vertical-align: middle;\n",
              "    }\n",
              "\n",
              "    .dataframe tbody tr th {\n",
              "        vertical-align: top;\n",
              "    }\n",
              "\n",
              "    .dataframe thead th {\n",
              "        text-align: right;\n",
              "    }\n",
              "</style>\n",
              "<table border=\"1\" class=\"dataframe\">\n",
              "  <thead>\n",
              "    <tr style=\"text-align: right;\">\n",
              "      <th></th>\n",
              "      <th>OrderId</th>\n",
              "      <th>ProductType</th>\n",
              "      <th>ProductItem</th>\n",
              "      <th>product fequency</th>\n",
              "      <th>score</th>\n",
              "    </tr>\n",
              "  </thead>\n",
              "  <tbody>\n",
              "    <tr>\n",
              "      <th>5719</th>\n",
              "      <td>50067</td>\n",
              "      <td>VEGETABLES</td>\n",
              "      <td>Ginger Root</td>\n",
              "      <td>25</td>\n",
              "      <td>5</td>\n",
              "    </tr>\n",
              "    <tr>\n",
              "      <th>5720</th>\n",
              "      <td>50067</td>\n",
              "      <td>BAKERY</td>\n",
              "      <td>Pies, pecan</td>\n",
              "      <td>25</td>\n",
              "      <td>5</td>\n",
              "    </tr>\n",
              "    <tr>\n",
              "      <th>5736</th>\n",
              "      <td>50068</td>\n",
              "      <td>VEGETABLES</td>\n",
              "      <td>Squash, summer</td>\n",
              "      <td>23</td>\n",
              "      <td>5</td>\n",
              "    </tr>\n",
              "    <tr>\n",
              "      <th>5738</th>\n",
              "      <td>50068</td>\n",
              "      <td>VEGETABLES</td>\n",
              "      <td>Celery</td>\n",
              "      <td>21</td>\n",
              "      <td>5</td>\n",
              "    </tr>\n",
              "    <tr>\n",
              "      <th>5743</th>\n",
              "      <td>50068</td>\n",
              "      <td>PROCESSED_MEAT</td>\n",
              "      <td>Sausage, raw, bulk type</td>\n",
              "      <td>21</td>\n",
              "      <td>5</td>\n",
              "    </tr>\n",
              "  </tbody>\n",
              "</table>\n",
              "</div>"
            ],
            "text/plain": [
              "      OrderId     ProductType              ProductItem  product fequency  score\n",
              "5719    50067      VEGETABLES              Ginger Root                25      5\n",
              "5720    50067          BAKERY              Pies, pecan                25      5\n",
              "5736    50068      VEGETABLES           Squash, summer                23      5\n",
              "5738    50068      VEGETABLES                   Celery                21      5\n",
              "5743    50068  PROCESSED_MEAT  Sausage, raw, bulk type                21      5"
            ]
          },
          "metadata": {},
          "execution_count": 21
        }
      ]
    },
    {
      "cell_type": "code",
      "metadata": {
        "id": "FBWCFmMFn0er"
      },
      "source": [
        "# food_consumed_.set_index('OrderId', inplace = True)"
      ],
      "execution_count": null,
      "outputs": []
    },
    {
      "cell_type": "code",
      "metadata": {
        "colab": {
          "base_uri": "https://localhost:8080/",
          "height": 419
        },
        "id": "ioQrW3A3kF_r",
        "outputId": "0df2dacc-7df0-4e47-83d2-fc5c1747aac6"
      },
      "source": [
        "df_final = food_consumed_.drop(columns=\"product fequency\")\n",
        "df_final"
      ],
      "execution_count": null,
      "outputs": [
        {
          "output_type": "execute_result",
          "data": {
            "text/html": [
              "<div>\n",
              "<style scoped>\n",
              "    .dataframe tbody tr th:only-of-type {\n",
              "        vertical-align: middle;\n",
              "    }\n",
              "\n",
              "    .dataframe tbody tr th {\n",
              "        vertical-align: top;\n",
              "    }\n",
              "\n",
              "    .dataframe thead th {\n",
              "        text-align: right;\n",
              "    }\n",
              "</style>\n",
              "<table border=\"1\" class=\"dataframe\">\n",
              "  <thead>\n",
              "    <tr style=\"text-align: right;\">\n",
              "      <th></th>\n",
              "      <th>OrderId</th>\n",
              "      <th>ProductType</th>\n",
              "      <th>ProductItem</th>\n",
              "      <th>score</th>\n",
              "    </tr>\n",
              "  </thead>\n",
              "  <tbody>\n",
              "    <tr>\n",
              "      <th>0</th>\n",
              "      <td>50050</td>\n",
              "      <td>DIARY</td>\n",
              "      <td>Eggs, in shell</td>\n",
              "      <td>4</td>\n",
              "    </tr>\n",
              "    <tr>\n",
              "      <th>1</th>\n",
              "      <td>50050</td>\n",
              "      <td>SHELF_ITEM</td>\n",
              "      <td>Tea, bags</td>\n",
              "      <td>5</td>\n",
              "    </tr>\n",
              "    <tr>\n",
              "      <th>2</th>\n",
              "      <td>50050</td>\n",
              "      <td>BAKERY</td>\n",
              "      <td>Pies, mincemeat</td>\n",
              "      <td>5</td>\n",
              "    </tr>\n",
              "    <tr>\n",
              "      <th>3</th>\n",
              "      <td>50050</td>\n",
              "      <td>SHELF_ITEM</td>\n",
              "      <td>Marshmallows, marshmallow creme</td>\n",
              "      <td>4</td>\n",
              "    </tr>\n",
              "    <tr>\n",
              "      <th>4</th>\n",
              "      <td>50050</td>\n",
              "      <td>BAKERY</td>\n",
              "      <td>Doughnuts, glazed or cake</td>\n",
              "      <td>7</td>\n",
              "    </tr>\n",
              "    <tr>\n",
              "      <th>...</th>\n",
              "      <td>...</td>\n",
              "      <td>...</td>\n",
              "      <td>...</td>\n",
              "      <td>...</td>\n",
              "    </tr>\n",
              "    <tr>\n",
              "      <th>5739</th>\n",
              "      <td>50068</td>\n",
              "      <td>BAKING</td>\n",
              "      <td>Flour, whole wheat</td>\n",
              "      <td>3</td>\n",
              "    </tr>\n",
              "    <tr>\n",
              "      <th>5740</th>\n",
              "      <td>50068</td>\n",
              "      <td>VEGETABLES</td>\n",
              "      <td>Cauliflower</td>\n",
              "      <td>4</td>\n",
              "    </tr>\n",
              "    <tr>\n",
              "      <th>5741</th>\n",
              "      <td>50068</td>\n",
              "      <td>PROCESSED_POULTRY</td>\n",
              "      <td>Lunch meats, after opening</td>\n",
              "      <td>6</td>\n",
              "    </tr>\n",
              "    <tr>\n",
              "      <th>5742</th>\n",
              "      <td>50068</td>\n",
              "      <td>SOY</td>\n",
              "      <td>Soy or rice beverage, Re-hydrated TSP</td>\n",
              "      <td>4</td>\n",
              "    </tr>\n",
              "    <tr>\n",
              "      <th>5743</th>\n",
              "      <td>50068</td>\n",
              "      <td>PROCESSED_MEAT</td>\n",
              "      <td>Sausage, raw, bulk type</td>\n",
              "      <td>5</td>\n",
              "    </tr>\n",
              "  </tbody>\n",
              "</table>\n",
              "<p>5744 rows × 4 columns</p>\n",
              "</div>"
            ],
            "text/plain": [
              "      OrderId        ProductType                            ProductItem  score\n",
              "0       50050              DIARY                         Eggs, in shell      4\n",
              "1       50050         SHELF_ITEM                              Tea, bags      5\n",
              "2       50050             BAKERY                        Pies, mincemeat      5\n",
              "3       50050         SHELF_ITEM        Marshmallows, marshmallow creme      4\n",
              "4       50050             BAKERY              Doughnuts, glazed or cake      7\n",
              "...       ...                ...                                    ...    ...\n",
              "5739    50068             BAKING                     Flour, whole wheat      3\n",
              "5740    50068         VEGETABLES                            Cauliflower      4\n",
              "5741    50068  PROCESSED_POULTRY             Lunch meats, after opening      6\n",
              "5742    50068                SOY  Soy or rice beverage, Re-hydrated TSP      4\n",
              "5743    50068     PROCESSED_MEAT                Sausage, raw, bulk type      5\n",
              "\n",
              "[5744 rows x 4 columns]"
            ]
          },
          "metadata": {},
          "execution_count": 23
        }
      ]
    },
    {
      "cell_type": "code",
      "metadata": {
        "id": "S2u_R02-1ea0"
      },
      "source": [
        "# !pip3 install plotly \n",
        "# !pip3 install surprise"
      ],
      "execution_count": null,
      "outputs": []
    },
    {
      "cell_type": "code",
      "metadata": {
        "id": "q3yoRiHbbgmz"
      },
      "source": [
        "from surprise import Dataset,Reader\n",
        "\n",
        "reader = Reader(rating_scale=(1, 10))\n",
        "data = Dataset.load_from_df(df_final[['OrderId', 'ProductItem', 'score']], reader)"
      ],
      "execution_count": null,
      "outputs": []
    },
    {
      "cell_type": "code",
      "metadata": {
        "id": "kAzeneNWmQg9"
      },
      "source": [
        "# Split data to train and test\n",
        "from surprise.model_selection import train_test_split\n",
        "trainset, testset = train_test_split(data, test_size=.25,random_state=123)"
      ],
      "execution_count": null,
      "outputs": []
    },
    {
      "cell_type": "code",
      "metadata": {
        "colab": {
          "base_uri": "https://localhost:8080/"
        },
        "id": "qYq7nYaLmTa-",
        "outputId": "aab1ec2e-ab5b-4f59-f592-2eef214232b6"
      },
      "source": [
        "trainset.all_ratings()"
      ],
      "execution_count": null,
      "outputs": [
        {
          "output_type": "execute_result",
          "data": {
            "text/plain": [
              "<generator object Trainset.all_ratings at 0x7f3216d60f50>"
            ]
          },
          "metadata": {},
          "execution_count": 28
        }
      ]
    },
    {
      "cell_type": "code",
      "metadata": {
        "colab": {
          "base_uri": "https://localhost:8080/"
        },
        "id": "JwreeANxmdIT",
        "outputId": "1ef8c21c-a97a-4ffd-95c4-5224ee3eb928"
      },
      "source": [
        "# However the ids are the inner ids and not the raw ids\n",
        "# raw ids can be obatined as follows\n",
        "\n",
        "print(trainset.to_raw_uid(0))\n",
        "# print(trainset.to_raw_uid(1066))"
      ],
      "execution_count": null,
      "outputs": [
        {
          "output_type": "stream",
          "name": "stdout",
          "text": [
            "50067\n"
          ]
        }
      ]
    },
    {
      "cell_type": "code",
      "metadata": {
        "id": "REKtFitVmyms"
      },
      "source": [
        "from surprise import SVD, KNNWithMeans\n",
        "from surprise import accuracy"
      ],
      "execution_count": null,
      "outputs": []
    },
    {
      "cell_type": "code",
      "metadata": {
        "colab": {
          "base_uri": "https://localhost:8080/"
        },
        "id": "KAmKUN8TqOOw",
        "outputId": "62c54bee-3a4d-4094-f17b-aaf9545f6775"
      },
      "source": [
        "svd_model = SVD(n_factors=5,biased=False)\n",
        "svd_model.fit(trainset)"
      ],
      "execution_count": null,
      "outputs": [
        {
          "output_type": "execute_result",
          "data": {
            "text/plain": [
              "<surprise.prediction_algorithms.matrix_factorization.SVD at 0x7f3216c823d0>"
            ]
          },
          "metadata": {},
          "execution_count": 37
        }
      ]
    },
    {
      "cell_type": "code",
      "metadata": {
        "colab": {
          "base_uri": "https://localhost:8080/"
        },
        "id": "erwBX6PBqTDU",
        "outputId": "086064fc-ea2f-4c04-ba6d-f642bfd91404"
      },
      "source": [
        "testset[0]"
      ],
      "execution_count": null,
      "outputs": [
        {
          "output_type": "execute_result",
          "data": {
            "text/plain": [
              "(50062, 'Tempeh', 4.0)"
            ]
          },
          "metadata": {},
          "execution_count": 35
        }
      ]
    },
    {
      "cell_type": "code",
      "metadata": {
        "id": "jVR9mD5YqTeo"
      },
      "source": [
        "test_pred = svd_model.test(testset)\n",
        "# test_pred"
      ],
      "execution_count": null,
      "outputs": []
    },
    {
      "cell_type": "code",
      "metadata": {
        "colab": {
          "base_uri": "https://localhost:8080/"
        },
        "id": "UCxpTKYzqZes",
        "outputId": "87c5ceaf-1d74-43d5-9a1b-531e1e4c39b1"
      },
      "source": [
        "# compute RMSE\n",
        "accuracy.rmse(test_pred)"
      ],
      "execution_count": null,
      "outputs": [
        {
          "output_type": "stream",
          "name": "stdout",
          "text": [
            "RMSE: 0.0566\n"
          ]
        },
        {
          "output_type": "execute_result",
          "data": {
            "text/plain": [
              "0.056640291162598506"
            ]
          },
          "metadata": {},
          "execution_count": 39
        }
      ]
    },
    {
      "cell_type": "code",
      "metadata": {
        "id": "_EEkCgpRqjcJ"
      },
      "source": [
        ""
      ],
      "execution_count": null,
      "outputs": []
    }
  ]
}