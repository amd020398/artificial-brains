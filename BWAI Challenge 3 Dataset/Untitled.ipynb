{
 "cells": [
  {
   "cell_type": "code",
   "execution_count": 1,
   "id": "35b3febf",
   "metadata": {},
   "outputs": [],
   "source": [
    "import pandas as pd"
   ]
  },
  {
   "cell_type": "code",
   "execution_count": 7,
   "id": "38cc3fed",
   "metadata": {},
   "outputs": [],
   "source": [
    "data_exp = pd.read_csv('foodexp.csv')\n",
    "data_fridge = pd.read_csv('foodfridge.csv')\n",
    "data_shelf = pd.read_csv('foodshelf.csv')\n",
    "data_simple = pd.read_csv('foodsimple.csv')"
   ]
  },
  {
   "cell_type": "code",
   "execution_count": 11,
   "id": "145573f9",
   "metadata": {},
   "outputs": [
    {
     "data": {
      "text/html": [
       "<div>\n",
       "<style scoped>\n",
       "    .dataframe tbody tr th:only-of-type {\n",
       "        vertical-align: middle;\n",
       "    }\n",
       "\n",
       "    .dataframe tbody tr th {\n",
       "        vertical-align: top;\n",
       "    }\n",
       "\n",
       "    .dataframe thead th {\n",
       "        text-align: right;\n",
       "    }\n",
       "</style>\n",
       "<table border=\"1\" class=\"dataframe\">\n",
       "  <thead>\n",
       "    <tr style=\"text-align: right;\">\n",
       "      <th></th>\n",
       "      <th>TYPE</th>\n",
       "      <th>ITEM</th>\n",
       "      <th>PERIOD</th>\n",
       "      <th>DETAILS</th>\n",
       "      <th>STORAGE</th>\n",
       "    </tr>\n",
       "  </thead>\n",
       "  <tbody>\n",
       "    <tr>\n",
       "      <th>0</th>\n",
       "      <td>BEVERAGES</td>\n",
       "      <td>Juice in cartons, fruit drinks, punch</td>\n",
       "      <td>3 weeks</td>\n",
       "      <td>unopened</td>\n",
       "      <td>REFRIGERATED</td>\n",
       "    </tr>\n",
       "    <tr>\n",
       "      <th>1</th>\n",
       "      <td>BEVERAGES</td>\n",
       "      <td>Juice in cartons, fruit drinks, punch</td>\n",
       "      <td>7-10 days</td>\n",
       "      <td>opened</td>\n",
       "      <td>REFRIGERATED</td>\n",
       "    </tr>\n",
       "    <tr>\n",
       "      <th>2</th>\n",
       "      <td>BEVERAGES</td>\n",
       "      <td>Juice in cartons, fruit drinks, punch</td>\n",
       "      <td>8-12 months</td>\n",
       "      <td>NaN</td>\n",
       "      <td>FROZEN</td>\n",
       "    </tr>\n",
       "    <tr>\n",
       "      <th>3</th>\n",
       "      <td>DIARY</td>\n",
       "      <td>Butter</td>\n",
       "      <td>1-3 months</td>\n",
       "      <td>NaN</td>\n",
       "      <td>REFRIGERATED</td>\n",
       "    </tr>\n",
       "    <tr>\n",
       "      <th>4</th>\n",
       "      <td>DIARY</td>\n",
       "      <td>Butter</td>\n",
       "      <td>6-9 months</td>\n",
       "      <td>NaN</td>\n",
       "      <td>FROZEN</td>\n",
       "    </tr>\n",
       "    <tr>\n",
       "      <th>...</th>\n",
       "      <td>...</td>\n",
       "      <td>...</td>\n",
       "      <td>...</td>\n",
       "      <td>...</td>\n",
       "      <td>...</td>\n",
       "    </tr>\n",
       "    <tr>\n",
       "      <th>7</th>\n",
       "      <td>FRUIT</td>\n",
       "      <td>Apples</td>\n",
       "      <td>1-2 days</td>\n",
       "      <td>NaN</td>\n",
       "      <td>SHELF</td>\n",
       "    </tr>\n",
       "    <tr>\n",
       "      <th>8</th>\n",
       "      <td>FRUIT</td>\n",
       "      <td>Bananas</td>\n",
       "      <td>Until ripe</td>\n",
       "      <td>NaN</td>\n",
       "      <td>SHELF</td>\n",
       "    </tr>\n",
       "    <tr>\n",
       "      <th>9</th>\n",
       "      <td>VEGETABLES</td>\n",
       "      <td>Tomatoes</td>\n",
       "      <td>Until ripe</td>\n",
       "      <td>NaN</td>\n",
       "      <td>SHELF</td>\n",
       "    </tr>\n",
       "    <tr>\n",
       "      <th>10</th>\n",
       "      <td>SHELF_ITEM</td>\n",
       "      <td>Rice, white or wild</td>\n",
       "      <td>2 years</td>\n",
       "      <td>unopened</td>\n",
       "      <td>SHELF</td>\n",
       "    </tr>\n",
       "    <tr>\n",
       "      <th>11</th>\n",
       "      <td>BAKERY</td>\n",
       "      <td>Bread, commercial*</td>\n",
       "      <td>2-4 days</td>\n",
       "      <td>NaN</td>\n",
       "      <td>SHELF</td>\n",
       "    </tr>\n",
       "  </tbody>\n",
       "</table>\n",
       "<p>1370 rows × 5 columns</p>\n",
       "</div>"
      ],
      "text/plain": [
       "          TYPE                                   ITEM       PERIOD   DETAILS  \\\n",
       "0    BEVERAGES  Juice in cartons, fruit drinks, punch      3 weeks  unopened   \n",
       "1    BEVERAGES  Juice in cartons, fruit drinks, punch    7-10 days    opened   \n",
       "2    BEVERAGES  Juice in cartons, fruit drinks, punch  8-12 months       NaN   \n",
       "3        DIARY                                 Butter   1-3 months       NaN   \n",
       "4        DIARY                                 Butter   6-9 months       NaN   \n",
       "..         ...                                    ...          ...       ...   \n",
       "7        FRUIT                                 Apples     1-2 days       NaN   \n",
       "8        FRUIT                                Bananas   Until ripe       NaN   \n",
       "9   VEGETABLES                               Tomatoes   Until ripe       NaN   \n",
       "10  SHELF_ITEM                    Rice, white or wild      2 years  unopened   \n",
       "11      BAKERY                     Bread, commercial*     2-4 days       NaN   \n",
       "\n",
       "         STORAGE  \n",
       "0   REFRIGERATED  \n",
       "1   REFRIGERATED  \n",
       "2         FROZEN  \n",
       "3   REFRIGERATED  \n",
       "4         FROZEN  \n",
       "..           ...  \n",
       "7          SHELF  \n",
       "8          SHELF  \n",
       "9          SHELF  \n",
       "10         SHELF  \n",
       "11         SHELF  \n",
       "\n",
       "[1370 rows x 5 columns]"
      ]
     },
     "execution_count": 11,
     "metadata": {},
     "output_type": "execute_result"
    }
   ],
   "source": [
    "data = data_exp.append(data_fridge)\n",
    "data = data.append(data_shelf)\n",
    "data = data.append(data_simple)\n",
    "data"
   ]
  },
  {
   "cell_type": "code",
   "execution_count": 12,
   "id": "eb463849",
   "metadata": {},
   "outputs": [
    {
     "data": {
      "text/plain": [
       "array(['REFRIGERATED', 'FROZEN', 'SHELF', 'THAWED'], dtype=object)"
      ]
     },
     "execution_count": 12,
     "metadata": {},
     "output_type": "execute_result"
    }
   ],
   "source": [
    "data['STORAGE'].unique()"
   ]
  },
  {
   "cell_type": "code",
   "execution_count": 13,
   "id": "585574e5",
   "metadata": {},
   "outputs": [
    {
     "data": {
      "text/plain": [
       "array(['BEVERAGES', 'DIARY', 'DOUGH', 'PASTA', 'PESTO', 'SOY', 'FISH',\n",
       "       'SHELLFISH', 'SMOKEDFISH', 'FRESH_MEAT', 'PROCESSED_MEAT',\n",
       "       'FRESH_POULTRY', 'PROCESSED_POULTRY', 'FRUIT', 'VEGETABLES',\n",
       "       'FROZEN_ITEM', 'DELI_ITEM', 'SHELF_ITEM', 'BAKING', 'CONDIMENTS',\n",
       "       'COOKIES', 'CRACKERS', 'BAKERY'], dtype=object)"
      ]
     },
     "execution_count": 13,
     "metadata": {},
     "output_type": "execute_result"
    }
   ],
   "source": [
    "data['TYPE'].unique()"
   ]
  },
  {
   "cell_type": "code",
   "execution_count": 14,
   "id": "7b920769",
   "metadata": {},
   "outputs": [
    {
     "ename": "SyntaxError",
     "evalue": "invalid syntax (<ipython-input-14-c77cfc187c0c>, line 8)",
     "output_type": "error",
     "traceback": [
      "\u001b[0;36m  File \u001b[0;32m\"<ipython-input-14-c77cfc187c0c>\"\u001b[0;36m, line \u001b[0;32m8\u001b[0m\n\u001b[0;31m    Search but\u001b[0m\n\u001b[0m           ^\u001b[0m\n\u001b[0;31mSyntaxError\u001b[0m\u001b[0;31m:\u001b[0m invalid syntax\n"
     ]
    }
   ],
   "source": [
    "# Type - Selection \n",
    "# Storage - Selection\n",
    "# Item - Selection\n",
    "# Period - Integer  & Selection(Period)\n",
    "# Details - Char\n",
    "# Quantity - Integer \n",
    "\n",
    "# Search but\n",
    "\n",
    "login page\n",
    "\n",
    "user id\n",
    "password\n",
    "# selection - Donor, Consumer.\n",
    "\n",
    "Sign in \n",
    "\n",
    "phpmyadmin\n",
    "Mysql workbench \n",
    "\n",
    "homepage \n",
    "donor & consumer"
   ]
  },
  {
   "cell_type": "code",
   "execution_count": 15,
   "id": "4193e3fa",
   "metadata": {},
   "outputs": [],
   "source": [
    "data.to_csv('data_combined.csv')"
   ]
  },
  {
   "cell_type": "code",
   "execution_count": 23,
   "id": "bb0397dc",
   "metadata": {},
   "outputs": [],
   "source": [
    "df = data[(data['ITEM'] == 'Bananas')]"
   ]
  },
  {
   "cell_type": "code",
   "execution_count": 24,
   "id": "a810e246",
   "metadata": {},
   "outputs": [
    {
     "data": {
      "text/html": [
       "<div>\n",
       "<style scoped>\n",
       "    .dataframe tbody tr th:only-of-type {\n",
       "        vertical-align: middle;\n",
       "    }\n",
       "\n",
       "    .dataframe tbody tr th {\n",
       "        vertical-align: top;\n",
       "    }\n",
       "\n",
       "    .dataframe thead th {\n",
       "        text-align: right;\n",
       "    }\n",
       "</style>\n",
       "<table border=\"1\" class=\"dataframe\">\n",
       "  <thead>\n",
       "    <tr style=\"text-align: right;\">\n",
       "      <th></th>\n",
       "      <th>TYPE</th>\n",
       "      <th>ITEM</th>\n",
       "      <th>PERIOD</th>\n",
       "      <th>DETAILS</th>\n",
       "      <th>STORAGE</th>\n",
       "    </tr>\n",
       "  </thead>\n",
       "  <tbody>\n",
       "    <tr>\n",
       "      <th>185</th>\n",
       "      <td>FRUIT</td>\n",
       "      <td>Bananas</td>\n",
       "      <td>Until ripe</td>\n",
       "      <td>NaN</td>\n",
       "      <td>SHELF</td>\n",
       "    </tr>\n",
       "    <tr>\n",
       "      <th>186</th>\n",
       "      <td>FRUIT</td>\n",
       "      <td>Bananas</td>\n",
       "      <td>2 days</td>\n",
       "      <td>skin will blacken</td>\n",
       "      <td>REFRIGERATED</td>\n",
       "    </tr>\n",
       "    <tr>\n",
       "      <th>187</th>\n",
       "      <td>FRUIT</td>\n",
       "      <td>Bananas</td>\n",
       "      <td>1 month</td>\n",
       "      <td>Whole peeled</td>\n",
       "      <td>FROZEN</td>\n",
       "    </tr>\n",
       "    <tr>\n",
       "      <th>182</th>\n",
       "      <td>FRUIT</td>\n",
       "      <td>Bananas</td>\n",
       "      <td>2 days</td>\n",
       "      <td>skin will blacken</td>\n",
       "      <td>REFRIGERATED</td>\n",
       "    </tr>\n",
       "    <tr>\n",
       "      <th>183</th>\n",
       "      <td>FRUIT</td>\n",
       "      <td>Bananas</td>\n",
       "      <td>1 month</td>\n",
       "      <td>Whole peeled</td>\n",
       "      <td>FROZEN</td>\n",
       "    </tr>\n",
       "    <tr>\n",
       "      <th>3</th>\n",
       "      <td>FRUIT</td>\n",
       "      <td>Bananas</td>\n",
       "      <td>Until ripe</td>\n",
       "      <td>NaN</td>\n",
       "      <td>SHELF</td>\n",
       "    </tr>\n",
       "    <tr>\n",
       "      <th>8</th>\n",
       "      <td>FRUIT</td>\n",
       "      <td>Bananas</td>\n",
       "      <td>Until ripe</td>\n",
       "      <td>NaN</td>\n",
       "      <td>SHELF</td>\n",
       "    </tr>\n",
       "  </tbody>\n",
       "</table>\n",
       "</div>"
      ],
      "text/plain": [
       "      TYPE     ITEM      PERIOD            DETAILS       STORAGE\n",
       "185  FRUIT  Bananas  Until ripe                NaN         SHELF\n",
       "186  FRUIT  Bananas      2 days  skin will blacken  REFRIGERATED\n",
       "187  FRUIT  Bananas     1 month       Whole peeled        FROZEN\n",
       "182  FRUIT  Bananas      2 days  skin will blacken  REFRIGERATED\n",
       "183  FRUIT  Bananas     1 month       Whole peeled        FROZEN\n",
       "3    FRUIT  Bananas  Until ripe                NaN         SHELF\n",
       "8    FRUIT  Bananas  Until ripe                NaN         SHELF"
      ]
     },
     "execution_count": 24,
     "metadata": {},
     "output_type": "execute_result"
    }
   ],
   "source": [
    "df"
   ]
  },
  {
   "cell_type": "code",
   "execution_count": null,
   "id": "05e61960",
   "metadata": {},
   "outputs": [],
   "source": [
    "# Dashboard\n",
    "# data of past 90 , less than 80 days - waste. \n",
    "string = \"The data is messy\"\n",
    "veg = []\n"
   ]
  }
 ],
 "metadata": {
  "kernelspec": {
   "display_name": "Python 3",
   "language": "python",
   "name": "python3"
  },
  "language_info": {
   "codemirror_mode": {
    "name": "ipython",
    "version": 3
   },
   "file_extension": ".py",
   "mimetype": "text/x-python",
   "name": "python",
   "nbconvert_exporter": "python",
   "pygments_lexer": "ipython3",
   "version": "3.8.8"
  }
 },
 "nbformat": 4,
 "nbformat_minor": 5
}
