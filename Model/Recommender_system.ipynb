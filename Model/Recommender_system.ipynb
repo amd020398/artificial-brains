{
  "nbformat": 4,
  "nbformat_minor": 0,
  "metadata": {
    "colab": {
      "name": "Recommender_system.ipynb",
      "provenance": [],
      "collapsed_sections": []
    },
    "kernelspec": {
      "display_name": "Python 3",
      "name": "python3"
    },
    "language_info": {
      "name": "python"
    }
  },
  "cells": [
    {
      "cell_type": "code",
      "metadata": {
        "id": "VNSJEtGZXtcV"
      },
      "source": [
        "import pandas as pd\n",
        "import numpy as np"
      ],
      "execution_count": 2,
      "outputs": []
    },
    {
      "cell_type": "code",
      "metadata": {
        "id": "Et17bySgdvjR"
      },
      "source": [
        "# foodexp = pd.read_csv(\"/content/drive/MyDrive/BWAI Challenge 3 Dataset/foodexp.csv\")\n",
        "# foodfridge = pd.read_csv(\"/content/drive/MyDrive/BWAI Challenge 3 Dataset/foodfridge.csv\")\n",
        "# foodshelf = pd.read_csv(\"/content/drive/MyDrive/BWAI Challenge 3 Dataset/foodshelf.csv\")\n",
        "# foodsimple = pd.read_csv(\"/content/drive/MyDrive/BWAI Challenge 3 Dataset/foodsimple.csv\")\n",
        "\n",
        "# combined_food_df = pd.concat([foodexp, foodfridge, foodshelf,\n",
        "#                                            foodsimple]).drop_duplicates() "
      ],
      "execution_count": 3,
      "outputs": []
    },
    {
      "cell_type": "code",
      "metadata": {
        "colab": {
          "base_uri": "https://localhost:8080/"
        },
        "id": "Q3zb3jsqW0_B",
        "outputId": "e980034e-89f1-45b7-9630-c6f67d30e2c2"
      },
      "source": [
        "from google.colab import drive\n",
        "drive.mount('/content/drive')"
      ],
      "execution_count": 4,
      "outputs": [
        {
          "output_type": "stream",
          "name": "stdout",
          "text": [
            "Mounted at /content/drive\n"
          ]
        }
      ]
    },
    {
      "cell_type": "code",
      "metadata": {
        "id": "S7p3knHo8W69"
      },
      "source": [
        "food_consumed = pd.read_csv(\"/content/drive/MyDrive/BWAI Challenge 3 Dataset/orderItemRequest_cleaned.csv\")\n",
        "# orderHeaderRequests"
      ],
      "execution_count": 5,
      "outputs": []
    },
    {
      "cell_type": "code",
      "metadata": {
        "id": "qgKr6Dw_ZcP1"
      },
      "source": [
        "food_consumed['OrderItemId'] = food_consumed.OrderItemId.astype('string')\n",
        "food_consumed['OrderId'] = food_consumed.OrderId.astype('string')"
      ],
      "execution_count": 6,
      "outputs": []
    },
    {
      "cell_type": "code",
      "metadata": {
        "id": "Fjno-D_mVhrn"
      },
      "source": [
        "food_consumed[\"user_id\"] = food_consumed[\"OrderId\"] + food_consumed[\"OrderItemId\"]"
      ],
      "execution_count": 7,
      "outputs": []
    },
    {
      "cell_type": "code",
      "metadata": {
        "colab": {
          "base_uri": "https://localhost:8080/",
          "height": 206
        },
        "id": "RmZCYCzM2GWa",
        "outputId": "c06c0d95-eca6-492a-ebc6-819672b91213"
      },
      "source": [
        "food_consumed.head()"
      ],
      "execution_count": 8,
      "outputs": [
        {
          "output_type": "execute_result",
          "data": {
            "text/html": [
              "<div>\n",
              "<style scoped>\n",
              "    .dataframe tbody tr th:only-of-type {\n",
              "        vertical-align: middle;\n",
              "    }\n",
              "\n",
              "    .dataframe tbody tr th {\n",
              "        vertical-align: top;\n",
              "    }\n",
              "\n",
              "    .dataframe thead th {\n",
              "        text-align: right;\n",
              "    }\n",
              "</style>\n",
              "<table border=\"1\" class=\"dataframe\">\n",
              "  <thead>\n",
              "    <tr style=\"text-align: right;\">\n",
              "      <th></th>\n",
              "      <th>OrderId</th>\n",
              "      <th>OrderItemId</th>\n",
              "      <th>TYPE</th>\n",
              "      <th>ITEM</th>\n",
              "      <th>PERIOD</th>\n",
              "      <th>DETAILS</th>\n",
              "      <th>STORAGE</th>\n",
              "      <th>ITEM_DESC</th>\n",
              "      <th>user_id</th>\n",
              "    </tr>\n",
              "  </thead>\n",
              "  <tbody>\n",
              "    <tr>\n",
              "      <th>0</th>\n",
              "      <td>50050</td>\n",
              "      <td>2</td>\n",
              "      <td>SHELF_ITEM</td>\n",
              "      <td>Tea</td>\n",
              "      <td>30.0</td>\n",
              "      <td>unopened</td>\n",
              "      <td>SHELF</td>\n",
              "      <td>bags</td>\n",
              "      <td>500502</td>\n",
              "    </tr>\n",
              "    <tr>\n",
              "      <th>1</th>\n",
              "      <td>50050</td>\n",
              "      <td>3</td>\n",
              "      <td>BAKERY</td>\n",
              "      <td>Pies</td>\n",
              "      <td>240.0</td>\n",
              "      <td>NaN</td>\n",
              "      <td>FROZEN</td>\n",
              "      <td>mincemeat</td>\n",
              "      <td>500503</td>\n",
              "    </tr>\n",
              "    <tr>\n",
              "      <th>2</th>\n",
              "      <td>50050</td>\n",
              "      <td>4</td>\n",
              "      <td>SHELF_ITEM</td>\n",
              "      <td>Marshmallows</td>\n",
              "      <td>120.0</td>\n",
              "      <td>unopened</td>\n",
              "      <td>SHELF</td>\n",
              "      <td>marshmallow creme</td>\n",
              "      <td>500504</td>\n",
              "    </tr>\n",
              "    <tr>\n",
              "      <th>3</th>\n",
              "      <td>50050</td>\n",
              "      <td>5</td>\n",
              "      <td>BAKERY</td>\n",
              "      <td>Doughnuts</td>\n",
              "      <td>7.0</td>\n",
              "      <td>G</td>\n",
              "      <td>REFRIGERATED</td>\n",
              "      <td>glazed or cake</td>\n",
              "      <td>500505</td>\n",
              "    </tr>\n",
              "    <tr>\n",
              "      <th>4</th>\n",
              "      <td>50050</td>\n",
              "      <td>6</td>\n",
              "      <td>DIARY</td>\n",
              "      <td>Cream</td>\n",
              "      <td>120.0</td>\n",
              "      <td>NaN</td>\n",
              "      <td>FROZEN</td>\n",
              "      <td>half-and-half</td>\n",
              "      <td>500506</td>\n",
              "    </tr>\n",
              "  </tbody>\n",
              "</table>\n",
              "</div>"
            ],
            "text/plain": [
              "  OrderId OrderItemId        TYPE  ...       STORAGE           ITEM_DESC user_id\n",
              "0   50050           2  SHELF_ITEM  ...         SHELF                bags  500502\n",
              "1   50050           3      BAKERY  ...        FROZEN           mincemeat  500503\n",
              "2   50050           4  SHELF_ITEM  ...         SHELF   marshmallow creme  500504\n",
              "3   50050           5      BAKERY  ...  REFRIGERATED      glazed or cake  500505\n",
              "4   50050           6       DIARY  ...        FROZEN       half-and-half  500506\n",
              "\n",
              "[5 rows x 9 columns]"
            ]
          },
          "metadata": {},
          "execution_count": 8
        }
      ]
    },
    {
      "cell_type": "code",
      "metadata": {
        "colab": {
          "base_uri": "https://localhost:8080/"
        },
        "id": "F9LVvw-L3JZs",
        "outputId": "5c3f5b1f-47a4-4d3e-8480-6ba8e11643ac"
      },
      "source": [
        "food_consumed.info()"
      ],
      "execution_count": 10,
      "outputs": [
        {
          "output_type": "stream",
          "name": "stdout",
          "text": [
            "<class 'pandas.core.frame.DataFrame'>\n",
            "RangeIndex: 5744 entries, 0 to 5743\n",
            "Data columns (total 9 columns):\n",
            " #   Column       Non-Null Count  Dtype  \n",
            "---  ------       --------------  -----  \n",
            " 0   OrderId      5744 non-null   string \n",
            " 1   OrderItemId  5744 non-null   string \n",
            " 2   TYPE         5744 non-null   object \n",
            " 3   ITEM         5744 non-null   object \n",
            " 4   PERIOD       5744 non-null   float64\n",
            " 5   DETAILS      2630 non-null   object \n",
            " 6   STORAGE      5744 non-null   object \n",
            " 7   ITEM_DESC    3806 non-null   object \n",
            " 8   user_id      5744 non-null   string \n",
            "dtypes: float64(1), object(5), string(3)\n",
            "memory usage: 404.0+ KB\n"
          ]
        }
      ]
    },
    {
      "cell_type": "code",
      "metadata": {
        "id": "v3szX9ww4QTA",
        "colab": {
          "base_uri": "https://localhost:8080/"
        },
        "outputId": "22014570-d2e8-4423-ec44-c93597155734"
      },
      "source": [
        "food_consumed.dtypes"
      ],
      "execution_count": 11,
      "outputs": [
        {
          "output_type": "execute_result",
          "data": {
            "text/plain": [
              "OrderId         string\n",
              "OrderItemId     string\n",
              "TYPE            object\n",
              "ITEM            object\n",
              "PERIOD         float64\n",
              "DETAILS         object\n",
              "STORAGE         object\n",
              "ITEM_DESC       object\n",
              "user_id         string\n",
              "dtype: object"
            ]
          },
          "metadata": {},
          "execution_count": 11
        }
      ]
    },
    {
      "cell_type": "markdown",
      "metadata": {
        "id": "XOjnjkcbCz4W"
      },
      "source": [
        ""
      ]
    },
    {
      "cell_type": "code",
      "metadata": {
        "colab": {
          "base_uri": "https://localhost:8080/",
          "height": 49
        },
        "id": "FMaoaEQIBev_",
        "outputId": "03e06864-c18a-4829-a943-4c9dc601398b"
      },
      "source": [
        "df = food_consumed[(food_consumed['OrderItemId'] == 4)]\n",
        "df"
      ],
      "execution_count": null,
      "outputs": [
        {
          "output_type": "execute_result",
          "data": {
            "text/html": [
              "<div>\n",
              "<style scoped>\n",
              "    .dataframe tbody tr th:only-of-type {\n",
              "        vertical-align: middle;\n",
              "    }\n",
              "\n",
              "    .dataframe tbody tr th {\n",
              "        vertical-align: top;\n",
              "    }\n",
              "\n",
              "    .dataframe thead th {\n",
              "        text-align: right;\n",
              "    }\n",
              "</style>\n",
              "<table border=\"1\" class=\"dataframe\">\n",
              "  <thead>\n",
              "    <tr style=\"text-align: right;\">\n",
              "      <th></th>\n",
              "      <th>OrderId</th>\n",
              "      <th>OrderItemId</th>\n",
              "      <th>ProductType</th>\n",
              "      <th>ProductItem</th>\n",
              "      <th>ProductPeriod</th>\n",
              "      <th>ProductDetails</th>\n",
              "      <th>ProductStorage</th>\n",
              "      <th>user_id</th>\n",
              "    </tr>\n",
              "  </thead>\n",
              "  <tbody>\n",
              "  </tbody>\n",
              "</table>\n",
              "</div>"
            ],
            "text/plain": [
              "Empty DataFrame\n",
              "Columns: [OrderId, OrderItemId, ProductType, ProductItem, ProductPeriod, ProductDetails, ProductStorage, user_id]\n",
              "Index: []"
            ]
          },
          "metadata": {},
          "execution_count": 17
        }
      ]
    },
    {
      "cell_type": "code",
      "metadata": {
        "id": "ljPSkR-GBzDB"
      },
      "source": [
        "# order id , product item, product type, product fequency \n",
        "# save all the unique rows of product item \n",
        "# food_consumed[\"ProductItem\"].unique()"
      ],
      "execution_count": null,
      "outputs": []
    },
    {
      "cell_type": "code",
      "metadata": {
        "id": "6snN7cLHN_1h"
      },
      "source": [
        ""
      ],
      "execution_count": null,
      "outputs": []
    },
    {
      "cell_type": "code",
      "metadata": {
        "id": "P7iduYCZutkK"
      },
      "source": [
        "food_consumed_ = food_consumed.drop(columns=[\"OrderId\",\"OrderItemId\",\"DETAILS\",\"STORAGE\"])"
      ],
      "execution_count": 12,
      "outputs": []
    },
    {
      "cell_type": "code",
      "metadata": {
        "colab": {
          "base_uri": "https://localhost:8080/"
        },
        "id": "zaqQAbFG1o0h",
        "outputId": "8bd59633-5cd6-4ddd-9af9-da49ecaa9a0d"
      },
      "source": [
        "food_consumed_['PERIOD'].map(food_consumed_['PERIOD'].value_counts())"
      ],
      "execution_count": 17,
      "outputs": [
        {
          "output_type": "execute_result",
          "data": {
            "text/plain": [
              "0       988\n",
              "1       149\n",
              "2       344\n",
              "3       357\n",
              "4       344\n",
              "       ... \n",
              "5739     69\n",
              "5740     69\n",
              "5741     54\n",
              "5742     54\n",
              "5743     69\n",
              "Name: PERIOD, Length: 5744, dtype: int64"
            ]
          },
          "metadata": {},
          "execution_count": 17
        }
      ]
    },
    {
      "cell_type": "code",
      "metadata": {
        "id": "DBbVkmnADb1r",
        "colab": {
          "base_uri": "https://localhost:8080/",
          "height": 424
        },
        "outputId": "bb8e0583-dae3-436f-fb7c-1eb5de4cc0f6"
      },
      "source": [
        "food_consumed_['product fequency'] = food_consumed_['ITEM'].map(food_consumed_['ITEM'].value_counts())\n",
        "food_consumed_"
      ],
      "execution_count": 13,
      "outputs": [
        {
          "output_type": "execute_result",
          "data": {
            "text/html": [
              "<div>\n",
              "<style scoped>\n",
              "    .dataframe tbody tr th:only-of-type {\n",
              "        vertical-align: middle;\n",
              "    }\n",
              "\n",
              "    .dataframe tbody tr th {\n",
              "        vertical-align: top;\n",
              "    }\n",
              "\n",
              "    .dataframe thead th {\n",
              "        text-align: right;\n",
              "    }\n",
              "</style>\n",
              "<table border=\"1\" class=\"dataframe\">\n",
              "  <thead>\n",
              "    <tr style=\"text-align: right;\">\n",
              "      <th></th>\n",
              "      <th>TYPE</th>\n",
              "      <th>ITEM</th>\n",
              "      <th>PERIOD</th>\n",
              "      <th>ITEM_DESC</th>\n",
              "      <th>user_id</th>\n",
              "      <th>product fequency</th>\n",
              "    </tr>\n",
              "  </thead>\n",
              "  <tbody>\n",
              "    <tr>\n",
              "      <th>0</th>\n",
              "      <td>SHELF_ITEM</td>\n",
              "      <td>Tea</td>\n",
              "      <td>30.00</td>\n",
              "      <td>bags</td>\n",
              "      <td>500502</td>\n",
              "      <td>55</td>\n",
              "    </tr>\n",
              "    <tr>\n",
              "      <th>1</th>\n",
              "      <td>BAKERY</td>\n",
              "      <td>Pies</td>\n",
              "      <td>240.00</td>\n",
              "      <td>mincemeat</td>\n",
              "      <td>500503</td>\n",
              "      <td>125</td>\n",
              "    </tr>\n",
              "    <tr>\n",
              "      <th>2</th>\n",
              "      <td>SHELF_ITEM</td>\n",
              "      <td>Marshmallows</td>\n",
              "      <td>120.00</td>\n",
              "      <td>marshmallow creme</td>\n",
              "      <td>500504</td>\n",
              "      <td>19</td>\n",
              "    </tr>\n",
              "    <tr>\n",
              "      <th>3</th>\n",
              "      <td>BAKERY</td>\n",
              "      <td>Doughnuts</td>\n",
              "      <td>7.00</td>\n",
              "      <td>glazed or cake</td>\n",
              "      <td>500505</td>\n",
              "      <td>42</td>\n",
              "    </tr>\n",
              "    <tr>\n",
              "      <th>4</th>\n",
              "      <td>DIARY</td>\n",
              "      <td>Cream</td>\n",
              "      <td>120.00</td>\n",
              "      <td>half-and-half</td>\n",
              "      <td>500506</td>\n",
              "      <td>38</td>\n",
              "    </tr>\n",
              "    <tr>\n",
              "      <th>...</th>\n",
              "      <td>...</td>\n",
              "      <td>...</td>\n",
              "      <td>...</td>\n",
              "      <td>...</td>\n",
              "      <td>...</td>\n",
              "      <td>...</td>\n",
              "    </tr>\n",
              "    <tr>\n",
              "      <th>5739</th>\n",
              "      <td>DELI_ITEM</td>\n",
              "      <td>Olives</td>\n",
              "      <td>50.73</td>\n",
              "      <td>NaN</td>\n",
              "      <td>500624</td>\n",
              "      <td>34</td>\n",
              "    </tr>\n",
              "    <tr>\n",
              "      <th>5740</th>\n",
              "      <td>DELI_ITEM</td>\n",
              "      <td>Pudding</td>\n",
              "      <td>50.73</td>\n",
              "      <td>NaN</td>\n",
              "      <td>500644</td>\n",
              "      <td>51</td>\n",
              "    </tr>\n",
              "    <tr>\n",
              "      <th>5741</th>\n",
              "      <td>VEGETABLES</td>\n",
              "      <td>Radishes</td>\n",
              "      <td>38.60</td>\n",
              "      <td>NaN</td>\n",
              "      <td>500666</td>\n",
              "      <td>21</td>\n",
              "    </tr>\n",
              "    <tr>\n",
              "      <th>5742</th>\n",
              "      <td>VEGETABLES</td>\n",
              "      <td>Lettuce</td>\n",
              "      <td>38.60</td>\n",
              "      <td>leaf</td>\n",
              "      <td>5006614</td>\n",
              "      <td>35</td>\n",
              "    </tr>\n",
              "    <tr>\n",
              "      <th>5743</th>\n",
              "      <td>DELI_ITEM</td>\n",
              "      <td>Salads</td>\n",
              "      <td>50.73</td>\n",
              "      <td>vegetable</td>\n",
              "      <td>500677</td>\n",
              "      <td>27</td>\n",
              "    </tr>\n",
              "  </tbody>\n",
              "</table>\n",
              "<p>5744 rows × 6 columns</p>\n",
              "</div>"
            ],
            "text/plain": [
              "            TYPE          ITEM  ...  user_id product fequency\n",
              "0     SHELF_ITEM           Tea  ...   500502               55\n",
              "1         BAKERY          Pies  ...   500503              125\n",
              "2     SHELF_ITEM  Marshmallows  ...   500504               19\n",
              "3         BAKERY     Doughnuts  ...   500505               42\n",
              "4          DIARY         Cream  ...   500506               38\n",
              "...          ...           ...  ...      ...              ...\n",
              "5739   DELI_ITEM        Olives  ...   500624               34\n",
              "5740   DELI_ITEM       Pudding  ...   500644               51\n",
              "5741  VEGETABLES      Radishes  ...   500666               21\n",
              "5742  VEGETABLES       Lettuce  ...  5006614               35\n",
              "5743   DELI_ITEM        Salads  ...   500677               27\n",
              "\n",
              "[5744 rows x 6 columns]"
            ]
          },
          "metadata": {},
          "execution_count": 13
        }
      ]
    },
    {
      "cell_type": "code",
      "metadata": {
        "id": "cVxPjfu_KoWz"
      },
      "source": [
        "# filt = {1:range(0,5), 2:range(6,10), 3:range(11,15), 4:range(16,20), 5:range(21,25), 6:range(26,30), 7:range(31,35), 8:range(36,40), 9:range(41,45), 10:range(46,52)}\n",
        "# food_consumed_['score'] = food_consumed_['product fequency'].map(filt)"
      ],
      "execution_count": null,
      "outputs": []
    },
    {
      "cell_type": "code",
      "metadata": {
        "id": "dzsFfVnndeJy"
      },
      "source": [
        "\n",
        "# 1:range(0,5), 2:range(6,10), 3:range(11,15), 4:range(16,20), 5:range(21,25), 6:range(26,30), 7:range(31,35), 8:range(36,40), 9:range(41,45), 10:range(46,52)\n",
        "criteria = [food_consumed_['PERIOD'].between(901,1000), \n",
        "            food_consumed_['PERIOD'].between(801,900), \n",
        "            food_consumed_['PERIOD'].between(701,800),\n",
        "            food_consumed_['PERIOD'].between(601,700),\n",
        "            food_consumed_['PERIOD'].between(301,600),\n",
        "            food_consumed_['PERIOD'].between(201,300),\n",
        "            food_consumed_['PERIOD'].between(81,200),\n",
        "            food_consumed_['PERIOD'].between(10.1,80),\n",
        "            food_consumed_['PERIOD'].between(5.1,10),\n",
        "            food_consumed_['PERIOD'].between(0,5)\n",
        "            ]\n",
        "\n",
        "values = [1, 2, 3, 4, 5, 6, 7, 8, 9, 10]\n",
        "\n",
        "food_consumed_['score'] = np.select(criteria, values, 0)"
      ],
      "execution_count": 18,
      "outputs": []
    },
    {
      "cell_type": "code",
      "metadata": {
        "colab": {
          "base_uri": "https://localhost:8080/",
          "height": 424
        },
        "id": "kGO4DXb4QfO7",
        "outputId": "988e723d-724d-43d7-f67f-cfbe5faf9d6d"
      },
      "source": [
        "food_consumed_"
      ],
      "execution_count": 19,
      "outputs": [
        {
          "output_type": "execute_result",
          "data": {
            "text/html": [
              "<div>\n",
              "<style scoped>\n",
              "    .dataframe tbody tr th:only-of-type {\n",
              "        vertical-align: middle;\n",
              "    }\n",
              "\n",
              "    .dataframe tbody tr th {\n",
              "        vertical-align: top;\n",
              "    }\n",
              "\n",
              "    .dataframe thead th {\n",
              "        text-align: right;\n",
              "    }\n",
              "</style>\n",
              "<table border=\"1\" class=\"dataframe\">\n",
              "  <thead>\n",
              "    <tr style=\"text-align: right;\">\n",
              "      <th></th>\n",
              "      <th>TYPE</th>\n",
              "      <th>ITEM</th>\n",
              "      <th>PERIOD</th>\n",
              "      <th>ITEM_DESC</th>\n",
              "      <th>user_id</th>\n",
              "      <th>product fequency</th>\n",
              "      <th>score</th>\n",
              "    </tr>\n",
              "  </thead>\n",
              "  <tbody>\n",
              "    <tr>\n",
              "      <th>0</th>\n",
              "      <td>SHELF_ITEM</td>\n",
              "      <td>Tea</td>\n",
              "      <td>30.00</td>\n",
              "      <td>bags</td>\n",
              "      <td>500502</td>\n",
              "      <td>55</td>\n",
              "      <td>8</td>\n",
              "    </tr>\n",
              "    <tr>\n",
              "      <th>1</th>\n",
              "      <td>BAKERY</td>\n",
              "      <td>Pies</td>\n",
              "      <td>240.00</td>\n",
              "      <td>mincemeat</td>\n",
              "      <td>500503</td>\n",
              "      <td>125</td>\n",
              "      <td>6</td>\n",
              "    </tr>\n",
              "    <tr>\n",
              "      <th>2</th>\n",
              "      <td>SHELF_ITEM</td>\n",
              "      <td>Marshmallows</td>\n",
              "      <td>120.00</td>\n",
              "      <td>marshmallow creme</td>\n",
              "      <td>500504</td>\n",
              "      <td>19</td>\n",
              "      <td>7</td>\n",
              "    </tr>\n",
              "    <tr>\n",
              "      <th>3</th>\n",
              "      <td>BAKERY</td>\n",
              "      <td>Doughnuts</td>\n",
              "      <td>7.00</td>\n",
              "      <td>glazed or cake</td>\n",
              "      <td>500505</td>\n",
              "      <td>42</td>\n",
              "      <td>9</td>\n",
              "    </tr>\n",
              "    <tr>\n",
              "      <th>4</th>\n",
              "      <td>DIARY</td>\n",
              "      <td>Cream</td>\n",
              "      <td>120.00</td>\n",
              "      <td>half-and-half</td>\n",
              "      <td>500506</td>\n",
              "      <td>38</td>\n",
              "      <td>7</td>\n",
              "    </tr>\n",
              "    <tr>\n",
              "      <th>...</th>\n",
              "      <td>...</td>\n",
              "      <td>...</td>\n",
              "      <td>...</td>\n",
              "      <td>...</td>\n",
              "      <td>...</td>\n",
              "      <td>...</td>\n",
              "      <td>...</td>\n",
              "    </tr>\n",
              "    <tr>\n",
              "      <th>5739</th>\n",
              "      <td>DELI_ITEM</td>\n",
              "      <td>Olives</td>\n",
              "      <td>50.73</td>\n",
              "      <td>NaN</td>\n",
              "      <td>500624</td>\n",
              "      <td>34</td>\n",
              "      <td>8</td>\n",
              "    </tr>\n",
              "    <tr>\n",
              "      <th>5740</th>\n",
              "      <td>DELI_ITEM</td>\n",
              "      <td>Pudding</td>\n",
              "      <td>50.73</td>\n",
              "      <td>NaN</td>\n",
              "      <td>500644</td>\n",
              "      <td>51</td>\n",
              "      <td>8</td>\n",
              "    </tr>\n",
              "    <tr>\n",
              "      <th>5741</th>\n",
              "      <td>VEGETABLES</td>\n",
              "      <td>Radishes</td>\n",
              "      <td>38.60</td>\n",
              "      <td>NaN</td>\n",
              "      <td>500666</td>\n",
              "      <td>21</td>\n",
              "      <td>8</td>\n",
              "    </tr>\n",
              "    <tr>\n",
              "      <th>5742</th>\n",
              "      <td>VEGETABLES</td>\n",
              "      <td>Lettuce</td>\n",
              "      <td>38.60</td>\n",
              "      <td>leaf</td>\n",
              "      <td>5006614</td>\n",
              "      <td>35</td>\n",
              "      <td>8</td>\n",
              "    </tr>\n",
              "    <tr>\n",
              "      <th>5743</th>\n",
              "      <td>DELI_ITEM</td>\n",
              "      <td>Salads</td>\n",
              "      <td>50.73</td>\n",
              "      <td>vegetable</td>\n",
              "      <td>500677</td>\n",
              "      <td>27</td>\n",
              "      <td>8</td>\n",
              "    </tr>\n",
              "  </tbody>\n",
              "</table>\n",
              "<p>5744 rows × 7 columns</p>\n",
              "</div>"
            ],
            "text/plain": [
              "            TYPE          ITEM  PERIOD  ...  user_id product fequency  score\n",
              "0     SHELF_ITEM           Tea   30.00  ...   500502               55      8\n",
              "1         BAKERY          Pies  240.00  ...   500503              125      6\n",
              "2     SHELF_ITEM  Marshmallows  120.00  ...   500504               19      7\n",
              "3         BAKERY     Doughnuts    7.00  ...   500505               42      9\n",
              "4          DIARY         Cream  120.00  ...   500506               38      7\n",
              "...          ...           ...     ...  ...      ...              ...    ...\n",
              "5739   DELI_ITEM        Olives   50.73  ...   500624               34      8\n",
              "5740   DELI_ITEM       Pudding   50.73  ...   500644               51      8\n",
              "5741  VEGETABLES      Radishes   38.60  ...   500666               21      8\n",
              "5742  VEGETABLES       Lettuce   38.60  ...  5006614               35      8\n",
              "5743   DELI_ITEM        Salads   50.73  ...   500677               27      8\n",
              "\n",
              "[5744 rows x 7 columns]"
            ]
          },
          "metadata": {},
          "execution_count": 19
        }
      ]
    },
    {
      "cell_type": "code",
      "metadata": {
        "colab": {
          "base_uri": "https://localhost:8080/",
          "height": 206
        },
        "id": "kyPLf7rmbLn4",
        "outputId": "4797962c-9ddb-4452-91d1-7c600f5d0745"
      },
      "source": [
        "df = food_consumed_[(food_consumed_['score'] == 5)]\n",
        "df.tail()"
      ],
      "execution_count": 20,
      "outputs": [
        {
          "output_type": "execute_result",
          "data": {
            "text/html": [
              "<div>\n",
              "<style scoped>\n",
              "    .dataframe tbody tr th:only-of-type {\n",
              "        vertical-align: middle;\n",
              "    }\n",
              "\n",
              "    .dataframe tbody tr th {\n",
              "        vertical-align: top;\n",
              "    }\n",
              "\n",
              "    .dataframe thead th {\n",
              "        text-align: right;\n",
              "    }\n",
              "</style>\n",
              "<table border=\"1\" class=\"dataframe\">\n",
              "  <thead>\n",
              "    <tr style=\"text-align: right;\">\n",
              "      <th></th>\n",
              "      <th>TYPE</th>\n",
              "      <th>ITEM</th>\n",
              "      <th>PERIOD</th>\n",
              "      <th>ITEM_DESC</th>\n",
              "      <th>user_id</th>\n",
              "      <th>product fequency</th>\n",
              "      <th>score</th>\n",
              "    </tr>\n",
              "  </thead>\n",
              "  <tbody>\n",
              "    <tr>\n",
              "      <th>5230</th>\n",
              "      <td>BAKING</td>\n",
              "      <td>Chocolate</td>\n",
              "      <td>365.0</td>\n",
              "      <td>unsweetened and semi-sweet, solid</td>\n",
              "      <td>5005414</td>\n",
              "      <td>14</td>\n",
              "      <td>5</td>\n",
              "    </tr>\n",
              "    <tr>\n",
              "      <th>5235</th>\n",
              "      <td>SHELF_ITEM</td>\n",
              "      <td>Rice</td>\n",
              "      <td>365.0</td>\n",
              "      <td>brown</td>\n",
              "      <td>500551</td>\n",
              "      <td>77</td>\n",
              "      <td>5</td>\n",
              "    </tr>\n",
              "    <tr>\n",
              "      <th>5286</th>\n",
              "      <td>SHELF_ITEM</td>\n",
              "      <td>Worcestershire Sauce</td>\n",
              "      <td>365.0</td>\n",
              "      <td>NaN</td>\n",
              "      <td>5005812</td>\n",
              "      <td>21</td>\n",
              "      <td>5</td>\n",
              "    </tr>\n",
              "    <tr>\n",
              "      <th>5316</th>\n",
              "      <td>SHELF_ITEM</td>\n",
              "      <td>Worcestershire Sauce</td>\n",
              "      <td>365.0</td>\n",
              "      <td>NaN</td>\n",
              "      <td>5006012</td>\n",
              "      <td>21</td>\n",
              "      <td>5</td>\n",
              "    </tr>\n",
              "    <tr>\n",
              "      <th>5338</th>\n",
              "      <td>SHELF_ITEM</td>\n",
              "      <td>Rice</td>\n",
              "      <td>365.0</td>\n",
              "      <td>brown</td>\n",
              "      <td>500627</td>\n",
              "      <td>77</td>\n",
              "      <td>5</td>\n",
              "    </tr>\n",
              "  </tbody>\n",
              "</table>\n",
              "</div>"
            ],
            "text/plain": [
              "            TYPE                  ITEM  ...  product fequency score\n",
              "5230      BAKING             Chocolate  ...                14     5\n",
              "5235  SHELF_ITEM                  Rice  ...                77     5\n",
              "5286  SHELF_ITEM  Worcestershire Sauce  ...                21     5\n",
              "5316  SHELF_ITEM  Worcestershire Sauce  ...                21     5\n",
              "5338  SHELF_ITEM                  Rice  ...                77     5\n",
              "\n",
              "[5 rows x 7 columns]"
            ]
          },
          "metadata": {},
          "execution_count": 20
        }
      ]
    },
    {
      "cell_type": "code",
      "metadata": {
        "id": "FBWCFmMFn0er"
      },
      "source": [
        "# food_consumed_.set_index('OrderId', inplace = True)"
      ],
      "execution_count": 21,
      "outputs": []
    },
    {
      "cell_type": "code",
      "metadata": {
        "colab": {
          "base_uri": "https://localhost:8080/",
          "height": 424
        },
        "id": "ioQrW3A3kF_r",
        "outputId": "bbce6573-f782-4a67-a851-ed48148fa239"
      },
      "source": [
        "df_final = food_consumed_.drop(columns=\"product fequency\")\n",
        "df_final"
      ],
      "execution_count": 22,
      "outputs": [
        {
          "output_type": "execute_result",
          "data": {
            "text/html": [
              "<div>\n",
              "<style scoped>\n",
              "    .dataframe tbody tr th:only-of-type {\n",
              "        vertical-align: middle;\n",
              "    }\n",
              "\n",
              "    .dataframe tbody tr th {\n",
              "        vertical-align: top;\n",
              "    }\n",
              "\n",
              "    .dataframe thead th {\n",
              "        text-align: right;\n",
              "    }\n",
              "</style>\n",
              "<table border=\"1\" class=\"dataframe\">\n",
              "  <thead>\n",
              "    <tr style=\"text-align: right;\">\n",
              "      <th></th>\n",
              "      <th>TYPE</th>\n",
              "      <th>ITEM</th>\n",
              "      <th>PERIOD</th>\n",
              "      <th>ITEM_DESC</th>\n",
              "      <th>user_id</th>\n",
              "      <th>score</th>\n",
              "    </tr>\n",
              "  </thead>\n",
              "  <tbody>\n",
              "    <tr>\n",
              "      <th>0</th>\n",
              "      <td>SHELF_ITEM</td>\n",
              "      <td>Tea</td>\n",
              "      <td>30.00</td>\n",
              "      <td>bags</td>\n",
              "      <td>500502</td>\n",
              "      <td>8</td>\n",
              "    </tr>\n",
              "    <tr>\n",
              "      <th>1</th>\n",
              "      <td>BAKERY</td>\n",
              "      <td>Pies</td>\n",
              "      <td>240.00</td>\n",
              "      <td>mincemeat</td>\n",
              "      <td>500503</td>\n",
              "      <td>6</td>\n",
              "    </tr>\n",
              "    <tr>\n",
              "      <th>2</th>\n",
              "      <td>SHELF_ITEM</td>\n",
              "      <td>Marshmallows</td>\n",
              "      <td>120.00</td>\n",
              "      <td>marshmallow creme</td>\n",
              "      <td>500504</td>\n",
              "      <td>7</td>\n",
              "    </tr>\n",
              "    <tr>\n",
              "      <th>3</th>\n",
              "      <td>BAKERY</td>\n",
              "      <td>Doughnuts</td>\n",
              "      <td>7.00</td>\n",
              "      <td>glazed or cake</td>\n",
              "      <td>500505</td>\n",
              "      <td>9</td>\n",
              "    </tr>\n",
              "    <tr>\n",
              "      <th>4</th>\n",
              "      <td>DIARY</td>\n",
              "      <td>Cream</td>\n",
              "      <td>120.00</td>\n",
              "      <td>half-and-half</td>\n",
              "      <td>500506</td>\n",
              "      <td>7</td>\n",
              "    </tr>\n",
              "    <tr>\n",
              "      <th>...</th>\n",
              "      <td>...</td>\n",
              "      <td>...</td>\n",
              "      <td>...</td>\n",
              "      <td>...</td>\n",
              "      <td>...</td>\n",
              "      <td>...</td>\n",
              "    </tr>\n",
              "    <tr>\n",
              "      <th>5739</th>\n",
              "      <td>DELI_ITEM</td>\n",
              "      <td>Olives</td>\n",
              "      <td>50.73</td>\n",
              "      <td>NaN</td>\n",
              "      <td>500624</td>\n",
              "      <td>8</td>\n",
              "    </tr>\n",
              "    <tr>\n",
              "      <th>5740</th>\n",
              "      <td>DELI_ITEM</td>\n",
              "      <td>Pudding</td>\n",
              "      <td>50.73</td>\n",
              "      <td>NaN</td>\n",
              "      <td>500644</td>\n",
              "      <td>8</td>\n",
              "    </tr>\n",
              "    <tr>\n",
              "      <th>5741</th>\n",
              "      <td>VEGETABLES</td>\n",
              "      <td>Radishes</td>\n",
              "      <td>38.60</td>\n",
              "      <td>NaN</td>\n",
              "      <td>500666</td>\n",
              "      <td>8</td>\n",
              "    </tr>\n",
              "    <tr>\n",
              "      <th>5742</th>\n",
              "      <td>VEGETABLES</td>\n",
              "      <td>Lettuce</td>\n",
              "      <td>38.60</td>\n",
              "      <td>leaf</td>\n",
              "      <td>5006614</td>\n",
              "      <td>8</td>\n",
              "    </tr>\n",
              "    <tr>\n",
              "      <th>5743</th>\n",
              "      <td>DELI_ITEM</td>\n",
              "      <td>Salads</td>\n",
              "      <td>50.73</td>\n",
              "      <td>vegetable</td>\n",
              "      <td>500677</td>\n",
              "      <td>8</td>\n",
              "    </tr>\n",
              "  </tbody>\n",
              "</table>\n",
              "<p>5744 rows × 6 columns</p>\n",
              "</div>"
            ],
            "text/plain": [
              "            TYPE          ITEM  PERIOD           ITEM_DESC  user_id  score\n",
              "0     SHELF_ITEM           Tea   30.00                bags   500502      8\n",
              "1         BAKERY          Pies  240.00           mincemeat   500503      6\n",
              "2     SHELF_ITEM  Marshmallows  120.00   marshmallow creme   500504      7\n",
              "3         BAKERY     Doughnuts    7.00      glazed or cake   500505      9\n",
              "4          DIARY         Cream  120.00       half-and-half   500506      7\n",
              "...          ...           ...     ...                 ...      ...    ...\n",
              "5739   DELI_ITEM        Olives   50.73                 NaN   500624      8\n",
              "5740   DELI_ITEM       Pudding   50.73                 NaN   500644      8\n",
              "5741  VEGETABLES      Radishes   38.60                 NaN   500666      8\n",
              "5742  VEGETABLES       Lettuce   38.60                leaf  5006614      8\n",
              "5743   DELI_ITEM        Salads   50.73           vegetable   500677      8\n",
              "\n",
              "[5744 rows x 6 columns]"
            ]
          },
          "metadata": {},
          "execution_count": 22
        }
      ]
    },
    {
      "cell_type": "code",
      "metadata": {
        "id": "S2u_R02-1ea0",
        "colab": {
          "base_uri": "https://localhost:8080/"
        },
        "outputId": "242384a9-15f2-442a-dbb5-e84bcb5f4853"
      },
      "source": [
        "!pip3 install plotly \n",
        "!pip3 install surprise"
      ],
      "execution_count": 23,
      "outputs": [
        {
          "output_type": "stream",
          "name": "stdout",
          "text": [
            "Requirement already satisfied: plotly in /usr/local/lib/python3.7/dist-packages (4.4.1)\n",
            "Requirement already satisfied: six in /usr/local/lib/python3.7/dist-packages (from plotly) (1.15.0)\n",
            "Requirement already satisfied: retrying>=1.3.3 in /usr/local/lib/python3.7/dist-packages (from plotly) (1.3.3)\n",
            "Collecting surprise\n",
            "  Downloading surprise-0.1-py2.py3-none-any.whl (1.8 kB)\n",
            "Collecting scikit-surprise\n",
            "  Downloading scikit-surprise-1.1.1.tar.gz (11.8 MB)\n",
            "\u001b[K     |████████████████████████████████| 11.8 MB 10.8 MB/s \n",
            "\u001b[?25hRequirement already satisfied: joblib>=0.11 in /usr/local/lib/python3.7/dist-packages (from scikit-surprise->surprise) (1.0.1)\n",
            "Requirement already satisfied: numpy>=1.11.2 in /usr/local/lib/python3.7/dist-packages (from scikit-surprise->surprise) (1.19.5)\n",
            "Requirement already satisfied: scipy>=1.0.0 in /usr/local/lib/python3.7/dist-packages (from scikit-surprise->surprise) (1.4.1)\n",
            "Requirement already satisfied: six>=1.10.0 in /usr/local/lib/python3.7/dist-packages (from scikit-surprise->surprise) (1.15.0)\n",
            "Building wheels for collected packages: scikit-surprise\n",
            "  Building wheel for scikit-surprise (setup.py) ... \u001b[?25l\u001b[?25hdone\n",
            "  Created wheel for scikit-surprise: filename=scikit_surprise-1.1.1-cp37-cp37m-linux_x86_64.whl size=1619407 sha256=c7ee66c91c736f66afad89d508966903ab0875b44aede9cd86acf91cc801eaee\n",
            "  Stored in directory: /root/.cache/pip/wheels/76/44/74/b498c42be47b2406bd27994e16c5188e337c657025ab400c1c\n",
            "Successfully built scikit-surprise\n",
            "Installing collected packages: scikit-surprise, surprise\n",
            "Successfully installed scikit-surprise-1.1.1 surprise-0.1\n"
          ]
        }
      ]
    },
    {
      "cell_type": "code",
      "metadata": {
        "id": "q3yoRiHbbgmz"
      },
      "source": [
        "from surprise import Dataset,Reader\n",
        "\n",
        "reader = Reader(rating_scale=(1, 10))\n",
        "data = Dataset.load_from_df(df_final[['user_id', 'ITEM', 'score']], reader)"
      ],
      "execution_count": 27,
      "outputs": []
    },
    {
      "cell_type": "code",
      "metadata": {
        "id": "kAzeneNWmQg9"
      },
      "source": [
        "# Split data to train and test\n",
        "from surprise.model_selection import train_test_split\n",
        "trainset, testset = train_test_split(data, test_size=.25,random_state=123)"
      ],
      "execution_count": 28,
      "outputs": []
    },
    {
      "cell_type": "code",
      "metadata": {
        "colab": {
          "base_uri": "https://localhost:8080/"
        },
        "id": "qYq7nYaLmTa-",
        "outputId": "2ecdae91-e66a-416c-9058-2ce5084ef5b3"
      },
      "source": [
        "trainset.all_ratings()"
      ],
      "execution_count": 29,
      "outputs": [
        {
          "output_type": "execute_result",
          "data": {
            "text/plain": [
              "<generator object Trainset.all_ratings at 0x7f42bf0e0c50>"
            ]
          },
          "metadata": {},
          "execution_count": 29
        }
      ]
    },
    {
      "cell_type": "code",
      "metadata": {
        "colab": {
          "base_uri": "https://localhost:8080/"
        },
        "id": "JwreeANxmdIT",
        "outputId": "25acb8dd-d27d-4a42-d547-257ab67d1c79"
      },
      "source": [
        "# However the ids are the inner ids and not the raw ids\n",
        "# raw ids can be obatined as follows\n",
        "\n",
        "print(trainset.to_raw_uid(0))\n",
        "# print(trainset.to_raw_uid(1066))"
      ],
      "execution_count": 30,
      "outputs": [
        {
          "output_type": "stream",
          "name": "stdout",
          "text": [
            "500516\n"
          ]
        }
      ]
    },
    {
      "cell_type": "code",
      "metadata": {
        "id": "REKtFitVmyms"
      },
      "source": [
        "from surprise import SVD, KNNWithMeans\n",
        "from surprise import accuracy"
      ],
      "execution_count": 31,
      "outputs": []
    },
    {
      "cell_type": "code",
      "metadata": {
        "colab": {
          "base_uri": "https://localhost:8080/"
        },
        "id": "KAmKUN8TqOOw",
        "outputId": "3616f408-561f-4b95-ac8a-173362f37e39"
      },
      "source": [
        "svd_model = SVD(n_factors=5,biased=False)\n",
        "svd_model.fit(trainset)"
      ],
      "execution_count": 32,
      "outputs": [
        {
          "output_type": "execute_result",
          "data": {
            "text/plain": [
              "<surprise.prediction_algorithms.matrix_factorization.SVD at 0x7f42bf26ff90>"
            ]
          },
          "metadata": {},
          "execution_count": 32
        }
      ]
    },
    {
      "cell_type": "code",
      "metadata": {
        "colab": {
          "base_uri": "https://localhost:8080/"
        },
        "id": "erwBX6PBqTDU",
        "outputId": "96fc95cd-145d-45f0-89e3-43f7b52ee397"
      },
      "source": [
        "testset[0]"
      ],
      "execution_count": 33,
      "outputs": [
        {
          "output_type": "execute_result",
          "data": {
            "text/plain": [
              "('500521', 'Mushrooms', 10.0)"
            ]
          },
          "metadata": {},
          "execution_count": 33
        }
      ]
    },
    {
      "cell_type": "code",
      "metadata": {
        "id": "jVR9mD5YqTeo"
      },
      "source": [
        "test_pred = svd_model.test(testset)\n",
        "# test_pred"
      ],
      "execution_count": 34,
      "outputs": []
    },
    {
      "cell_type": "code",
      "metadata": {
        "colab": {
          "base_uri": "https://localhost:8080/"
        },
        "id": "UCxpTKYzqZes",
        "outputId": "d95165f5-47d4-4157-bcaf-b94116459865"
      },
      "source": [
        "# compute RMSE\n",
        "accuracy.rmse(test_pred)"
      ],
      "execution_count": 35,
      "outputs": [
        {
          "output_type": "stream",
          "name": "stdout",
          "text": [
            "RMSE: 1.4987\n"
          ]
        },
        {
          "output_type": "execute_result",
          "data": {
            "text/plain": [
              "1.4986775113293107"
            ]
          },
          "metadata": {},
          "execution_count": 35
        }
      ]
    },
    {
      "cell_type": "code",
      "metadata": {
        "id": "tTO2mhQqRkA5",
        "colab": {
          "base_uri": "https://localhost:8080/"
        },
        "outputId": "f6c3c368-a07c-4bf7-c673-9ed447947fa5"
      },
      "source": [
        "from surprise import BaselineOnly\n",
        "from surprise.model_selection import cross_validate\n",
        "\n",
        "print('Using ALS')\n",
        "bsl_options = {'method': 'als',\n",
        "               'n_epochs': 5,\n",
        "               'reg_u': 12,\n",
        "               'reg_i': 5\n",
        "               }\n",
        "algo = BaselineOnly(bsl_options=bsl_options)\n",
        "cross_validate(algo, data, measures=['RMSE','MAE'], cv=3, verbose=False)"
      ],
      "execution_count": 36,
      "outputs": [
        {
          "output_type": "stream",
          "name": "stdout",
          "text": [
            "Using ALS\n",
            "Estimating biases using als...\n",
            "Estimating biases using als...\n",
            "Estimating biases using als...\n"
          ]
        },
        {
          "output_type": "execute_result",
          "data": {
            "text/plain": [
              "{'fit_time': (0.005678415298461914,\n",
              "  0.003036975860595703,\n",
              "  0.0030553340911865234),\n",
              " 'test_mae': array([0.98941553, 0.99823142, 0.97966405]),\n",
              " 'test_rmse': array([1.32018645, 1.32921886, 1.32238268]),\n",
              " 'test_time': (0.014701128005981445,\n",
              "  0.008456945419311523,\n",
              "  0.008298158645629883)}"
            ]
          },
          "metadata": {},
          "execution_count": 36
        }
      ]
    },
    {
      "cell_type": "code",
      "metadata": {
        "id": "_EEkCgpRqjcJ",
        "colab": {
          "base_uri": "https://localhost:8080/"
        },
        "outputId": "f6f97ef0-a36e-4d85-f62c-e35c25244295"
      },
      "source": [
        "from collections import defaultdict\n",
        "\n",
        "from surprise.model_selection import KFold\n",
        "\n",
        "\n",
        "def precision_recall_at_k(predictions, k=20, threshold=3.5):\n",
        "    \"\"\"Return precision and recall at k metrics for each user\"\"\"\n",
        "\n",
        "    # First map the predictions to each user.\n",
        "    user_est_true = defaultdict(list)\n",
        "    for uid, _, true_r, est, _ in predictions:\n",
        "        user_est_true[uid].append((est, true_r))\n",
        "\n",
        "    precisions = dict()\n",
        "    recalls = dict()\n",
        "    for uid, user_ratings in user_est_true.items():\n",
        "\n",
        "        # Sort user ratings by estimated value\n",
        "        user_ratings.sort(key=lambda x: x[0], reverse=True)\n",
        "\n",
        "        # Number of relevant items\n",
        "        n_rel = sum((true_r >= threshold) for (_, true_r) in user_ratings)\n",
        "\n",
        "        # Number of recommended items in top k\n",
        "        n_rec_k = sum((est >= threshold) for (est, _) in user_ratings[:k])\n",
        "\n",
        "        # Number of relevant and recommended items in top k\n",
        "        n_rel_and_rec_k = sum(((true_r >= threshold) and (est >= threshold))\n",
        "                              for (est, true_r) in user_ratings[:k])\n",
        "\n",
        "        # Precision@K: Proportion of recommended phone that are relevant\n",
        "        # When n_rec_k is 0, Precision is undefined. We here set it to 0.\n",
        "\n",
        "        precisions[uid] = n_rel_and_rec_k / n_rec_k if n_rec_k != 0 else 0\n",
        "\n",
        "        # Recall@K: Proportion of relevant phone that are recommended\n",
        "        # When n_rel is 0, Recall is undefined. We here set it to 0.\n",
        "\n",
        "        recalls[uid] = n_rel_and_rec_k / n_rel if n_rel != 0 else 0\n",
        "\n",
        "    return precisions, recalls\n",
        "\n",
        "\n",
        "\n",
        "kf = KFold(n_splits=20)\n",
        "for trainset, testset in kf.split(data):\n",
        "    algo.fit(trainset)\n",
        "    predictions = algo.test(testset)\n",
        "    precisions, recalls = precision_recall_at_k(predictions, k=20, threshold=4)\n",
        "\n",
        "    # Precision and recall can then be averaged over all users\n",
        "    print(sum(prec for prec in precisions.values()) / len(precisions))\n",
        "    print(sum(rec for rec in recalls.values()) / len(recalls))"
      ],
      "execution_count": 37,
      "outputs": [
        {
          "output_type": "stream",
          "name": "stdout",
          "text": [
            "Estimating biases using als...\n",
            "0.9844559585492226\n",
            "0.9930915371329878\n",
            "Estimating biases using als...\n",
            "0.9487179487179488\n",
            "0.9615384615384616\n",
            "Estimating biases using als...\n",
            "0.9623655913978494\n",
            "0.9769585253456221\n",
            "Estimating biases using als...\n",
            "0.988673139158576\n",
            "0.9902912621359223\n",
            "Estimating biases using als...\n",
            "0.9497767857142857\n",
            "0.9642857142857143\n",
            "Estimating biases using als...\n",
            "0.9553990610328639\n",
            "0.9624413145539906\n",
            "Estimating biases using als...\n",
            "0.9215686274509803\n",
            "0.9362745098039216\n",
            "Estimating biases using als...\n",
            "0.9692556634304207\n",
            "0.9684466019417476\n",
            "Estimating biases using als...\n",
            "0.9655963302752294\n",
            "0.9701834862385321\n",
            "Estimating biases using als...\n",
            "0.9630541871921182\n",
            "0.9753694581280788\n",
            "Estimating biases using als...\n",
            "0.9685457516339868\n",
            "0.9803921568627451\n",
            "Estimating biases using als...\n",
            "0.9495934959349593\n",
            "0.9609756097560975\n",
            "Estimating biases using als...\n",
            "0.96849087893864\n",
            "0.9751243781094527\n",
            "Estimating biases using als...\n",
            "0.9661716171617162\n",
            "0.9752475247524752\n",
            "Estimating biases using als...\n",
            "0.9901729559748427\n",
            "0.9952830188679245\n",
            "Estimating biases using als...\n",
            "0.9813915857605179\n",
            "0.9902912621359223\n",
            "Estimating biases using als...\n",
            "0.9687301587301588\n",
            "0.9761904761904762\n",
            "Estimating biases using als...\n",
            "0.9471649484536082\n",
            "0.9690721649484536\n",
            "Estimating biases using als...\n",
            "0.9765494137353433\n",
            "0.9798994974874372\n",
            "Estimating biases using als...\n",
            "0.9597701149425287\n",
            "0.9655172413793104\n"
          ]
        }
      ]
    },
    {
      "cell_type": "code",
      "metadata": {
        "id": "7_CKctiARJtC",
        "colab": {
          "base_uri": "https://localhost:8080/"
        },
        "outputId": "678a1c9e-3a7e-473e-f27a-ae217b7c1362"
      },
      "source": [
        "\n",
        "from surprise import SVD\n",
        "from surprise import Dataset\n",
        "\n",
        "\n",
        "def get_top_n(predictions, n=20):\n",
        "    \"\"\"Return the top-N recommendation for each user from a set of predictions.\n",
        "\n",
        "    Args:\n",
        "        predictions(list of Prediction objects): The list of predictions, as\n",
        "            returned by the test method of an algorithm.\n",
        "        n(int): The number of recommendation to output for each user. Default\n",
        "            is 10.\n",
        "\n",
        "    Returns:\n",
        "    A dict where keys are user (raw) ids and values are lists of tuples:\n",
        "        [(raw item id, rating estimation), ...] of size n.\n",
        "    \"\"\"\n",
        "\n",
        "    # First map the predictions to each user.\n",
        "    top_n = defaultdict(list)\n",
        "    for uid, iid, true_r, est, _ in predictions:\n",
        "        top_n[uid].append((iid, est))\n",
        "\n",
        "    # Then sort the predictions for each user and retrieve the k highest ones.\n",
        "    for uid, user_ratings in top_n.items():\n",
        "        user_ratings.sort(key=lambda x: x[1], reverse=True)\n",
        "        top_n[uid] = user_ratings[:n]\n",
        "\n",
        "    return top_n\n",
        "\n",
        "\n",
        "# First train an BaselineOnly algorithm on the smartphone dataset.\n",
        "trainset = data.build_full_trainset()\n",
        "algo.fit(trainset)\n",
        "\n",
        "# Than predict ratings for all pairs (u, i) that are NOT in the training set.\n",
        "testset = trainset.build_anti_testset()\n",
        "predictions = algo.test(testset)\n",
        "\n",
        "top_n = get_top_n(predictions, n=20)\n",
        "\n",
        "# Print the recommended items for each user\n",
        "for uid, user_ratings in top_n.items():\n",
        "    print(uid, [iid for (iid, _) in user_ratings])"
      ],
      "execution_count": 38,
      "outputs": [
        {
          "output_type": "stream",
          "name": "stdout",
          "text": [
            "Estimating biases using als...\n",
            "500502 ['Melons', 'Quiche', 'Eclairs', 'Pears', 'Croissants', 'Soy meat substitutes', 'Papaya', 'Broccoli', 'Salads', 'Cauliflower', 'Juice in cartons', 'Side dishes such as cooked vegetables', 'Okra', 'Duckling or goose', 'Cucumbers', 'Grapes', 'Kefir (fermented milk)', 'Sour cream', 'Burritos', 'Pies']\n",
            "500503 ['Melons', 'Quiche', 'Eclairs', 'Pears', 'Doughnuts', 'Soy meat substitutes', 'Papaya', 'Broccoli', 'Salads', 'Cauliflower', 'Bread', 'Juice in cartons', 'Side dishes such as cooked vegetables', 'Okra', 'Duckling or goose', 'Cucumbers', 'Grapes', 'Kefir (fermented milk)', 'Sour cream', 'Burritos']\n",
            "500504 ['Melons', 'Quiche', 'Eclairs', 'Pears', 'Doughnuts', 'Croissants', 'Soy meat substitutes', 'Papaya', 'Broccoli', 'Salads', 'Cauliflower', 'Juice in cartons', 'Side dishes such as cooked vegetables', 'Okra', 'Duckling or goose', 'Cucumbers', 'Grapes', 'Kefir (fermented milk)', 'Sour cream', 'Burritos']\n",
            "500505 ['Melons', 'Quiche', 'Eclairs', 'Pears', 'Croissants', 'Soy meat substitutes', 'Papaya', 'Broccoli', 'Salads', 'Cauliflower', 'Bread', 'Juice in cartons', 'Side dishes such as cooked vegetables', 'Okra', 'Grapes', 'Kefir (fermented milk)', 'Sour cream', 'Radishes', 'Pastries', 'Pancakes']\n",
            "500506 ['Melons', 'Quiche', 'Eclairs', 'Pears', 'Doughnuts', 'Croissants', 'Soy meat substitutes', 'Papaya', 'Broccoli', 'Salads', 'Cauliflower', 'Bread', 'Juice in cartons', 'Side dishes such as cooked vegetables', 'Okra', 'Duckling or goose', 'Cucumbers', 'Grapes', 'Kefir (fermented milk)', 'Sour cream']\n",
            "500507 ['Melons', 'Quiche', 'Eclairs', 'Pears', 'Doughnuts', 'Croissants', 'Soy meat substitutes', 'Papaya', 'Broccoli', 'Salads', 'Cauliflower', 'Bread', 'Juice in cartons', 'Side dishes such as cooked vegetables', 'Okra', 'Duckling or goose', 'Cucumbers', 'Grapes', 'Kefir (fermented milk)', 'Sour cream']\n",
            "500508 ['Melons', 'Quiche', 'Eclairs', 'Pears', 'Doughnuts', 'Croissants', 'Soy meat substitutes', 'Papaya', 'Broccoli', 'Salads', 'Cauliflower', 'Bread', 'Juice in cartons', 'Side dishes such as cooked vegetables', 'Okra', 'Duckling or goose', 'Cucumbers', 'Grapes', 'Kefir (fermented milk)', 'Sour cream']\n",
            "500509 ['Melons', 'Quiche', 'Eclairs', 'Croissants', 'Soy meat substitutes', 'Papaya', 'Salads', 'Cauliflower', 'Bread', 'Juice in cartons', 'Side dishes such as cooked vegetables', 'Okra', 'Duckling or goose', 'Cucumbers', 'Grapes', 'Kefir (fermented milk)', 'Burritos', 'Pies', 'Pastries', 'Greens']\n",
            "5005010 ['Melons', 'Quiche', 'Eclairs', 'Pears', 'Doughnuts', 'Croissants', 'Soy meat substitutes', 'Papaya', 'Broccoli', 'Salads', 'Cauliflower', 'Bread', 'Juice in cartons', 'Side dishes such as cooked vegetables', 'Okra', 'Duckling or goose', 'Cucumbers', 'Grapes', 'Kefir (fermented milk)', 'Burritos']\n",
            "5005011 ['Melons', 'Quiche', 'Eclairs', 'Pears', 'Doughnuts', 'Croissants', 'Soy meat substitutes', 'Papaya', 'Broccoli', 'Salads', 'Cauliflower', 'Bread', 'Juice in cartons', 'Side dishes such as cooked vegetables', 'Okra', 'Duckling or goose', 'Cucumbers', 'Grapes', 'Kefir (fermented milk)', 'Sour cream']\n",
            "5005013 ['Melons', 'Quiche', 'Eclairs', 'Pears', 'Croissants', 'Soy meat substitutes', 'Papaya', 'Broccoli', 'Salads', 'Cauliflower', 'Bread', 'Juice in cartons', 'Okra', 'Duckling or goose', 'Cucumbers', 'Grapes', 'Kefir (fermented milk)', 'Sour cream', 'Burritos', 'Pies']\n",
            "5005014 ['Melons', 'Quiche', 'Eclairs', 'Pears', 'Doughnuts', 'Croissants', 'Soy meat substitutes', 'Papaya', 'Broccoli', 'Salads', 'Cauliflower', 'Bread', 'Juice in cartons', 'Side dishes such as cooked vegetables', 'Okra', 'Duckling or goose', 'Cucumbers', 'Grapes', 'Kefir (fermented milk)', 'Sour cream']\n",
            "500511 ['Melons', 'Quiche', 'Eclairs', 'Pears', 'Doughnuts', 'Croissants', 'Soy meat substitutes', 'Papaya', 'Broccoli', 'Salads', 'Cauliflower', 'Juice in cartons', 'Side dishes such as cooked vegetables', 'Okra', 'Duckling or goose', 'Cucumbers', 'Grapes', 'Kefir (fermented milk)', 'Sour cream', 'Burritos']\n",
            "500512 ['Melons', 'Quiche', 'Eclairs', 'Pears', 'Doughnuts', 'Croissants', 'Soy meat substitutes', 'Papaya', 'Salads', 'Cauliflower', 'Bread', 'Juice in cartons', 'Okra', 'Duckling or goose', 'Cucumbers', 'Grapes', 'Kefir (fermented milk)', 'Burritos', 'Pies', 'Radishes']\n",
            "500513 ['Melons', 'Quiche', 'Eclairs', 'Pears', 'Doughnuts', 'Croissants', 'Soy meat substitutes', 'Papaya', 'Broccoli', 'Salads', 'Cauliflower', 'Bread', 'Juice in cartons', 'Side dishes such as cooked vegetables', 'Okra', 'Duckling or goose', 'Cucumbers', 'Grapes', 'Kefir (fermented milk)', 'Sour cream']\n",
            "500514 ['Melons', 'Quiche', 'Eclairs', 'Pears', 'Doughnuts', 'Croissants', 'Soy meat substitutes', 'Papaya', 'Broccoli', 'Salads', 'Cauliflower', 'Bread', 'Juice in cartons', 'Okra', 'Duckling or goose', 'Grapes', 'Kefir (fermented milk)', 'Sour cream', 'Burritos', 'Pies']\n",
            "500515 ['Melons', 'Quiche', 'Eclairs', 'Pears', 'Croissants', 'Soy meat substitutes', 'Papaya', 'Broccoli', 'Salads', 'Bread', 'Juice in cartons', 'Side dishes such as cooked vegetables', 'Okra', 'Duckling or goose', 'Cucumbers', 'Grapes', 'Kefir (fermented milk)', 'Sour cream', 'Burritos', 'Pies']\n",
            "500516 ['Melons', 'Quiche', 'Eclairs', 'Pears', 'Doughnuts', 'Croissants', 'Soy meat substitutes', 'Papaya', 'Broccoli', 'Salads', 'Cauliflower', 'Bread', 'Juice in cartons', 'Side dishes such as cooked vegetables', 'Okra', 'Duckling or goose', 'Cucumbers', 'Grapes', 'Kefir (fermented milk)', 'Sour cream']\n",
            "500518 ['Quiche', 'Eclairs', 'Pears', 'Doughnuts', 'Soy meat substitutes', 'Papaya', 'Broccoli', 'Salads', 'Cauliflower', 'Juice in cartons', 'Side dishes such as cooked vegetables', 'Okra', 'Duckling or goose', 'Cucumbers', 'Grapes', 'Kefir (fermented milk)', 'Sour cream', 'Burritos', 'Pies', 'Radishes']\n",
            "500519 ['Melons', 'Quiche', 'Eclairs', 'Pears', 'Doughnuts', 'Croissants', 'Soy meat substitutes', 'Papaya', 'Broccoli', 'Salads', 'Cauliflower', 'Bread', 'Juice in cartons', 'Side dishes such as cooked vegetables', 'Okra', 'Duckling or goose', 'Cucumbers', 'Grapes', 'Kefir (fermented milk)', 'Sour cream']\n",
            "5005110 ['Melons', 'Quiche', 'Eclairs', 'Pears', 'Doughnuts', 'Croissants', 'Soy meat substitutes', 'Papaya', 'Broccoli', 'Salads', 'Cauliflower', 'Bread', 'Juice in cartons', 'Side dishes such as cooked vegetables', 'Okra', 'Cucumbers', 'Grapes', 'Sour cream', 'Burritos', 'Pies']\n",
            "5005111 ['Melons', 'Quiche', 'Eclairs', 'Pears', 'Doughnuts', 'Croissants', 'Soy meat substitutes', 'Papaya', 'Broccoli', 'Salads', 'Cauliflower', 'Juice in cartons', 'Side dishes such as cooked vegetables', 'Okra', 'Duckling or goose', 'Cucumbers', 'Grapes', 'Kefir (fermented milk)', 'Sour cream', 'Burritos']\n",
            "5005112 ['Melons', 'Quiche', 'Eclairs', 'Pears', 'Doughnuts', 'Soy meat substitutes', 'Broccoli', 'Salads', 'Bread', 'Juice in cartons', 'Side dishes such as cooked vegetables', 'Okra', 'Duckling or goose', 'Cucumbers', 'Grapes', 'Kefir (fermented milk)', 'Sour cream', 'Burritos', 'Radishes', 'Pastries']\n",
            "5005113 ['Melons', 'Quiche', 'Eclairs', 'Pears', 'Doughnuts', 'Croissants', 'Soy meat substitutes', 'Papaya', 'Broccoli', 'Salads', 'Cauliflower', 'Bread', 'Juice in cartons', 'Side dishes such as cooked vegetables', 'Duckling or goose', 'Cucumbers', 'Grapes', 'Kefir (fermented milk)', 'Burritos', 'Radishes']\n",
            "5005114 ['Melons', 'Eclairs', 'Pears', 'Doughnuts', 'Croissants', 'Soy meat substitutes', 'Papaya', 'Broccoli', 'Salads', 'Cauliflower', 'Bread', 'Juice in cartons', 'Side dishes such as cooked vegetables', 'Okra', 'Duckling or goose', 'Cucumbers', 'Grapes', 'Kefir (fermented milk)', 'Sour cream', 'Burritos']\n",
            "5005115 ['Melons', 'Quiche', 'Eclairs', 'Pears', 'Doughnuts', 'Croissants', 'Soy meat substitutes', 'Papaya', 'Broccoli', 'Salads', 'Cauliflower', 'Bread', 'Juice in cartons', 'Side dishes such as cooked vegetables', 'Okra', 'Duckling or goose', 'Cucumbers', 'Grapes', 'Kefir (fermented milk)', 'Sour cream']\n",
            "5005116 ['Melons', 'Quiche', 'Eclairs', 'Pears', 'Croissants', 'Soy meat substitutes', 'Papaya', 'Broccoli', 'Salads', 'Cauliflower', 'Bread', 'Juice in cartons', 'Side dishes such as cooked vegetables', 'Okra', 'Duckling or goose', 'Cucumbers', 'Grapes', 'Kefir (fermented milk)', 'Sour cream', 'Burritos']\n",
            "500521 ['Melons', 'Quiche', 'Eclairs', 'Pears', 'Doughnuts', 'Croissants', 'Soy meat substitutes', 'Papaya', 'Broccoli', 'Salads', 'Cauliflower', 'Bread', 'Side dishes such as cooked vegetables', 'Okra', 'Duckling or goose', 'Cucumbers', 'Grapes', 'Kefir (fermented milk)', 'Sour cream', 'Burritos']\n",
            "500522 ['Melons', 'Quiche', 'Eclairs', 'Pears', 'Doughnuts', 'Croissants', 'Soy meat substitutes', 'Papaya', 'Broccoli', 'Salads', 'Cauliflower', 'Bread', 'Juice in cartons', 'Side dishes such as cooked vegetables', 'Okra', 'Duckling or goose', 'Grapes', 'Kefir (fermented milk)', 'Sour cream', 'Burritos']\n",
            "500524 ['Melons', 'Quiche', 'Eclairs', 'Pears', 'Doughnuts', 'Croissants', 'Soy meat substitutes', 'Papaya', 'Broccoli', 'Salads', 'Cauliflower', 'Bread', 'Juice in cartons', 'Side dishes such as cooked vegetables', 'Okra', 'Duckling or goose', 'Cucumbers', 'Kefir (fermented milk)', 'Sour cream', 'Burritos']\n",
            "500525 ['Melons', 'Quiche', 'Eclairs', 'Pears', 'Doughnuts', 'Croissants', 'Soy meat substitutes', 'Papaya', 'Broccoli', 'Salads', 'Cauliflower', 'Bread', 'Juice in cartons', 'Side dishes such as cooked vegetables', 'Okra', 'Duckling or goose', 'Cucumbers', 'Grapes', 'Kefir (fermented milk)', 'Sour cream']\n",
            "500526 ['Melons', 'Quiche', 'Eclairs', 'Pears', 'Doughnuts', 'Croissants', 'Soy meat substitutes', 'Papaya', 'Broccoli', 'Salads', 'Cauliflower', 'Bread', 'Juice in cartons', 'Side dishes such as cooked vegetables', 'Okra', 'Duckling or goose', 'Cucumbers', 'Sour cream', 'Burritos', 'Pies']\n",
            "500527 ['Melons', 'Quiche', 'Pears', 'Doughnuts', 'Croissants', 'Soy meat substitutes', 'Papaya', 'Broccoli', 'Salads', 'Cauliflower', 'Bread', 'Juice in cartons', 'Side dishes such as cooked vegetables', 'Okra', 'Duckling or goose', 'Cucumbers', 'Grapes', 'Kefir (fermented milk)', 'Sour cream', 'Burritos']\n",
            "500528 ['Melons', 'Eclairs', 'Pears', 'Doughnuts', 'Croissants', 'Soy meat substitutes', 'Papaya', 'Broccoli', 'Salads', 'Cauliflower', 'Bread', 'Side dishes such as cooked vegetables', 'Okra', 'Duckling or goose', 'Cucumbers', 'Grapes', 'Kefir (fermented milk)', 'Sour cream', 'Burritos', 'Pies']\n",
            "500529 ['Melons', 'Quiche', 'Eclairs', 'Pears', 'Croissants', 'Soy meat substitutes', 'Papaya', 'Salads', 'Cauliflower', 'Bread', 'Juice in cartons', 'Side dishes such as cooked vegetables', 'Okra', 'Cucumbers', 'Grapes', 'Kefir (fermented milk)', 'Sour cream', 'Burritos', 'Pies', 'Radishes']\n",
            "5005210 ['Melons', 'Quiche', 'Eclairs', 'Pears', 'Doughnuts', 'Croissants', 'Soy meat substitutes', 'Papaya', 'Broccoli', 'Bread', 'Juice in cartons', 'Side dishes such as cooked vegetables', 'Okra', 'Duckling or goose', 'Cucumbers', 'Kefir (fermented milk)', 'Sour cream', 'Burritos', 'Radishes', 'Pastries']\n",
            "5005211 ['Melons', 'Quiche', 'Eclairs', 'Doughnuts', 'Soy meat substitutes', 'Papaya', 'Broccoli', 'Salads', 'Cauliflower', 'Bread', 'Juice in cartons', 'Side dishes such as cooked vegetables', 'Okra', 'Duckling or goose', 'Cucumbers', 'Grapes', 'Kefir (fermented milk)', 'Sour cream', 'Burritos', 'Pies']\n",
            "5005212 ['Melons', 'Quiche', 'Eclairs', 'Doughnuts', 'Croissants', 'Soy meat substitutes', 'Papaya', 'Broccoli', 'Salads', 'Cauliflower', 'Bread', 'Juice in cartons', 'Side dishes such as cooked vegetables', 'Okra', 'Duckling or goose', 'Grapes', 'Kefir (fermented milk)', 'Sour cream', 'Burritos', 'Radishes']\n",
            "5005213 ['Melons', 'Quiche', 'Doughnuts', 'Croissants', 'Soy meat substitutes', 'Papaya', 'Broccoli', 'Salads', 'Cauliflower', 'Bread', 'Juice in cartons', 'Side dishes such as cooked vegetables', 'Okra', 'Duckling or goose', 'Cucumbers', 'Grapes', 'Kefir (fermented milk)', 'Sour cream', 'Pies', 'Radishes']\n",
            "5005214 ['Melons', 'Quiche', 'Eclairs', 'Pears', 'Doughnuts', 'Croissants', 'Soy meat substitutes', 'Papaya', 'Salads', 'Cauliflower', 'Bread', 'Juice in cartons', 'Side dishes such as cooked vegetables', 'Okra', 'Duckling or goose', 'Cucumbers', 'Grapes', 'Kefir (fermented milk)', 'Sour cream', 'Burritos']\n",
            "500531 ['Melons', 'Quiche', 'Eclairs', 'Pears', 'Croissants', 'Soy meat substitutes', 'Papaya', 'Broccoli', 'Salads', 'Cauliflower', 'Juice in cartons', 'Side dishes such as cooked vegetables', 'Okra', 'Duckling or goose', 'Cucumbers', 'Grapes', 'Kefir (fermented milk)', 'Sour cream', 'Burritos', 'Pies']\n",
            "500532 ['Melons', 'Quiche', 'Eclairs', 'Croissants', 'Soy meat substitutes', 'Papaya', 'Broccoli', 'Salads', 'Cauliflower', 'Bread', 'Side dishes such as cooked vegetables', 'Okra', 'Duckling or goose', 'Cucumbers', 'Grapes', 'Kefir (fermented milk)', 'Sour cream', 'Burritos', 'Pies', 'Radishes']\n",
            "500533 ['Melons', 'Quiche', 'Eclairs', 'Pears', 'Doughnuts', 'Croissants', 'Soy meat substitutes', 'Papaya', 'Broccoli', 'Salads', 'Cauliflower', 'Bread', 'Juice in cartons', 'Side dishes such as cooked vegetables', 'Okra', 'Duckling or goose', 'Cucumbers', 'Grapes', 'Kefir (fermented milk)', 'Sour cream']\n",
            "500534 ['Melons', 'Quiche', 'Eclairs', 'Pears', 'Doughnuts', 'Croissants', 'Soy meat substitutes', 'Broccoli', 'Salads', 'Cauliflower', 'Bread', 'Juice in cartons', 'Side dishes such as cooked vegetables', 'Okra', 'Duckling or goose', 'Cucumbers', 'Grapes', 'Kefir (fermented milk)', 'Sour cream', 'Burritos']\n",
            "500535 ['Quiche', 'Eclairs', 'Pears', 'Doughnuts', 'Croissants', 'Papaya', 'Broccoli', 'Cauliflower', 'Bread', 'Juice in cartons', 'Side dishes such as cooked vegetables', 'Okra', 'Duckling or goose', 'Cucumbers', 'Kefir (fermented milk)', 'Sour cream', 'Burritos', 'Pies', 'Radishes', 'Pastries']\n",
            "500536 ['Melons', 'Quiche', 'Eclairs', 'Pears', 'Doughnuts', 'Croissants', 'Soy meat substitutes', 'Papaya', 'Broccoli', 'Salads', 'Cauliflower', 'Bread', 'Juice in cartons', 'Side dishes such as cooked vegetables', 'Okra', 'Duckling or goose', 'Cucumbers', 'Grapes', 'Kefir (fermented milk)', 'Sour cream']\n",
            "500537 ['Melons', 'Quiche', 'Eclairs', 'Doughnuts', 'Croissants', 'Soy meat substitutes', 'Papaya', 'Broccoli', 'Salads', 'Cauliflower', 'Bread', 'Juice in cartons', 'Side dishes such as cooked vegetables', 'Okra', 'Cucumbers', 'Grapes', 'Kefir (fermented milk)', 'Sour cream', 'Burritos', 'Pies']\n",
            "500538 ['Melons', 'Quiche', 'Eclairs', 'Pears', 'Doughnuts', 'Croissants', 'Soy meat substitutes', 'Papaya', 'Broccoli', 'Salads', 'Cauliflower', 'Juice in cartons', 'Side dishes such as cooked vegetables', 'Duckling or goose', 'Cucumbers', 'Grapes', 'Sour cream', 'Burritos', 'Pies', 'Radishes']\n",
            "500539 ['Quiche', 'Eclairs', 'Pears', 'Croissants', 'Papaya', 'Broccoli', 'Salads', 'Cauliflower', 'Bread', 'Juice in cartons', 'Side dishes such as cooked vegetables', 'Okra', 'Duckling or goose', 'Cucumbers', 'Grapes', 'Kefir (fermented milk)', 'Sour cream', 'Pies', 'Pastries', 'Pancakes']\n",
            "5005310 ['Melons', 'Quiche', 'Eclairs', 'Pears', 'Doughnuts', 'Croissants', 'Soy meat substitutes', 'Papaya', 'Broccoli', 'Cauliflower', 'Bread', 'Juice in cartons', 'Side dishes such as cooked vegetables', 'Okra', 'Duckling or goose', 'Cucumbers', 'Grapes', 'Kefir (fermented milk)', 'Sour cream', 'Burritos']\n",
            "5005312 ['Melons', 'Quiche', 'Eclairs', 'Pears', 'Doughnuts', 'Soy meat substitutes', 'Broccoli', 'Salads', 'Bread', 'Side dishes such as cooked vegetables', 'Okra', 'Duckling or goose', 'Cucumbers', 'Grapes', 'Kefir (fermented milk)', 'Sour cream', 'Burritos', 'Pies', 'Radishes', 'Pastries']\n",
            "5005313 ['Melons', 'Quiche', 'Eclairs', 'Doughnuts', 'Croissants', 'Soy meat substitutes', 'Papaya', 'Broccoli', 'Salads', 'Cauliflower', 'Juice in cartons', 'Side dishes such as cooked vegetables', 'Okra', 'Duckling or goose', 'Cucumbers', 'Grapes', 'Kefir (fermented milk)', 'Sour cream', 'Burritos', 'Radishes']\n",
            "5005314 ['Melons', 'Quiche', 'Eclairs', 'Pears', 'Doughnuts', 'Croissants', 'Soy meat substitutes', 'Papaya', 'Broccoli', 'Salads', 'Cauliflower', 'Bread', 'Juice in cartons', 'Side dishes such as cooked vegetables', 'Okra', 'Duckling or goose', 'Cucumbers', 'Grapes', 'Kefir (fermented milk)', 'Sour cream']\n",
            "5005315 ['Melons', 'Quiche', 'Eclairs', 'Pears', 'Doughnuts', 'Croissants', 'Soy meat substitutes', 'Papaya', 'Salads', 'Cauliflower', 'Bread', 'Juice in cartons', 'Side dishes such as cooked vegetables', 'Okra', 'Duckling or goose', 'Cucumbers', 'Grapes', 'Kefir (fermented milk)', 'Sour cream', 'Burritos']\n",
            "500541 ['Melons', 'Quiche', 'Eclairs', 'Pears', 'Doughnuts', 'Croissants', 'Soy meat substitutes', 'Broccoli', 'Salads', 'Cauliflower', 'Bread', 'Juice in cartons', 'Side dishes such as cooked vegetables', 'Okra', 'Duckling or goose', 'Cucumbers', 'Grapes', 'Kefir (fermented milk)', 'Sour cream', 'Burritos']\n",
            "500542 ['Quiche', 'Eclairs', 'Pears', 'Doughnuts', 'Croissants', 'Soy meat substitutes', 'Papaya', 'Broccoli', 'Cauliflower', 'Juice in cartons', 'Side dishes such as cooked vegetables', 'Okra', 'Kefir (fermented milk)', 'Sour cream', 'Burritos', 'Pies', 'Radishes', 'Pastries', 'Pancakes', 'Greens']\n",
            "500543 ['Melons', 'Quiche', 'Eclairs', 'Pears', 'Doughnuts', 'Croissants', 'Soy meat substitutes', 'Papaya', 'Broccoli', 'Salads', 'Cauliflower', 'Bread', 'Juice in cartons', 'Side dishes such as cooked vegetables', 'Okra', 'Duckling or goose', 'Cucumbers', 'Grapes', 'Kefir (fermented milk)', 'Sour cream']\n",
            "500544 ['Melons', 'Quiche', 'Eclairs', 'Pears', 'Doughnuts', 'Croissants', 'Soy meat substitutes', 'Broccoli', 'Salads', 'Cauliflower', 'Bread', 'Juice in cartons', 'Side dishes such as cooked vegetables', 'Okra', 'Duckling or goose', 'Kefir (fermented milk)', 'Sour cream', 'Burritos', 'Pies', 'Radishes']\n",
            "500545 ['Melons', 'Quiche', 'Eclairs', 'Pears', 'Croissants', 'Soy meat substitutes', 'Papaya', 'Broccoli', 'Salads', 'Cauliflower', 'Bread', 'Juice in cartons', 'Okra', 'Duckling or goose', 'Cucumbers', 'Kefir (fermented milk)', 'Sour cream', 'Burritos', 'Pies', 'Radishes']\n",
            "500546 ['Melons', 'Quiche', 'Eclairs', 'Pears', 'Doughnuts', 'Croissants', 'Soy meat substitutes', 'Papaya', 'Broccoli', 'Cauliflower', 'Bread', 'Juice in cartons', 'Side dishes such as cooked vegetables', 'Okra', 'Duckling or goose', 'Cucumbers', 'Grapes', 'Kefir (fermented milk)', 'Burritos', 'Radishes']\n",
            "500547 ['Melons', 'Quiche', 'Eclairs', 'Pears', 'Doughnuts', 'Soy meat substitutes', 'Papaya', 'Broccoli', 'Salads', 'Cauliflower', 'Bread', 'Juice in cartons', 'Side dishes such as cooked vegetables', 'Okra', 'Duckling or goose', 'Cucumbers', 'Grapes', 'Kefir (fermented milk)', 'Sour cream', 'Burritos']\n",
            "500548 ['Melons', 'Quiche', 'Eclairs', 'Pears', 'Croissants', 'Papaya', 'Broccoli', 'Salads', 'Cauliflower', 'Bread', 'Juice in cartons', 'Side dishes such as cooked vegetables', 'Okra', 'Duckling or goose', 'Cucumbers', 'Grapes', 'Kefir (fermented milk)', 'Sour cream', 'Burritos', 'Radishes']\n",
            "500549 ['Melons', 'Quiche', 'Eclairs', 'Pears', 'Doughnuts', 'Croissants', 'Soy meat substitutes', 'Broccoli', 'Salads', 'Cauliflower', 'Bread', 'Juice in cartons', 'Side dishes such as cooked vegetables', 'Okra', 'Duckling or goose', 'Cucumbers', 'Grapes', 'Kefir (fermented milk)', 'Sour cream', 'Burritos']\n",
            "5005410 ['Melons', 'Quiche', 'Eclairs', 'Pears', 'Doughnuts', 'Croissants', 'Soy meat substitutes', 'Papaya', 'Broccoli', 'Salads', 'Cauliflower', 'Bread', 'Juice in cartons', 'Side dishes such as cooked vegetables', 'Okra', 'Duckling or goose', 'Cucumbers', 'Grapes', 'Kefir (fermented milk)', 'Sour cream']\n",
            "5005411 ['Melons', 'Quiche', 'Eclairs', 'Pears', 'Doughnuts', 'Croissants', 'Soy meat substitutes', 'Papaya', 'Broccoli', 'Salads', 'Cauliflower', 'Bread', 'Juice in cartons', 'Side dishes such as cooked vegetables', 'Okra', 'Duckling or goose', 'Cucumbers', 'Kefir (fermented milk)', 'Sour cream', 'Burritos']\n",
            "5005412 ['Melons', 'Quiche', 'Eclairs', 'Pears', 'Doughnuts', 'Croissants', 'Soy meat substitutes', 'Broccoli', 'Salads', 'Cauliflower', 'Bread', 'Juice in cartons', 'Okra', 'Duckling or goose', 'Cucumbers', 'Grapes', 'Kefir (fermented milk)', 'Sour cream', 'Burritos', 'Pies']\n",
            "500551 ['Melons', 'Quiche', 'Eclairs', 'Pears', 'Doughnuts', 'Croissants', 'Soy meat substitutes', 'Papaya', 'Broccoli', 'Salads', 'Cauliflower', 'Bread', 'Side dishes such as cooked vegetables', 'Okra', 'Duckling or goose', 'Cucumbers', 'Grapes', 'Kefir (fermented milk)', 'Sour cream', 'Burritos']\n",
            "500553 ['Melons', 'Quiche', 'Eclairs', 'Pears', 'Doughnuts', 'Croissants', 'Soy meat substitutes', 'Papaya', 'Broccoli', 'Salads', 'Bread', 'Juice in cartons', 'Side dishes such as cooked vegetables', 'Okra', 'Duckling or goose', 'Cucumbers', 'Grapes', 'Kefir (fermented milk)', 'Sour cream', 'Burritos']\n",
            "500554 ['Melons', 'Quiche', 'Eclairs', 'Pears', 'Doughnuts', 'Croissants', 'Soy meat substitutes', 'Papaya', 'Broccoli', 'Salads', 'Cauliflower', 'Bread', 'Juice in cartons', 'Side dishes such as cooked vegetables', 'Okra', 'Duckling or goose', 'Cucumbers', 'Grapes', 'Kefir (fermented milk)', 'Sour cream']\n",
            "500555 ['Melons', 'Quiche', 'Eclairs', 'Pears', 'Doughnuts', 'Croissants', 'Soy meat substitutes', 'Papaya', 'Broccoli', 'Salads', 'Cauliflower', 'Bread', 'Juice in cartons', 'Side dishes such as cooked vegetables', 'Okra', 'Duckling or goose', 'Cucumbers', 'Grapes', 'Kefir (fermented milk)', 'Sour cream']\n",
            "500556 ['Melons', 'Quiche', 'Eclairs', 'Pears', 'Doughnuts', 'Croissants', 'Soy meat substitutes', 'Papaya', 'Broccoli', 'Salads', 'Cauliflower', 'Bread', 'Juice in cartons', 'Side dishes such as cooked vegetables', 'Okra', 'Duckling or goose', 'Cucumbers', 'Grapes', 'Kefir (fermented milk)', 'Burritos']\n",
            "500557 ['Melons', 'Quiche', 'Eclairs', 'Pears', 'Doughnuts', 'Croissants', 'Soy meat substitutes', 'Papaya', 'Broccoli', 'Salads', 'Cauliflower', 'Bread', 'Juice in cartons', 'Side dishes such as cooked vegetables', 'Okra', 'Duckling or goose', 'Cucumbers', 'Grapes', 'Kefir (fermented milk)', 'Sour cream']\n",
            "500558 ['Melons', 'Quiche', 'Eclairs', 'Pears', 'Doughnuts', 'Croissants', 'Soy meat substitutes', 'Papaya', 'Broccoli', 'Salads', 'Cauliflower', 'Bread', 'Juice in cartons', 'Side dishes such as cooked vegetables', 'Okra', 'Duckling or goose', 'Cucumbers', 'Grapes', 'Kefir (fermented milk)', 'Sour cream']\n",
            "500559 ['Melons', 'Quiche', 'Eclairs', 'Pears', 'Doughnuts', 'Croissants', 'Soy meat substitutes', 'Papaya', 'Broccoli', 'Salads', 'Cauliflower', 'Bread', 'Juice in cartons', 'Side dishes such as cooked vegetables', 'Okra', 'Duckling or goose', 'Cucumbers', 'Grapes', 'Kefir (fermented milk)', 'Sour cream']\n",
            "5005510 ['Melons', 'Quiche', 'Eclairs', 'Pears', 'Doughnuts', 'Croissants', 'Soy meat substitutes', 'Papaya', 'Broccoli', 'Salads', 'Cauliflower', 'Bread', 'Juice in cartons', 'Side dishes such as cooked vegetables', 'Okra', 'Duckling or goose', 'Cucumbers', 'Grapes', 'Kefir (fermented milk)', 'Burritos']\n",
            "5005511 ['Melons', 'Quiche', 'Eclairs', 'Pears', 'Doughnuts', 'Croissants', 'Soy meat substitutes', 'Papaya', 'Broccoli', 'Salads', 'Cauliflower', 'Bread', 'Juice in cartons', 'Side dishes such as cooked vegetables', 'Okra', 'Duckling or goose', 'Cucumbers', 'Grapes', 'Kefir (fermented milk)', 'Sour cream']\n",
            "5005512 ['Melons', 'Quiche', 'Eclairs', 'Pears', 'Doughnuts', 'Croissants', 'Soy meat substitutes', 'Papaya', 'Broccoli', 'Cauliflower', 'Bread', 'Juice in cartons', 'Side dishes such as cooked vegetables', 'Okra', 'Duckling or goose', 'Grapes', 'Kefir (fermented milk)', 'Sour cream', 'Burritos', 'Radishes']\n",
            "500561 ['Melons', 'Eclairs', 'Pears', 'Doughnuts', 'Croissants', 'Soy meat substitutes', 'Papaya', 'Broccoli', 'Salads', 'Cauliflower', 'Bread', 'Juice in cartons', 'Side dishes such as cooked vegetables', 'Okra', 'Cucumbers', 'Grapes', 'Kefir (fermented milk)', 'Sour cream', 'Burritos', 'Pies']\n",
            "500562 ['Quiche', 'Eclairs', 'Pears', 'Doughnuts', 'Croissants', 'Soy meat substitutes', 'Papaya', 'Broccoli', 'Salads', 'Cauliflower', 'Bread', 'Juice in cartons', 'Side dishes such as cooked vegetables', 'Okra', 'Duckling or goose', 'Cucumbers', 'Grapes', 'Kefir (fermented milk)', 'Sour cream', 'Burritos']\n",
            "500563 ['Melons', 'Quiche', 'Eclairs', 'Pears', 'Doughnuts', 'Croissants', 'Soy meat substitutes', 'Papaya', 'Broccoli', 'Salads', 'Cauliflower', 'Bread', 'Juice in cartons', 'Side dishes such as cooked vegetables', 'Okra', 'Cucumbers', 'Grapes', 'Kefir (fermented milk)', 'Sour cream', 'Burritos']\n",
            "500564 ['Melons', 'Quiche', 'Eclairs', 'Pears', 'Doughnuts', 'Croissants', 'Soy meat substitutes', 'Broccoli', 'Salads', 'Cauliflower', 'Bread', 'Juice in cartons', 'Side dishes such as cooked vegetables', 'Okra', 'Duckling or goose', 'Cucumbers', 'Grapes', 'Kefir (fermented milk)', 'Sour cream', 'Burritos']\n",
            "500566 ['Melons', 'Quiche', 'Eclairs', 'Pears', 'Doughnuts', 'Croissants', 'Soy meat substitutes', 'Papaya', 'Broccoli', 'Salads', 'Cauliflower', 'Juice in cartons', 'Okra', 'Duckling or goose', 'Cucumbers', 'Kefir (fermented milk)', 'Sour cream', 'Burritos', 'Pies', 'Radishes']\n",
            "500567 ['Melons', 'Quiche', 'Eclairs', 'Pears', 'Croissants', 'Soy meat substitutes', 'Papaya', 'Broccoli', 'Salads', 'Cauliflower', 'Bread', 'Juice in cartons', 'Side dishes such as cooked vegetables', 'Okra', 'Duckling or goose', 'Cucumbers', 'Grapes', 'Sour cream', 'Burritos', 'Pies']\n",
            "500568 ['Melons', 'Quiche', 'Eclairs', 'Pears', 'Doughnuts', 'Soy meat substitutes', 'Papaya', 'Broccoli', 'Salads', 'Cauliflower', 'Bread', 'Juice in cartons', 'Side dishes such as cooked vegetables', 'Okra', 'Duckling or goose', 'Cucumbers', 'Grapes', 'Kefir (fermented milk)', 'Sour cream', 'Burritos']\n",
            "500569 ['Melons', 'Quiche', 'Eclairs', 'Pears', 'Doughnuts', 'Croissants', 'Soy meat substitutes', 'Papaya', 'Broccoli', 'Salads', 'Cauliflower', 'Bread', 'Juice in cartons', 'Side dishes such as cooked vegetables', 'Okra', 'Duckling or goose', 'Cucumbers', 'Grapes', 'Kefir (fermented milk)', 'Sour cream']\n",
            "5005610 ['Melons', 'Quiche', 'Eclairs', 'Pears', 'Doughnuts', 'Croissants', 'Soy meat substitutes', 'Papaya', 'Broccoli', 'Salads', 'Cauliflower', 'Bread', 'Juice in cartons', 'Side dishes such as cooked vegetables', 'Okra', 'Duckling or goose', 'Cucumbers', 'Grapes', 'Kefir (fermented milk)', 'Sour cream']\n",
            "5005611 ['Melons', 'Quiche', 'Eclairs', 'Pears', 'Doughnuts', 'Croissants', 'Soy meat substitutes', 'Broccoli', 'Salads', 'Cauliflower', 'Bread', 'Side dishes such as cooked vegetables', 'Okra', 'Duckling or goose', 'Cucumbers', 'Kefir (fermented milk)', 'Sour cream', 'Burritos', 'Pies', 'Pastries']\n",
            "5005612 ['Melons', 'Quiche', 'Eclairs', 'Pears', 'Doughnuts', 'Croissants', 'Soy meat substitutes', 'Papaya', 'Broccoli', 'Salads', 'Cauliflower', 'Bread', 'Juice in cartons', 'Side dishes such as cooked vegetables', 'Okra', 'Duckling or goose', 'Cucumbers', 'Grapes', 'Kefir (fermented milk)', 'Sour cream']\n",
            "5005613 ['Melons', 'Quiche', 'Eclairs', 'Pears', 'Doughnuts', 'Croissants', 'Soy meat substitutes', 'Papaya', 'Broccoli', 'Salads', 'Cauliflower', 'Bread', 'Juice in cartons', 'Side dishes such as cooked vegetables', 'Okra', 'Duckling or goose', 'Cucumbers', 'Grapes', 'Kefir (fermented milk)', 'Sour cream']\n",
            "5005614 ['Melons', 'Eclairs', 'Pears', 'Doughnuts', 'Croissants', 'Soy meat substitutes', 'Papaya', 'Broccoli', 'Salads', 'Cauliflower', 'Bread', 'Juice in cartons', 'Side dishes such as cooked vegetables', 'Okra', 'Duckling or goose', 'Grapes', 'Kefir (fermented milk)', 'Sour cream', 'Burritos', 'Pies']\n",
            "5005616 ['Melons', 'Quiche', 'Eclairs', 'Pears', 'Doughnuts', 'Croissants', 'Soy meat substitutes', 'Papaya', 'Broccoli', 'Salads', 'Cauliflower', 'Bread', 'Juice in cartons', 'Side dishes such as cooked vegetables', 'Okra', 'Duckling or goose', 'Cucumbers', 'Grapes', 'Kefir (fermented milk)', 'Sour cream']\n",
            "5005617 ['Melons', 'Quiche', 'Eclairs', 'Pears', 'Doughnuts', 'Croissants', 'Soy meat substitutes', 'Papaya', 'Broccoli', 'Salads', 'Cauliflower', 'Bread', 'Juice in cartons', 'Side dishes such as cooked vegetables', 'Okra', 'Duckling or goose', 'Cucumbers', 'Grapes', 'Kefir (fermented milk)', 'Sour cream']\n",
            "500571 ['Melons', 'Quiche', 'Eclairs', 'Pears', 'Doughnuts', 'Croissants', 'Soy meat substitutes', 'Papaya', 'Broccoli', 'Salads', 'Cauliflower', 'Bread', 'Juice in cartons', 'Side dishes such as cooked vegetables', 'Duckling or goose', 'Cucumbers', 'Grapes', 'Kefir (fermented milk)', 'Sour cream', 'Burritos']\n",
            "500572 ['Melons', 'Quiche', 'Eclairs', 'Pears', 'Doughnuts', 'Croissants', 'Soy meat substitutes', 'Papaya', 'Broccoli', 'Salads', 'Bread', 'Juice in cartons', 'Side dishes such as cooked vegetables', 'Okra', 'Duckling or goose', 'Cucumbers', 'Grapes', 'Kefir (fermented milk)', 'Sour cream', 'Burritos']\n",
            "500573 ['Melons', 'Quiche', 'Eclairs', 'Pears', 'Doughnuts', 'Croissants', 'Soy meat substitutes', 'Papaya', 'Broccoli', 'Salads', 'Cauliflower', 'Bread', 'Juice in cartons', 'Side dishes such as cooked vegetables', 'Okra', 'Duckling or goose', 'Cucumbers', 'Grapes', 'Kefir (fermented milk)', 'Sour cream']\n",
            "500574 ['Melons', 'Quiche', 'Eclairs', 'Pears', 'Doughnuts', 'Croissants', 'Soy meat substitutes', 'Papaya', 'Broccoli', 'Cauliflower', 'Bread', 'Juice in cartons', 'Side dishes such as cooked vegetables', 'Okra', 'Duckling or goose', 'Cucumbers', 'Grapes', 'Kefir (fermented milk)', 'Sour cream', 'Burritos']\n",
            "500575 ['Melons', 'Quiche', 'Eclairs', 'Pears', 'Doughnuts', 'Croissants', 'Soy meat substitutes', 'Papaya', 'Broccoli', 'Salads', 'Cauliflower', 'Bread', 'Side dishes such as cooked vegetables', 'Okra', 'Duckling or goose', 'Cucumbers', 'Grapes', 'Kefir (fermented milk)', 'Sour cream', 'Burritos']\n",
            "500576 ['Melons', 'Quiche', 'Eclairs', 'Pears', 'Doughnuts', 'Croissants', 'Soy meat substitutes', 'Papaya', 'Broccoli', 'Salads', 'Cauliflower', 'Bread', 'Juice in cartons', 'Side dishes such as cooked vegetables', 'Okra', 'Duckling or goose', 'Cucumbers', 'Grapes', 'Kefir (fermented milk)', 'Sour cream']\n",
            "500577 ['Quiche', 'Eclairs', 'Pears', 'Doughnuts', 'Croissants', 'Soy meat substitutes', 'Papaya', 'Broccoli', 'Salads', 'Cauliflower', 'Bread', 'Juice in cartons', 'Side dishes such as cooked vegetables', 'Okra', 'Duckling or goose', 'Cucumbers', 'Grapes', 'Kefir (fermented milk)', 'Sour cream', 'Burritos']\n",
            "500578 ['Melons', 'Quiche', 'Eclairs', 'Pears', 'Doughnuts', 'Croissants', 'Soy meat substitutes', 'Papaya', 'Broccoli', 'Salads', 'Cauliflower', 'Bread', 'Juice in cartons', 'Side dishes such as cooked vegetables', 'Okra', 'Duckling or goose', 'Cucumbers', 'Grapes', 'Kefir (fermented milk)', 'Sour cream']\n",
            "500579 ['Melons', 'Quiche', 'Eclairs', 'Pears', 'Doughnuts', 'Croissants', 'Soy meat substitutes', 'Papaya', 'Broccoli', 'Salads', 'Cauliflower', 'Side dishes such as cooked vegetables', 'Okra', 'Cucumbers', 'Grapes', 'Kefir (fermented milk)', 'Burritos', 'Radishes', 'Pastries', 'Pancakes']\n",
            "5005710 ['Melons', 'Quiche', 'Eclairs', 'Pears', 'Doughnuts', 'Croissants', 'Soy meat substitutes', 'Papaya', 'Broccoli', 'Salads', 'Cauliflower', 'Bread', 'Juice in cartons', 'Side dishes such as cooked vegetables', 'Okra', 'Duckling or goose', 'Cucumbers', 'Grapes', 'Kefir (fermented milk)', 'Sour cream']\n",
            "5005711 ['Melons', 'Quiche', 'Eclairs', 'Pears', 'Doughnuts', 'Croissants', 'Soy meat substitutes', 'Broccoli', 'Salads', 'Cauliflower', 'Bread', 'Juice in cartons', 'Side dishes such as cooked vegetables', 'Okra', 'Duckling or goose', 'Cucumbers', 'Grapes', 'Kefir (fermented milk)', 'Sour cream', 'Burritos']\n",
            "5005712 ['Melons', 'Quiche', 'Eclairs', 'Pears', 'Croissants', 'Soy meat substitutes', 'Papaya', 'Broccoli', 'Salads', 'Cauliflower', 'Bread', 'Juice in cartons', 'Side dishes such as cooked vegetables', 'Okra', 'Duckling or goose', 'Cucumbers', 'Grapes', 'Kefir (fermented milk)', 'Sour cream', 'Burritos']\n",
            "5005713 ['Melons', 'Quiche', 'Eclairs', 'Pears', 'Doughnuts', 'Croissants', 'Papaya', 'Broccoli', 'Salads', 'Cauliflower', 'Bread', 'Juice in cartons', 'Side dishes such as cooked vegetables', 'Duckling or goose', 'Cucumbers', 'Grapes', 'Kefir (fermented milk)', 'Sour cream', 'Burritos', 'Pies']\n",
            "500581 ['Melons', 'Quiche', 'Eclairs', 'Pears', 'Croissants', 'Soy meat substitutes', 'Broccoli', 'Salads', 'Cauliflower', 'Bread', 'Side dishes such as cooked vegetables', 'Okra', 'Duckling or goose', 'Cucumbers', 'Grapes', 'Kefir (fermented milk)', 'Sour cream', 'Burritos', 'Radishes', 'Pastries']\n",
            "500582 ['Melons', 'Quiche', 'Eclairs', 'Pears', 'Doughnuts', 'Croissants', 'Soy meat substitutes', 'Papaya', 'Broccoli', 'Bread', 'Juice in cartons', 'Side dishes such as cooked vegetables', 'Okra', 'Duckling or goose', 'Cucumbers', 'Kefir (fermented milk)', 'Sour cream', 'Burritos', 'Pies', 'Radishes']\n",
            "500583 ['Melons', 'Quiche', 'Eclairs', 'Pears', 'Croissants', 'Soy meat substitutes', 'Papaya', 'Broccoli', 'Salads', 'Cauliflower', 'Bread', 'Juice in cartons', 'Side dishes such as cooked vegetables', 'Okra', 'Duckling or goose', 'Cucumbers', 'Kefir (fermented milk)', 'Sour cream', 'Burritos', 'Pies']\n",
            "500584 ['Melons', 'Quiche', 'Eclairs', 'Pears', 'Doughnuts', 'Croissants', 'Soy meat substitutes', 'Papaya', 'Broccoli', 'Salads', 'Bread', 'Juice in cartons', 'Side dishes such as cooked vegetables', 'Okra', 'Duckling or goose', 'Grapes', 'Kefir (fermented milk)', 'Sour cream', 'Burritos', 'Pies']\n",
            "500585 ['Melons', 'Quiche', 'Eclairs', 'Pears', 'Doughnuts', 'Croissants', 'Soy meat substitutes', 'Papaya', 'Broccoli', 'Salads', 'Cauliflower', 'Bread', 'Juice in cartons', 'Side dishes such as cooked vegetables', 'Okra', 'Duckling or goose', 'Cucumbers', 'Grapes', 'Kefir (fermented milk)', 'Sour cream']\n",
            "500586 ['Melons', 'Quiche', 'Eclairs', 'Doughnuts', 'Croissants', 'Soy meat substitutes', 'Papaya', 'Broccoli', 'Salads', 'Cauliflower', 'Bread', 'Juice in cartons', 'Okra', 'Duckling or goose', 'Cucumbers', 'Grapes', 'Kefir (fermented milk)', 'Sour cream', 'Burritos', 'Pies']\n",
            "500587 ['Melons', 'Quiche', 'Eclairs', 'Pears', 'Doughnuts', 'Croissants', 'Soy meat substitutes', 'Papaya', 'Broccoli', 'Salads', 'Cauliflower', 'Bread', 'Juice in cartons', 'Side dishes such as cooked vegetables', 'Okra', 'Duckling or goose', 'Cucumbers', 'Grapes', 'Kefir (fermented milk)', 'Sour cream']\n",
            "500588 ['Melons', 'Quiche', 'Eclairs', 'Pears', 'Doughnuts', 'Croissants', 'Soy meat substitutes', 'Papaya', 'Broccoli', 'Salads', 'Cauliflower', 'Bread', 'Juice in cartons', 'Side dishes such as cooked vegetables', 'Okra', 'Duckling or goose', 'Cucumbers', 'Kefir (fermented milk)', 'Sour cream', 'Burritos']\n",
            "500589 ['Melons', 'Quiche', 'Eclairs', 'Pears', 'Croissants', 'Soy meat substitutes', 'Papaya', 'Broccoli', 'Salads', 'Cauliflower', 'Bread', 'Juice in cartons', 'Side dishes such as cooked vegetables', 'Okra', 'Duckling or goose', 'Cucumbers', 'Grapes', 'Kefir (fermented milk)', 'Sour cream', 'Burritos']\n",
            "5005810 ['Melons', 'Quiche', 'Eclairs', 'Pears', 'Doughnuts', 'Croissants', 'Papaya', 'Broccoli', 'Salads', 'Cauliflower', 'Juice in cartons', 'Okra', 'Cucumbers', 'Grapes', 'Kefir (fermented milk)', 'Sour cream', 'Burritos', 'Pies', 'Radishes', 'Pastries']\n",
            "5005811 ['Quiche', 'Eclairs', 'Pears', 'Doughnuts', 'Croissants', 'Soy meat substitutes', 'Papaya', 'Broccoli', 'Salads', 'Bread', 'Juice in cartons', 'Side dishes such as cooked vegetables', 'Okra', 'Duckling or goose', 'Cucumbers', 'Grapes', 'Kefir (fermented milk)', 'Sour cream', 'Burritos', 'Pies']\n",
            "500591 ['Melons', 'Quiche', 'Eclairs', 'Pears', 'Doughnuts', 'Croissants', 'Soy meat substitutes', 'Papaya', 'Broccoli', 'Salads', 'Cauliflower', 'Bread', 'Juice in cartons', 'Side dishes such as cooked vegetables', 'Okra', 'Duckling or goose', 'Cucumbers', 'Grapes', 'Kefir (fermented milk)', 'Sour cream']\n",
            "500592 ['Melons', 'Quiche', 'Eclairs', 'Pears', 'Doughnuts', 'Croissants', 'Soy meat substitutes', 'Broccoli', 'Salads', 'Cauliflower', 'Juice in cartons', 'Side dishes such as cooked vegetables', 'Okra', 'Duckling or goose', 'Cucumbers', 'Grapes', 'Sour cream', 'Burritos', 'Pies', 'Radishes']\n",
            "500593 ['Melons', 'Quiche', 'Eclairs', 'Pears', 'Croissants', 'Soy meat substitutes', 'Papaya', 'Broccoli', 'Salads', 'Cauliflower', 'Bread', 'Juice in cartons', 'Side dishes such as cooked vegetables', 'Okra', 'Duckling or goose', 'Cucumbers', 'Grapes', 'Kefir (fermented milk)', 'Sour cream', 'Burritos']\n",
            "500594 ['Melons', 'Quiche', 'Eclairs', 'Pears', 'Doughnuts', 'Croissants', 'Soy meat substitutes', 'Broccoli', 'Salads', 'Cauliflower', 'Bread', 'Juice in cartons', 'Side dishes such as cooked vegetables', 'Okra', 'Duckling or goose', 'Cucumbers', 'Grapes', 'Kefir (fermented milk)', 'Sour cream', 'Burritos']\n",
            "500595 ['Melons', 'Eclairs', 'Pears', 'Doughnuts', 'Croissants', 'Soy meat substitutes', 'Papaya', 'Broccoli', 'Salads', 'Cauliflower', 'Bread', 'Juice in cartons', 'Side dishes such as cooked vegetables', 'Okra', 'Duckling or goose', 'Cucumbers', 'Kefir (fermented milk)', 'Sour cream', 'Burritos', 'Pies']\n",
            "500596 ['Melons', 'Eclairs', 'Pears', 'Doughnuts', 'Croissants', 'Soy meat substitutes', 'Papaya', 'Broccoli', 'Salads', 'Cauliflower', 'Bread', 'Juice in cartons', 'Side dishes such as cooked vegetables', 'Okra', 'Duckling or goose', 'Cucumbers', 'Grapes', 'Kefir (fermented milk)', 'Sour cream', 'Burritos']\n",
            "500597 ['Melons', 'Quiche', 'Eclairs', 'Pears', 'Doughnuts', 'Soy meat substitutes', 'Papaya', 'Broccoli', 'Salads', 'Cauliflower', 'Bread', 'Juice in cartons', 'Side dishes such as cooked vegetables', 'Okra', 'Duckling or goose', 'Cucumbers', 'Grapes', 'Kefir (fermented milk)', 'Sour cream', 'Burritos']\n",
            "500598 ['Quiche', 'Eclairs', 'Pears', 'Croissants', 'Soy meat substitutes', 'Papaya', 'Broccoli', 'Salads', 'Cauliflower', 'Bread', 'Juice in cartons', 'Okra', 'Duckling or goose', 'Cucumbers', 'Grapes', 'Kefir (fermented milk)', 'Sour cream', 'Burritos', 'Pies', 'Radishes']\n",
            "500599 ['Melons', 'Quiche', 'Eclairs', 'Pears', 'Doughnuts', 'Croissants', 'Soy meat substitutes', 'Broccoli', 'Salads', 'Cauliflower', 'Bread', 'Juice in cartons', 'Side dishes such as cooked vegetables', 'Duckling or goose', 'Cucumbers', 'Grapes', 'Kefir (fermented milk)', 'Sour cream', 'Burritos', 'Radishes']\n",
            "5005910 ['Melons', 'Quiche', 'Eclairs', 'Pears', 'Doughnuts', 'Croissants', 'Soy meat substitutes', 'Papaya', 'Broccoli', 'Salads', 'Cauliflower', 'Juice in cartons', 'Side dishes such as cooked vegetables', 'Okra', 'Duckling or goose', 'Cucumbers', 'Grapes', 'Kefir (fermented milk)', 'Sour cream', 'Burritos']\n",
            "5005911 ['Melons', 'Quiche', 'Eclairs', 'Pears', 'Doughnuts', 'Croissants', 'Soy meat substitutes', 'Papaya', 'Salads', 'Cauliflower', 'Bread', 'Juice in cartons', 'Side dishes such as cooked vegetables', 'Okra', 'Duckling or goose', 'Cucumbers', 'Grapes', 'Kefir (fermented milk)', 'Sour cream', 'Burritos']\n",
            "500601 ['Melons', 'Quiche', 'Eclairs', 'Pears', 'Doughnuts', 'Croissants', 'Soy meat substitutes', 'Papaya', 'Broccoli', 'Salads', 'Cauliflower', 'Bread', 'Juice in cartons', 'Okra', 'Duckling or goose', 'Cucumbers', 'Kefir (fermented milk)', 'Sour cream', 'Burritos', 'Radishes']\n",
            "500602 ['Melons', 'Quiche', 'Eclairs', 'Pears', 'Soy meat substitutes', 'Papaya', 'Broccoli', 'Cauliflower', 'Bread', 'Juice in cartons', 'Side dishes such as cooked vegetables', 'Okra', 'Cucumbers', 'Grapes', 'Kefir (fermented milk)', 'Sour cream', 'Burritos', 'Pies', 'Radishes', 'Pastries']\n",
            "500603 ['Eclairs', 'Pears', 'Doughnuts', 'Croissants', 'Soy meat substitutes', 'Papaya', 'Broccoli', 'Salads', 'Cauliflower', 'Bread', 'Juice in cartons', 'Side dishes such as cooked vegetables', 'Okra', 'Duckling or goose', 'Cucumbers', 'Grapes', 'Kefir (fermented milk)', 'Sour cream', 'Burritos', 'Pies']\n",
            "500604 ['Melons', 'Quiche', 'Eclairs', 'Pears', 'Doughnuts', 'Croissants', 'Soy meat substitutes', 'Papaya', 'Broccoli', 'Salads', 'Cauliflower', 'Bread', 'Juice in cartons', 'Side dishes such as cooked vegetables', 'Okra', 'Duckling or goose', 'Cucumbers', 'Grapes', 'Kefir (fermented milk)', 'Sour cream']\n",
            "500605 ['Melons', 'Quiche', 'Eclairs', 'Pears', 'Doughnuts', 'Croissants', 'Soy meat substitutes', 'Papaya', 'Broccoli', 'Salads', 'Cauliflower', 'Bread', 'Juice in cartons', 'Side dishes such as cooked vegetables', 'Okra', 'Duckling or goose', 'Cucumbers', 'Grapes', 'Kefir (fermented milk)', 'Sour cream']\n",
            "500606 ['Melons', 'Quiche', 'Eclairs', 'Pears', 'Doughnuts', 'Croissants', 'Soy meat substitutes', 'Broccoli', 'Salads', 'Cauliflower', 'Juice in cartons', 'Side dishes such as cooked vegetables', 'Okra', 'Duckling or goose', 'Cucumbers', 'Grapes', 'Kefir (fermented milk)', 'Sour cream', 'Burritos', 'Pies']\n",
            "500607 ['Melons', 'Quiche', 'Eclairs', 'Pears', 'Doughnuts', 'Croissants', 'Soy meat substitutes', 'Papaya', 'Broccoli', 'Salads', 'Cauliflower', 'Juice in cartons', 'Side dishes such as cooked vegetables', 'Okra', 'Duckling or goose', 'Cucumbers', 'Grapes', 'Kefir (fermented milk)', 'Sour cream', 'Burritos']\n",
            "500608 ['Melons', 'Quiche', 'Eclairs', 'Pears', 'Doughnuts', 'Croissants', 'Soy meat substitutes', 'Papaya', 'Broccoli', 'Salads', 'Cauliflower', 'Bread', 'Juice in cartons', 'Side dishes such as cooked vegetables', 'Okra', 'Duckling or goose', 'Cucumbers', 'Grapes', 'Kefir (fermented milk)', 'Burritos']\n",
            "500609 ['Melons', 'Quiche', 'Eclairs', 'Doughnuts', 'Croissants', 'Soy meat substitutes', 'Papaya', 'Broccoli', 'Salads', 'Bread', 'Juice in cartons', 'Side dishes such as cooked vegetables', 'Okra', 'Duckling or goose', 'Cucumbers', 'Grapes', 'Kefir (fermented milk)', 'Sour cream', 'Burritos', 'Pies']\n",
            "5006010 ['Quiche', 'Eclairs', 'Pears', 'Doughnuts', 'Croissants', 'Soy meat substitutes', 'Papaya', 'Broccoli', 'Salads', 'Cauliflower', 'Bread', 'Juice in cartons', 'Side dishes such as cooked vegetables', 'Okra', 'Duckling or goose', 'Cucumbers', 'Grapes', 'Kefir (fermented milk)', 'Sour cream', 'Burritos']\n",
            "5006011 ['Melons', 'Quiche', 'Eclairs', 'Pears', 'Doughnuts', 'Croissants', 'Soy meat substitutes', 'Papaya', 'Broccoli', 'Salads', 'Cauliflower', 'Bread', 'Juice in cartons', 'Side dishes such as cooked vegetables', 'Okra', 'Duckling or goose', 'Grapes', 'Kefir (fermented milk)', 'Sour cream', 'Burritos']\n",
            "5006012 ['Melons', 'Quiche', 'Eclairs', 'Pears', 'Doughnuts', 'Croissants', 'Soy meat substitutes', 'Papaya', 'Broccoli', 'Salads', 'Cauliflower', 'Juice in cartons', 'Side dishes such as cooked vegetables', 'Okra', 'Duckling or goose', 'Cucumbers', 'Kefir (fermented milk)', 'Sour cream', 'Burritos', 'Pies']\n",
            "500611 ['Melons', 'Quiche', 'Eclairs', 'Pears', 'Doughnuts', 'Croissants', 'Soy meat substitutes', 'Papaya', 'Broccoli', 'Salads', 'Cauliflower', 'Bread', 'Juice in cartons', 'Side dishes such as cooked vegetables', 'Okra', 'Duckling or goose', 'Cucumbers', 'Grapes', 'Kefir (fermented milk)', 'Sour cream']\n",
            "500612 ['Melons', 'Quiche', 'Eclairs', 'Pears', 'Doughnuts', 'Croissants', 'Soy meat substitutes', 'Papaya', 'Broccoli', 'Cauliflower', 'Bread', 'Juice in cartons', 'Side dishes such as cooked vegetables', 'Okra', 'Duckling or goose', 'Cucumbers', 'Grapes', 'Kefir (fermented milk)', 'Sour cream', 'Burritos']\n",
            "500613 ['Melons', 'Quiche', 'Eclairs', 'Pears', 'Doughnuts', 'Croissants', 'Soy meat substitutes', 'Papaya', 'Broccoli', 'Salads', 'Cauliflower', 'Bread', 'Juice in cartons', 'Okra', 'Cucumbers', 'Grapes', 'Kefir (fermented milk)', 'Sour cream', 'Radishes', 'Pastries']\n",
            "500614 ['Melons', 'Quiche', 'Eclairs', 'Pears', 'Doughnuts', 'Croissants', 'Soy meat substitutes', 'Papaya', 'Broccoli', 'Salads', 'Cauliflower', 'Bread', 'Juice in cartons', 'Side dishes such as cooked vegetables', 'Okra', 'Duckling or goose', 'Cucumbers', 'Grapes', 'Sour cream', 'Burritos']\n",
            "500615 ['Melons', 'Quiche', 'Eclairs', 'Pears', 'Doughnuts', 'Croissants', 'Soy meat substitutes', 'Papaya', 'Salads', 'Cauliflower', 'Juice in cartons', 'Side dishes such as cooked vegetables', 'Okra', 'Duckling or goose', 'Cucumbers', 'Grapes', 'Kefir (fermented milk)', 'Sour cream', 'Burritos', 'Pies']\n",
            "500616 ['Melons', 'Quiche', 'Eclairs', 'Pears', 'Doughnuts', 'Croissants', 'Soy meat substitutes', 'Papaya', 'Broccoli', 'Salads', 'Cauliflower', 'Bread', 'Juice in cartons', 'Side dishes such as cooked vegetables', 'Okra', 'Duckling or goose', 'Cucumbers', 'Kefir (fermented milk)', 'Sour cream', 'Burritos']\n",
            "500617 ['Melons', 'Quiche', 'Eclairs', 'Pears', 'Doughnuts', 'Croissants', 'Soy meat substitutes', 'Papaya', 'Broccoli', 'Salads', 'Cauliflower', 'Bread', 'Juice in cartons', 'Side dishes such as cooked vegetables', 'Okra', 'Duckling or goose', 'Cucumbers', 'Kefir (fermented milk)', 'Sour cream', 'Burritos']\n",
            "500618 ['Melons', 'Quiche', 'Eclairs', 'Pears', 'Doughnuts', 'Croissants', 'Soy meat substitutes', 'Papaya', 'Broccoli', 'Salads', 'Cauliflower', 'Bread', 'Juice in cartons', 'Side dishes such as cooked vegetables', 'Okra', 'Duckling or goose', 'Cucumbers', 'Kefir (fermented milk)', 'Sour cream', 'Burritos']\n",
            "500619 ['Melons', 'Quiche', 'Eclairs', 'Pears', 'Doughnuts', 'Croissants', 'Soy meat substitutes', 'Papaya', 'Broccoli', 'Salads', 'Cauliflower', 'Bread', 'Juice in cartons', 'Side dishes such as cooked vegetables', 'Okra', 'Duckling or goose', 'Cucumbers', 'Grapes', 'Kefir (fermented milk)', 'Sour cream']\n",
            "5006110 ['Melons', 'Quiche', 'Eclairs', 'Pears', 'Doughnuts', 'Croissants', 'Soy meat substitutes', 'Broccoli', 'Salads', 'Cauliflower', 'Bread', 'Juice in cartons', 'Side dishes such as cooked vegetables', 'Okra', 'Duckling or goose', 'Cucumbers', 'Grapes', 'Kefir (fermented milk)', 'Sour cream', 'Burritos']\n",
            "5006111 ['Melons', 'Quiche', 'Eclairs', 'Pears', 'Doughnuts', 'Croissants', 'Soy meat substitutes', 'Papaya', 'Broccoli', 'Salads', 'Bread', 'Juice in cartons', 'Side dishes such as cooked vegetables', 'Okra', 'Duckling or goose', 'Cucumbers', 'Grapes', 'Kefir (fermented milk)', 'Sour cream', 'Burritos']\n",
            "5006112 ['Melons', 'Eclairs', 'Pears', 'Doughnuts', 'Croissants', 'Soy meat substitutes', 'Papaya', 'Broccoli', 'Salads', 'Cauliflower', 'Bread', 'Juice in cartons', 'Okra', 'Duckling or goose', 'Cucumbers', 'Grapes', 'Kefir (fermented milk)', 'Sour cream', 'Burritos', 'Pies']\n",
            "5006113 ['Melons', 'Quiche', 'Eclairs', 'Pears', 'Doughnuts', 'Croissants', 'Soy meat substitutes', 'Papaya', 'Broccoli', 'Salads', 'Cauliflower', 'Bread', 'Juice in cartons', 'Side dishes such as cooked vegetables', 'Okra', 'Duckling or goose', 'Cucumbers', 'Grapes', 'Kefir (fermented milk)', 'Sour cream']\n",
            "5006114 ['Melons', 'Quiche', 'Eclairs', 'Pears', 'Doughnuts', 'Croissants', 'Soy meat substitutes', 'Papaya', 'Broccoli', 'Salads', 'Cauliflower', 'Bread', 'Juice in cartons', 'Side dishes such as cooked vegetables', 'Duckling or goose', 'Cucumbers', 'Grapes', 'Kefir (fermented milk)', 'Burritos', 'Pies']\n",
            "5006115 ['Melons', 'Quiche', 'Eclairs', 'Pears', 'Doughnuts', 'Croissants', 'Papaya', 'Broccoli', 'Salads', 'Cauliflower', 'Bread', 'Juice in cartons', 'Side dishes such as cooked vegetables', 'Okra', 'Duckling or goose', 'Cucumbers', 'Grapes', 'Kefir (fermented milk)', 'Sour cream', 'Burritos']\n",
            "5006116 ['Melons', 'Quiche', 'Eclairs', 'Pears', 'Doughnuts', 'Croissants', 'Soy meat substitutes', 'Papaya', 'Salads', 'Cauliflower', 'Bread', 'Juice in cartons', 'Side dishes such as cooked vegetables', 'Okra', 'Duckling or goose', 'Cucumbers', 'Grapes', 'Kefir (fermented milk)', 'Sour cream', 'Burritos']\n",
            "500621 ['Melons', 'Quiche', 'Eclairs', 'Pears', 'Doughnuts', 'Croissants', 'Soy meat substitutes', 'Papaya', 'Broccoli', 'Cauliflower', 'Bread', 'Juice in cartons', 'Side dishes such as cooked vegetables', 'Okra', 'Duckling or goose', 'Cucumbers', 'Grapes', 'Kefir (fermented milk)', 'Sour cream', 'Burritos']\n",
            "500622 ['Melons', 'Quiche', 'Eclairs', 'Pears', 'Doughnuts', 'Croissants', 'Soy meat substitutes', 'Broccoli', 'Salads', 'Cauliflower', 'Bread', 'Juice in cartons', 'Side dishes such as cooked vegetables', 'Okra', 'Duckling or goose', 'Cucumbers', 'Grapes', 'Kefir (fermented milk)', 'Sour cream', 'Burritos']\n",
            "500623 ['Melons', 'Quiche', 'Eclairs', 'Pears', 'Soy meat substitutes', 'Papaya', 'Broccoli', 'Salads', 'Cauliflower', 'Bread', 'Juice in cartons', 'Side dishes such as cooked vegetables', 'Okra', 'Duckling or goose', 'Cucumbers', 'Grapes', 'Kefir (fermented milk)', 'Sour cream', 'Pies', 'Radishes']\n",
            "500624 ['Melons', 'Quiche', 'Eclairs', 'Pears', 'Doughnuts', 'Croissants', 'Soy meat substitutes', 'Papaya', 'Broccoli', 'Salads', 'Cauliflower', 'Bread', 'Juice in cartons', 'Side dishes such as cooked vegetables', 'Okra', 'Duckling or goose', 'Cucumbers', 'Grapes', 'Kefir (fermented milk)', 'Sour cream']\n",
            "500625 ['Melons', 'Quiche', 'Eclairs', 'Pears', 'Croissants', 'Soy meat substitutes', 'Papaya', 'Broccoli', 'Salads', 'Cauliflower', 'Bread', 'Juice in cartons', 'Side dishes such as cooked vegetables', 'Okra', 'Duckling or goose', 'Cucumbers', 'Grapes', 'Kefir (fermented milk)', 'Sour cream', 'Burritos']\n",
            "500626 ['Melons', 'Quiche', 'Eclairs', 'Pears', 'Doughnuts', 'Croissants', 'Soy meat substitutes', 'Papaya', 'Salads', 'Cauliflower', 'Bread', 'Juice in cartons', 'Side dishes such as cooked vegetables', 'Cucumbers', 'Grapes', 'Sour cream', 'Burritos', 'Pies', 'Pastries', 'Pancakes']\n",
            "500627 ['Melons', 'Quiche', 'Eclairs', 'Pears', 'Doughnuts', 'Soy meat substitutes', 'Papaya', 'Broccoli', 'Cauliflower', 'Bread', 'Juice in cartons', 'Side dishes such as cooked vegetables', 'Okra', 'Duckling or goose', 'Cucumbers', 'Grapes', 'Kefir (fermented milk)', 'Sour cream', 'Burritos', 'Pies']\n",
            "500628 ['Quiche', 'Eclairs', 'Pears', 'Doughnuts', 'Croissants', 'Papaya', 'Broccoli', 'Cauliflower', 'Bread', 'Juice in cartons', 'Side dishes such as cooked vegetables', 'Okra', 'Duckling or goose', 'Cucumbers', 'Grapes', 'Kefir (fermented milk)', 'Sour cream', 'Burritos', 'Pies', 'Radishes']\n",
            "500629 ['Melons', 'Quiche', 'Eclairs', 'Pears', 'Doughnuts', 'Croissants', 'Soy meat substitutes', 'Papaya', 'Broccoli', 'Salads', 'Cauliflower', 'Bread', 'Juice in cartons', 'Side dishes such as cooked vegetables', 'Okra', 'Duckling or goose', 'Cucumbers', 'Grapes', 'Kefir (fermented milk)', 'Sour cream']\n",
            "5006210 ['Melons', 'Quiche', 'Eclairs', 'Pears', 'Doughnuts', 'Croissants', 'Soy meat substitutes', 'Papaya', 'Broccoli', 'Salads', 'Cauliflower', 'Bread', 'Juice in cartons', 'Side dishes such as cooked vegetables', 'Okra', 'Cucumbers', 'Grapes', 'Sour cream', 'Burritos', 'Radishes']\n",
            "5006211 ['Melons', 'Quiche', 'Eclairs', 'Pears', 'Doughnuts', 'Croissants', 'Soy meat substitutes', 'Papaya', 'Broccoli', 'Salads', 'Cauliflower', 'Bread', 'Juice in cartons', 'Side dishes such as cooked vegetables', 'Okra', 'Duckling or goose', 'Cucumbers', 'Grapes', 'Kefir (fermented milk)', 'Sour cream']\n",
            "5006212 ['Melons', 'Quiche', 'Eclairs', 'Pears', 'Doughnuts', 'Croissants', 'Soy meat substitutes', 'Papaya', 'Broccoli', 'Salads', 'Cauliflower', 'Bread', 'Juice in cartons', 'Side dishes such as cooked vegetables', 'Okra', 'Duckling or goose', 'Cucumbers', 'Kefir (fermented milk)', 'Burritos', 'Pies']\n",
            "500631 ['Melons', 'Quiche', 'Eclairs', 'Pears', 'Doughnuts', 'Croissants', 'Soy meat substitutes', 'Papaya', 'Broccoli', 'Salads', 'Cauliflower', 'Bread', 'Juice in cartons', 'Side dishes such as cooked vegetables', 'Okra', 'Duckling or goose', 'Cucumbers', 'Grapes', 'Kefir (fermented milk)', 'Sour cream']\n",
            "500632 ['Melons', 'Quiche', 'Eclairs', 'Pears', 'Croissants', 'Soy meat substitutes', 'Papaya', 'Broccoli', 'Salads', 'Cauliflower', 'Bread', 'Juice in cartons', 'Side dishes such as cooked vegetables', 'Okra', 'Duckling or goose', 'Cucumbers', 'Grapes', 'Kefir (fermented milk)', 'Sour cream', 'Burritos']\n",
            "500633 ['Melons', 'Quiche', 'Eclairs', 'Pears', 'Doughnuts', 'Croissants', 'Soy meat substitutes', 'Papaya', 'Broccoli', 'Salads', 'Cauliflower', 'Bread', 'Juice in cartons', 'Side dishes such as cooked vegetables', 'Okra', 'Duckling or goose', 'Cucumbers', 'Grapes', 'Sour cream', 'Burritos']\n",
            "500634 ['Melons', 'Quiche', 'Eclairs', 'Pears', 'Doughnuts', 'Croissants', 'Soy meat substitutes', 'Papaya', 'Broccoli', 'Salads', 'Bread', 'Side dishes such as cooked vegetables', 'Okra', 'Duckling or goose', 'Cucumbers', 'Grapes', 'Kefir (fermented milk)', 'Sour cream', 'Burritos', 'Pies']\n",
            "500635 ['Melons', 'Quiche', 'Eclairs', 'Pears', 'Doughnuts', 'Croissants', 'Soy meat substitutes', 'Papaya', 'Broccoli', 'Salads', 'Cauliflower', 'Bread', 'Juice in cartons', 'Side dishes such as cooked vegetables', 'Okra', 'Duckling or goose', 'Grapes', 'Kefir (fermented milk)', 'Sour cream', 'Burritos']\n",
            "500636 ['Melons', 'Quiche', 'Eclairs', 'Pears', 'Doughnuts', 'Croissants', 'Soy meat substitutes', 'Papaya', 'Broccoli', 'Salads', 'Cauliflower', 'Bread', 'Juice in cartons', 'Side dishes such as cooked vegetables', 'Okra', 'Cucumbers', 'Grapes', 'Kefir (fermented milk)', 'Sour cream', 'Burritos']\n",
            "500637 ['Melons', 'Quiche', 'Eclairs', 'Pears', 'Doughnuts', 'Croissants', 'Soy meat substitutes', 'Papaya', 'Broccoli', 'Salads', 'Cauliflower', 'Bread', 'Juice in cartons', 'Side dishes such as cooked vegetables', 'Okra', 'Duckling or goose', 'Cucumbers', 'Grapes', 'Kefir (fermented milk)', 'Sour cream']\n",
            "500638 ['Melons', 'Quiche', 'Eclairs', 'Pears', 'Doughnuts', 'Soy meat substitutes', 'Papaya', 'Broccoli', 'Salads', 'Cauliflower', 'Bread', 'Juice in cartons', 'Side dishes such as cooked vegetables', 'Okra', 'Duckling or goose', 'Cucumbers', 'Grapes', 'Kefir (fermented milk)', 'Sour cream', 'Burritos']\n",
            "500639 ['Melons', 'Quiche', 'Eclairs', 'Pears', 'Doughnuts', 'Croissants', 'Soy meat substitutes', 'Papaya', 'Broccoli', 'Salads', 'Cauliflower', 'Bread', 'Side dishes such as cooked vegetables', 'Okra', 'Duckling or goose', 'Cucumbers', 'Grapes', 'Kefir (fermented milk)', 'Sour cream', 'Burritos']\n",
            "5006310 ['Melons', 'Quiche', 'Eclairs', 'Pears', 'Doughnuts', 'Croissants', 'Soy meat substitutes', 'Papaya', 'Broccoli', 'Salads', 'Cauliflower', 'Juice in cartons', 'Side dishes such as cooked vegetables', 'Duckling or goose', 'Cucumbers', 'Kefir (fermented milk)', 'Sour cream', 'Burritos', 'Radishes', 'Pastries']\n",
            "5006311 ['Melons', 'Quiche', 'Eclairs', 'Pears', 'Croissants', 'Soy meat substitutes', 'Papaya', 'Broccoli', 'Salads', 'Cauliflower', 'Bread', 'Juice in cartons', 'Side dishes such as cooked vegetables', 'Okra', 'Duckling or goose', 'Cucumbers', 'Grapes', 'Kefir (fermented milk)', 'Sour cream', 'Burritos']\n",
            "5006312 ['Melons', 'Quiche', 'Eclairs', 'Pears', 'Doughnuts', 'Soy meat substitutes', 'Papaya', 'Broccoli', 'Salads', 'Cauliflower', 'Bread', 'Juice in cartons', 'Side dishes such as cooked vegetables', 'Okra', 'Cucumbers', 'Grapes', 'Kefir (fermented milk)', 'Sour cream', 'Burritos', 'Radishes']\n",
            "5006313 ['Melons', 'Quiche', 'Eclairs', 'Pears', 'Doughnuts', 'Croissants', 'Soy meat substitutes', 'Papaya', 'Broccoli', 'Salads', 'Cauliflower', 'Bread', 'Juice in cartons', 'Side dishes such as cooked vegetables', 'Okra', 'Duckling or goose', 'Cucumbers', 'Grapes', 'Kefir (fermented milk)', 'Sour cream']\n",
            "5006314 ['Melons', 'Quiche', 'Eclairs', 'Pears', 'Doughnuts', 'Croissants', 'Soy meat substitutes', 'Papaya', 'Cauliflower', 'Bread', 'Juice in cartons', 'Side dishes such as cooked vegetables', 'Okra', 'Duckling or goose', 'Cucumbers', 'Grapes', 'Kefir (fermented milk)', 'Sour cream', 'Burritos', 'Pies']\n",
            "500501 ['Melons', 'Quiche', 'Eclairs', 'Pears', 'Doughnuts', 'Croissants', 'Soy meat substitutes', 'Papaya', 'Broccoli', 'Salads', 'Cauliflower', 'Bread', 'Juice in cartons', 'Side dishes such as cooked vegetables', 'Okra', 'Duckling or goose', 'Cucumbers', 'Grapes', 'Kefir (fermented milk)', 'Sour cream']\n",
            "5005012 ['Melons', 'Quiche', 'Eclairs', 'Pears', 'Doughnuts', 'Croissants', 'Soy meat substitutes', 'Papaya', 'Broccoli', 'Salads', 'Cauliflower', 'Bread', 'Juice in cartons', 'Side dishes such as cooked vegetables', 'Okra', 'Duckling or goose', 'Cucumbers', 'Grapes', 'Kefir (fermented milk)', 'Sour cream']\n",
            "5005015 ['Quiche', 'Eclairs', 'Pears', 'Doughnuts', 'Croissants', 'Soy meat substitutes', 'Papaya', 'Broccoli', 'Salads', 'Cauliflower', 'Juice in cartons', 'Side dishes such as cooked vegetables', 'Okra', 'Duckling or goose', 'Cucumbers', 'Grapes', 'Kefir (fermented milk)', 'Sour cream', 'Burritos', 'Pies']\n",
            "500517 ['Melons', 'Quiche', 'Eclairs', 'Doughnuts', 'Croissants', 'Soy meat substitutes', 'Papaya', 'Broccoli', 'Salads', 'Cauliflower', 'Bread', 'Juice in cartons', 'Side dishes such as cooked vegetables', 'Okra', 'Duckling or goose', 'Kefir (fermented milk)', 'Sour cream', 'Burritos', 'Radishes', 'Pastries']\n",
            "500523 ['Melons', 'Quiche', 'Eclairs', 'Pears', 'Doughnuts', 'Croissants', 'Soy meat substitutes', 'Papaya', 'Broccoli', 'Salads', 'Cauliflower', 'Bread', 'Juice in cartons', 'Side dishes such as cooked vegetables', 'Okra', 'Duckling or goose', 'Cucumbers', 'Grapes', 'Kefir (fermented milk)', 'Burritos']\n",
            "5005215 ['Melons', 'Quiche', 'Eclairs', 'Pears', 'Doughnuts', 'Croissants', 'Soy meat substitutes', 'Papaya', 'Broccoli', 'Salads', 'Cauliflower', 'Bread', 'Juice in cartons', 'Side dishes such as cooked vegetables', 'Okra', 'Duckling or goose', 'Cucumbers', 'Grapes', 'Kefir (fermented milk)', 'Sour cream']\n",
            "5005216 ['Melons', 'Quiche', 'Eclairs', 'Pears', 'Doughnuts', 'Croissants', 'Soy meat substitutes', 'Papaya', 'Broccoli', 'Salads', 'Cauliflower', 'Bread', 'Juice in cartons', 'Side dishes such as cooked vegetables', 'Okra', 'Duckling or goose', 'Cucumbers', 'Grapes', 'Kefir (fermented milk)', 'Sour cream']\n",
            "5005217 ['Melons', 'Quiche', 'Eclairs', 'Pears', 'Doughnuts', 'Croissants', 'Soy meat substitutes', 'Papaya', 'Broccoli', 'Salads', 'Cauliflower', 'Bread', 'Juice in cartons', 'Side dishes such as cooked vegetables', 'Okra', 'Duckling or goose', 'Cucumbers', 'Grapes', 'Kefir (fermented milk)', 'Sour cream']\n",
            "5005311 ['Melons', 'Quiche', 'Eclairs', 'Pears', 'Doughnuts', 'Soy meat substitutes', 'Papaya', 'Broccoli', 'Salads', 'Cauliflower', 'Bread', 'Juice in cartons', 'Side dishes such as cooked vegetables', 'Okra', 'Duckling or goose', 'Cucumbers', 'Kefir (fermented milk)', 'Sour cream', 'Burritos', 'Radishes']\n",
            "5005316 ['Melons', 'Quiche', 'Eclairs', 'Pears', 'Doughnuts', 'Croissants', 'Soy meat substitutes', 'Papaya', 'Broccoli', 'Salads', 'Cauliflower', 'Bread', 'Juice in cartons', 'Side dishes such as cooked vegetables', 'Okra', 'Duckling or goose', 'Cucumbers', 'Grapes', 'Kefir (fermented milk)', 'Sour cream']\n",
            "5005413 ['Melons', 'Quiche', 'Eclairs', 'Pears', 'Doughnuts', 'Croissants', 'Soy meat substitutes', 'Papaya', 'Broccoli', 'Salads', 'Cauliflower', 'Bread', 'Juice in cartons', 'Side dishes such as cooked vegetables', 'Okra', 'Duckling or goose', 'Cucumbers', 'Grapes', 'Kefir (fermented milk)', 'Sour cream']\n",
            "5005414 ['Melons', 'Quiche', 'Eclairs', 'Pears', 'Doughnuts', 'Croissants', 'Soy meat substitutes', 'Papaya', 'Cauliflower', 'Bread', 'Juice in cartons', 'Side dishes such as cooked vegetables', 'Okra', 'Duckling or goose', 'Cucumbers', 'Grapes', 'Kefir (fermented milk)', 'Sour cream', 'Burritos', 'Pies']\n",
            "5005415 ['Melons', 'Quiche', 'Eclairs', 'Pears', 'Doughnuts', 'Croissants', 'Soy meat substitutes', 'Broccoli', 'Salads', 'Cauliflower', 'Bread', 'Juice in cartons', 'Side dishes such as cooked vegetables', 'Okra', 'Duckling or goose', 'Cucumbers', 'Grapes', 'Kefir (fermented milk)', 'Sour cream', 'Burritos']\n",
            "500552 ['Melons', 'Quiche', 'Eclairs', 'Pears', 'Doughnuts', 'Croissants', 'Soy meat substitutes', 'Papaya', 'Broccoli', 'Salads', 'Cauliflower', 'Juice in cartons', 'Side dishes such as cooked vegetables', 'Okra', 'Duckling or goose', 'Cucumbers', 'Grapes', 'Kefir (fermented milk)', 'Sour cream', 'Burritos']\n",
            "5005513 ['Melons', 'Quiche', 'Eclairs', 'Pears', 'Croissants', 'Soy meat substitutes', 'Broccoli', 'Salads', 'Cauliflower', 'Bread', 'Juice in cartons', 'Side dishes such as cooked vegetables', 'Okra', 'Duckling or goose', 'Cucumbers', 'Grapes', 'Kefir (fermented milk)', 'Sour cream', 'Burritos', 'Radishes']\n",
            "5005515 ['Melons', 'Quiche', 'Eclairs', 'Pears', 'Doughnuts', 'Croissants', 'Broccoli', 'Salads', 'Cauliflower', 'Bread', 'Juice in cartons', 'Side dishes such as cooked vegetables', 'Okra', 'Duckling or goose', 'Cucumbers', 'Grapes', 'Kefir (fermented milk)', 'Sour cream', 'Burritos', 'Pies']\n",
            "5005516 ['Melons', 'Quiche', 'Eclairs', 'Pears', 'Doughnuts', 'Croissants', 'Soy meat substitutes', 'Papaya', 'Broccoli', 'Salads', 'Cauliflower', 'Bread', 'Juice in cartons', 'Side dishes such as cooked vegetables', 'Okra', 'Grapes', 'Kefir (fermented milk)', 'Sour cream', 'Burritos', 'Pies']\n",
            "5005517 ['Melons', 'Quiche', 'Eclairs', 'Pears', 'Doughnuts', 'Croissants', 'Soy meat substitutes', 'Papaya', 'Broccoli', 'Salads', 'Cauliflower', 'Bread', 'Side dishes such as cooked vegetables', 'Okra', 'Duckling or goose', 'Cucumbers', 'Grapes', 'Kefir (fermented milk)', 'Sour cream', 'Burritos']\n",
            "500565 ['Melons', 'Quiche', 'Eclairs', 'Pears', 'Doughnuts', 'Croissants', 'Soy meat substitutes', 'Papaya', 'Broccoli', 'Salads', 'Cauliflower', 'Bread', 'Juice in cartons', 'Side dishes such as cooked vegetables', 'Okra', 'Duckling or goose', 'Cucumbers', 'Grapes', 'Kefir (fermented milk)', 'Burritos']\n",
            "5005615 ['Melons', 'Quiche', 'Eclairs', 'Pears', 'Doughnuts', 'Croissants', 'Soy meat substitutes', 'Papaya', 'Broccoli', 'Salads', 'Cauliflower', 'Bread', 'Juice in cartons', 'Side dishes such as cooked vegetables', 'Okra', 'Duckling or goose', 'Cucumbers', 'Grapes', 'Kefir (fermented milk)', 'Sour cream']\n",
            "5005618 ['Melons', 'Quiche', 'Eclairs', 'Pears', 'Doughnuts', 'Croissants', 'Soy meat substitutes', 'Papaya', 'Broccoli', 'Salads', 'Cauliflower', 'Bread', 'Juice in cartons', 'Side dishes such as cooked vegetables', 'Okra', 'Duckling or goose', 'Cucumbers', 'Grapes', 'Kefir (fermented milk)', 'Sour cream']\n",
            "5005912 ['Melons', 'Quiche', 'Eclairs', 'Pears', 'Doughnuts', 'Croissants', 'Papaya', 'Broccoli', 'Salads', 'Cauliflower', 'Bread', 'Juice in cartons', 'Side dishes such as cooked vegetables', 'Okra', 'Duckling or goose', 'Cucumbers', 'Grapes', 'Kefir (fermented milk)', 'Sour cream', 'Burritos']\n",
            "5005913 ['Melons', 'Quiche', 'Eclairs', 'Pears', 'Doughnuts', 'Croissants', 'Soy meat substitutes', 'Papaya', 'Broccoli', 'Salads', 'Cauliflower', 'Bread', 'Juice in cartons', 'Side dishes such as cooked vegetables', 'Okra', 'Duckling or goose', 'Cucumbers', 'Grapes', 'Kefir (fermented milk)', 'Sour cream']\n",
            "5005914 ['Melons', 'Quiche', 'Eclairs', 'Pears', 'Doughnuts', 'Croissants', 'Soy meat substitutes', 'Papaya', 'Broccoli', 'Salads', 'Cauliflower', 'Bread', 'Juice in cartons', 'Side dishes such as cooked vegetables', 'Okra', 'Cucumbers', 'Grapes', 'Kefir (fermented milk)', 'Sour cream', 'Burritos']\n",
            "5005915 ['Melons', 'Quiche', 'Eclairs', 'Pears', 'Doughnuts', 'Croissants', 'Soy meat substitutes', 'Papaya', 'Broccoli', 'Cauliflower', 'Bread', 'Juice in cartons', 'Side dishes such as cooked vegetables', 'Okra', 'Duckling or goose', 'Cucumbers', 'Grapes', 'Kefir (fermented milk)', 'Sour cream', 'Burritos']\n",
            "5005916 ['Melons', 'Quiche', 'Eclairs', 'Pears', 'Doughnuts', 'Croissants', 'Soy meat substitutes', 'Papaya', 'Broccoli', 'Salads', 'Cauliflower', 'Bread', 'Juice in cartons', 'Okra', 'Duckling or goose', 'Cucumbers', 'Grapes', 'Kefir (fermented milk)', 'Sour cream', 'Burritos']\n",
            "5005917 ['Melons', 'Quiche', 'Eclairs', 'Pears', 'Croissants', 'Soy meat substitutes', 'Papaya', 'Broccoli', 'Salads', 'Cauliflower', 'Bread', 'Juice in cartons', 'Side dishes such as cooked vegetables', 'Okra', 'Duckling or goose', 'Cucumbers', 'Grapes', 'Kefir (fermented milk)', 'Sour cream', 'Burritos']\n",
            "5006213 ['Melons', 'Quiche', 'Eclairs', 'Pears', 'Doughnuts', 'Croissants', 'Soy meat substitutes', 'Papaya', 'Broccoli', 'Salads', 'Cauliflower', 'Bread', 'Side dishes such as cooked vegetables', 'Okra', 'Duckling or goose', 'Cucumbers', 'Grapes', 'Kefir (fermented milk)', 'Sour cream', 'Burritos']\n",
            "500641 ['Melons', 'Quiche', 'Eclairs', 'Pears', 'Croissants', 'Soy meat substitutes', 'Papaya', 'Broccoli', 'Salads', 'Cauliflower', 'Bread', 'Juice in cartons', 'Side dishes such as cooked vegetables', 'Okra', 'Duckling or goose', 'Cucumbers', 'Grapes', 'Kefir (fermented milk)', 'Sour cream', 'Burritos']\n",
            "500642 ['Melons', 'Quiche', 'Eclairs', 'Pears', 'Doughnuts', 'Croissants', 'Soy meat substitutes', 'Broccoli', 'Salads', 'Cauliflower', 'Bread', 'Juice in cartons', 'Side dishes such as cooked vegetables', 'Okra', 'Duckling or goose', 'Cucumbers', 'Grapes', 'Kefir (fermented milk)', 'Sour cream', 'Burritos']\n",
            "500643 ['Melons', 'Quiche', 'Eclairs', 'Pears', 'Doughnuts', 'Croissants', 'Soy meat substitutes', 'Papaya', 'Broccoli', 'Salads', 'Cauliflower', 'Bread', 'Juice in cartons', 'Side dishes such as cooked vegetables', 'Okra', 'Duckling or goose', 'Cucumbers', 'Grapes', 'Kefir (fermented milk)', 'Burritos']\n",
            "500644 ['Melons', 'Quiche', 'Pears', 'Doughnuts', 'Croissants', 'Soy meat substitutes', 'Papaya', 'Broccoli', 'Salads', 'Cauliflower', 'Bread', 'Juice in cartons', 'Side dishes such as cooked vegetables', 'Okra', 'Duckling or goose', 'Cucumbers', 'Grapes', 'Kefir (fermented milk)', 'Sour cream', 'Burritos']\n",
            "500645 ['Melons', 'Quiche', 'Eclairs', 'Pears', 'Doughnuts', 'Croissants', 'Soy meat substitutes', 'Papaya', 'Broccoli', 'Salads', 'Cauliflower', 'Bread', 'Juice in cartons', 'Side dishes such as cooked vegetables', 'Okra', 'Duckling or goose', 'Cucumbers', 'Grapes', 'Kefir (fermented milk)', 'Sour cream']\n",
            "500646 ['Quiche', 'Eclairs', 'Pears', 'Doughnuts', 'Croissants', 'Soy meat substitutes', 'Papaya', 'Broccoli', 'Cauliflower', 'Juice in cartons', 'Side dishes such as cooked vegetables', 'Okra', 'Duckling or goose', 'Cucumbers', 'Grapes', 'Kefir (fermented milk)', 'Sour cream', 'Burritos', 'Pies', 'Radishes']\n",
            "500647 ['Melons', 'Quiche', 'Eclairs', 'Pears', 'Doughnuts', 'Croissants', 'Papaya', 'Broccoli', 'Salads', 'Cauliflower', 'Bread', 'Juice in cartons', 'Side dishes such as cooked vegetables', 'Okra', 'Duckling or goose', 'Cucumbers', 'Kefir (fermented milk)', 'Sour cream', 'Burritos', 'Pies']\n",
            "500648 ['Melons', 'Quiche', 'Eclairs', 'Doughnuts', 'Croissants', 'Soy meat substitutes', 'Papaya', 'Broccoli', 'Salads', 'Cauliflower', 'Bread', 'Juice in cartons', 'Side dishes such as cooked vegetables', 'Okra', 'Duckling or goose', 'Cucumbers', 'Grapes', 'Kefir (fermented milk)', 'Sour cream', 'Burritos']\n",
            "500649 ['Melons', 'Quiche', 'Eclairs', 'Pears', 'Doughnuts', 'Croissants', 'Soy meat substitutes', 'Broccoli', 'Salads', 'Cauliflower', 'Bread', 'Juice in cartons', 'Side dishes such as cooked vegetables', 'Okra', 'Duckling or goose', 'Cucumbers', 'Grapes', 'Kefir (fermented milk)', 'Sour cream', 'Burritos']\n",
            "5006410 ['Melons', 'Quiche', 'Eclairs', 'Doughnuts', 'Croissants', 'Soy meat substitutes', 'Papaya', 'Broccoli', 'Salads', 'Cauliflower', 'Bread', 'Juice in cartons', 'Side dishes such as cooked vegetables', 'Okra', 'Duckling or goose', 'Cucumbers', 'Grapes', 'Kefir (fermented milk)', 'Sour cream', 'Burritos']\n",
            "5006411 ['Melons', 'Quiche', 'Eclairs', 'Pears', 'Doughnuts', 'Croissants', 'Soy meat substitutes', 'Papaya', 'Broccoli', 'Salads', 'Cauliflower', 'Bread', 'Side dishes such as cooked vegetables', 'Okra', 'Duckling or goose', 'Cucumbers', 'Grapes', 'Kefir (fermented milk)', 'Sour cream', 'Burritos']\n",
            "5006412 ['Melons', 'Quiche', 'Eclairs', 'Pears', 'Doughnuts', 'Croissants', 'Soy meat substitutes', 'Papaya', 'Broccoli', 'Salads', 'Cauliflower', 'Bread', 'Juice in cartons', 'Side dishes such as cooked vegetables', 'Okra', 'Cucumbers', 'Grapes', 'Kefir (fermented milk)', 'Sour cream', 'Burritos']\n",
            "5006413 ['Melons', 'Quiche', 'Eclairs', 'Pears', 'Doughnuts', 'Croissants', 'Soy meat substitutes', 'Papaya', 'Broccoli', 'Salads', 'Cauliflower', 'Bread', 'Juice in cartons', 'Side dishes such as cooked vegetables', 'Okra', 'Duckling or goose', 'Cucumbers', 'Kefir (fermented milk)', 'Sour cream', 'Burritos']\n",
            "5006414 ['Melons', 'Quiche', 'Eclairs', 'Pears', 'Doughnuts', 'Croissants', 'Soy meat substitutes', 'Papaya', 'Broccoli', 'Salads', 'Cauliflower', 'Bread', 'Juice in cartons', 'Side dishes such as cooked vegetables', 'Okra', 'Duckling or goose', 'Cucumbers', 'Grapes', 'Kefir (fermented milk)', 'Sour cream']\n",
            "5006415 ['Melons', 'Quiche', 'Eclairs', 'Doughnuts', 'Croissants', 'Soy meat substitutes', 'Papaya', 'Broccoli', 'Salads', 'Cauliflower', 'Bread', 'Juice in cartons', 'Side dishes such as cooked vegetables', 'Okra', 'Duckling or goose', 'Cucumbers', 'Grapes', 'Kefir (fermented milk)', 'Sour cream', 'Burritos']\n",
            "500651 ['Melons', 'Quiche', 'Eclairs', 'Pears', 'Doughnuts', 'Croissants', 'Soy meat substitutes', 'Papaya', 'Broccoli', 'Salads', 'Cauliflower', 'Bread', 'Juice in cartons', 'Side dishes such as cooked vegetables', 'Okra', 'Duckling or goose', 'Cucumbers', 'Grapes', 'Kefir (fermented milk)', 'Sour cream']\n",
            "500652 ['Melons', 'Quiche', 'Eclairs', 'Pears', 'Doughnuts', 'Croissants', 'Soy meat substitutes', 'Papaya', 'Broccoli', 'Salads', 'Cauliflower', 'Bread', 'Juice in cartons', 'Side dishes such as cooked vegetables', 'Okra', 'Duckling or goose', 'Cucumbers', 'Grapes', 'Kefir (fermented milk)', 'Sour cream']\n",
            "500653 ['Melons', 'Quiche', 'Pears', 'Doughnuts', 'Croissants', 'Soy meat substitutes', 'Papaya', 'Broccoli', 'Salads', 'Cauliflower', 'Bread', 'Juice in cartons', 'Side dishes such as cooked vegetables', 'Okra', 'Duckling or goose', 'Cucumbers', 'Grapes', 'Kefir (fermented milk)', 'Sour cream', 'Burritos']\n",
            "500654 ['Melons', 'Quiche', 'Eclairs', 'Doughnuts', 'Croissants', 'Soy meat substitutes', 'Papaya', 'Broccoli', 'Salads', 'Cauliflower', 'Bread', 'Juice in cartons', 'Duckling or goose', 'Cucumbers', 'Grapes', 'Kefir (fermented milk)', 'Sour cream', 'Burritos', 'Radishes', 'Pancakes']\n",
            "500655 ['Melons', 'Quiche', 'Eclairs', 'Pears', 'Croissants', 'Soy meat substitutes', 'Papaya', 'Broccoli', 'Salads', 'Cauliflower', 'Bread', 'Juice in cartons', 'Side dishes such as cooked vegetables', 'Okra', 'Cucumbers', 'Grapes', 'Burritos', 'Pies', 'Radishes', 'Pastries']\n",
            "500656 ['Melons', 'Quiche', 'Eclairs', 'Pears', 'Doughnuts', 'Croissants', 'Soy meat substitutes', 'Papaya', 'Broccoli', 'Salads', 'Cauliflower', 'Bread', 'Juice in cartons', 'Side dishes such as cooked vegetables', 'Okra', 'Duckling or goose', 'Cucumbers', 'Grapes', 'Kefir (fermented milk)', 'Sour cream']\n",
            "500657 ['Melons', 'Quiche', 'Eclairs', 'Pears', 'Doughnuts', 'Croissants', 'Soy meat substitutes', 'Papaya', 'Broccoli', 'Salads', 'Cauliflower', 'Juice in cartons', 'Side dishes such as cooked vegetables', 'Okra', 'Duckling or goose', 'Cucumbers', 'Kefir (fermented milk)', 'Sour cream', 'Burritos', 'Pies']\n",
            "500658 ['Melons', 'Quiche', 'Eclairs', 'Pears', 'Doughnuts', 'Croissants', 'Soy meat substitutes', 'Papaya', 'Broccoli', 'Salads', 'Cauliflower', 'Juice in cartons', 'Side dishes such as cooked vegetables', 'Okra', 'Duckling or goose', 'Cucumbers', 'Grapes', 'Kefir (fermented milk)', 'Sour cream', 'Burritos']\n",
            "500659 ['Melons', 'Quiche', 'Eclairs', 'Pears', 'Doughnuts', 'Croissants', 'Soy meat substitutes', 'Papaya', 'Broccoli', 'Salads', 'Cauliflower', 'Bread', 'Juice in cartons', 'Side dishes such as cooked vegetables', 'Okra', 'Duckling or goose', 'Cucumbers', 'Grapes', 'Kefir (fermented milk)', 'Sour cream']\n",
            "5006510 ['Melons', 'Quiche', 'Eclairs', 'Pears', 'Doughnuts', 'Croissants', 'Soy meat substitutes', 'Papaya', 'Broccoli', 'Salads', 'Cauliflower', 'Bread', 'Juice in cartons', 'Side dishes such as cooked vegetables', 'Okra', 'Duckling or goose', 'Cucumbers', 'Grapes', 'Kefir (fermented milk)', 'Sour cream']\n",
            "5006511 ['Melons', 'Quiche', 'Eclairs', 'Pears', 'Croissants', 'Papaya', 'Broccoli', 'Salads', 'Cauliflower', 'Bread', 'Juice in cartons', 'Side dishes such as cooked vegetables', 'Okra', 'Duckling or goose', 'Cucumbers', 'Grapes', 'Kefir (fermented milk)', 'Sour cream', 'Burritos', 'Pies']\n",
            "5006512 ['Melons', 'Quiche', 'Eclairs', 'Doughnuts', 'Croissants', 'Soy meat substitutes', 'Papaya', 'Broccoli', 'Cauliflower', 'Bread', 'Juice in cartons', 'Side dishes such as cooked vegetables', 'Okra', 'Duckling or goose', 'Cucumbers', 'Grapes', 'Kefir (fermented milk)', 'Sour cream', 'Burritos', 'Pies']\n",
            "5006513 ['Melons', 'Quiche', 'Eclairs', 'Pears', 'Doughnuts', 'Croissants', 'Soy meat substitutes', 'Papaya', 'Broccoli', 'Salads', 'Cauliflower', 'Bread', 'Juice in cartons', 'Side dishes such as cooked vegetables', 'Okra', 'Duckling or goose', 'Cucumbers', 'Grapes', 'Kefir (fermented milk)', 'Sour cream']\n",
            "5006514 ['Melons', 'Quiche', 'Eclairs', 'Doughnuts', 'Croissants', 'Soy meat substitutes', 'Papaya', 'Broccoli', 'Salads', 'Cauliflower', 'Bread', 'Juice in cartons', 'Side dishes such as cooked vegetables', 'Okra', 'Duckling or goose', 'Cucumbers', 'Grapes', 'Kefir (fermented milk)', 'Sour cream', 'Burritos']\n",
            "5006515 ['Melons', 'Quiche', 'Eclairs', 'Pears', 'Doughnuts', 'Croissants', 'Soy meat substitutes', 'Papaya', 'Broccoli', 'Salads', 'Cauliflower', 'Bread', 'Juice in cartons', 'Side dishes such as cooked vegetables', 'Okra', 'Duckling or goose', 'Cucumbers', 'Grapes', 'Kefir (fermented milk)', 'Sour cream']\n",
            "5006516 ['Melons', 'Quiche', 'Eclairs', 'Pears', 'Doughnuts', 'Croissants', 'Soy meat substitutes', 'Papaya', 'Broccoli', 'Salads', 'Cauliflower', 'Bread', 'Juice in cartons', 'Side dishes such as cooked vegetables', 'Okra', 'Duckling or goose', 'Cucumbers', 'Grapes', 'Kefir (fermented milk)', 'Sour cream']\n",
            "5005117 ['Melons', 'Quiche', 'Eclairs', 'Pears', 'Doughnuts', 'Croissants', 'Soy meat substitutes', 'Papaya', 'Broccoli', 'Salads', 'Cauliflower', 'Juice in cartons', 'Okra', 'Duckling or goose', 'Cucumbers', 'Grapes', 'Kefir (fermented milk)', 'Sour cream', 'Burritos', 'Pies']\n",
            "5005118 ['Melons', 'Quiche', 'Eclairs', 'Pears', 'Doughnuts', 'Croissants', 'Soy meat substitutes', 'Papaya', 'Broccoli', 'Salads', 'Cauliflower', 'Bread', 'Juice in cartons', 'Side dishes such as cooked vegetables', 'Okra', 'Duckling or goose', 'Cucumbers', 'Grapes', 'Kefir (fermented milk)', 'Sour cream']\n",
            "5005514 ['Quiche', 'Eclairs', 'Pears', 'Doughnuts', 'Croissants', 'Soy meat substitutes', 'Papaya', 'Broccoli', 'Salads', 'Cauliflower', 'Bread', 'Juice in cartons', 'Side dishes such as cooked vegetables', 'Okra', 'Duckling or goose', 'Cucumbers', 'Grapes', 'Kefir (fermented milk)', 'Sour cream', 'Burritos']\n",
            "5005714 ['Melons', 'Quiche', 'Eclairs', 'Pears', 'Doughnuts', 'Croissants', 'Soy meat substitutes', 'Papaya', 'Broccoli', 'Salads', 'Cauliflower', 'Bread', 'Juice in cartons', 'Side dishes such as cooked vegetables', 'Okra', 'Duckling or goose', 'Cucumbers', 'Grapes', 'Kefir (fermented milk)', 'Sour cream']\n",
            "5005715 ['Melons', 'Quiche', 'Eclairs', 'Doughnuts', 'Croissants', 'Soy meat substitutes', 'Papaya', 'Broccoli', 'Salads', 'Cauliflower', 'Bread', 'Juice in cartons', 'Side dishes such as cooked vegetables', 'Okra', 'Duckling or goose', 'Cucumbers', 'Grapes', 'Kefir (fermented milk)', 'Sour cream', 'Burritos']\n",
            "5005716 ['Melons', 'Quiche', 'Eclairs', 'Pears', 'Doughnuts', 'Croissants', 'Soy meat substitutes', 'Papaya', 'Broccoli', 'Salads', 'Cauliflower', 'Bread', 'Juice in cartons', 'Side dishes such as cooked vegetables', 'Okra', 'Duckling or goose', 'Grapes', 'Kefir (fermented milk)', 'Sour cream', 'Burritos']\n",
            "5005717 ['Melons', 'Quiche', 'Eclairs', 'Pears', 'Doughnuts', 'Croissants', 'Papaya', 'Broccoli', 'Cauliflower', 'Bread', 'Juice in cartons', 'Side dishes such as cooked vegetables', 'Okra', 'Duckling or goose', 'Cucumbers', 'Grapes', 'Kefir (fermented milk)', 'Sour cream', 'Burritos', 'Pies']\n",
            "5005718 ['Melons', 'Quiche', 'Eclairs', 'Pears', 'Doughnuts', 'Croissants', 'Soy meat substitutes', 'Papaya', 'Broccoli', 'Salads', 'Cauliflower', 'Bread', 'Juice in cartons', 'Side dishes such as cooked vegetables', 'Okra', 'Duckling or goose', 'Cucumbers', 'Grapes', 'Kefir (fermented milk)', 'Sour cream']\n",
            "5005812 ['Melons', 'Quiche', 'Eclairs', 'Pears', 'Doughnuts', 'Croissants', 'Soy meat substitutes', 'Papaya', 'Broccoli', 'Salads', 'Cauliflower', 'Juice in cartons', 'Side dishes such as cooked vegetables', 'Okra', 'Duckling or goose', 'Cucumbers', 'Grapes', 'Kefir (fermented milk)', 'Sour cream', 'Burritos']\n",
            "5005814 ['Melons', 'Quiche', 'Eclairs', 'Pears', 'Doughnuts', 'Croissants', 'Soy meat substitutes', 'Papaya', 'Broccoli', 'Salads', 'Cauliflower', 'Bread', 'Juice in cartons', 'Side dishes such as cooked vegetables', 'Okra', 'Duckling or goose', 'Cucumbers', 'Grapes', 'Kefir (fermented milk)', 'Sour cream']\n",
            "5005815 ['Melons', 'Quiche', 'Eclairs', 'Pears', 'Doughnuts', 'Croissants', 'Papaya', 'Broccoli', 'Salads', 'Cauliflower', 'Juice in cartons', 'Side dishes such as cooked vegetables', 'Okra', 'Duckling or goose', 'Cucumbers', 'Grapes', 'Kefir (fermented milk)', 'Sour cream', 'Burritos', 'Pies']\n",
            "5006013 ['Melons', 'Quiche', 'Eclairs', 'Pears', 'Doughnuts', 'Croissants', 'Soy meat substitutes', 'Papaya', 'Broccoli', 'Salads', 'Cauliflower', 'Bread', 'Juice in cartons', 'Side dishes such as cooked vegetables', 'Okra', 'Duckling or goose', 'Cucumbers', 'Grapes', 'Kefir (fermented milk)', 'Sour cream']\n",
            "5006014 ['Melons', 'Quiche', 'Eclairs', 'Pears', 'Doughnuts', 'Croissants', 'Soy meat substitutes', 'Papaya', 'Broccoli', 'Salads', 'Cauliflower', 'Bread', 'Juice in cartons', 'Side dishes such as cooked vegetables', 'Okra', 'Duckling or goose', 'Cucumbers', 'Grapes', 'Kefir (fermented milk)', 'Sour cream']\n",
            "5006015 ['Melons', 'Quiche', 'Eclairs', 'Pears', 'Doughnuts', 'Croissants', 'Soy meat substitutes', 'Papaya', 'Broccoli', 'Salads', 'Cauliflower', 'Bread', 'Juice in cartons', 'Side dishes such as cooked vegetables', 'Okra', 'Duckling or goose', 'Cucumbers', 'Grapes', 'Kefir (fermented milk)', 'Sour cream']\n",
            "5006016 ['Eclairs', 'Pears', 'Doughnuts', 'Croissants', 'Soy meat substitutes', 'Papaya', 'Broccoli', 'Salads', 'Cauliflower', 'Bread', 'Juice in cartons', 'Side dishes such as cooked vegetables', 'Okra', 'Duckling or goose', 'Cucumbers', 'Grapes', 'Kefir (fermented milk)', 'Sour cream', 'Burritos', 'Pies']\n",
            "5006214 ['Melons', 'Quiche', 'Eclairs', 'Pears', 'Doughnuts', 'Croissants', 'Papaya', 'Broccoli', 'Salads', 'Cauliflower', 'Bread', 'Juice in cartons', 'Side dishes such as cooked vegetables', 'Okra', 'Duckling or goose', 'Grapes', 'Kefir (fermented milk)', 'Sour cream', 'Burritos', 'Pies']\n",
            "5006215 ['Melons', 'Quiche', 'Eclairs', 'Pears', 'Doughnuts', 'Croissants', 'Soy meat substitutes', 'Papaya', 'Broccoli', 'Salads', 'Cauliflower', 'Bread', 'Juice in cartons', 'Side dishes such as cooked vegetables', 'Okra', 'Cucumbers', 'Grapes', 'Kefir (fermented milk)', 'Sour cream', 'Burritos']\n",
            "5006216 ['Melons', 'Quiche', 'Eclairs', 'Pears', 'Doughnuts', 'Croissants', 'Soy meat substitutes', 'Papaya', 'Broccoli', 'Salads', 'Cauliflower', 'Bread', 'Juice in cartons', 'Side dishes such as cooked vegetables', 'Okra', 'Duckling or goose', 'Cucumbers', 'Grapes', 'Kefir (fermented milk)', 'Sour cream']\n",
            "5005317 ['Melons', 'Quiche', 'Eclairs', 'Pears', 'Doughnuts', 'Croissants', 'Soy meat substitutes', 'Papaya', 'Broccoli', 'Salads', 'Cauliflower', 'Bread', 'Juice in cartons', 'Side dishes such as cooked vegetables', 'Okra', 'Duckling or goose', 'Cucumbers', 'Grapes', 'Kefir (fermented milk)', 'Sour cream']\n",
            "5005813 ['Melons', 'Quiche', 'Eclairs', 'Pears', 'Doughnuts', 'Croissants', 'Soy meat substitutes', 'Papaya', 'Broccoli', 'Salads', 'Cauliflower', 'Bread', 'Juice in cartons', 'Side dishes such as cooked vegetables', 'Okra', 'Duckling or goose', 'Cucumbers', 'Grapes', 'Kefir (fermented milk)', 'Sour cream']\n",
            "5005816 ['Melons', 'Quiche', 'Eclairs', 'Pears', 'Doughnuts', 'Croissants', 'Soy meat substitutes', 'Papaya', 'Broccoli', 'Salads', 'Cauliflower', 'Bread', 'Juice in cartons', 'Side dishes such as cooked vegetables', 'Okra', 'Duckling or goose', 'Cucumbers', 'Grapes', 'Kefir (fermented milk)', 'Sour cream']\n",
            "5006017 ['Melons', 'Quiche', 'Eclairs', 'Pears', 'Doughnuts', 'Croissants', 'Soy meat substitutes', 'Papaya', 'Broccoli', 'Salads', 'Cauliflower', 'Bread', 'Juice in cartons', 'Okra', 'Duckling or goose', 'Cucumbers', 'Grapes', 'Kefir (fermented milk)', 'Sour cream', 'Burritos']\n",
            "5006315 ['Melons', 'Quiche', 'Eclairs', 'Pears', 'Doughnuts', 'Croissants', 'Soy meat substitutes', 'Papaya', 'Broccoli', 'Salads', 'Cauliflower', 'Bread', 'Juice in cartons', 'Side dishes such as cooked vegetables', 'Okra', 'Duckling or goose', 'Cucumbers', 'Grapes', 'Kefir (fermented milk)', 'Sour cream']\n",
            "5006316 ['Melons', 'Quiche', 'Eclairs', 'Pears', 'Doughnuts', 'Croissants', 'Soy meat substitutes', 'Papaya', 'Broccoli', 'Salads', 'Cauliflower', 'Bread', 'Juice in cartons', 'Side dishes such as cooked vegetables', 'Okra', 'Duckling or goose', 'Cucumbers', 'Grapes', 'Sour cream', 'Pies']\n",
            "500661 ['Melons', 'Quiche', 'Eclairs', 'Pears', 'Doughnuts', 'Croissants', 'Soy meat substitutes', 'Papaya', 'Broccoli', 'Salads', 'Cauliflower', 'Bread', 'Juice in cartons', 'Side dishes such as cooked vegetables', 'Okra', 'Duckling or goose', 'Cucumbers', 'Grapes', 'Kefir (fermented milk)', 'Sour cream']\n",
            "500662 ['Melons', 'Quiche', 'Eclairs', 'Pears', 'Doughnuts', 'Croissants', 'Soy meat substitutes', 'Papaya', 'Broccoli', 'Salads', 'Bread', 'Juice in cartons', 'Side dishes such as cooked vegetables', 'Okra', 'Duckling or goose', 'Cucumbers', 'Grapes', 'Kefir (fermented milk)', 'Burritos', 'Pies']\n",
            "500663 ['Melons', 'Quiche', 'Eclairs', 'Pears', 'Doughnuts', 'Croissants', 'Soy meat substitutes', 'Papaya', 'Broccoli', 'Salads', 'Cauliflower', 'Bread', 'Juice in cartons', 'Side dishes such as cooked vegetables', 'Okra', 'Duckling or goose', 'Cucumbers', 'Grapes', 'Kefir (fermented milk)', 'Sour cream']\n",
            "500665 ['Melons', 'Quiche', 'Eclairs', 'Pears', 'Croissants', 'Soy meat substitutes', 'Papaya', 'Broccoli', 'Salads', 'Cauliflower', 'Bread', 'Juice in cartons', 'Side dishes such as cooked vegetables', 'Okra', 'Duckling or goose', 'Cucumbers', 'Grapes', 'Kefir (fermented milk)', 'Sour cream', 'Burritos']\n",
            "500666 ['Quiche', 'Eclairs', 'Pears', 'Doughnuts', 'Croissants', 'Soy meat substitutes', 'Papaya', 'Broccoli', 'Salads', 'Bread', 'Juice in cartons', 'Side dishes such as cooked vegetables', 'Okra', 'Duckling or goose', 'Cucumbers', 'Grapes', 'Kefir (fermented milk)', 'Sour cream', 'Burritos', 'Pies']\n",
            "500667 ['Melons', 'Quiche', 'Eclairs', 'Pears', 'Doughnuts', 'Croissants', 'Soy meat substitutes', 'Papaya', 'Broccoli', 'Cauliflower', 'Bread', 'Juice in cartons', 'Side dishes such as cooked vegetables', 'Okra', 'Duckling or goose', 'Cucumbers', 'Grapes', 'Kefir (fermented milk)', 'Sour cream', 'Radishes']\n",
            "500668 ['Quiche', 'Eclairs', 'Pears', 'Doughnuts', 'Croissants', 'Soy meat substitutes', 'Papaya', 'Salads', 'Cauliflower', 'Bread', 'Juice in cartons', 'Side dishes such as cooked vegetables', 'Okra', 'Duckling or goose', 'Kefir (fermented milk)', 'Sour cream', 'Burritos', 'Pies', 'Radishes', 'Pastries']\n",
            "500669 ['Melons', 'Quiche', 'Eclairs', 'Pears', 'Doughnuts', 'Croissants', 'Soy meat substitutes', 'Papaya', 'Broccoli', 'Salads', 'Cauliflower', 'Bread', 'Juice in cartons', 'Okra', 'Duckling or goose', 'Cucumbers', 'Grapes', 'Kefir (fermented milk)', 'Burritos', 'Radishes']\n",
            "5006610 ['Melons', 'Quiche', 'Eclairs', 'Pears', 'Doughnuts', 'Croissants', 'Soy meat substitutes', 'Papaya', 'Broccoli', 'Salads', 'Cauliflower', 'Bread', 'Juice in cartons', 'Side dishes such as cooked vegetables', 'Okra', 'Duckling or goose', 'Grapes', 'Kefir (fermented milk)', 'Sour cream', 'Burritos']\n",
            "5006611 ['Melons', 'Quiche', 'Eclairs', 'Pears', 'Doughnuts', 'Croissants', 'Soy meat substitutes', 'Papaya', 'Broccoli', 'Salads', 'Cauliflower', 'Bread', 'Juice in cartons', 'Side dishes such as cooked vegetables', 'Okra', 'Duckling or goose', 'Cucumbers', 'Grapes', 'Kefir (fermented milk)', 'Sour cream']\n",
            "5006612 ['Melons', 'Quiche', 'Eclairs', 'Pears', 'Croissants', 'Soy meat substitutes', 'Broccoli', 'Salads', 'Cauliflower', 'Bread', 'Juice in cartons', 'Okra', 'Duckling or goose', 'Cucumbers', 'Grapes', 'Kefir (fermented milk)', 'Sour cream', 'Burritos', 'Pies', 'Radishes']\n",
            "5006613 ['Melons', 'Quiche', 'Eclairs', 'Pears', 'Doughnuts', 'Soy meat substitutes', 'Papaya', 'Broccoli', 'Salads', 'Cauliflower', 'Bread', 'Side dishes such as cooked vegetables', 'Okra', 'Duckling or goose', 'Cucumbers', 'Grapes', 'Kefir (fermented milk)', 'Sour cream', 'Burritos', 'Pies']\n",
            "5006614 ['Melons', 'Quiche', 'Eclairs', 'Pears', 'Doughnuts', 'Croissants', 'Soy meat substitutes', 'Papaya', 'Broccoli', 'Salads', 'Cauliflower', 'Bread', 'Juice in cartons', 'Side dishes such as cooked vegetables', 'Okra', 'Duckling or goose', 'Cucumbers', 'Grapes', 'Kefir (fermented milk)', 'Sour cream']\n",
            "5006615 ['Quiche', 'Eclairs', 'Pears', 'Doughnuts', 'Croissants', 'Soy meat substitutes', 'Papaya', 'Broccoli', 'Cauliflower', 'Bread', 'Juice in cartons', 'Side dishes such as cooked vegetables', 'Okra', 'Duckling or goose', 'Cucumbers', 'Grapes', 'Kefir (fermented milk)', 'Sour cream', 'Burritos', 'Pies']\n",
            "500671 ['Melons', 'Quiche', 'Eclairs', 'Pears', 'Doughnuts', 'Croissants', 'Soy meat substitutes', 'Papaya', 'Broccoli', 'Salads', 'Cauliflower', 'Bread', 'Side dishes such as cooked vegetables', 'Okra', 'Duckling or goose', 'Cucumbers', 'Grapes', 'Sour cream', 'Burritos', 'Pies']\n",
            "500672 ['Melons', 'Quiche', 'Eclairs', 'Pears', 'Doughnuts', 'Croissants', 'Soy meat substitutes', 'Papaya', 'Broccoli', 'Salads', 'Cauliflower', 'Bread', 'Juice in cartons', 'Side dishes such as cooked vegetables', 'Okra', 'Duckling or goose', 'Cucumbers', 'Grapes', 'Kefir (fermented milk)', 'Sour cream']\n",
            "500673 ['Melons', 'Quiche', 'Eclairs', 'Pears', 'Doughnuts', 'Croissants', 'Soy meat substitutes', 'Papaya', 'Broccoli', 'Salads', 'Cauliflower', 'Bread', 'Juice in cartons', 'Side dishes such as cooked vegetables', 'Okra', 'Duckling or goose', 'Cucumbers', 'Grapes', 'Kefir (fermented milk)', 'Sour cream']\n",
            "500674 ['Melons', 'Quiche', 'Eclairs', 'Pears', 'Doughnuts', 'Croissants', 'Soy meat substitutes', 'Papaya', 'Broccoli', 'Salads', 'Cauliflower', 'Bread', 'Juice in cartons', 'Side dishes such as cooked vegetables', 'Okra', 'Duckling or goose', 'Cucumbers', 'Grapes', 'Kefir (fermented milk)', 'Sour cream']\n",
            "500675 ['Melons', 'Quiche', 'Eclairs', 'Pears', 'Doughnuts', 'Croissants', 'Soy meat substitutes', 'Papaya', 'Broccoli', 'Salads', 'Cauliflower', 'Bread', 'Juice in cartons', 'Side dishes such as cooked vegetables', 'Okra', 'Cucumbers', 'Grapes', 'Kefir (fermented milk)', 'Sour cream', 'Burritos']\n",
            "500676 ['Melons', 'Quiche', 'Eclairs', 'Pears', 'Doughnuts', 'Croissants', 'Soy meat substitutes', 'Papaya', 'Broccoli', 'Salads', 'Cauliflower', 'Bread', 'Juice in cartons', 'Side dishes such as cooked vegetables', 'Okra', 'Duckling or goose', 'Cucumbers', 'Grapes', 'Kefir (fermented milk)', 'Sour cream']\n",
            "500677 ['Melons', 'Eclairs', 'Pears', 'Doughnuts', 'Croissants', 'Soy meat substitutes', 'Papaya', 'Broccoli', 'Cauliflower', 'Bread', 'Juice in cartons', 'Side dishes such as cooked vegetables', 'Okra', 'Duckling or goose', 'Cucumbers', 'Kefir (fermented milk)', 'Radishes', 'Pastries', 'Pancakes', 'Greens']\n",
            "500678 ['Melons', 'Quiche', 'Eclairs', 'Pears', 'Doughnuts', 'Croissants', 'Soy meat substitutes', 'Papaya', 'Broccoli', 'Salads', 'Cauliflower', 'Bread', 'Juice in cartons', 'Side dishes such as cooked vegetables', 'Okra', 'Duckling or goose', 'Cucumbers', 'Grapes', 'Sour cream', 'Burritos']\n",
            "500679 ['Melons', 'Quiche', 'Eclairs', 'Pears', 'Croissants', 'Soy meat substitutes', 'Papaya', 'Broccoli', 'Salads', 'Cauliflower', 'Bread', 'Juice in cartons', 'Side dishes such as cooked vegetables', 'Okra', 'Duckling or goose', 'Cucumbers', 'Kefir (fermented milk)', 'Sour cream', 'Burritos', 'Pies']\n",
            "5006710 ['Melons', 'Quiche', 'Eclairs', 'Pears', 'Soy meat substitutes', 'Papaya', 'Broccoli', 'Salads', 'Cauliflower', 'Juice in cartons', 'Side dishes such as cooked vegetables', 'Okra', 'Duckling or goose', 'Cucumbers', 'Grapes', 'Kefir (fermented milk)', 'Sour cream', 'Burritos', 'Pies', 'Radishes']\n",
            "5006711 ['Melons', 'Quiche', 'Eclairs', 'Pears', 'Doughnuts', 'Croissants', 'Soy meat substitutes', 'Papaya', 'Broccoli', 'Salads', 'Cauliflower', 'Bread', 'Juice in cartons', 'Side dishes such as cooked vegetables', 'Okra', 'Duckling or goose', 'Cucumbers', 'Grapes', 'Kefir (fermented milk)', 'Sour cream']\n",
            "5006713 ['Melons', 'Quiche', 'Eclairs', 'Pears', 'Doughnuts', 'Croissants', 'Soy meat substitutes', 'Papaya', 'Broccoli', 'Salads', 'Cauliflower', 'Bread', 'Juice in cartons', 'Side dishes such as cooked vegetables', 'Okra', 'Duckling or goose', 'Cucumbers', 'Grapes', 'Kefir (fermented milk)', 'Sour cream']\n",
            "5006714 ['Melons', 'Quiche', 'Eclairs', 'Pears', 'Doughnuts', 'Croissants', 'Soy meat substitutes', 'Papaya', 'Broccoli', 'Salads', 'Cauliflower', 'Bread', 'Juice in cartons', 'Side dishes such as cooked vegetables', 'Okra', 'Duckling or goose', 'Cucumbers', 'Grapes', 'Kefir (fermented milk)', 'Sour cream']\n",
            "5006715 ['Melons', 'Quiche', 'Eclairs', 'Pears', 'Doughnuts', 'Croissants', 'Soy meat substitutes', 'Papaya', 'Broccoli', 'Salads', 'Cauliflower', 'Bread', 'Juice in cartons', 'Side dishes such as cooked vegetables', 'Okra', 'Duckling or goose', 'Cucumbers', 'Grapes', 'Kefir (fermented milk)', 'Sour cream']\n",
            "5006716 ['Melons', 'Quiche', 'Eclairs', 'Pears', 'Doughnuts', 'Croissants', 'Soy meat substitutes', 'Papaya', 'Broccoli', 'Salads', 'Cauliflower', 'Bread', 'Juice in cartons', 'Side dishes such as cooked vegetables', 'Okra', 'Duckling or goose', 'Cucumbers', 'Grapes', 'Kefir (fermented milk)', 'Sour cream']\n",
            "5006717 ['Melons', 'Quiche', 'Eclairs', 'Pears', 'Doughnuts', 'Croissants', 'Soy meat substitutes', 'Papaya', 'Broccoli', 'Salads', 'Cauliflower', 'Bread', 'Juice in cartons', 'Side dishes such as cooked vegetables', 'Okra', 'Duckling or goose', 'Cucumbers', 'Grapes', 'Kefir (fermented milk)', 'Sour cream']\n",
            "500681 ['Melons', 'Quiche', 'Eclairs', 'Pears', 'Doughnuts', 'Croissants', 'Soy meat substitutes', 'Papaya', 'Broccoli', 'Salads', 'Cauliflower', 'Juice in cartons', 'Side dishes such as cooked vegetables', 'Okra', 'Duckling or goose', 'Cucumbers', 'Grapes', 'Kefir (fermented milk)', 'Sour cream', 'Burritos']\n",
            "500682 ['Melons', 'Quiche', 'Eclairs', 'Pears', 'Doughnuts', 'Croissants', 'Soy meat substitutes', 'Papaya', 'Broccoli', 'Salads', 'Cauliflower', 'Bread', 'Juice in cartons', 'Side dishes such as cooked vegetables', 'Duckling or goose', 'Cucumbers', 'Grapes', 'Kefir (fermented milk)', 'Sour cream', 'Burritos']\n",
            "500683 ['Melons', 'Quiche', 'Eclairs', 'Pears', 'Doughnuts', 'Croissants', 'Soy meat substitutes', 'Broccoli', 'Salads', 'Cauliflower', 'Bread', 'Juice in cartons', 'Side dishes such as cooked vegetables', 'Okra', 'Duckling or goose', 'Cucumbers', 'Grapes', 'Kefir (fermented milk)', 'Sour cream', 'Burritos']\n",
            "500684 ['Melons', 'Quiche', 'Eclairs', 'Pears', 'Croissants', 'Papaya', 'Broccoli', 'Salads', 'Cauliflower', 'Juice in cartons', 'Side dishes such as cooked vegetables', 'Okra', 'Duckling or goose', 'Cucumbers', 'Grapes', 'Kefir (fermented milk)', 'Sour cream', 'Burritos', 'Pies', 'Radishes']\n",
            "500685 ['Melons', 'Eclairs', 'Pears', 'Doughnuts', 'Croissants', 'Soy meat substitutes', 'Papaya', 'Broccoli', 'Salads', 'Cauliflower', 'Bread', 'Juice in cartons', 'Side dishes such as cooked vegetables', 'Okra', 'Duckling or goose', 'Cucumbers', 'Grapes', 'Kefir (fermented milk)', 'Sour cream', 'Burritos']\n",
            "500686 ['Melons', 'Quiche', 'Eclairs', 'Pears', 'Doughnuts', 'Croissants', 'Soy meat substitutes', 'Papaya', 'Broccoli', 'Salads', 'Cauliflower', 'Bread', 'Juice in cartons', 'Side dishes such as cooked vegetables', 'Okra', 'Duckling or goose', 'Cucumbers', 'Grapes', 'Sour cream', 'Burritos']\n",
            "500687 ['Melons', 'Quiche', 'Eclairs', 'Pears', 'Croissants', 'Soy meat substitutes', 'Papaya', 'Broccoli', 'Salads', 'Cauliflower', 'Bread', 'Juice in cartons', 'Side dishes such as cooked vegetables', 'Okra', 'Duckling or goose', 'Cucumbers', 'Grapes', 'Kefir (fermented milk)', 'Sour cream', 'Burritos']\n",
            "500688 ['Melons', 'Quiche', 'Eclairs', 'Pears', 'Doughnuts', 'Croissants', 'Soy meat substitutes', 'Papaya', 'Broccoli', 'Salads', 'Cauliflower', 'Bread', 'Juice in cartons', 'Side dishes such as cooked vegetables', 'Okra', 'Duckling or goose', 'Cucumbers', 'Grapes', 'Kefir (fermented milk)', 'Sour cream']\n",
            "500689 ['Melons', 'Quiche', 'Eclairs', 'Pears', 'Croissants', 'Soy meat substitutes', 'Papaya', 'Broccoli', 'Salads', 'Cauliflower', 'Bread', 'Juice in cartons', 'Side dishes such as cooked vegetables', 'Okra', 'Duckling or goose', 'Cucumbers', 'Grapes', 'Kefir (fermented milk)', 'Sour cream', 'Burritos']\n",
            "5006810 ['Melons', 'Quiche', 'Eclairs', 'Pears', 'Croissants', 'Soy meat substitutes', 'Papaya', 'Broccoli', 'Salads', 'Bread', 'Juice in cartons', 'Side dishes such as cooked vegetables', 'Okra', 'Duckling or goose', 'Cucumbers', 'Grapes', 'Kefir (fermented milk)', 'Sour cream', 'Burritos', 'Pies']\n",
            "5006811 ['Melons', 'Eclairs', 'Pears', 'Doughnuts', 'Croissants', 'Soy meat substitutes', 'Papaya', 'Broccoli', 'Salads', 'Cauliflower', 'Bread', 'Juice in cartons', 'Side dishes such as cooked vegetables', 'Okra', 'Duckling or goose', 'Cucumbers', 'Grapes', 'Kefir (fermented milk)', 'Sour cream', 'Burritos']\n",
            "5006812 ['Melons', 'Quiche', 'Eclairs', 'Pears', 'Doughnuts', 'Croissants', 'Papaya', 'Broccoli', 'Salads', 'Cauliflower', 'Bread', 'Juice in cartons', 'Side dishes such as cooked vegetables', 'Okra', 'Duckling or goose', 'Cucumbers', 'Grapes', 'Kefir (fermented milk)', 'Sour cream', 'Burritos']\n",
            "5006813 ['Melons', 'Quiche', 'Eclairs', 'Pears', 'Doughnuts', 'Croissants', 'Soy meat substitutes', 'Papaya', 'Broccoli', 'Salads', 'Cauliflower', 'Bread', 'Juice in cartons', 'Side dishes such as cooked vegetables', 'Okra', 'Duckling or goose', 'Cucumbers', 'Grapes', 'Kefir (fermented milk)', 'Sour cream']\n",
            "5006815 ['Melons', 'Quiche', 'Eclairs', 'Pears', 'Doughnuts', 'Croissants', 'Soy meat substitutes', 'Papaya', 'Broccoli', 'Salads', 'Cauliflower', 'Bread', 'Juice in cartons', 'Side dishes such as cooked vegetables', 'Okra', 'Duckling or goose', 'Cucumbers', 'Grapes', 'Kefir (fermented milk)', 'Sour cream']\n",
            "500691 ['Melons', 'Quiche', 'Eclairs', 'Pears', 'Doughnuts', 'Croissants', 'Soy meat substitutes', 'Papaya', 'Broccoli', 'Salads', 'Cauliflower', 'Juice in cartons', 'Side dishes such as cooked vegetables', 'Okra', 'Duckling or goose', 'Cucumbers', 'Grapes', 'Kefir (fermented milk)', 'Sour cream', 'Burritos']\n",
            "500692 ['Melons', 'Quiche', 'Eclairs', 'Doughnuts', 'Croissants', 'Soy meat substitutes', 'Papaya', 'Broccoli', 'Cauliflower', 'Bread', 'Juice in cartons', 'Side dishes such as cooked vegetables', 'Okra', 'Duckling or goose', 'Cucumbers', 'Grapes', 'Kefir (fermented milk)', 'Sour cream', 'Burritos', 'Pies']\n",
            "500693 ['Melons', 'Quiche', 'Eclairs', 'Pears', 'Doughnuts', 'Croissants', 'Soy meat substitutes', 'Papaya', 'Broccoli', 'Salads', 'Cauliflower', 'Bread', 'Juice in cartons', 'Side dishes such as cooked vegetables', 'Okra', 'Duckling or goose', 'Cucumbers', 'Grapes', 'Sour cream', 'Burritos']\n",
            "500694 ['Quiche', 'Eclairs', 'Pears', 'Doughnuts', 'Croissants', 'Soy meat substitutes', 'Papaya', 'Broccoli', 'Salads', 'Cauliflower', 'Bread', 'Juice in cartons', 'Side dishes such as cooked vegetables', 'Okra', 'Duckling or goose', 'Cucumbers', 'Grapes', 'Kefir (fermented milk)', 'Sour cream', 'Burritos']\n",
            "500695 ['Melons', 'Quiche', 'Eclairs', 'Pears', 'Doughnuts', 'Croissants', 'Soy meat substitutes', 'Papaya', 'Broccoli', 'Salads', 'Cauliflower', 'Bread', 'Juice in cartons', 'Side dishes such as cooked vegetables', 'Okra', 'Duckling or goose', 'Cucumbers', 'Kefir (fermented milk)', 'Sour cream', 'Burritos']\n",
            "500696 ['Melons', 'Quiche', 'Eclairs', 'Pears', 'Doughnuts', 'Croissants', 'Soy meat substitutes', 'Papaya', 'Broccoli', 'Salads', 'Cauliflower', 'Bread', 'Juice in cartons', 'Side dishes such as cooked vegetables', 'Okra', 'Duckling or goose', 'Cucumbers', 'Grapes', 'Kefir (fermented milk)', 'Sour cream']\n",
            "500697 ['Melons', 'Eclairs', 'Pears', 'Doughnuts', 'Croissants', 'Soy meat substitutes', 'Papaya', 'Broccoli', 'Salads', 'Cauliflower', 'Bread', 'Juice in cartons', 'Side dishes such as cooked vegetables', 'Okra', 'Duckling or goose', 'Cucumbers', 'Grapes', 'Kefir (fermented milk)', 'Sour cream', 'Burritos']\n",
            "500699 ['Melons', 'Quiche', 'Eclairs', 'Pears', 'Doughnuts', 'Croissants', 'Soy meat substitutes', 'Papaya', 'Broccoli', 'Salads', 'Cauliflower', 'Juice in cartons', 'Side dishes such as cooked vegetables', 'Okra', 'Duckling or goose', 'Cucumbers', 'Grapes', 'Kefir (fermented milk)', 'Sour cream', 'Burritos']\n",
            "5006910 ['Melons', 'Quiche', 'Eclairs', 'Pears', 'Doughnuts', 'Croissants', 'Soy meat substitutes', 'Papaya', 'Broccoli', 'Salads', 'Cauliflower', 'Bread', 'Juice in cartons', 'Side dishes such as cooked vegetables', 'Okra', 'Duckling or goose', 'Cucumbers', 'Kefir (fermented milk)', 'Sour cream', 'Burritos']\n",
            "5006911 ['Melons', 'Quiche', 'Eclairs', 'Pears', 'Doughnuts', 'Soy meat substitutes', 'Papaya', 'Broccoli', 'Salads', 'Cauliflower', 'Bread', 'Juice in cartons', 'Side dishes such as cooked vegetables', 'Okra', 'Duckling or goose', 'Cucumbers', 'Grapes', 'Kefir (fermented milk)', 'Sour cream', 'Burritos']\n",
            "5006912 ['Melons', 'Quiche', 'Eclairs', 'Pears', 'Doughnuts', 'Croissants', 'Soy meat substitutes', 'Papaya', 'Broccoli', 'Salads', 'Cauliflower', 'Bread', 'Juice in cartons', 'Side dishes such as cooked vegetables', 'Okra', 'Duckling or goose', 'Cucumbers', 'Grapes', 'Kefir (fermented milk)', 'Sour cream']\n",
            "5006913 ['Melons', 'Quiche', 'Eclairs', 'Pears', 'Doughnuts', 'Croissants', 'Soy meat substitutes', 'Papaya', 'Broccoli', 'Salads', 'Cauliflower', 'Bread', 'Juice in cartons', 'Side dishes such as cooked vegetables', 'Okra', 'Duckling or goose', 'Cucumbers', 'Grapes', 'Kefir (fermented milk)', 'Sour cream']\n",
            "5006914 ['Melons', 'Quiche', 'Pears', 'Doughnuts', 'Croissants', 'Soy meat substitutes', 'Papaya', 'Broccoli', 'Salads', 'Cauliflower', 'Bread', 'Juice in cartons', 'Side dishes such as cooked vegetables', 'Okra', 'Duckling or goose', 'Cucumbers', 'Grapes', 'Sour cream', 'Burritos', 'Pies']\n",
            "500701 ['Melons', 'Quiche', 'Eclairs', 'Pears', 'Doughnuts', 'Croissants', 'Soy meat substitutes', 'Papaya', 'Broccoli', 'Salads', 'Cauliflower', 'Bread', 'Juice in cartons', 'Side dishes such as cooked vegetables', 'Okra', 'Duckling or goose', 'Cucumbers', 'Grapes', 'Kefir (fermented milk)', 'Sour cream']\n",
            "500702 ['Melons', 'Eclairs', 'Pears', 'Croissants', 'Soy meat substitutes', 'Broccoli', 'Salads', 'Cauliflower', 'Bread', 'Juice in cartons', 'Side dishes such as cooked vegetables', 'Okra', 'Duckling or goose', 'Cucumbers', 'Grapes', 'Kefir (fermented milk)', 'Sour cream', 'Burritos', 'Radishes', 'Pastries']\n",
            "500703 ['Melons', 'Quiche', 'Eclairs', 'Pears', 'Doughnuts', 'Croissants', 'Soy meat substitutes', 'Papaya', 'Broccoli', 'Salads', 'Cauliflower', 'Bread', 'Juice in cartons', 'Side dishes such as cooked vegetables', 'Okra', 'Duckling or goose', 'Cucumbers', 'Grapes', 'Kefir (fermented milk)', 'Sour cream']\n",
            "500704 ['Melons', 'Quiche', 'Eclairs', 'Pears', 'Doughnuts', 'Croissants', 'Soy meat substitutes', 'Papaya', 'Broccoli', 'Salads', 'Cauliflower', 'Bread', 'Juice in cartons', 'Side dishes such as cooked vegetables', 'Okra', 'Duckling or goose', 'Cucumbers', 'Grapes', 'Kefir (fermented milk)', 'Sour cream']\n",
            "500705 ['Quiche', 'Eclairs', 'Pears', 'Doughnuts', 'Croissants', 'Soy meat substitutes', 'Papaya', 'Broccoli', 'Salads', 'Cauliflower', 'Bread', 'Juice in cartons', 'Side dishes such as cooked vegetables', 'Okra', 'Duckling or goose', 'Cucumbers', 'Kefir (fermented milk)', 'Sour cream', 'Burritos', 'Pies']\n",
            "500706 ['Melons', 'Quiche', 'Eclairs', 'Pears', 'Doughnuts', 'Croissants', 'Soy meat substitutes', 'Papaya', 'Broccoli', 'Salads', 'Cauliflower', 'Bread', 'Juice in cartons', 'Side dishes such as cooked vegetables', 'Okra', 'Cucumbers', 'Grapes', 'Kefir (fermented milk)', 'Sour cream', 'Burritos']\n",
            "500707 ['Melons', 'Quiche', 'Eclairs', 'Doughnuts', 'Croissants', 'Soy meat substitutes', 'Papaya', 'Broccoli', 'Salads', 'Cauliflower', 'Bread', 'Juice in cartons', 'Side dishes such as cooked vegetables', 'Okra', 'Duckling or goose', 'Cucumbers', 'Grapes', 'Kefir (fermented milk)', 'Sour cream', 'Burritos']\n",
            "500708 ['Melons', 'Quiche', 'Eclairs', 'Pears', 'Doughnuts', 'Croissants', 'Soy meat substitutes', 'Papaya', 'Broccoli', 'Salads', 'Cauliflower', 'Bread', 'Juice in cartons', 'Side dishes such as cooked vegetables', 'Okra', 'Duckling or goose', 'Cucumbers', 'Grapes', 'Kefir (fermented milk)', 'Sour cream']\n",
            "500709 ['Melons', 'Quiche', 'Eclairs', 'Pears', 'Doughnuts', 'Croissants', 'Soy meat substitutes', 'Papaya', 'Broccoli', 'Salads', 'Cauliflower', 'Bread', 'Juice in cartons', 'Side dishes such as cooked vegetables', 'Okra', 'Duckling or goose', 'Cucumbers', 'Grapes', 'Kefir (fermented milk)', 'Sour cream']\n",
            "5007010 ['Melons', 'Quiche', 'Eclairs', 'Pears', 'Doughnuts', 'Croissants', 'Soy meat substitutes', 'Papaya', 'Broccoli', 'Salads', 'Cauliflower', 'Bread', 'Juice in cartons', 'Side dishes such as cooked vegetables', 'Okra', 'Duckling or goose', 'Cucumbers', 'Grapes', 'Kefir (fermented milk)', 'Sour cream']\n",
            "5007011 ['Melons', 'Quiche', 'Eclairs', 'Pears', 'Doughnuts', 'Croissants', 'Soy meat substitutes', 'Papaya', 'Broccoli', 'Cauliflower', 'Bread', 'Juice in cartons', 'Side dishes such as cooked vegetables', 'Okra', 'Duckling or goose', 'Cucumbers', 'Kefir (fermented milk)', 'Sour cream', 'Burritos', 'Pies']\n",
            "5007012 ['Melons', 'Quiche', 'Eclairs', 'Pears', 'Croissants', 'Soy meat substitutes', 'Papaya', 'Broccoli', 'Salads', 'Cauliflower', 'Bread', 'Juice in cartons', 'Side dishes such as cooked vegetables', 'Duckling or goose', 'Cucumbers', 'Grapes', 'Kefir (fermented milk)', 'Sour cream', 'Burritos', 'Pies']\n",
            "5005016 ['Melons', 'Quiche', 'Eclairs', 'Pears', 'Doughnuts', 'Croissants', 'Soy meat substitutes', 'Papaya', 'Broccoli', 'Salads', 'Cauliflower', 'Juice in cartons', 'Side dishes such as cooked vegetables', 'Okra', 'Duckling or goose', 'Cucumbers', 'Grapes', 'Kefir (fermented milk)', 'Sour cream', 'Burritos']\n",
            "5006018 ['Melons', 'Quiche', 'Eclairs', 'Pears', 'Doughnuts', 'Croissants', 'Soy meat substitutes', 'Papaya', 'Broccoli', 'Salads', 'Cauliflower', 'Bread', 'Juice in cartons', 'Side dishes such as cooked vegetables', 'Okra', 'Duckling or goose', 'Cucumbers', 'Grapes', 'Kefir (fermented milk)', 'Sour cream']\n",
            "5006416 ['Melons', 'Quiche', 'Eclairs', 'Pears', 'Doughnuts', 'Croissants', 'Soy meat substitutes', 'Papaya', 'Broccoli', 'Salads', 'Cauliflower', 'Bread', 'Side dishes such as cooked vegetables', 'Okra', 'Duckling or goose', 'Cucumbers', 'Grapes', 'Kefir (fermented milk)', 'Burritos', 'Pies']\n",
            "5006616 ['Melons', 'Quiche', 'Eclairs', 'Pears', 'Doughnuts', 'Croissants', 'Soy meat substitutes', 'Papaya', 'Broccoli', 'Salads', 'Cauliflower', 'Bread', 'Juice in cartons', 'Side dishes such as cooked vegetables', 'Duckling or goose', 'Cucumbers', 'Grapes', 'Kefir (fermented milk)', 'Sour cream', 'Burritos']\n",
            "5006712 ['Melons', 'Quiche', 'Eclairs', 'Pears', 'Doughnuts', 'Croissants', 'Soy meat substitutes', 'Papaya', 'Broccoli', 'Salads', 'Cauliflower', 'Bread', 'Juice in cartons', 'Okra', 'Duckling or goose', 'Cucumbers', 'Grapes', 'Kefir (fermented milk)', 'Sour cream', 'Burritos']\n",
            "500698 ['Melons', 'Quiche', 'Eclairs', 'Pears', 'Doughnuts', 'Croissants', 'Soy meat substitutes', 'Papaya', 'Broccoli', 'Salads', 'Bread', 'Side dishes such as cooked vegetables', 'Okra', 'Duckling or goose', 'Cucumbers', 'Grapes', 'Kefir (fermented milk)', 'Sour cream', 'Burritos', 'Pies']\n",
            "5007013 ['Melons', 'Quiche', 'Pears', 'Doughnuts', 'Croissants', 'Soy meat substitutes', 'Papaya', 'Broccoli', 'Salads', 'Cauliflower', 'Bread', 'Juice in cartons', 'Side dishes such as cooked vegetables', 'Okra', 'Duckling or goose', 'Cucumbers', 'Grapes', 'Kefir (fermented milk)', 'Sour cream', 'Burritos']\n",
            "5007014 ['Melons', 'Quiche', 'Eclairs', 'Pears', 'Doughnuts', 'Croissants', 'Soy meat substitutes', 'Papaya', 'Broccoli', 'Salads', 'Cauliflower', 'Bread', 'Juice in cartons', 'Side dishes such as cooked vegetables', 'Okra', 'Duckling or goose', 'Cucumbers', 'Grapes', 'Kefir (fermented milk)', 'Sour cream']\n",
            "5007015 ['Melons', 'Quiche', 'Eclairs', 'Pears', 'Doughnuts', 'Croissants', 'Soy meat substitutes', 'Papaya', 'Broccoli', 'Salads', 'Cauliflower', 'Bread', 'Juice in cartons', 'Side dishes such as cooked vegetables', 'Okra', 'Duckling or goose', 'Cucumbers', 'Grapes', 'Kefir (fermented milk)', 'Sour cream']\n",
            "5007016 ['Melons', 'Quiche', 'Eclairs', 'Pears', 'Doughnuts', 'Croissants', 'Soy meat substitutes', 'Papaya', 'Broccoli', 'Salads', 'Cauliflower', 'Bread', 'Juice in cartons', 'Side dishes such as cooked vegetables', 'Okra', 'Duckling or goose', 'Cucumbers', 'Grapes', 'Kefir (fermented milk)', 'Sour cream']\n",
            "5007017 ['Melons', 'Quiche', 'Eclairs', 'Pears', 'Doughnuts', 'Croissants', 'Soy meat substitutes', 'Papaya', 'Broccoli', 'Salads', 'Cauliflower', 'Bread', 'Juice in cartons', 'Side dishes such as cooked vegetables', 'Okra', 'Duckling or goose', 'Cucumbers', 'Grapes', 'Kefir (fermented milk)', 'Sour cream']\n",
            "500711 ['Melons', 'Quiche', 'Eclairs', 'Pears', 'Doughnuts', 'Croissants', 'Soy meat substitutes', 'Papaya', 'Broccoli', 'Salads', 'Cauliflower', 'Bread', 'Juice in cartons', 'Side dishes such as cooked vegetables', 'Okra', 'Duckling or goose', 'Cucumbers', 'Grapes', 'Kefir (fermented milk)', 'Sour cream']\n",
            "500712 ['Melons', 'Quiche', 'Pears', 'Doughnuts', 'Croissants', 'Soy meat substitutes', 'Broccoli', 'Salads', 'Cauliflower', 'Bread', 'Juice in cartons', 'Side dishes such as cooked vegetables', 'Okra', 'Duckling or goose', 'Cucumbers', 'Grapes', 'Kefir (fermented milk)', 'Sour cream', 'Burritos', 'Pies']\n",
            "500713 ['Melons', 'Quiche', 'Eclairs', 'Pears', 'Doughnuts', 'Croissants', 'Soy meat substitutes', 'Papaya', 'Broccoli', 'Salads', 'Cauliflower', 'Bread', 'Juice in cartons', 'Side dishes such as cooked vegetables', 'Okra', 'Duckling or goose', 'Cucumbers', 'Grapes', 'Kefir (fermented milk)', 'Sour cream']\n",
            "500714 ['Melons', 'Quiche', 'Eclairs', 'Pears', 'Doughnuts', 'Croissants', 'Soy meat substitutes', 'Papaya', 'Broccoli', 'Salads', 'Cauliflower', 'Bread', 'Juice in cartons', 'Side dishes such as cooked vegetables', 'Okra', 'Duckling or goose', 'Cucumbers', 'Grapes', 'Kefir (fermented milk)', 'Sour cream']\n",
            "500715 ['Melons', 'Quiche', 'Eclairs', 'Pears', 'Doughnuts', 'Croissants', 'Soy meat substitutes', 'Papaya', 'Broccoli', 'Salads', 'Cauliflower', 'Bread', 'Juice in cartons', 'Side dishes such as cooked vegetables', 'Okra', 'Duckling or goose', 'Cucumbers', 'Grapes', 'Kefir (fermented milk)', 'Sour cream']\n",
            "500716 ['Melons', 'Quiche', 'Eclairs', 'Pears', 'Doughnuts', 'Papaya', 'Broccoli', 'Salads', 'Cauliflower', 'Bread', 'Juice in cartons', 'Side dishes such as cooked vegetables', 'Okra', 'Duckling or goose', 'Cucumbers', 'Grapes', 'Kefir (fermented milk)', 'Sour cream', 'Burritos', 'Pies']\n",
            "500717 ['Melons', 'Quiche', 'Eclairs', 'Pears', 'Doughnuts', 'Croissants', 'Soy meat substitutes', 'Papaya', 'Broccoli', 'Salads', 'Cauliflower', 'Bread', 'Juice in cartons', 'Side dishes such as cooked vegetables', 'Okra', 'Duckling or goose', 'Cucumbers', 'Grapes', 'Kefir (fermented milk)', 'Sour cream']\n",
            "500718 ['Melons', 'Quiche', 'Eclairs', 'Pears', 'Doughnuts', 'Croissants', 'Soy meat substitutes', 'Papaya', 'Broccoli', 'Salads', 'Cauliflower', 'Bread', 'Juice in cartons', 'Side dishes such as cooked vegetables', 'Okra', 'Duckling or goose', 'Cucumbers', 'Grapes', 'Kefir (fermented milk)', 'Sour cream']\n",
            "500719 ['Melons', 'Quiche', 'Eclairs', 'Pears', 'Doughnuts', 'Croissants', 'Soy meat substitutes', 'Papaya', 'Broccoli', 'Salads', 'Cauliflower', 'Bread', 'Juice in cartons', 'Side dishes such as cooked vegetables', 'Okra', 'Duckling or goose', 'Cucumbers', 'Grapes', 'Kefir (fermented milk)', 'Sour cream']\n",
            "5007110 ['Melons', 'Quiche', 'Eclairs', 'Pears', 'Doughnuts', 'Croissants', 'Soy meat substitutes', 'Papaya', 'Broccoli', 'Salads', 'Cauliflower', 'Bread', 'Juice in cartons', 'Side dishes such as cooked vegetables', 'Okra', 'Duckling or goose', 'Cucumbers', 'Grapes', 'Kefir (fermented milk)', 'Sour cream']\n",
            "5007111 ['Melons', 'Quiche', 'Eclairs', 'Pears', 'Doughnuts', 'Croissants', 'Soy meat substitutes', 'Papaya', 'Broccoli', 'Salads', 'Cauliflower', 'Bread', 'Juice in cartons', 'Side dishes such as cooked vegetables', 'Okra', 'Duckling or goose', 'Cucumbers', 'Grapes', 'Kefir (fermented milk)', 'Sour cream']\n",
            "5007112 ['Melons', 'Quiche', 'Eclairs', 'Pears', 'Doughnuts', 'Croissants', 'Soy meat substitutes', 'Papaya', 'Broccoli', 'Salads', 'Cauliflower', 'Bread', 'Juice in cartons', 'Side dishes such as cooked vegetables', 'Okra', 'Duckling or goose', 'Cucumbers', 'Grapes', 'Kefir (fermented milk)', 'Sour cream']\n",
            "5007113 ['Melons', 'Quiche', 'Eclairs', 'Pears', 'Doughnuts', 'Croissants', 'Soy meat substitutes', 'Papaya', 'Broccoli', 'Salads', 'Cauliflower', 'Bread', 'Juice in cartons', 'Side dishes such as cooked vegetables', 'Okra', 'Duckling or goose', 'Cucumbers', 'Grapes', 'Kefir (fermented milk)', 'Sour cream']\n",
            "5007114 ['Melons', 'Quiche', 'Eclairs', 'Pears', 'Doughnuts', 'Croissants', 'Soy meat substitutes', 'Papaya', 'Broccoli', 'Salads', 'Cauliflower', 'Bread', 'Juice in cartons', 'Side dishes such as cooked vegetables', 'Okra', 'Duckling or goose', 'Cucumbers', 'Grapes', 'Kefir (fermented milk)', 'Sour cream']\n",
            "5007115 ['Melons', 'Quiche', 'Eclairs', 'Pears', 'Doughnuts', 'Croissants', 'Soy meat substitutes', 'Papaya', 'Broccoli', 'Salads', 'Cauliflower', 'Bread', 'Juice in cartons', 'Side dishes such as cooked vegetables', 'Okra', 'Duckling or goose', 'Cucumbers', 'Grapes', 'Kefir (fermented milk)', 'Sour cream']\n",
            "500721 ['Melons', 'Quiche', 'Eclairs', 'Pears', 'Doughnuts', 'Croissants', 'Soy meat substitutes', 'Papaya', 'Broccoli', 'Salads', 'Cauliflower', 'Bread', 'Juice in cartons', 'Side dishes such as cooked vegetables', 'Okra', 'Duckling or goose', 'Cucumbers', 'Grapes', 'Kefir (fermented milk)', 'Sour cream']\n",
            "500723 ['Melons', 'Quiche', 'Eclairs', 'Pears', 'Doughnuts', 'Croissants', 'Soy meat substitutes', 'Papaya', 'Salads', 'Cauliflower', 'Bread', 'Juice in cartons', 'Side dishes such as cooked vegetables', 'Okra', 'Duckling or goose', 'Cucumbers', 'Grapes', 'Kefir (fermented milk)', 'Sour cream', 'Burritos']\n",
            "500724 ['Melons', 'Quiche', 'Eclairs', 'Pears', 'Doughnuts', 'Croissants', 'Soy meat substitutes', 'Papaya', 'Broccoli', 'Salads', 'Cauliflower', 'Bread', 'Juice in cartons', 'Side dishes such as cooked vegetables', 'Okra', 'Duckling or goose', 'Cucumbers', 'Grapes', 'Kefir (fermented milk)', 'Sour cream']\n",
            "500725 ['Melons', 'Quiche', 'Eclairs', 'Pears', 'Doughnuts', 'Croissants', 'Soy meat substitutes', 'Papaya', 'Broccoli', 'Salads', 'Cauliflower', 'Bread', 'Juice in cartons', 'Side dishes such as cooked vegetables', 'Okra', 'Duckling or goose', 'Cucumbers', 'Grapes', 'Kefir (fermented milk)', 'Sour cream']\n",
            "500726 ['Melons', 'Eclairs', 'Pears', 'Doughnuts', 'Croissants', 'Soy meat substitutes', 'Papaya', 'Broccoli', 'Salads', 'Cauliflower', 'Bread', 'Juice in cartons', 'Side dishes such as cooked vegetables', 'Okra', 'Duckling or goose', 'Cucumbers', 'Grapes', 'Kefir (fermented milk)', 'Sour cream', 'Burritos']\n",
            "500727 ['Melons', 'Quiche', 'Eclairs', 'Pears', 'Doughnuts', 'Croissants', 'Soy meat substitutes', 'Papaya', 'Broccoli', 'Salads', 'Cauliflower', 'Bread', 'Juice in cartons', 'Side dishes such as cooked vegetables', 'Okra', 'Duckling or goose', 'Cucumbers', 'Grapes', 'Kefir (fermented milk)', 'Sour cream']\n",
            "500728 ['Melons', 'Quiche', 'Eclairs', 'Pears', 'Doughnuts', 'Croissants', 'Soy meat substitutes', 'Papaya', 'Broccoli', 'Salads', 'Cauliflower', 'Bread', 'Juice in cartons', 'Side dishes such as cooked vegetables', 'Okra', 'Duckling or goose', 'Cucumbers', 'Grapes', 'Kefir (fermented milk)', 'Sour cream']\n",
            "500729 ['Melons', 'Quiche', 'Eclairs', 'Pears', 'Doughnuts', 'Croissants', 'Soy meat substitutes', 'Papaya', 'Broccoli', 'Salads', 'Cauliflower', 'Bread', 'Side dishes such as cooked vegetables', 'Okra', 'Duckling or goose', 'Cucumbers', 'Grapes', 'Kefir (fermented milk)', 'Sour cream', 'Burritos']\n",
            "5007210 ['Melons', 'Quiche', 'Eclairs', 'Pears', 'Doughnuts', 'Croissants', 'Soy meat substitutes', 'Papaya', 'Broccoli', 'Salads', 'Cauliflower', 'Bread', 'Juice in cartons', 'Side dishes such as cooked vegetables', 'Okra', 'Duckling or goose', 'Cucumbers', 'Grapes', 'Kefir (fermented milk)', 'Sour cream']\n",
            "5007211 ['Melons', 'Quiche', 'Eclairs', 'Pears', 'Doughnuts', 'Croissants', 'Soy meat substitutes', 'Papaya', 'Broccoli', 'Salads', 'Cauliflower', 'Bread', 'Juice in cartons', 'Side dishes such as cooked vegetables', 'Okra', 'Duckling or goose', 'Cucumbers', 'Grapes', 'Kefir (fermented milk)', 'Sour cream']\n",
            "5007213 ['Melons', 'Quiche', 'Eclairs', 'Pears', 'Doughnuts', 'Croissants', 'Soy meat substitutes', 'Papaya', 'Broccoli', 'Salads', 'Cauliflower', 'Bread', 'Juice in cartons', 'Side dishes such as cooked vegetables', 'Okra', 'Duckling or goose', 'Cucumbers', 'Kefir (fermented milk)', 'Sour cream', 'Burritos']\n",
            "5007214 ['Melons', 'Quiche', 'Eclairs', 'Pears', 'Doughnuts', 'Croissants', 'Soy meat substitutes', 'Papaya', 'Broccoli', 'Salads', 'Cauliflower', 'Bread', 'Juice in cartons', 'Side dishes such as cooked vegetables', 'Okra', 'Duckling or goose', 'Cucumbers', 'Grapes', 'Kefir (fermented milk)', 'Sour cream']\n",
            "500731 ['Melons', 'Quiche', 'Eclairs', 'Doughnuts', 'Soy meat substitutes', 'Papaya', 'Broccoli', 'Salads', 'Cauliflower', 'Bread', 'Juice in cartons', 'Side dishes such as cooked vegetables', 'Okra', 'Duckling or goose', 'Cucumbers', 'Grapes', 'Kefir (fermented milk)', 'Sour cream', 'Burritos', 'Pies']\n",
            "500732 ['Melons', 'Quiche', 'Eclairs', 'Pears', 'Doughnuts', 'Croissants', 'Soy meat substitutes', 'Papaya', 'Broccoli', 'Salads', 'Cauliflower', 'Bread', 'Juice in cartons', 'Side dishes such as cooked vegetables', 'Okra', 'Duckling or goose', 'Cucumbers', 'Grapes', 'Kefir (fermented milk)', 'Sour cream']\n",
            "500733 ['Melons', 'Quiche', 'Eclairs', 'Pears', 'Doughnuts', 'Croissants', 'Soy meat substitutes', 'Papaya', 'Broccoli', 'Salads', 'Cauliflower', 'Bread', 'Juice in cartons', 'Side dishes such as cooked vegetables', 'Okra', 'Duckling or goose', 'Cucumbers', 'Grapes', 'Kefir (fermented milk)', 'Sour cream']\n",
            "500734 ['Melons', 'Quiche', 'Eclairs', 'Pears', 'Doughnuts', 'Croissants', 'Soy meat substitutes', 'Papaya', 'Broccoli', 'Salads', 'Cauliflower', 'Bread', 'Juice in cartons', 'Side dishes such as cooked vegetables', 'Okra', 'Duckling or goose', 'Cucumbers', 'Grapes', 'Kefir (fermented milk)', 'Sour cream']\n",
            "500735 ['Melons', 'Quiche', 'Eclairs', 'Pears', 'Doughnuts', 'Croissants', 'Soy meat substitutes', 'Papaya', 'Broccoli', 'Salads', 'Cauliflower', 'Bread', 'Juice in cartons', 'Side dishes such as cooked vegetables', 'Okra', 'Duckling or goose', 'Cucumbers', 'Grapes', 'Kefir (fermented milk)', 'Sour cream']\n",
            "500736 ['Melons', 'Quiche', 'Eclairs', 'Pears', 'Doughnuts', 'Croissants', 'Soy meat substitutes', 'Papaya', 'Broccoli', 'Salads', 'Cauliflower', 'Bread', 'Juice in cartons', 'Side dishes such as cooked vegetables', 'Okra', 'Duckling or goose', 'Cucumbers', 'Grapes', 'Kefir (fermented milk)', 'Sour cream']\n",
            "500737 ['Melons', 'Quiche', 'Eclairs', 'Pears', 'Doughnuts', 'Croissants', 'Soy meat substitutes', 'Papaya', 'Salads', 'Cauliflower', 'Bread', 'Juice in cartons', 'Side dishes such as cooked vegetables', 'Okra', 'Duckling or goose', 'Cucumbers', 'Grapes', 'Kefir (fermented milk)', 'Sour cream', 'Burritos']\n",
            "500738 ['Melons', 'Quiche', 'Eclairs', 'Pears', 'Doughnuts', 'Croissants', 'Papaya', 'Broccoli', 'Salads', 'Cauliflower', 'Bread', 'Juice in cartons', 'Side dishes such as cooked vegetables', 'Okra', 'Duckling or goose', 'Cucumbers', 'Grapes', 'Kefir (fermented milk)', 'Sour cream', 'Burritos']\n",
            "500739 ['Melons', 'Eclairs', 'Pears', 'Doughnuts', 'Croissants', 'Soy meat substitutes', 'Broccoli', 'Salads', 'Cauliflower', 'Bread', 'Juice in cartons', 'Side dishes such as cooked vegetables', 'Okra', 'Duckling or goose', 'Cucumbers', 'Grapes', 'Kefir (fermented milk)', 'Sour cream', 'Burritos', 'Pies']\n",
            "5007310 ['Melons', 'Quiche', 'Eclairs', 'Pears', 'Doughnuts', 'Croissants', 'Papaya', 'Broccoli', 'Salads', 'Cauliflower', 'Bread', 'Juice in cartons', 'Side dishes such as cooked vegetables', 'Okra', 'Duckling or goose', 'Cucumbers', 'Grapes', 'Kefir (fermented milk)', 'Sour cream', 'Burritos']\n",
            "5007311 ['Melons', 'Quiche', 'Eclairs', 'Pears', 'Doughnuts', 'Croissants', 'Papaya', 'Broccoli', 'Salads', 'Cauliflower', 'Bread', 'Juice in cartons', 'Side dishes such as cooked vegetables', 'Okra', 'Duckling or goose', 'Cucumbers', 'Grapes', 'Kefir (fermented milk)', 'Sour cream', 'Burritos']\n",
            "5007312 ['Melons', 'Quiche', 'Eclairs', 'Pears', 'Doughnuts', 'Croissants', 'Soy meat substitutes', 'Papaya', 'Broccoli', 'Salads', 'Cauliflower', 'Bread', 'Juice in cartons', 'Side dishes such as cooked vegetables', 'Okra', 'Cucumbers', 'Grapes', 'Kefir (fermented milk)', 'Sour cream', 'Burritos']\n",
            "5007313 ['Melons', 'Quiche', 'Eclairs', 'Pears', 'Croissants', 'Soy meat substitutes', 'Papaya', 'Broccoli', 'Salads', 'Cauliflower', 'Bread', 'Juice in cartons', 'Side dishes such as cooked vegetables', 'Okra', 'Duckling or goose', 'Cucumbers', 'Grapes', 'Kefir (fermented milk)', 'Sour cream', 'Burritos']\n",
            "5007314 ['Melons', 'Quiche', 'Eclairs', 'Pears', 'Doughnuts', 'Croissants', 'Soy meat substitutes', 'Papaya', 'Broccoli', 'Salads', 'Cauliflower', 'Bread', 'Juice in cartons', 'Side dishes such as cooked vegetables', 'Okra', 'Duckling or goose', 'Cucumbers', 'Grapes', 'Kefir (fermented milk)', 'Sour cream']\n",
            "5007315 ['Melons', 'Quiche', 'Eclairs', 'Pears', 'Doughnuts', 'Croissants', 'Soy meat substitutes', 'Papaya', 'Broccoli', 'Salads', 'Cauliflower', 'Bread', 'Juice in cartons', 'Side dishes such as cooked vegetables', 'Okra', 'Duckling or goose', 'Cucumbers', 'Grapes', 'Kefir (fermented milk)', 'Sour cream']\n",
            "5007317 ['Melons', 'Quiche', 'Eclairs', 'Pears', 'Doughnuts', 'Croissants', 'Soy meat substitutes', 'Papaya', 'Broccoli', 'Salads', 'Cauliflower', 'Bread', 'Juice in cartons', 'Side dishes such as cooked vegetables', 'Okra', 'Duckling or goose', 'Cucumbers', 'Grapes', 'Kefir (fermented milk)', 'Sour cream']\n",
            "500741 ['Melons', 'Quiche', 'Eclairs', 'Pears', 'Doughnuts', 'Croissants', 'Soy meat substitutes', 'Papaya', 'Broccoli', 'Salads', 'Cauliflower', 'Bread', 'Juice in cartons', 'Side dishes such as cooked vegetables', 'Okra', 'Duckling or goose', 'Cucumbers', 'Grapes', 'Kefir (fermented milk)', 'Sour cream']\n",
            "500742 ['Melons', 'Quiche', 'Eclairs', 'Pears', 'Doughnuts', 'Croissants', 'Soy meat substitutes', 'Papaya', 'Salads', 'Cauliflower', 'Bread', 'Juice in cartons', 'Side dishes such as cooked vegetables', 'Okra', 'Duckling or goose', 'Cucumbers', 'Grapes', 'Kefir (fermented milk)', 'Sour cream', 'Burritos']\n",
            "500743 ['Melons', 'Quiche', 'Eclairs', 'Pears', 'Doughnuts', 'Croissants', 'Soy meat substitutes', 'Papaya', 'Broccoli', 'Salads', 'Cauliflower', 'Bread', 'Juice in cartons', 'Side dishes such as cooked vegetables', 'Okra', 'Duckling or goose', 'Cucumbers', 'Grapes', 'Kefir (fermented milk)', 'Sour cream']\n",
            "500744 ['Melons', 'Quiche', 'Eclairs', 'Pears', 'Doughnuts', 'Croissants', 'Soy meat substitutes', 'Papaya', 'Broccoli', 'Salads', 'Cauliflower', 'Bread', 'Juice in cartons', 'Side dishes such as cooked vegetables', 'Okra', 'Duckling or goose', 'Cucumbers', 'Grapes', 'Kefir (fermented milk)', 'Sour cream']\n",
            "500745 ['Melons', 'Quiche', 'Eclairs', 'Pears', 'Doughnuts', 'Croissants', 'Soy meat substitutes', 'Papaya', 'Broccoli', 'Salads', 'Cauliflower', 'Bread', 'Juice in cartons', 'Side dishes such as cooked vegetables', 'Okra', 'Duckling or goose', 'Cucumbers', 'Grapes', 'Kefir (fermented milk)', 'Sour cream']\n",
            "500746 ['Melons', 'Quiche', 'Eclairs', 'Pears', 'Doughnuts', 'Croissants', 'Soy meat substitutes', 'Papaya', 'Broccoli', 'Salads', 'Cauliflower', 'Bread', 'Juice in cartons', 'Side dishes such as cooked vegetables', 'Okra', 'Duckling or goose', 'Cucumbers', 'Grapes', 'Kefir (fermented milk)', 'Sour cream']\n",
            "500747 ['Melons', 'Quiche', 'Eclairs', 'Pears', 'Doughnuts', 'Croissants', 'Soy meat substitutes', 'Papaya', 'Broccoli', 'Salads', 'Cauliflower', 'Bread', 'Juice in cartons', 'Side dishes such as cooked vegetables', 'Okra', 'Duckling or goose', 'Cucumbers', 'Grapes', 'Sour cream', 'Burritos']\n",
            "500748 ['Melons', 'Quiche', 'Eclairs', 'Pears', 'Doughnuts', 'Croissants', 'Soy meat substitutes', 'Papaya', 'Broccoli', 'Salads', 'Cauliflower', 'Bread', 'Juice in cartons', 'Side dishes such as cooked vegetables', 'Okra', 'Duckling or goose', 'Cucumbers', 'Grapes', 'Kefir (fermented milk)', 'Sour cream']\n",
            "500749 ['Melons', 'Quiche', 'Eclairs', 'Pears', 'Doughnuts', 'Croissants', 'Soy meat substitutes', 'Papaya', 'Broccoli', 'Salads', 'Cauliflower', 'Bread', 'Juice in cartons', 'Okra', 'Duckling or goose', 'Cucumbers', 'Grapes', 'Kefir (fermented milk)', 'Sour cream', 'Burritos']\n",
            "5007410 ['Melons', 'Quiche', 'Eclairs', 'Pears', 'Doughnuts', 'Croissants', 'Soy meat substitutes', 'Papaya', 'Broccoli', 'Salads', 'Cauliflower', 'Bread', 'Juice in cartons', 'Side dishes such as cooked vegetables', 'Okra', 'Duckling or goose', 'Cucumbers', 'Grapes', 'Kefir (fermented milk)', 'Sour cream']\n",
            "5007411 ['Melons', 'Quiche', 'Eclairs', 'Pears', 'Doughnuts', 'Croissants', 'Soy meat substitutes', 'Papaya', 'Broccoli', 'Salads', 'Cauliflower', 'Bread', 'Juice in cartons', 'Side dishes such as cooked vegetables', 'Okra', 'Duckling or goose', 'Cucumbers', 'Grapes', 'Kefir (fermented milk)', 'Sour cream']\n",
            "5007412 ['Melons', 'Quiche', 'Eclairs', 'Pears', 'Doughnuts', 'Croissants', 'Soy meat substitutes', 'Papaya', 'Broccoli', 'Salads', 'Cauliflower', 'Bread', 'Juice in cartons', 'Side dishes such as cooked vegetables', 'Okra', 'Duckling or goose', 'Cucumbers', 'Grapes', 'Sour cream', 'Burritos']\n",
            "5007414 ['Melons', 'Quiche', 'Eclairs', 'Pears', 'Doughnuts', 'Croissants', 'Soy meat substitutes', 'Papaya', 'Broccoli', 'Salads', 'Cauliflower', 'Bread', 'Juice in cartons', 'Side dishes such as cooked vegetables', 'Okra', 'Duckling or goose', 'Cucumbers', 'Grapes', 'Kefir (fermented milk)', 'Sour cream']\n",
            "5007415 ['Melons', 'Quiche', 'Eclairs', 'Pears', 'Doughnuts', 'Croissants', 'Soy meat substitutes', 'Papaya', 'Broccoli', 'Salads', 'Cauliflower', 'Bread', 'Juice in cartons', 'Side dishes such as cooked vegetables', 'Okra', 'Duckling or goose', 'Cucumbers', 'Grapes', 'Kefir (fermented milk)', 'Sour cream']\n",
            "5007416 ['Melons', 'Quiche', 'Eclairs', 'Pears', 'Doughnuts', 'Croissants', 'Papaya', 'Broccoli', 'Salads', 'Cauliflower', 'Bread', 'Juice in cartons', 'Side dishes such as cooked vegetables', 'Okra', 'Duckling or goose', 'Cucumbers', 'Grapes', 'Kefir (fermented milk)', 'Sour cream', 'Burritos']\n",
            "5005218 ['Melons', 'Quiche', 'Eclairs', 'Pears', 'Doughnuts', 'Croissants', 'Soy meat substitutes', 'Papaya', 'Broccoli', 'Salads', 'Cauliflower', 'Bread', 'Juice in cartons', 'Side dishes such as cooked vegetables', 'Okra', 'Duckling or goose', 'Cucumbers', 'Grapes', 'Kefir (fermented milk)', 'Sour cream']\n",
            "5005518 ['Melons', 'Quiche', 'Eclairs', 'Pears', 'Doughnuts', 'Croissants', 'Soy meat substitutes', 'Papaya', 'Broccoli', 'Salads', 'Cauliflower', 'Bread', 'Juice in cartons', 'Side dishes such as cooked vegetables', 'Okra', 'Duckling or goose', 'Cucumbers', 'Grapes', 'Kefir (fermented milk)', 'Sour cream']\n",
            "5005817 ['Melons', 'Quiche', 'Eclairs', 'Pears', 'Doughnuts', 'Croissants', 'Soy meat substitutes', 'Papaya', 'Broccoli', 'Salads', 'Cauliflower', 'Bread', 'Juice in cartons', 'Side dishes such as cooked vegetables', 'Okra', 'Duckling or goose', 'Cucumbers', 'Grapes', 'Kefir (fermented milk)', 'Sour cream']\n",
            "5005818 ['Melons', 'Quiche', 'Eclairs', 'Pears', 'Doughnuts', 'Croissants', 'Soy meat substitutes', 'Papaya', 'Broccoli', 'Salads', 'Cauliflower', 'Bread', 'Juice in cartons', 'Side dishes such as cooked vegetables', 'Okra', 'Duckling or goose', 'Cucumbers', 'Grapes', 'Kefir (fermented milk)', 'Sour cream']\n",
            "5005918 ['Melons', 'Quiche', 'Eclairs', 'Doughnuts', 'Croissants', 'Soy meat substitutes', 'Papaya', 'Broccoli', 'Salads', 'Cauliflower', 'Bread', 'Juice in cartons', 'Side dishes such as cooked vegetables', 'Okra', 'Duckling or goose', 'Cucumbers', 'Grapes', 'Kefir (fermented milk)', 'Sour cream', 'Burritos']\n",
            "5006317 ['Melons', 'Quiche', 'Eclairs', 'Pears', 'Doughnuts', 'Croissants', 'Soy meat substitutes', 'Papaya', 'Broccoli', 'Salads', 'Bread', 'Juice in cartons', 'Side dishes such as cooked vegetables', 'Okra', 'Duckling or goose', 'Cucumbers', 'Grapes', 'Kefir (fermented milk)', 'Sour cream', 'Burritos']\n",
            "500664 ['Melons', 'Quiche', 'Eclairs', 'Pears', 'Doughnuts', 'Croissants', 'Soy meat substitutes', 'Papaya', 'Broccoli', 'Salads', 'Cauliflower', 'Bread', 'Juice in cartons', 'Side dishes such as cooked vegetables', 'Okra', 'Duckling or goose', 'Cucumbers', 'Grapes', 'Kefir (fermented milk)', 'Sour cream']\n",
            "5006617 ['Melons', 'Quiche', 'Eclairs', 'Pears', 'Doughnuts', 'Croissants', 'Soy meat substitutes', 'Papaya', 'Broccoli', 'Salads', 'Cauliflower', 'Bread', 'Juice in cartons', 'Side dishes such as cooked vegetables', 'Okra', 'Duckling or goose', 'Cucumbers', 'Grapes', 'Kefir (fermented milk)', 'Sour cream']\n",
            "5006718 ['Melons', 'Quiche', 'Eclairs', 'Pears', 'Doughnuts', 'Croissants', 'Soy meat substitutes', 'Papaya', 'Broccoli', 'Salads', 'Cauliflower', 'Bread', 'Juice in cartons', 'Side dishes such as cooked vegetables', 'Okra', 'Duckling or goose', 'Cucumbers', 'Grapes', 'Kefir (fermented milk)', 'Sour cream']\n",
            "5006814 ['Melons', 'Quiche', 'Eclairs', 'Pears', 'Doughnuts', 'Soy meat substitutes', 'Papaya', 'Broccoli', 'Salads', 'Cauliflower', 'Bread', 'Juice in cartons', 'Side dishes such as cooked vegetables', 'Okra', 'Duckling or goose', 'Cucumbers', 'Grapes', 'Kefir (fermented milk)', 'Sour cream', 'Burritos']\n",
            "5006816 ['Melons', 'Quiche', 'Eclairs', 'Pears', 'Doughnuts', 'Croissants', 'Soy meat substitutes', 'Papaya', 'Broccoli', 'Salads', 'Cauliflower', 'Bread', 'Juice in cartons', 'Side dishes such as cooked vegetables', 'Okra', 'Duckling or goose', 'Cucumbers', 'Grapes', 'Kefir (fermented milk)', 'Sour cream']\n",
            "5006915 ['Melons', 'Quiche', 'Eclairs', 'Pears', 'Doughnuts', 'Croissants', 'Soy meat substitutes', 'Papaya', 'Broccoli', 'Salads', 'Cauliflower', 'Bread', 'Juice in cartons', 'Side dishes such as cooked vegetables', 'Okra', 'Duckling or goose', 'Cucumbers', 'Grapes', 'Kefir (fermented milk)', 'Sour cream']\n",
            "5006916 ['Melons', 'Quiche', 'Eclairs', 'Pears', 'Doughnuts', 'Croissants', 'Soy meat substitutes', 'Papaya', 'Broccoli', 'Salads', 'Cauliflower', 'Bread', 'Juice in cartons', 'Side dishes such as cooked vegetables', 'Okra', 'Duckling or goose', 'Cucumbers', 'Grapes', 'Kefir (fermented milk)', 'Sour cream']\n",
            "5007116 ['Melons', 'Quiche', 'Eclairs', 'Pears', 'Doughnuts', 'Croissants', 'Soy meat substitutes', 'Papaya', 'Broccoli', 'Salads', 'Cauliflower', 'Bread', 'Juice in cartons', 'Side dishes such as cooked vegetables', 'Okra', 'Duckling or goose', 'Cucumbers', 'Grapes', 'Kefir (fermented milk)', 'Sour cream']\n",
            "5007117 ['Melons', 'Quiche', 'Eclairs', 'Pears', 'Doughnuts', 'Croissants', 'Soy meat substitutes', 'Papaya', 'Broccoli', 'Salads', 'Cauliflower', 'Bread', 'Juice in cartons', 'Side dishes such as cooked vegetables', 'Okra', 'Duckling or goose', 'Cucumbers', 'Grapes', 'Kefir (fermented milk)', 'Sour cream']\n",
            "500722 ['Melons', 'Quiche', 'Eclairs', 'Pears', 'Doughnuts', 'Croissants', 'Papaya', 'Broccoli', 'Salads', 'Cauliflower', 'Bread', 'Juice in cartons', 'Side dishes such as cooked vegetables', 'Okra', 'Duckling or goose', 'Cucumbers', 'Grapes', 'Kefir (fermented milk)', 'Sour cream', 'Burritos']\n",
            "5007212 ['Melons', 'Quiche', 'Eclairs', 'Pears', 'Doughnuts', 'Croissants', 'Soy meat substitutes', 'Papaya', 'Broccoli', 'Cauliflower', 'Bread', 'Juice in cartons', 'Side dishes such as cooked vegetables', 'Duckling or goose', 'Grapes', 'Kefir (fermented milk)', 'Sour cream', 'Burritos', 'Pies', 'Radishes']\n",
            "5007316 ['Melons', 'Quiche', 'Eclairs', 'Pears', 'Doughnuts', 'Croissants', 'Soy meat substitutes', 'Papaya', 'Broccoli', 'Salads', 'Cauliflower', 'Bread', 'Juice in cartons', 'Side dishes such as cooked vegetables', 'Okra', 'Duckling or goose', 'Cucumbers', 'Grapes', 'Kefir (fermented milk)', 'Sour cream']\n",
            "5007413 ['Melons', 'Quiche', 'Eclairs', 'Pears', 'Doughnuts', 'Croissants', 'Soy meat substitutes', 'Papaya', 'Broccoli', 'Salads', 'Cauliflower', 'Bread', 'Juice in cartons', 'Side dishes such as cooked vegetables', 'Okra', 'Duckling or goose', 'Cucumbers', 'Grapes', 'Kefir (fermented milk)', 'Sour cream']\n",
            "500751 ['Melons', 'Quiche', 'Eclairs', 'Pears', 'Doughnuts', 'Croissants', 'Soy meat substitutes', 'Papaya', 'Broccoli', 'Salads', 'Cauliflower', 'Bread', 'Juice in cartons', 'Side dishes such as cooked vegetables', 'Okra', 'Duckling or goose', 'Cucumbers', 'Grapes', 'Kefir (fermented milk)', 'Sour cream']\n",
            "500752 ['Melons', 'Quiche', 'Eclairs', 'Pears', 'Doughnuts', 'Croissants', 'Soy meat substitutes', 'Papaya', 'Broccoli', 'Salads', 'Cauliflower', 'Bread', 'Juice in cartons', 'Side dishes such as cooked vegetables', 'Okra', 'Duckling or goose', 'Cucumbers', 'Grapes', 'Kefir (fermented milk)', 'Sour cream']\n",
            "500753 ['Melons', 'Quiche', 'Eclairs', 'Pears', 'Doughnuts', 'Croissants', 'Soy meat substitutes', 'Papaya', 'Broccoli', 'Salads', 'Cauliflower', 'Bread', 'Juice in cartons', 'Side dishes such as cooked vegetables', 'Okra', 'Duckling or goose', 'Cucumbers', 'Grapes', 'Kefir (fermented milk)', 'Sour cream']\n",
            "500754 ['Melons', 'Quiche', 'Eclairs', 'Pears', 'Doughnuts', 'Croissants', 'Soy meat substitutes', 'Papaya', 'Broccoli', 'Salads', 'Cauliflower', 'Bread', 'Juice in cartons', 'Side dishes such as cooked vegetables', 'Okra', 'Duckling or goose', 'Cucumbers', 'Grapes', 'Kefir (fermented milk)', 'Sour cream']\n",
            "500755 ['Melons', 'Quiche', 'Eclairs', 'Pears', 'Doughnuts', 'Croissants', 'Soy meat substitutes', 'Papaya', 'Broccoli', 'Salads', 'Cauliflower', 'Bread', 'Juice in cartons', 'Side dishes such as cooked vegetables', 'Okra', 'Duckling or goose', 'Cucumbers', 'Grapes', 'Kefir (fermented milk)', 'Sour cream']\n",
            "500756 ['Melons', 'Quiche', 'Eclairs', 'Pears', 'Doughnuts', 'Croissants', 'Soy meat substitutes', 'Papaya', 'Broccoli', 'Salads', 'Cauliflower', 'Bread', 'Juice in cartons', 'Side dishes such as cooked vegetables', 'Okra', 'Duckling or goose', 'Cucumbers', 'Grapes', 'Kefir (fermented milk)', 'Sour cream']\n",
            "500757 ['Melons', 'Quiche', 'Eclairs', 'Pears', 'Doughnuts', 'Croissants', 'Soy meat substitutes', 'Papaya', 'Broccoli', 'Salads', 'Cauliflower', 'Bread', 'Juice in cartons', 'Side dishes such as cooked vegetables', 'Okra', 'Duckling or goose', 'Cucumbers', 'Grapes', 'Kefir (fermented milk)', 'Sour cream']\n",
            "500758 ['Melons', 'Quiche', 'Eclairs', 'Pears', 'Doughnuts', 'Croissants', 'Soy meat substitutes', 'Papaya', 'Broccoli', 'Salads', 'Cauliflower', 'Bread', 'Juice in cartons', 'Side dishes such as cooked vegetables', 'Okra', 'Duckling or goose', 'Cucumbers', 'Grapes', 'Kefir (fermented milk)', 'Sour cream']\n",
            "500759 ['Melons', 'Quiche', 'Pears', 'Doughnuts', 'Croissants', 'Soy meat substitutes', 'Papaya', 'Broccoli', 'Salads', 'Cauliflower', 'Bread', 'Juice in cartons', 'Side dishes such as cooked vegetables', 'Okra', 'Duckling or goose', 'Cucumbers', 'Grapes', 'Kefir (fermented milk)', 'Sour cream', 'Burritos']\n",
            "5007510 ['Melons', 'Quiche', 'Eclairs', 'Pears', 'Doughnuts', 'Croissants', 'Soy meat substitutes', 'Papaya', 'Broccoli', 'Salads', 'Cauliflower', 'Bread', 'Side dishes such as cooked vegetables', 'Okra', 'Duckling or goose', 'Cucumbers', 'Grapes', 'Kefir (fermented milk)', 'Sour cream', 'Burritos']\n",
            "5007511 ['Melons', 'Quiche', 'Eclairs', 'Pears', 'Doughnuts', 'Croissants', 'Soy meat substitutes', 'Papaya', 'Broccoli', 'Salads', 'Cauliflower', 'Bread', 'Juice in cartons', 'Side dishes such as cooked vegetables', 'Okra', 'Duckling or goose', 'Cucumbers', 'Grapes', 'Kefir (fermented milk)', 'Sour cream']\n",
            "5007512 ['Melons', 'Quiche', 'Eclairs', 'Pears', 'Doughnuts', 'Croissants', 'Soy meat substitutes', 'Papaya', 'Broccoli', 'Salads', 'Cauliflower', 'Bread', 'Juice in cartons', 'Side dishes such as cooked vegetables', 'Okra', 'Duckling or goose', 'Cucumbers', 'Grapes', 'Kefir (fermented milk)', 'Sour cream']\n",
            "5005017 ['Melons', 'Quiche', 'Eclairs', 'Pears', 'Doughnuts', 'Croissants', 'Soy meat substitutes', 'Papaya', 'Broccoli', 'Salads', 'Cauliflower', 'Bread', 'Juice in cartons', 'Side dishes such as cooked vegetables', 'Okra', 'Duckling or goose', 'Cucumbers', 'Grapes', 'Sour cream', 'Burritos']\n",
            "5005018 ['Melons', 'Quiche', 'Eclairs', 'Pears', 'Doughnuts', 'Croissants', 'Soy meat substitutes', 'Papaya', 'Broccoli', 'Salads', 'Cauliflower', 'Bread', 'Juice in cartons', 'Side dishes such as cooked vegetables', 'Okra', 'Duckling or goose', 'Cucumbers', 'Grapes', 'Kefir (fermented milk)', 'Sour cream']\n",
            "5005318 ['Melons', 'Quiche', 'Eclairs', 'Pears', 'Doughnuts', 'Croissants', 'Soy meat substitutes', 'Papaya', 'Broccoli', 'Salads', 'Cauliflower', 'Bread', 'Juice in cartons', 'Side dishes such as cooked vegetables', 'Okra', 'Duckling or goose', 'Cucumbers', 'Grapes', 'Kefir (fermented milk)', 'Sour cream']\n",
            "5006117 ['Melons', 'Quiche', 'Eclairs', 'Pears', 'Doughnuts', 'Croissants', 'Soy meat substitutes', 'Papaya', 'Broccoli', 'Salads', 'Cauliflower', 'Juice in cartons', 'Side dishes such as cooked vegetables', 'Okra', 'Duckling or goose', 'Cucumbers', 'Grapes', 'Kefir (fermented milk)', 'Sour cream', 'Burritos']\n",
            "5006118 ['Melons', 'Quiche', 'Eclairs', 'Pears', 'Doughnuts', 'Croissants', 'Soy meat substitutes', 'Papaya', 'Broccoli', 'Salads', 'Cauliflower', 'Bread', 'Juice in cartons', 'Side dishes such as cooked vegetables', 'Okra', 'Duckling or goose', 'Cucumbers', 'Grapes', 'Kefir (fermented milk)', 'Burritos']\n",
            "5005416 ['Melons', 'Quiche', 'Eclairs', 'Pears', 'Doughnuts', 'Croissants', 'Soy meat substitutes', 'Papaya', 'Broccoli', 'Salads', 'Cauliflower', 'Bread', 'Juice in cartons', 'Side dishes such as cooked vegetables', 'Okra', 'Duckling or goose', 'Grapes', 'Kefir (fermented milk)', 'Sour cream', 'Burritos']\n",
            "5006417 ['Melons', 'Quiche', 'Eclairs', 'Pears', 'Doughnuts', 'Croissants', 'Soy meat substitutes', 'Papaya', 'Broccoli', 'Salads', 'Bread', 'Juice in cartons', 'Side dishes such as cooked vegetables', 'Okra', 'Duckling or goose', 'Cucumbers', 'Grapes', 'Sour cream', 'Burritos', 'Pies']\n",
            "5005417 ['Melons', 'Quiche', 'Eclairs', 'Pears', 'Doughnuts', 'Croissants', 'Soy meat substitutes', 'Papaya', 'Broccoli', 'Salads', 'Cauliflower', 'Bread', 'Juice in cartons', 'Side dishes such as cooked vegetables', 'Okra', 'Duckling or goose', 'Cucumbers', 'Grapes', 'Kefir (fermented milk)', 'Sour cream']\n",
            "5005418 ['Melons', 'Quiche', 'Eclairs', 'Pears', 'Doughnuts', 'Croissants', 'Soy meat substitutes', 'Papaya', 'Salads', 'Cauliflower', 'Bread', 'Juice in cartons', 'Side dishes such as cooked vegetables', 'Okra', 'Duckling or goose', 'Cucumbers', 'Grapes', 'Kefir (fermented milk)', 'Sour cream', 'Burritos']\n",
            "5006217 ['Melons', 'Quiche', 'Eclairs', 'Pears', 'Doughnuts', 'Croissants', 'Soy meat substitutes', 'Papaya', 'Broccoli', 'Salads', 'Cauliflower', 'Bread', 'Juice in cartons', 'Side dishes such as cooked vegetables', 'Okra', 'Duckling or goose', 'Cucumbers', 'Grapes', 'Kefir (fermented milk)', 'Sour cream']\n",
            "5006218 ['Melons', 'Quiche', 'Eclairs', 'Pears', 'Doughnuts', 'Croissants', 'Soy meat substitutes', 'Papaya', 'Broccoli', 'Salads', 'Cauliflower', 'Bread', 'Juice in cartons', 'Side dishes such as cooked vegetables', 'Okra', 'Duckling or goose', 'Cucumbers', 'Grapes', 'Kefir (fermented milk)', 'Sour cream']\n",
            "5007215 ['Melons', 'Quiche', 'Eclairs', 'Pears', 'Doughnuts', 'Croissants', 'Soy meat substitutes', 'Papaya', 'Broccoli', 'Salads', 'Cauliflower', 'Bread', 'Juice in cartons', 'Side dishes such as cooked vegetables', 'Okra', 'Duckling or goose', 'Cucumbers', 'Grapes', 'Kefir (fermented milk)', 'Sour cream']\n",
            "5007216 ['Melons', 'Quiche', 'Eclairs', 'Pears', 'Doughnuts', 'Croissants', 'Soy meat substitutes', 'Papaya', 'Broccoli', 'Salads', 'Cauliflower', 'Bread', 'Juice in cartons', 'Side dishes such as cooked vegetables', 'Okra', 'Duckling or goose', 'Cucumbers', 'Grapes', 'Kefir (fermented milk)', 'Sour cream']\n",
            "5007217 ['Melons', 'Quiche', 'Eclairs', 'Pears', 'Doughnuts', 'Croissants', 'Soy meat substitutes', 'Papaya', 'Broccoli', 'Salads', 'Cauliflower', 'Bread', 'Juice in cartons', 'Side dishes such as cooked vegetables', 'Okra', 'Duckling or goose', 'Cucumbers', 'Grapes', 'Kefir (fermented milk)', 'Sour cream']\n",
            "5007218 ['Melons', 'Quiche', 'Eclairs', 'Pears', 'Doughnuts', 'Croissants', 'Soy meat substitutes', 'Papaya', 'Broccoli', 'Salads', 'Cauliflower', 'Bread', 'Juice in cartons', 'Side dishes such as cooked vegetables', 'Okra', 'Duckling or goose', 'Cucumbers', 'Grapes', 'Kefir (fermented milk)', 'Sour cream']\n",
            "5007417 ['Melons', 'Quiche', 'Eclairs', 'Pears', 'Doughnuts', 'Croissants', 'Soy meat substitutes', 'Papaya', 'Broccoli', 'Salads', 'Cauliflower', 'Bread', 'Juice in cartons', 'Side dishes such as cooked vegetables', 'Okra', 'Duckling or goose', 'Cucumbers', 'Grapes', 'Kefir (fermented milk)', 'Sour cream']\n",
            "5007513 ['Melons', 'Quiche', 'Eclairs', 'Pears', 'Doughnuts', 'Croissants', 'Soy meat substitutes', 'Papaya', 'Broccoli', 'Salads', 'Cauliflower', 'Bread', 'Juice in cartons', 'Side dishes such as cooked vegetables', 'Okra', 'Duckling or goose', 'Cucumbers', 'Grapes', 'Kefir (fermented milk)', 'Sour cream']\n",
            "5007514 ['Melons', 'Quiche', 'Eclairs', 'Pears', 'Doughnuts', 'Croissants', 'Soy meat substitutes', 'Papaya', 'Broccoli', 'Salads', 'Cauliflower', 'Bread', 'Juice in cartons', 'Side dishes such as cooked vegetables', 'Okra', 'Duckling or goose', 'Cucumbers', 'Grapes', 'Kefir (fermented milk)', 'Sour cream']\n",
            "500761 ['Melons', 'Quiche', 'Eclairs', 'Pears', 'Doughnuts', 'Croissants', 'Soy meat substitutes', 'Papaya', 'Broccoli', 'Salads', 'Cauliflower', 'Bread', 'Juice in cartons', 'Side dishes such as cooked vegetables', 'Okra', 'Duckling or goose', 'Cucumbers', 'Grapes', 'Kefir (fermented milk)', 'Sour cream']\n",
            "500762 ['Melons', 'Quiche', 'Eclairs', 'Pears', 'Doughnuts', 'Croissants', 'Soy meat substitutes', 'Papaya', 'Broccoli', 'Salads', 'Cauliflower', 'Bread', 'Juice in cartons', 'Side dishes such as cooked vegetables', 'Okra', 'Duckling or goose', 'Cucumbers', 'Grapes', 'Kefir (fermented milk)', 'Sour cream']\n",
            "500763 ['Melons', 'Quiche', 'Eclairs', 'Pears', 'Doughnuts', 'Croissants', 'Soy meat substitutes', 'Papaya', 'Broccoli', 'Salads', 'Cauliflower', 'Bread', 'Juice in cartons', 'Side dishes such as cooked vegetables', 'Okra', 'Duckling or goose', 'Cucumbers', 'Grapes', 'Kefir (fermented milk)', 'Sour cream']\n",
            "500764 ['Melons', 'Quiche', 'Eclairs', 'Pears', 'Doughnuts', 'Croissants', 'Soy meat substitutes', 'Papaya', 'Broccoli', 'Salads', 'Cauliflower', 'Bread', 'Juice in cartons', 'Side dishes such as cooked vegetables', 'Okra', 'Duckling or goose', 'Cucumbers', 'Grapes', 'Kefir (fermented milk)', 'Sour cream']\n",
            "500765 ['Melons', 'Quiche', 'Eclairs', 'Pears', 'Doughnuts', 'Croissants', 'Soy meat substitutes', 'Papaya', 'Broccoli', 'Salads', 'Cauliflower', 'Bread', 'Juice in cartons', 'Side dishes such as cooked vegetables', 'Okra', 'Duckling or goose', 'Cucumbers', 'Grapes', 'Kefir (fermented milk)', 'Sour cream']\n",
            "500766 ['Melons', 'Quiche', 'Eclairs', 'Pears', 'Doughnuts', 'Croissants', 'Soy meat substitutes', 'Papaya', 'Broccoli', 'Salads', 'Cauliflower', 'Bread', 'Juice in cartons', 'Side dishes such as cooked vegetables', 'Okra', 'Duckling or goose', 'Cucumbers', 'Grapes', 'Kefir (fermented milk)', 'Sour cream']\n",
            "500767 ['Melons', 'Quiche', 'Eclairs', 'Pears', 'Doughnuts', 'Croissants', 'Soy meat substitutes', 'Papaya', 'Broccoli', 'Salads', 'Cauliflower', 'Bread', 'Juice in cartons', 'Side dishes such as cooked vegetables', 'Okra', 'Duckling or goose', 'Cucumbers', 'Grapes', 'Kefir (fermented milk)', 'Sour cream']\n",
            "500768 ['Melons', 'Quiche', 'Eclairs', 'Pears', 'Doughnuts', 'Croissants', 'Soy meat substitutes', 'Papaya', 'Broccoli', 'Salads', 'Bread', 'Juice in cartons', 'Side dishes such as cooked vegetables', 'Okra', 'Duckling or goose', 'Cucumbers', 'Grapes', 'Kefir (fermented milk)', 'Sour cream', 'Burritos']\n",
            "500769 ['Melons', 'Quiche', 'Eclairs', 'Pears', 'Doughnuts', 'Croissants', 'Soy meat substitutes', 'Papaya', 'Broccoli', 'Salads', 'Cauliflower', 'Bread', 'Juice in cartons', 'Side dishes such as cooked vegetables', 'Okra', 'Duckling or goose', 'Cucumbers', 'Kefir (fermented milk)', 'Sour cream', 'Burritos']\n",
            "5007610 ['Melons', 'Quiche', 'Eclairs', 'Pears', 'Croissants', 'Soy meat substitutes', 'Papaya', 'Broccoli', 'Salads', 'Cauliflower', 'Bread', 'Juice in cartons', 'Side dishes such as cooked vegetables', 'Okra', 'Duckling or goose', 'Cucumbers', 'Grapes', 'Kefir (fermented milk)', 'Sour cream', 'Burritos']\n",
            "5007611 ['Melons', 'Quiche', 'Eclairs', 'Pears', 'Doughnuts', 'Croissants', 'Soy meat substitutes', 'Papaya', 'Broccoli', 'Salads', 'Cauliflower', 'Bread', 'Juice in cartons', 'Side dishes such as cooked vegetables', 'Okra', 'Duckling or goose', 'Cucumbers', 'Grapes', 'Kefir (fermented milk)', 'Sour cream']\n",
            "5007612 ['Melons', 'Quiche', 'Eclairs', 'Pears', 'Doughnuts', 'Croissants', 'Soy meat substitutes', 'Papaya', 'Broccoli', 'Salads', 'Cauliflower', 'Bread', 'Juice in cartons', 'Side dishes such as cooked vegetables', 'Okra', 'Duckling or goose', 'Cucumbers', 'Grapes', 'Kefir (fermented milk)', 'Sour cream']\n",
            "5007613 ['Melons', 'Quiche', 'Eclairs', 'Pears', 'Croissants', 'Soy meat substitutes', 'Papaya', 'Broccoli', 'Salads', 'Cauliflower', 'Bread', 'Juice in cartons', 'Side dishes such as cooked vegetables', 'Okra', 'Duckling or goose', 'Cucumbers', 'Grapes', 'Kefir (fermented milk)', 'Sour cream', 'Burritos']\n",
            "5007614 ['Melons', 'Quiche', 'Eclairs', 'Pears', 'Doughnuts', 'Croissants', 'Soy meat substitutes', 'Papaya', 'Broccoli', 'Salads', 'Cauliflower', 'Bread', 'Juice in cartons', 'Side dishes such as cooked vegetables', 'Okra', 'Duckling or goose', 'Cucumbers', 'Grapes', 'Kefir (fermented milk)', 'Sour cream']\n",
            "5007615 ['Melons', 'Quiche', 'Eclairs', 'Pears', 'Doughnuts', 'Croissants', 'Soy meat substitutes', 'Papaya', 'Broccoli', 'Salads', 'Cauliflower', 'Bread', 'Juice in cartons', 'Side dishes such as cooked vegetables', 'Okra', 'Duckling or goose', 'Cucumbers', 'Grapes', 'Kefir (fermented milk)', 'Sour cream']\n",
            "5007616 ['Melons', 'Quiche', 'Eclairs', 'Pears', 'Doughnuts', 'Croissants', 'Soy meat substitutes', 'Papaya', 'Broccoli', 'Salads', 'Cauliflower', 'Bread', 'Juice in cartons', 'Side dishes such as cooked vegetables', 'Okra', 'Duckling or goose', 'Cucumbers', 'Grapes', 'Kefir (fermented milk)', 'Sour cream']\n",
            "5007617 ['Melons', 'Quiche', 'Eclairs', 'Pears', 'Doughnuts', 'Croissants', 'Soy meat substitutes', 'Papaya', 'Broccoli', 'Salads', 'Cauliflower', 'Bread', 'Juice in cartons', 'Side dishes such as cooked vegetables', 'Okra', 'Duckling or goose', 'Cucumbers', 'Grapes', 'Kefir (fermented milk)', 'Sour cream']\n",
            "500771 ['Melons', 'Quiche', 'Eclairs', 'Pears', 'Doughnuts', 'Croissants', 'Soy meat substitutes', 'Papaya', 'Broccoli', 'Salads', 'Cauliflower', 'Bread', 'Juice in cartons', 'Side dishes such as cooked vegetables', 'Okra', 'Duckling or goose', 'Cucumbers', 'Grapes', 'Kefir (fermented milk)', 'Sour cream']\n",
            "500772 ['Melons', 'Quiche', 'Eclairs', 'Pears', 'Doughnuts', 'Croissants', 'Soy meat substitutes', 'Papaya', 'Broccoli', 'Salads', 'Cauliflower', 'Bread', 'Juice in cartons', 'Side dishes such as cooked vegetables', 'Okra', 'Duckling or goose', 'Cucumbers', 'Grapes', 'Kefir (fermented milk)', 'Sour cream']\n",
            "500774 ['Melons', 'Quiche', 'Eclairs', 'Pears', 'Doughnuts', 'Croissants', 'Soy meat substitutes', 'Papaya', 'Broccoli', 'Salads', 'Cauliflower', 'Bread', 'Juice in cartons', 'Side dishes such as cooked vegetables', 'Okra', 'Duckling or goose', 'Cucumbers', 'Grapes', 'Kefir (fermented milk)', 'Sour cream']\n",
            "500775 ['Melons', 'Quiche', 'Eclairs', 'Pears', 'Doughnuts', 'Croissants', 'Soy meat substitutes', 'Papaya', 'Broccoli', 'Salads', 'Cauliflower', 'Bread', 'Juice in cartons', 'Side dishes such as cooked vegetables', 'Okra', 'Duckling or goose', 'Cucumbers', 'Grapes', 'Kefir (fermented milk)', 'Sour cream']\n",
            "500776 ['Melons', 'Quiche', 'Eclairs', 'Pears', 'Doughnuts', 'Croissants', 'Soy meat substitutes', 'Papaya', 'Broccoli', 'Salads', 'Cauliflower', 'Bread', 'Juice in cartons', 'Side dishes such as cooked vegetables', 'Okra', 'Duckling or goose', 'Cucumbers', 'Grapes', 'Kefir (fermented milk)', 'Sour cream']\n",
            "500777 ['Melons', 'Quiche', 'Eclairs', 'Pears', 'Doughnuts', 'Croissants', 'Soy meat substitutes', 'Papaya', 'Broccoli', 'Salads', 'Cauliflower', 'Bread', 'Juice in cartons', 'Side dishes such as cooked vegetables', 'Okra', 'Duckling or goose', 'Cucumbers', 'Grapes', 'Kefir (fermented milk)', 'Sour cream']\n",
            "500779 ['Melons', 'Quiche', 'Eclairs', 'Pears', 'Doughnuts', 'Croissants', 'Soy meat substitutes', 'Papaya', 'Broccoli', 'Salads', 'Cauliflower', 'Bread', 'Juice in cartons', 'Side dishes such as cooked vegetables', 'Okra', 'Cucumbers', 'Grapes', 'Kefir (fermented milk)', 'Sour cream', 'Burritos']\n",
            "5007710 ['Melons', 'Quiche', 'Eclairs', 'Pears', 'Doughnuts', 'Croissants', 'Soy meat substitutes', 'Papaya', 'Broccoli', 'Salads', 'Cauliflower', 'Bread', 'Juice in cartons', 'Side dishes such as cooked vegetables', 'Okra', 'Duckling or goose', 'Cucumbers', 'Grapes', 'Kefir (fermented milk)', 'Sour cream']\n",
            "5007711 ['Melons', 'Quiche', 'Eclairs', 'Pears', 'Doughnuts', 'Croissants', 'Soy meat substitutes', 'Papaya', 'Broccoli', 'Salads', 'Cauliflower', 'Bread', 'Juice in cartons', 'Side dishes such as cooked vegetables', 'Okra', 'Duckling or goose', 'Cucumbers', 'Grapes', 'Kefir (fermented milk)', 'Sour cream']\n",
            "5007712 ['Melons', 'Quiche', 'Eclairs', 'Pears', 'Doughnuts', 'Croissants', 'Soy meat substitutes', 'Papaya', 'Broccoli', 'Salads', 'Cauliflower', 'Bread', 'Juice in cartons', 'Side dishes such as cooked vegetables', 'Okra', 'Duckling or goose', 'Cucumbers', 'Grapes', 'Kefir (fermented milk)', 'Sour cream']\n",
            "5007713 ['Melons', 'Quiche', 'Eclairs', 'Pears', 'Doughnuts', 'Croissants', 'Soy meat substitutes', 'Papaya', 'Broccoli', 'Salads', 'Cauliflower', 'Bread', 'Juice in cartons', 'Side dishes such as cooked vegetables', 'Okra', 'Duckling or goose', 'Cucumbers', 'Grapes', 'Kefir (fermented milk)', 'Sour cream']\n",
            "5007714 ['Melons', 'Quiche', 'Eclairs', 'Pears', 'Doughnuts', 'Croissants', 'Soy meat substitutes', 'Papaya', 'Broccoli', 'Salads', 'Cauliflower', 'Bread', 'Juice in cartons', 'Side dishes such as cooked vegetables', 'Okra', 'Duckling or goose', 'Cucumbers', 'Grapes', 'Kefir (fermented milk)', 'Sour cream']\n",
            "5007715 ['Melons', 'Quiche', 'Eclairs', 'Pears', 'Doughnuts', 'Croissants', 'Soy meat substitutes', 'Papaya', 'Broccoli', 'Salads', 'Cauliflower', 'Bread', 'Juice in cartons', 'Side dishes such as cooked vegetables', 'Okra', 'Duckling or goose', 'Cucumbers', 'Grapes', 'Kefir (fermented milk)', 'Sour cream']\n",
            "5007716 ['Melons', 'Quiche', 'Eclairs', 'Pears', 'Doughnuts', 'Croissants', 'Soy meat substitutes', 'Papaya', 'Broccoli', 'Salads', 'Cauliflower', 'Bread', 'Juice in cartons', 'Side dishes such as cooked vegetables', 'Okra', 'Duckling or goose', 'Cucumbers', 'Grapes', 'Kefir (fermented milk)', 'Sour cream']\n",
            "5007717 ['Melons', 'Quiche', 'Eclairs', 'Pears', 'Doughnuts', 'Croissants', 'Soy meat substitutes', 'Papaya', 'Broccoli', 'Salads', 'Cauliflower', 'Bread', 'Juice in cartons', 'Side dishes such as cooked vegetables', 'Okra', 'Duckling or goose', 'Cucumbers', 'Grapes', 'Kefir (fermented milk)', 'Sour cream']\n",
            "5007718 ['Melons', 'Quiche', 'Eclairs', 'Pears', 'Doughnuts', 'Croissants', 'Soy meat substitutes', 'Papaya', 'Broccoli', 'Salads', 'Cauliflower', 'Bread', 'Juice in cartons', 'Side dishes such as cooked vegetables', 'Okra', 'Duckling or goose', 'Cucumbers', 'Grapes', 'Kefir (fermented milk)', 'Sour cream']\n",
            "5006318 ['Melons', 'Quiche', 'Eclairs', 'Pears', 'Doughnuts', 'Croissants', 'Soy meat substitutes', 'Papaya', 'Broccoli', 'Salads', 'Cauliflower', 'Bread', 'Juice in cartons', 'Side dishes such as cooked vegetables', 'Okra', 'Duckling or goose', 'Cucumbers', 'Grapes', 'Kefir (fermented milk)', 'Sour cream']\n",
            "5006818 ['Melons', 'Quiche', 'Eclairs', 'Pears', 'Doughnuts', 'Croissants', 'Soy meat substitutes', 'Papaya', 'Broccoli', 'Salads', 'Cauliflower', 'Bread', 'Juice in cartons', 'Side dishes such as cooked vegetables', 'Okra', 'Duckling or goose', 'Cucumbers', 'Grapes', 'Kefir (fermented milk)', 'Sour cream']\n",
            "5007118 ['Melons', 'Quiche', 'Eclairs', 'Pears', 'Doughnuts', 'Croissants', 'Soy meat substitutes', 'Papaya', 'Broccoli', 'Salads', 'Cauliflower', 'Bread', 'Juice in cartons', 'Side dishes such as cooked vegetables', 'Okra', 'Duckling or goose', 'Cucumbers', 'Grapes', 'Kefir (fermented milk)', 'Sour cream']\n",
            "5007515 ['Melons', 'Quiche', 'Eclairs', 'Pears', 'Doughnuts', 'Croissants', 'Soy meat substitutes', 'Papaya', 'Broccoli', 'Salads', 'Cauliflower', 'Bread', 'Juice in cartons', 'Side dishes such as cooked vegetables', 'Okra', 'Duckling or goose', 'Cucumbers', 'Grapes', 'Kefir (fermented milk)', 'Sour cream']\n",
            "5006817 ['Melons', 'Quiche', 'Eclairs', 'Pears', 'Doughnuts', 'Croissants', 'Soy meat substitutes', 'Papaya', 'Broccoli', 'Salads', 'Cauliflower', 'Bread', 'Juice in cartons', 'Side dishes such as cooked vegetables', 'Okra', 'Duckling or goose', 'Cucumbers', 'Grapes', 'Kefir (fermented milk)', 'Sour cream']\n",
            "5007418 ['Melons', 'Quiche', 'Eclairs', 'Pears', 'Doughnuts', 'Croissants', 'Soy meat substitutes', 'Papaya', 'Broccoli', 'Salads', 'Cauliflower', 'Bread', 'Juice in cartons', 'Side dishes such as cooked vegetables', 'Okra', 'Duckling or goose', 'Cucumbers', 'Grapes', 'Kefir (fermented milk)', 'Sour cream']\n",
            "5007516 ['Melons', 'Quiche', 'Eclairs', 'Pears', 'Doughnuts', 'Croissants', 'Soy meat substitutes', 'Papaya', 'Broccoli', 'Salads', 'Cauliflower', 'Bread', 'Juice in cartons', 'Side dishes such as cooked vegetables', 'Okra', 'Duckling or goose', 'Cucumbers', 'Grapes', 'Kefir (fermented milk)', 'Sour cream']\n",
            "5007517 ['Melons', 'Quiche', 'Eclairs', 'Pears', 'Doughnuts', 'Croissants', 'Soy meat substitutes', 'Papaya', 'Broccoli', 'Salads', 'Cauliflower', 'Bread', 'Juice in cartons', 'Side dishes such as cooked vegetables', 'Okra', 'Duckling or goose', 'Cucumbers', 'Grapes', 'Kefir (fermented milk)', 'Sour cream']\n",
            "5007518 ['Melons', 'Quiche', 'Eclairs', 'Pears', 'Doughnuts', 'Croissants', 'Soy meat substitutes', 'Papaya', 'Broccoli', 'Salads', 'Cauliflower', 'Bread', 'Juice in cartons', 'Side dishes such as cooked vegetables', 'Okra', 'Duckling or goose', 'Cucumbers', 'Grapes', 'Kefir (fermented milk)', 'Sour cream']\n",
            "5006618 ['Melons', 'Quiche', 'Eclairs', 'Pears', 'Doughnuts', 'Croissants', 'Soy meat substitutes', 'Papaya', 'Broccoli', 'Salads', 'Cauliflower', 'Bread', 'Juice in cartons', 'Side dishes such as cooked vegetables', 'Okra', 'Duckling or goose', 'Cucumbers', 'Grapes', 'Kefir (fermented milk)', 'Sour cream']\n",
            "5006917 ['Melons', 'Quiche', 'Eclairs', 'Pears', 'Doughnuts', 'Croissants', 'Soy meat substitutes', 'Papaya', 'Broccoli', 'Salads', 'Cauliflower', 'Bread', 'Juice in cartons', 'Side dishes such as cooked vegetables', 'Okra', 'Duckling or goose', 'Cucumbers', 'Grapes', 'Kefir (fermented milk)', 'Sour cream']\n",
            "5006517 ['Melons', 'Quiche', 'Eclairs', 'Pears', 'Doughnuts', 'Croissants', 'Soy meat substitutes', 'Papaya', 'Broccoli', 'Salads', 'Cauliflower', 'Bread', 'Juice in cartons', 'Side dishes such as cooked vegetables', 'Okra', 'Duckling or goose', 'Cucumbers', 'Grapes', 'Kefir (fermented milk)', 'Sour cream']\n",
            "5006518 ['Melons', 'Quiche', 'Eclairs', 'Pears', 'Doughnuts', 'Croissants', 'Soy meat substitutes', 'Papaya', 'Broccoli', 'Salads', 'Cauliflower', 'Bread', 'Juice in cartons', 'Side dishes such as cooked vegetables', 'Okra', 'Duckling or goose', 'Cucumbers', 'Grapes', 'Kefir (fermented milk)', 'Sour cream']\n",
            "5007318 ['Melons', 'Quiche', 'Eclairs', 'Pears', 'Doughnuts', 'Croissants', 'Soy meat substitutes', 'Papaya', 'Broccoli', 'Salads', 'Cauliflower', 'Bread', 'Juice in cartons', 'Side dishes such as cooked vegetables', 'Okra', 'Duckling or goose', 'Cucumbers', 'Grapes', 'Kefir (fermented milk)', 'Sour cream']\n",
            "500773 ['Melons', 'Quiche', 'Eclairs', 'Pears', 'Doughnuts', 'Croissants', 'Soy meat substitutes', 'Papaya', 'Broccoli', 'Salads', 'Cauliflower', 'Bread', 'Juice in cartons', 'Side dishes such as cooked vegetables', 'Okra', 'Duckling or goose', 'Cucumbers', 'Grapes', 'Kefir (fermented milk)', 'Sour cream']\n",
            "500778 ['Melons', 'Quiche', 'Eclairs', 'Pears', 'Doughnuts', 'Croissants', 'Soy meat substitutes', 'Papaya', 'Broccoli', 'Cauliflower', 'Bread', 'Juice in cartons', 'Side dishes such as cooked vegetables', 'Okra', 'Duckling or goose', 'Cucumbers', 'Grapes', 'Kefir (fermented milk)', 'Sour cream', 'Burritos']\n"
          ]
        }
      ]
    },
    {
      "cell_type": "code",
      "metadata": {
        "id": "kwJS8znvSKKl"
      },
      "source": [
        "import pickle\n",
        "\n",
        "pickle.dump(algo, open(\"model.pkl\",'wb'))"
      ],
      "execution_count": 41,
      "outputs": []
    },
    {
      "cell_type": "code",
      "metadata": {
        "id": "CkuXDrlp5hCk"
      },
      "source": [
        "# To load the model from disk\n",
        "# loaded_model = pickle.load(open(filename, 'rb'))"
      ],
      "execution_count": null,
      "outputs": []
    }
  ]
}