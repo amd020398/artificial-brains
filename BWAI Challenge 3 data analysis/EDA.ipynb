{
 "cells": [
  {
   "cell_type": "code",
   "execution_count": 1,
   "metadata": {},
   "outputs": [],
   "source": [
    "import pandas as pd\n",
    "import numpy as np\n",
    "import re\n",
    "import os"
   ]
  },
  {
   "cell_type": "code",
   "execution_count": 2,
   "metadata": {},
   "outputs": [
    {
     "data": {
      "text/plain": [
       "' \\nfoodexp.csv : Details, period (null items)\\ncolumns : type of food, item name, period, details, storage'"
      ]
     },
     "execution_count": 2,
     "metadata": {},
     "output_type": "execute_result"
    }
   ],
   "source": [
    "''' \n",
    "foodexp.csv : Details, period (null items)\n",
    "columns : type of food, item name, period, details, storage'''"
   ]
  },
  {
   "cell_type": "code",
   "execution_count": 3,
   "metadata": {},
   "outputs": [],
   "source": [
    "def days_conversion(x):\n",
    "    if \"day\" in x:\n",
    "        x = x.split(' ')[0]\n",
    "        if len(x)==1:\n",
    "            return int(x)\n",
    "        else:\n",
    "            return int(x[x.find('-')+1])\n",
    "    elif \"week\" in x:\n",
    "        x = x.split(' ')[0]\n",
    "        if len(x)==1:\n",
    "            return int(x)*7\n",
    "        else:\n",
    "            return int(x[x.find('-')+1])*7\n",
    "    elif \"month\" in x:\n",
    "        x = x.split(' ')[0]\n",
    "        if len(x)==1:\n",
    "            return int(x)*30\n",
    "        else:\n",
    "            return int(x[x.find('-')+1])*30\n",
    "    elif \"year\" in x:\n",
    "        x = x.split(' ')[0]\n",
    "        if len(x)==1:\n",
    "            return int(x)*365\n",
    "        else:\n",
    "            return int(x[x.find('-')+1])*365\n",
    "    elif \"hour\" in x:\n",
    "        x = x.split(' ')[0]\n",
    "        if len(x)==1:\n",
    "            return int(x)/24\n",
    "        else:\n",
    "            return int(x[x.find('-')+1])/24\n",
    "    elif \"date\" in x and re.match('^[0-9]', x):\n",
    "        if 'mo' in x:\n",
    "            return int(x.split(' ')[0])*30\n",
    "        if 'week' in x:\n",
    "            return int(x.split(' ')[0])*7\n",
    "        if 'year' in x:\n",
    "            return int(x.split(' ')[0])*365\n",
    "        else:\n",
    "            return int(x.split(' ')[0])\n",
    "    else:\n",
    "        return np.nan\n",
    "    \n",
    "        "
   ]
  },
  {
   "cell_type": "code",
   "execution_count": 11,
   "metadata": {},
   "outputs": [
    {
     "data": {
      "text/plain": [
       "(1358, 6)"
      ]
     },
     "execution_count": 11,
     "metadata": {},
     "output_type": "execute_result"
    }
   ],
   "source": [
    "combined_csv.shape"
   ]
  },
  {
   "cell_type": "code",
   "execution_count": 12,
   "metadata": {},
   "outputs": [],
   "source": [
    "def period_conversion(df):\n",
    "    non_null_df = df[df['PERIOD'].notnull()]\n",
    "    null_df = df[df['PERIOD'].isnull()]\n",
    "    # Change period column to days and consider the maximum value\n",
    "    non_null_df['PERIOD'] = non_null_df['PERIOD'].apply(days_conversion)\n",
    "    df = pd.concat([non_null_df,null_df],ignore_index=True)\n",
    "    df[\"PERIOD\"] = pd.to_numeric(df[\"PERIOD\"])\n",
    "    # fill period column null values by \"TYPE\" and \"STORAGE\"\n",
    "    df['PERIOD'] = df.groupby(['TYPE'])['PERIOD'].transform(lambda x:x.fillna(round(np.mean(x),2)))\n",
    "    return df"
   ]
  },
  {
   "cell_type": "code",
   "execution_count": 13,
   "metadata": {},
   "outputs": [
    {
     "name": "stderr",
     "output_type": "stream",
     "text": [
      "/snap/jupyter/6/lib/python3.7/site-packages/ipykernel_launcher.py:5: SettingWithCopyWarning: \n",
      "A value is trying to be set on a copy of a slice from a DataFrame.\n",
      "Try using .loc[row_indexer,col_indexer] = value instead\n",
      "\n",
      "See the caveats in the documentation: https://pandas.pydata.org/pandas-docs/stable/user_guide/indexing.html#returning-a-view-versus-a-copy\n",
      "  \"\"\"\n"
     ]
    }
   ],
   "source": [
    "csv_files = [f for f in os.listdir() if f.endswith('.csv') and f.startswith('food')]\n",
    "# 1. Merge all food.csv files\n",
    "combined_csv = pd.concat([pd.read_csv(f) for f in csv_files])\n",
    "# removing redundant items (by eliminating nan records)\n",
    "combined_csv = combined_csv.drop_duplicates()\n",
    "# separating null and non-null rows to two dataframes\n",
    "combined_csv = period_conversion(combined_csv)\n",
    "# Split item name and create new column\n",
    "combined_csv[['ITEM','ITEM_DESC']] = combined_csv.ITEM.str.split(',', 1, expand=True)"
   ]
  },
  {
   "cell_type": "code",
   "execution_count": 14,
   "metadata": {},
   "outputs": [
    {
     "name": "stdout",
     "output_type": "stream",
     "text": [
      "<class 'pandas.core.frame.DataFrame'>\n",
      "RangeIndex: 679 entries, 0 to 678\n",
      "Data columns (total 6 columns):\n",
      " #   Column     Non-Null Count  Dtype  \n",
      "---  ------     --------------  -----  \n",
      " 0   TYPE       679 non-null    object \n",
      " 1   ITEM       679 non-null    object \n",
      " 2   PERIOD     679 non-null    float64\n",
      " 3   DETAILS    307 non-null    object \n",
      " 4   STORAGE    679 non-null    object \n",
      " 5   ITEM_DESC  455 non-null    object \n",
      "dtypes: float64(1), object(5)\n",
      "memory usage: 32.0+ KB\n"
     ]
    }
   ],
   "source": [
    "combined_csv.info()"
   ]
  },
  {
   "cell_type": "code",
   "execution_count": 15,
   "metadata": {},
   "outputs": [],
   "source": [
    "orderHeaderDonation_df = pd.read_csv(\"orderHeaderDonations.csv\")\n",
    "orderHeaderRequest_df = pd.read_csv(\"orderHeaderRequests.csv\")"
   ]
  },
  {
   "cell_type": "code",
   "execution_count": 16,
   "metadata": {},
   "outputs": [],
   "source": [
    "orderHeaderDonation_df['OrderDate'] = pd.to_datetime(orderHeaderDonation_df['OrderDate'], format='%Y-%m-%d')\n",
    "orderHeaderRequest_df['OrderDate'] = pd.to_datetime(orderHeaderRequest_df ['OrderDate'], format='%Y-%m-%d')"
   ]
  },
  {
   "cell_type": "code",
   "execution_count": 17,
   "metadata": {},
   "outputs": [],
   "source": [
    "orderHeaderDonation_df.OrderId = orderHeaderDonation_df.OrderId.astype(str)\n",
    "orderHeaderDonation_df.PartnerId = orderHeaderDonation_df.PartnerId.astype(str)"
   ]
  },
  {
   "cell_type": "code",
   "execution_count": 18,
   "metadata": {},
   "outputs": [],
   "source": [
    "orderHeaderRequest_df.OrderId = orderHeaderRequest_df.OrderId.astype(str)\n",
    "orderHeaderRequest_df.CustomerId = orderHeaderRequest_df.CustomerId.astype(str)"
   ]
  },
  {
   "cell_type": "code",
   "execution_count": null,
   "metadata": {},
   "outputs": [],
   "source": []
  },
  {
   "cell_type": "code",
   "execution_count": 19,
   "metadata": {
    "scrolled": true
   },
   "outputs": [
    {
     "name": "stdout",
     "output_type": "stream",
     "text": [
      "<class 'pandas.core.frame.DataFrame'>\n",
      "RangeIndex: 392 entries, 0 to 391\n",
      "Data columns (total 8 columns):\n",
      " #   Column          Non-Null Count  Dtype         \n",
      "---  ------          --------------  -----         \n",
      " 0   OrderId         392 non-null    object        \n",
      " 1   CustomerId      392 non-null    object        \n",
      " 2   OrderTotal      392 non-null    int64         \n",
      " 3   OrderDate       392 non-null    datetime64[ns]\n",
      " 4   Location        392 non-null    object        \n",
      " 5   CustomerName    392 non-null    object        \n",
      " 6   CustomerGeoLat  392 non-null    float64       \n",
      " 7   CustomerGeoLon  392 non-null    float64       \n",
      "dtypes: datetime64[ns](1), float64(2), int64(1), object(4)\n",
      "memory usage: 24.6+ KB\n"
     ]
    }
   ],
   "source": [
    "orderHeaderRequest_df.info()"
   ]
  },
  {
   "cell_type": "code",
   "execution_count": 20,
   "metadata": {},
   "outputs": [],
   "source": [
    "orderItemsDonation_df = pd.read_csv(\"orderItemsDonations.csv\")\n",
    "orderItemRequest_df = pd.read_csv(\"orderItemsRequests.csv\")"
   ]
  },
  {
   "cell_type": "code",
   "execution_count": 21,
   "metadata": {},
   "outputs": [],
   "source": [
    "orderItemsDonation_df.OrderId = orderItemsDonation_df.OrderId.astype(str)\n",
    "orderItemsDonation_df.OrderItemId = orderItemsDonation_df.OrderItemId.astype(str) \n",
    "orderItemRequest_df.OrderId = orderItemRequest_df.OrderId.astype(str) \n",
    "orderItemRequest_df.OrderItemId = orderItemRequest_df.OrderItemId.astype(str) "
   ]
  },
  {
   "cell_type": "code",
   "execution_count": 22,
   "metadata": {},
   "outputs": [],
   "source": [
    "orderItemsDonation_df.columns = ['OrderId','OrderItemId','TYPE','ITEM','PERIOD','DETAILS','STORAGE','Quantity']\n",
    "orderItemRequest_df.columns = ['OrderId','OrderItemId','TYPE','ITEM','PERIOD','DETAILS','STORAGE']"
   ]
  },
  {
   "cell_type": "code",
   "execution_count": 23,
   "metadata": {},
   "outputs": [
    {
     "data": {
      "text/html": [
       "<div>\n",
       "<style scoped>\n",
       "    .dataframe tbody tr th:only-of-type {\n",
       "        vertical-align: middle;\n",
       "    }\n",
       "\n",
       "    .dataframe tbody tr th {\n",
       "        vertical-align: top;\n",
       "    }\n",
       "\n",
       "    .dataframe thead th {\n",
       "        text-align: right;\n",
       "    }\n",
       "</style>\n",
       "<table border=\"1\" class=\"dataframe\">\n",
       "  <thead>\n",
       "    <tr style=\"text-align: right;\">\n",
       "      <th></th>\n",
       "      <th>OrderId</th>\n",
       "      <th>OrderItemId</th>\n",
       "      <th>TYPE</th>\n",
       "      <th>ITEM</th>\n",
       "      <th>PERIOD</th>\n",
       "      <th>DETAILS</th>\n",
       "      <th>STORAGE</th>\n",
       "      <th>Quantity</th>\n",
       "    </tr>\n",
       "  </thead>\n",
       "  <tbody>\n",
       "    <tr>\n",
       "      <th>0</th>\n",
       "      <td>20051</td>\n",
       "      <td>1</td>\n",
       "      <td>DIARY</td>\n",
       "      <td>Cheese, processed slices</td>\n",
       "      <td>1-2 months</td>\n",
       "      <td>NaN</td>\n",
       "      <td>REFRIGERATED</td>\n",
       "      <td>105</td>\n",
       "    </tr>\n",
       "    <tr>\n",
       "      <th>1</th>\n",
       "      <td>20051</td>\n",
       "      <td>2</td>\n",
       "      <td>DIARY</td>\n",
       "      <td>Eggs, in shell</td>\n",
       "      <td>3-5 weeks</td>\n",
       "      <td>NaN</td>\n",
       "      <td>REFRIGERATED</td>\n",
       "      <td>120</td>\n",
       "    </tr>\n",
       "    <tr>\n",
       "      <th>2</th>\n",
       "      <td>20051</td>\n",
       "      <td>3</td>\n",
       "      <td>DIARY</td>\n",
       "      <td>Margarine</td>\n",
       "      <td>12 months</td>\n",
       "      <td>NaN</td>\n",
       "      <td>FROZEN</td>\n",
       "      <td>140</td>\n",
       "    </tr>\n",
       "    <tr>\n",
       "      <th>3</th>\n",
       "      <td>20051</td>\n",
       "      <td>4</td>\n",
       "      <td>DIARY</td>\n",
       "      <td>Milk, plain or flavored</td>\n",
       "      <td>1 week</td>\n",
       "      <td>NaN</td>\n",
       "      <td>REFRIGERATED</td>\n",
       "      <td>135</td>\n",
       "    </tr>\n",
       "    <tr>\n",
       "      <th>4</th>\n",
       "      <td>20051</td>\n",
       "      <td>5</td>\n",
       "      <td>SOY</td>\n",
       "      <td>Tofu</td>\n",
       "      <td>1 week</td>\n",
       "      <td>NaN</td>\n",
       "      <td>REFRIGERATED</td>\n",
       "      <td>145</td>\n",
       "    </tr>\n",
       "  </tbody>\n",
       "</table>\n",
       "</div>"
      ],
      "text/plain": [
       "  OrderId OrderItemId   TYPE                      ITEM      PERIOD DETAILS  \\\n",
       "0   20051           1  DIARY  Cheese, processed slices  1-2 months     NaN   \n",
       "1   20051           2  DIARY            Eggs, in shell   3-5 weeks     NaN   \n",
       "2   20051           3  DIARY                 Margarine   12 months     NaN   \n",
       "3   20051           4  DIARY   Milk, plain or flavored      1 week     NaN   \n",
       "4   20051           5    SOY                      Tofu      1 week     NaN   \n",
       "\n",
       "        STORAGE  Quantity  \n",
       "0  REFRIGERATED       105  \n",
       "1  REFRIGERATED       120  \n",
       "2        FROZEN       140  \n",
       "3  REFRIGERATED       135  \n",
       "4  REFRIGERATED       145  "
      ]
     },
     "execution_count": 23,
     "metadata": {},
     "output_type": "execute_result"
    }
   ],
   "source": [
    "orderItemsDonation_df.head()"
   ]
  },
  {
   "cell_type": "code",
   "execution_count": 24,
   "metadata": {},
   "outputs": [],
   "source": [
    "orderItemsDonation_df[['ITEM','ITEM_DESC']] = orderItemsDonation_df.ITEM.str.split(',', 1, expand=True)\n",
    "orderItemRequest_df[['ITEM','ITEM_DESC']] = orderItemRequest_df.ITEM.str.split(',', 1, expand=True)"
   ]
  },
  {
   "cell_type": "code",
   "execution_count": 25,
   "metadata": {},
   "outputs": [
    {
     "name": "stderr",
     "output_type": "stream",
     "text": [
      "/snap/jupyter/6/lib/python3.7/site-packages/ipykernel_launcher.py:5: SettingWithCopyWarning: \n",
      "A value is trying to be set on a copy of a slice from a DataFrame.\n",
      "Try using .loc[row_indexer,col_indexer] = value instead\n",
      "\n",
      "See the caveats in the documentation: https://pandas.pydata.org/pandas-docs/stable/user_guide/indexing.html#returning-a-view-versus-a-copy\n",
      "  \"\"\"\n"
     ]
    }
   ],
   "source": [
    "orderItemsDonation_df = period_conversion(orderItemsDonation_df)\n",
    "orderItemRequest_df = period_conversion(orderItemRequest_df)"
   ]
  },
  {
   "cell_type": "code",
   "execution_count": 26,
   "metadata": {},
   "outputs": [
    {
     "data": {
      "text/html": [
       "<div>\n",
       "<style scoped>\n",
       "    .dataframe tbody tr th:only-of-type {\n",
       "        vertical-align: middle;\n",
       "    }\n",
       "\n",
       "    .dataframe tbody tr th {\n",
       "        vertical-align: top;\n",
       "    }\n",
       "\n",
       "    .dataframe thead th {\n",
       "        text-align: right;\n",
       "    }\n",
       "</style>\n",
       "<table border=\"1\" class=\"dataframe\">\n",
       "  <thead>\n",
       "    <tr style=\"text-align: right;\">\n",
       "      <th></th>\n",
       "      <th>OrderId</th>\n",
       "      <th>OrderItemId</th>\n",
       "      <th>TYPE</th>\n",
       "      <th>ITEM</th>\n",
       "      <th>PERIOD</th>\n",
       "      <th>DETAILS</th>\n",
       "      <th>STORAGE</th>\n",
       "      <th>Quantity</th>\n",
       "      <th>ITEM_DESC</th>\n",
       "    </tr>\n",
       "  </thead>\n",
       "  <tbody>\n",
       "    <tr>\n",
       "      <th>0</th>\n",
       "      <td>20051</td>\n",
       "      <td>1</td>\n",
       "      <td>DIARY</td>\n",
       "      <td>Cheese</td>\n",
       "      <td>60.0</td>\n",
       "      <td>NaN</td>\n",
       "      <td>REFRIGERATED</td>\n",
       "      <td>105</td>\n",
       "      <td>processed slices</td>\n",
       "    </tr>\n",
       "    <tr>\n",
       "      <th>1</th>\n",
       "      <td>20051</td>\n",
       "      <td>2</td>\n",
       "      <td>DIARY</td>\n",
       "      <td>Eggs</td>\n",
       "      <td>35.0</td>\n",
       "      <td>NaN</td>\n",
       "      <td>REFRIGERATED</td>\n",
       "      <td>120</td>\n",
       "      <td>in shell</td>\n",
       "    </tr>\n",
       "    <tr>\n",
       "      <th>2</th>\n",
       "      <td>20051</td>\n",
       "      <td>3</td>\n",
       "      <td>DIARY</td>\n",
       "      <td>Margarine</td>\n",
       "      <td>30.0</td>\n",
       "      <td>NaN</td>\n",
       "      <td>FROZEN</td>\n",
       "      <td>140</td>\n",
       "      <td>None</td>\n",
       "    </tr>\n",
       "    <tr>\n",
       "      <th>3</th>\n",
       "      <td>20051</td>\n",
       "      <td>4</td>\n",
       "      <td>DIARY</td>\n",
       "      <td>Milk</td>\n",
       "      <td>7.0</td>\n",
       "      <td>NaN</td>\n",
       "      <td>REFRIGERATED</td>\n",
       "      <td>135</td>\n",
       "      <td>plain or flavored</td>\n",
       "    </tr>\n",
       "    <tr>\n",
       "      <th>4</th>\n",
       "      <td>20051</td>\n",
       "      <td>5</td>\n",
       "      <td>SOY</td>\n",
       "      <td>Tofu</td>\n",
       "      <td>7.0</td>\n",
       "      <td>NaN</td>\n",
       "      <td>REFRIGERATED</td>\n",
       "      <td>145</td>\n",
       "      <td>None</td>\n",
       "    </tr>\n",
       "  </tbody>\n",
       "</table>\n",
       "</div>"
      ],
      "text/plain": [
       "  OrderId OrderItemId   TYPE       ITEM  PERIOD DETAILS       STORAGE  \\\n",
       "0   20051           1  DIARY     Cheese    60.0     NaN  REFRIGERATED   \n",
       "1   20051           2  DIARY       Eggs    35.0     NaN  REFRIGERATED   \n",
       "2   20051           3  DIARY  Margarine    30.0     NaN        FROZEN   \n",
       "3   20051           4  DIARY       Milk     7.0     NaN  REFRIGERATED   \n",
       "4   20051           5    SOY       Tofu     7.0     NaN  REFRIGERATED   \n",
       "\n",
       "   Quantity           ITEM_DESC  \n",
       "0       105    processed slices  \n",
       "1       120            in shell  \n",
       "2       140                None  \n",
       "3       135   plain or flavored  \n",
       "4       145                None  "
      ]
     },
     "execution_count": 26,
     "metadata": {},
     "output_type": "execute_result"
    }
   ],
   "source": [
    "orderItemsDonation_df.head()"
   ]
  },
  {
   "cell_type": "code",
   "execution_count": 27,
   "metadata": {},
   "outputs": [],
   "source": [
    "combined_csv.to_csv(\"food_data_cleaned.csv\", index=False)\n",
    "orderHeaderRequest_df.to_csv('orderHeaderRequests_cleaned.csv',index=False)\n",
    "orderHeaderDonation_df.to_csv('orderHeaderDonations_cleaned.csv',index=False)\n",
    "orderItemsDonation_df.to_csv(\"orderItemsDonation_cleaned.csv\", index=False)\n",
    "orderItemRequest_df.to_csv(\"orderItemRequest_cleaned.csv\", index=False)"
   ]
  },
  {
   "cell_type": "code",
   "execution_count": null,
   "metadata": {},
   "outputs": [],
   "source": []
  },
  {
   "cell_type": "code",
   "execution_count": null,
   "metadata": {},
   "outputs": [],
   "source": []
  }
 ],
 "metadata": {
  "kernelspec": {
   "display_name": "Python 3",
   "language": "python",
   "name": "python3"
  },
  "language_info": {
   "codemirror_mode": {
    "name": "ipython",
    "version": 3
   },
   "file_extension": ".py",
   "mimetype": "text/x-python",
   "name": "python",
   "nbconvert_exporter": "python",
   "pygments_lexer": "ipython3",
   "version": "3.7.3"
  }
 },
 "nbformat": 4,
 "nbformat_minor": 2
}
