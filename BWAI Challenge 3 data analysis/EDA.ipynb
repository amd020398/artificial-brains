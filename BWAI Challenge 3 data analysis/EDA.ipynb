{
 "cells": [
  {
   "cell_type": "code",
   "execution_count": 107,
   "metadata": {},
   "outputs": [],
   "source": [
    "import pandas as pd\n",
    "import numpy as np\n",
    "import re\n",
    "import os\n",
    "from datetime import datetime"
   ]
  },
  {
   "cell_type": "code",
   "execution_count": 3,
   "metadata": {},
   "outputs": [],
   "source": [
    "def days_conversion(x):\n",
    "    if \"day\" in x:\n",
    "        x = x.split(' ')[0]\n",
    "        if len(x)==1:\n",
    "            return int(x)\n",
    "        else:\n",
    "            return int(x[x.find('-')+1])\n",
    "    elif \"week\" in x:\n",
    "        x = x.split(' ')[0]\n",
    "        if len(x)==1:\n",
    "            return int(x)*7\n",
    "        else:\n",
    "            return int(x[x.find('-')+1])*7\n",
    "    elif \"month\" in x:\n",
    "        x = x.split(' ')[0]\n",
    "        if len(x)==1:\n",
    "            return int(x)*30\n",
    "        else:\n",
    "            return int(x[x.find('-')+1])*30\n",
    "    elif \"year\" in x:\n",
    "        x = x.split(' ')[0]\n",
    "        if len(x)==1:\n",
    "            return int(x)*365\n",
    "        else:\n",
    "            return int(x[x.find('-')+1])*365\n",
    "    elif \"hour\" in x:\n",
    "        x = x.split(' ')[0]\n",
    "        if len(x)==1:\n",
    "            return int(x)/24\n",
    "        else:\n",
    "            return int(x[x.find('-')+1])/24\n",
    "    elif \"date\" in x and re.match('^[0-9]', x):\n",
    "        if 'mo' in x:\n",
    "            return int(x.split(' ')[0])*30\n",
    "        if 'week' in x:\n",
    "            return int(x.split(' ')[0])*7\n",
    "        if 'year' in x:\n",
    "            return int(x.split(' ')[0])*365\n",
    "        else:\n",
    "            return int(x.split(' ')[0])\n",
    "    else:\n",
    "        return np.nan\n",
    "    \n",
    "        "
   ]
  },
  {
   "cell_type": "code",
   "execution_count": 11,
   "metadata": {},
   "outputs": [
    {
     "data": {
      "text/plain": [
       "(1358, 6)"
      ]
     },
     "execution_count": 11,
     "metadata": {},
     "output_type": "execute_result"
    }
   ],
   "source": [
    "combined_csv.shape"
   ]
  },
  {
   "cell_type": "code",
   "execution_count": 12,
   "metadata": {},
   "outputs": [],
   "source": [
    "def period_conversion(df):\n",
    "    non_null_df = df[df['PERIOD'].notnull()]\n",
    "    null_df = df[df['PERIOD'].isnull()]\n",
    "    # Change period column to days and consider the maximum value\n",
    "    non_null_df['PERIOD'] = non_null_df['PERIOD'].apply(days_conversion)\n",
    "    df = pd.concat([non_null_df,null_df],ignore_index=True)\n",
    "    df[\"PERIOD\"] = pd.to_numeric(df[\"PERIOD\"])\n",
    "    # fill period column null values by \"TYPE\" and \"STORAGE\"\n",
    "    df['PERIOD'] = df.groupby(['TYPE'])['PERIOD'].transform(lambda x:x.fillna(round(np.mean(x),2)))\n",
    "    return df"
   ]
  },
  {
   "cell_type": "code",
   "execution_count": 13,
   "metadata": {},
   "outputs": [
    {
     "name": "stderr",
     "output_type": "stream",
     "text": [
      "/snap/jupyter/6/lib/python3.7/site-packages/ipykernel_launcher.py:5: SettingWithCopyWarning: \n",
      "A value is trying to be set on a copy of a slice from a DataFrame.\n",
      "Try using .loc[row_indexer,col_indexer] = value instead\n",
      "\n",
      "See the caveats in the documentation: https://pandas.pydata.org/pandas-docs/stable/user_guide/indexing.html#returning-a-view-versus-a-copy\n",
      "  \"\"\"\n"
     ]
    }
   ],
   "source": [
    "csv_files = [f for f in os.listdir() if f.endswith('.csv') and f.startswith('food')]\n",
    "# 1. Merge all food.csv files\n",
    "combined_csv = pd.concat([pd.read_csv(f) for f in csv_files])\n",
    "# removing redundant items (by eliminating nan records)\n",
    "combined_csv = combined_csv.drop_duplicates()\n",
    "# separating null and non-null rows to two dataframes\n",
    "combined_csv = period_conversion(combined_csv)\n",
    "# Split item name and create new column\n",
    "combined_csv[['ITEM','ITEM_DESC']] = combined_csv.ITEM.str.split(',', 1, expand=True)"
   ]
  },
  {
   "cell_type": "code",
   "execution_count": 14,
   "metadata": {},
   "outputs": [
    {
     "name": "stdout",
     "output_type": "stream",
     "text": [
      "<class 'pandas.core.frame.DataFrame'>\n",
      "RangeIndex: 679 entries, 0 to 678\n",
      "Data columns (total 6 columns):\n",
      " #   Column     Non-Null Count  Dtype  \n",
      "---  ------     --------------  -----  \n",
      " 0   TYPE       679 non-null    object \n",
      " 1   ITEM       679 non-null    object \n",
      " 2   PERIOD     679 non-null    float64\n",
      " 3   DETAILS    307 non-null    object \n",
      " 4   STORAGE    679 non-null    object \n",
      " 5   ITEM_DESC  455 non-null    object \n",
      "dtypes: float64(1), object(5)\n",
      "memory usage: 32.0+ KB\n"
     ]
    }
   ],
   "source": [
    "combined_csv.info()"
   ]
  },
  {
   "cell_type": "code",
   "execution_count": 15,
   "metadata": {},
   "outputs": [],
   "source": [
    "orderHeaderDonation_df = pd.read_csv(\"orderHeaderDonations.csv\")\n",
    "orderHeaderRequest_df = pd.read_csv(\"orderHeaderRequests.csv\")"
   ]
  },
  {
   "cell_type": "code",
   "execution_count": 16,
   "metadata": {},
   "outputs": [],
   "source": [
    "orderHeaderDonation_df['OrderDate'] = pd.to_datetime(orderHeaderDonation_df['OrderDate'], format='%Y-%m-%d')\n",
    "orderHeaderRequest_df['OrderDate'] = pd.to_datetime(orderHeaderRequest_df ['OrderDate'], format='%Y-%m-%d')"
   ]
  },
  {
   "cell_type": "code",
   "execution_count": 17,
   "metadata": {},
   "outputs": [],
   "source": [
    "orderHeaderDonation_df.OrderId = orderHeaderDonation_df.OrderId.astype(str)\n",
    "orderHeaderDonation_df.PartnerId = orderHeaderDonation_df.PartnerId.astype(str)"
   ]
  },
  {
   "cell_type": "code",
   "execution_count": 18,
   "metadata": {},
   "outputs": [],
   "source": [
    "orderHeaderRequest_df.OrderId = orderHeaderRequest_df.OrderId.astype(str)\n",
    "orderHeaderRequest_df.CustomerId = orderHeaderRequest_df.CustomerId.astype(str)"
   ]
  },
  {
   "cell_type": "code",
   "execution_count": null,
   "metadata": {},
   "outputs": [],
   "source": []
  },
  {
   "cell_type": "code",
   "execution_count": 19,
   "metadata": {
    "scrolled": true
   },
   "outputs": [
    {
     "name": "stdout",
     "output_type": "stream",
     "text": [
      "<class 'pandas.core.frame.DataFrame'>\n",
      "RangeIndex: 392 entries, 0 to 391\n",
      "Data columns (total 8 columns):\n",
      " #   Column          Non-Null Count  Dtype         \n",
      "---  ------          --------------  -----         \n",
      " 0   OrderId         392 non-null    object        \n",
      " 1   CustomerId      392 non-null    object        \n",
      " 2   OrderTotal      392 non-null    int64         \n",
      " 3   OrderDate       392 non-null    datetime64[ns]\n",
      " 4   Location        392 non-null    object        \n",
      " 5   CustomerName    392 non-null    object        \n",
      " 6   CustomerGeoLat  392 non-null    float64       \n",
      " 7   CustomerGeoLon  392 non-null    float64       \n",
      "dtypes: datetime64[ns](1), float64(2), int64(1), object(4)\n",
      "memory usage: 24.6+ KB\n"
     ]
    }
   ],
   "source": [
    "orderHeaderRequest_df.info()"
   ]
  },
  {
   "cell_type": "code",
   "execution_count": 20,
   "metadata": {},
   "outputs": [],
   "source": [
    "orderItemsDonation_df = pd.read_csv(\"orderItemsDonations.csv\")\n",
    "orderItemRequest_df = pd.read_csv(\"orderItemsRequests.csv\")"
   ]
  },
  {
   "cell_type": "code",
   "execution_count": 21,
   "metadata": {},
   "outputs": [],
   "source": [
    "orderItemsDonation_df.OrderId = orderItemsDonation_df.OrderId.astype(str)\n",
    "orderItemsDonation_df.OrderItemId = orderItemsDonation_df.OrderItemId.astype(str) \n",
    "orderItemRequest_df.OrderId = orderItemRequest_df.OrderId.astype(str) \n",
    "orderItemRequest_df.OrderItemId = orderItemRequest_df.OrderItemId.astype(str) "
   ]
  },
  {
   "cell_type": "code",
   "execution_count": 22,
   "metadata": {},
   "outputs": [],
   "source": [
    "orderItemsDonation_df.columns = ['OrderId','OrderItemId','TYPE','ITEM','PERIOD','DETAILS','STORAGE','Quantity']\n",
    "orderItemRequest_df.columns = ['OrderId','OrderItemId','TYPE','ITEM','PERIOD','DETAILS','STORAGE']"
   ]
  },
  {
   "cell_type": "code",
   "execution_count": 23,
   "metadata": {},
   "outputs": [
    {
     "data": {
      "text/html": [
       "<div>\n",
       "<style scoped>\n",
       "    .dataframe tbody tr th:only-of-type {\n",
       "        vertical-align: middle;\n",
       "    }\n",
       "\n",
       "    .dataframe tbody tr th {\n",
       "        vertical-align: top;\n",
       "    }\n",
       "\n",
       "    .dataframe thead th {\n",
       "        text-align: right;\n",
       "    }\n",
       "</style>\n",
       "<table border=\"1\" class=\"dataframe\">\n",
       "  <thead>\n",
       "    <tr style=\"text-align: right;\">\n",
       "      <th></th>\n",
       "      <th>OrderId</th>\n",
       "      <th>OrderItemId</th>\n",
       "      <th>TYPE</th>\n",
       "      <th>ITEM</th>\n",
       "      <th>PERIOD</th>\n",
       "      <th>DETAILS</th>\n",
       "      <th>STORAGE</th>\n",
       "      <th>Quantity</th>\n",
       "    </tr>\n",
       "  </thead>\n",
       "  <tbody>\n",
       "    <tr>\n",
       "      <th>0</th>\n",
       "      <td>20051</td>\n",
       "      <td>1</td>\n",
       "      <td>DIARY</td>\n",
       "      <td>Cheese, processed slices</td>\n",
       "      <td>1-2 months</td>\n",
       "      <td>NaN</td>\n",
       "      <td>REFRIGERATED</td>\n",
       "      <td>105</td>\n",
       "    </tr>\n",
       "    <tr>\n",
       "      <th>1</th>\n",
       "      <td>20051</td>\n",
       "      <td>2</td>\n",
       "      <td>DIARY</td>\n",
       "      <td>Eggs, in shell</td>\n",
       "      <td>3-5 weeks</td>\n",
       "      <td>NaN</td>\n",
       "      <td>REFRIGERATED</td>\n",
       "      <td>120</td>\n",
       "    </tr>\n",
       "    <tr>\n",
       "      <th>2</th>\n",
       "      <td>20051</td>\n",
       "      <td>3</td>\n",
       "      <td>DIARY</td>\n",
       "      <td>Margarine</td>\n",
       "      <td>12 months</td>\n",
       "      <td>NaN</td>\n",
       "      <td>FROZEN</td>\n",
       "      <td>140</td>\n",
       "    </tr>\n",
       "    <tr>\n",
       "      <th>3</th>\n",
       "      <td>20051</td>\n",
       "      <td>4</td>\n",
       "      <td>DIARY</td>\n",
       "      <td>Milk, plain or flavored</td>\n",
       "      <td>1 week</td>\n",
       "      <td>NaN</td>\n",
       "      <td>REFRIGERATED</td>\n",
       "      <td>135</td>\n",
       "    </tr>\n",
       "    <tr>\n",
       "      <th>4</th>\n",
       "      <td>20051</td>\n",
       "      <td>5</td>\n",
       "      <td>SOY</td>\n",
       "      <td>Tofu</td>\n",
       "      <td>1 week</td>\n",
       "      <td>NaN</td>\n",
       "      <td>REFRIGERATED</td>\n",
       "      <td>145</td>\n",
       "    </tr>\n",
       "  </tbody>\n",
       "</table>\n",
       "</div>"
      ],
      "text/plain": [
       "  OrderId OrderItemId   TYPE                      ITEM      PERIOD DETAILS  \\\n",
       "0   20051           1  DIARY  Cheese, processed slices  1-2 months     NaN   \n",
       "1   20051           2  DIARY            Eggs, in shell   3-5 weeks     NaN   \n",
       "2   20051           3  DIARY                 Margarine   12 months     NaN   \n",
       "3   20051           4  DIARY   Milk, plain or flavored      1 week     NaN   \n",
       "4   20051           5    SOY                      Tofu      1 week     NaN   \n",
       "\n",
       "        STORAGE  Quantity  \n",
       "0  REFRIGERATED       105  \n",
       "1  REFRIGERATED       120  \n",
       "2        FROZEN       140  \n",
       "3  REFRIGERATED       135  \n",
       "4  REFRIGERATED       145  "
      ]
     },
     "execution_count": 23,
     "metadata": {},
     "output_type": "execute_result"
    }
   ],
   "source": [
    "orderItemsDonation_df.head()"
   ]
  },
  {
   "cell_type": "code",
   "execution_count": 24,
   "metadata": {},
   "outputs": [],
   "source": [
    "orderItemsDonation_df[['ITEM','ITEM_DESC']] = orderItemsDonation_df.ITEM.str.split(',', 1, expand=True)\n",
    "orderItemRequest_df[['ITEM','ITEM_DESC']] = orderItemRequest_df.ITEM.str.split(',', 1, expand=True)"
   ]
  },
  {
   "cell_type": "code",
   "execution_count": 25,
   "metadata": {},
   "outputs": [
    {
     "name": "stderr",
     "output_type": "stream",
     "text": [
      "/snap/jupyter/6/lib/python3.7/site-packages/ipykernel_launcher.py:5: SettingWithCopyWarning: \n",
      "A value is trying to be set on a copy of a slice from a DataFrame.\n",
      "Try using .loc[row_indexer,col_indexer] = value instead\n",
      "\n",
      "See the caveats in the documentation: https://pandas.pydata.org/pandas-docs/stable/user_guide/indexing.html#returning-a-view-versus-a-copy\n",
      "  \"\"\"\n"
     ]
    }
   ],
   "source": [
    "orderItemsDonation_df = period_conversion(orderItemsDonation_df)\n",
    "orderItemRequest_df = period_conversion(orderItemRequest_df)"
   ]
  },
  {
   "cell_type": "code",
   "execution_count": 26,
   "metadata": {},
   "outputs": [
    {
     "data": {
      "text/html": [
       "<div>\n",
       "<style scoped>\n",
       "    .dataframe tbody tr th:only-of-type {\n",
       "        vertical-align: middle;\n",
       "    }\n",
       "\n",
       "    .dataframe tbody tr th {\n",
       "        vertical-align: top;\n",
       "    }\n",
       "\n",
       "    .dataframe thead th {\n",
       "        text-align: right;\n",
       "    }\n",
       "</style>\n",
       "<table border=\"1\" class=\"dataframe\">\n",
       "  <thead>\n",
       "    <tr style=\"text-align: right;\">\n",
       "      <th></th>\n",
       "      <th>OrderId</th>\n",
       "      <th>OrderItemId</th>\n",
       "      <th>TYPE</th>\n",
       "      <th>ITEM</th>\n",
       "      <th>PERIOD</th>\n",
       "      <th>DETAILS</th>\n",
       "      <th>STORAGE</th>\n",
       "      <th>Quantity</th>\n",
       "      <th>ITEM_DESC</th>\n",
       "    </tr>\n",
       "  </thead>\n",
       "  <tbody>\n",
       "    <tr>\n",
       "      <th>0</th>\n",
       "      <td>20051</td>\n",
       "      <td>1</td>\n",
       "      <td>DIARY</td>\n",
       "      <td>Cheese</td>\n",
       "      <td>60.0</td>\n",
       "      <td>NaN</td>\n",
       "      <td>REFRIGERATED</td>\n",
       "      <td>105</td>\n",
       "      <td>processed slices</td>\n",
       "    </tr>\n",
       "    <tr>\n",
       "      <th>1</th>\n",
       "      <td>20051</td>\n",
       "      <td>2</td>\n",
       "      <td>DIARY</td>\n",
       "      <td>Eggs</td>\n",
       "      <td>35.0</td>\n",
       "      <td>NaN</td>\n",
       "      <td>REFRIGERATED</td>\n",
       "      <td>120</td>\n",
       "      <td>in shell</td>\n",
       "    </tr>\n",
       "    <tr>\n",
       "      <th>2</th>\n",
       "      <td>20051</td>\n",
       "      <td>3</td>\n",
       "      <td>DIARY</td>\n",
       "      <td>Margarine</td>\n",
       "      <td>30.0</td>\n",
       "      <td>NaN</td>\n",
       "      <td>FROZEN</td>\n",
       "      <td>140</td>\n",
       "      <td>None</td>\n",
       "    </tr>\n",
       "    <tr>\n",
       "      <th>3</th>\n",
       "      <td>20051</td>\n",
       "      <td>4</td>\n",
       "      <td>DIARY</td>\n",
       "      <td>Milk</td>\n",
       "      <td>7.0</td>\n",
       "      <td>NaN</td>\n",
       "      <td>REFRIGERATED</td>\n",
       "      <td>135</td>\n",
       "      <td>plain or flavored</td>\n",
       "    </tr>\n",
       "    <tr>\n",
       "      <th>4</th>\n",
       "      <td>20051</td>\n",
       "      <td>5</td>\n",
       "      <td>SOY</td>\n",
       "      <td>Tofu</td>\n",
       "      <td>7.0</td>\n",
       "      <td>NaN</td>\n",
       "      <td>REFRIGERATED</td>\n",
       "      <td>145</td>\n",
       "      <td>None</td>\n",
       "    </tr>\n",
       "  </tbody>\n",
       "</table>\n",
       "</div>"
      ],
      "text/plain": [
       "  OrderId OrderItemId   TYPE       ITEM  PERIOD DETAILS       STORAGE  \\\n",
       "0   20051           1  DIARY     Cheese    60.0     NaN  REFRIGERATED   \n",
       "1   20051           2  DIARY       Eggs    35.0     NaN  REFRIGERATED   \n",
       "2   20051           3  DIARY  Margarine    30.0     NaN        FROZEN   \n",
       "3   20051           4  DIARY       Milk     7.0     NaN  REFRIGERATED   \n",
       "4   20051           5    SOY       Tofu     7.0     NaN  REFRIGERATED   \n",
       "\n",
       "   Quantity           ITEM_DESC  \n",
       "0       105    processed slices  \n",
       "1       120            in shell  \n",
       "2       140                None  \n",
       "3       135   plain or flavored  \n",
       "4       145                None  "
      ]
     },
     "execution_count": 26,
     "metadata": {},
     "output_type": "execute_result"
    }
   ],
   "source": [
    "orderItemsDonation_df.head()"
   ]
  },
  {
   "cell_type": "code",
   "execution_count": 27,
   "metadata": {},
   "outputs": [],
   "source": [
    "combined_csv.to_csv(\"food_data_cleaned.csv\", index=False)\n",
    "orderHeaderRequest_df.to_csv('orderHeaderRequests_cleaned.csv',index=False)\n",
    "orderHeaderDonation_df.to_csv('orderHeaderDonations_cleaned.csv',index=False)\n",
    "orderItemsDonation_df.to_csv(\"orderItemsDonation_cleaned.csv\", index=False)\n",
    "orderItemRequest_df.to_csv(\"orderItemRequest_cleaned.csv\", index=False)"
   ]
  },
  {
   "cell_type": "code",
   "execution_count": 8,
   "metadata": {},
   "outputs": [],
   "source": [
    "ohr = pd.read_csv('orderHeaderRequests_cleaned.csv')\n",
    "ohd = pd.read_csv('orderHeaderDonations_cleaned.csv')\n",
    "oid = pd.read_csv(\"orderItemsDonation_cleaned.csv\")\n",
    "oir = pd.read_csv(\"orderItemRequest_cleaned.csv\")"
   ]
  },
  {
   "cell_type": "code",
   "execution_count": 3,
   "metadata": {},
   "outputs": [
    {
     "data": {
      "text/html": [
       "<div>\n",
       "<style scoped>\n",
       "    .dataframe tbody tr th:only-of-type {\n",
       "        vertical-align: middle;\n",
       "    }\n",
       "\n",
       "    .dataframe tbody tr th {\n",
       "        vertical-align: top;\n",
       "    }\n",
       "\n",
       "    .dataframe thead th {\n",
       "        text-align: right;\n",
       "    }\n",
       "</style>\n",
       "<table border=\"1\" class=\"dataframe\">\n",
       "  <thead>\n",
       "    <tr style=\"text-align: right;\">\n",
       "      <th></th>\n",
       "      <th>OrderId</th>\n",
       "      <th>PartnerId</th>\n",
       "      <th>OrderTotal</th>\n",
       "      <th>OrderDate</th>\n",
       "      <th>PartnerName</th>\n",
       "      <th>PartnerGeoLat</th>\n",
       "      <th>PartnerGeoLon</th>\n",
       "    </tr>\n",
       "  </thead>\n",
       "  <tbody>\n",
       "    <tr>\n",
       "      <th>0</th>\n",
       "      <td>20051</td>\n",
       "      <td>190050</td>\n",
       "      <td>2000</td>\n",
       "      <td>2021-01-11</td>\n",
       "      <td>FoodieLand</td>\n",
       "      <td>-27.49079</td>\n",
       "      <td>153.06799</td>\n",
       "    </tr>\n",
       "    <tr>\n",
       "      <th>1</th>\n",
       "      <td>20052</td>\n",
       "      <td>190050</td>\n",
       "      <td>2000</td>\n",
       "      <td>2021-01-12</td>\n",
       "      <td>FoodieLand</td>\n",
       "      <td>-27.49079</td>\n",
       "      <td>153.06799</td>\n",
       "    </tr>\n",
       "    <tr>\n",
       "      <th>2</th>\n",
       "      <td>20053</td>\n",
       "      <td>190050</td>\n",
       "      <td>2000</td>\n",
       "      <td>2021-01-13</td>\n",
       "      <td>FoodieLand</td>\n",
       "      <td>-27.49079</td>\n",
       "      <td>153.06799</td>\n",
       "    </tr>\n",
       "    <tr>\n",
       "      <th>3</th>\n",
       "      <td>20054</td>\n",
       "      <td>190050</td>\n",
       "      <td>2000</td>\n",
       "      <td>2021-01-14</td>\n",
       "      <td>FoodieLand</td>\n",
       "      <td>-27.49079</td>\n",
       "      <td>153.06799</td>\n",
       "    </tr>\n",
       "    <tr>\n",
       "      <th>4</th>\n",
       "      <td>20055</td>\n",
       "      <td>190050</td>\n",
       "      <td>2000</td>\n",
       "      <td>2021-01-15</td>\n",
       "      <td>FoodieLand</td>\n",
       "      <td>-27.49079</td>\n",
       "      <td>153.06799</td>\n",
       "    </tr>\n",
       "  </tbody>\n",
       "</table>\n",
       "</div>"
      ],
      "text/plain": [
       "   OrderId  PartnerId  OrderTotal   OrderDate PartnerName  PartnerGeoLat  \\\n",
       "0    20051     190050        2000  2021-01-11  FoodieLand      -27.49079   \n",
       "1    20052     190050        2000  2021-01-12  FoodieLand      -27.49079   \n",
       "2    20053     190050        2000  2021-01-13  FoodieLand      -27.49079   \n",
       "3    20054     190050        2000  2021-01-14  FoodieLand      -27.49079   \n",
       "4    20055     190050        2000  2021-01-15  FoodieLand      -27.49079   \n",
       "\n",
       "   PartnerGeoLon  \n",
       "0      153.06799  \n",
       "1      153.06799  \n",
       "2      153.06799  \n",
       "3      153.06799  \n",
       "4      153.06799  "
      ]
     },
     "execution_count": 3,
     "metadata": {},
     "output_type": "execute_result"
    }
   ],
   "source": [
    "ohd.head()"
   ]
  },
  {
   "cell_type": "code",
   "execution_count": 12,
   "metadata": {},
   "outputs": [
    {
     "data": {
      "text/html": [
       "<div>\n",
       "<style scoped>\n",
       "    .dataframe tbody tr th:only-of-type {\n",
       "        vertical-align: middle;\n",
       "    }\n",
       "\n",
       "    .dataframe tbody tr th {\n",
       "        vertical-align: top;\n",
       "    }\n",
       "\n",
       "    .dataframe thead th {\n",
       "        text-align: right;\n",
       "    }\n",
       "</style>\n",
       "<table border=\"1\" class=\"dataframe\">\n",
       "  <thead>\n",
       "    <tr style=\"text-align: right;\">\n",
       "      <th></th>\n",
       "      <th>OrderId</th>\n",
       "      <th>OrderItemId</th>\n",
       "      <th>TYPE</th>\n",
       "      <th>ITEM</th>\n",
       "      <th>PERIOD</th>\n",
       "      <th>DETAILS</th>\n",
       "      <th>STORAGE</th>\n",
       "      <th>Quantity</th>\n",
       "      <th>ITEM_DESC</th>\n",
       "    </tr>\n",
       "  </thead>\n",
       "  <tbody>\n",
       "    <tr>\n",
       "      <th>0</th>\n",
       "      <td>20051</td>\n",
       "      <td>1</td>\n",
       "      <td>DIARY</td>\n",
       "      <td>Cheese</td>\n",
       "      <td>60.00</td>\n",
       "      <td>NaN</td>\n",
       "      <td>REFRIGERATED</td>\n",
       "      <td>105</td>\n",
       "      <td>processed slices</td>\n",
       "    </tr>\n",
       "    <tr>\n",
       "      <th>1</th>\n",
       "      <td>20051</td>\n",
       "      <td>2</td>\n",
       "      <td>DIARY</td>\n",
       "      <td>Eggs</td>\n",
       "      <td>35.00</td>\n",
       "      <td>NaN</td>\n",
       "      <td>REFRIGERATED</td>\n",
       "      <td>120</td>\n",
       "      <td>in shell</td>\n",
       "    </tr>\n",
       "    <tr>\n",
       "      <th>2</th>\n",
       "      <td>20051</td>\n",
       "      <td>3</td>\n",
       "      <td>DIARY</td>\n",
       "      <td>Margarine</td>\n",
       "      <td>30.00</td>\n",
       "      <td>NaN</td>\n",
       "      <td>FROZEN</td>\n",
       "      <td>140</td>\n",
       "      <td>NaN</td>\n",
       "    </tr>\n",
       "    <tr>\n",
       "      <th>3</th>\n",
       "      <td>20051</td>\n",
       "      <td>4</td>\n",
       "      <td>DIARY</td>\n",
       "      <td>Milk</td>\n",
       "      <td>7.00</td>\n",
       "      <td>NaN</td>\n",
       "      <td>REFRIGERATED</td>\n",
       "      <td>135</td>\n",
       "      <td>plain or flavored</td>\n",
       "    </tr>\n",
       "    <tr>\n",
       "      <th>4</th>\n",
       "      <td>20051</td>\n",
       "      <td>5</td>\n",
       "      <td>SOY</td>\n",
       "      <td>Tofu</td>\n",
       "      <td>7.00</td>\n",
       "      <td>NaN</td>\n",
       "      <td>REFRIGERATED</td>\n",
       "      <td>145</td>\n",
       "      <td>NaN</td>\n",
       "    </tr>\n",
       "    <tr>\n",
       "      <th>5</th>\n",
       "      <td>20051</td>\n",
       "      <td>6</td>\n",
       "      <td>PROCESSED_MEAT</td>\n",
       "      <td>Bacon</td>\n",
       "      <td>7.00</td>\n",
       "      <td>NaN</td>\n",
       "      <td>REFRIGERATED</td>\n",
       "      <td>140</td>\n",
       "      <td>NaN</td>\n",
       "    </tr>\n",
       "    <tr>\n",
       "      <th>6</th>\n",
       "      <td>20051</td>\n",
       "      <td>7</td>\n",
       "      <td>PROCESSED_MEAT</td>\n",
       "      <td>Ham</td>\n",
       "      <td>270.00</td>\n",
       "      <td>NaN</td>\n",
       "      <td>REFRIGERATED</td>\n",
       "      <td>110</td>\n",
       "      <td>canned (\"keep refrigerated\" label)</td>\n",
       "    </tr>\n",
       "    <tr>\n",
       "      <th>7</th>\n",
       "      <td>20051</td>\n",
       "      <td>8</td>\n",
       "      <td>FRUIT</td>\n",
       "      <td>Apples</td>\n",
       "      <td>2.00</td>\n",
       "      <td>NaN</td>\n",
       "      <td>SHELF</td>\n",
       "      <td>130</td>\n",
       "      <td>NaN</td>\n",
       "    </tr>\n",
       "    <tr>\n",
       "      <th>8</th>\n",
       "      <td>20051</td>\n",
       "      <td>9</td>\n",
       "      <td>FRUIT</td>\n",
       "      <td>Bananas</td>\n",
       "      <td>25.46</td>\n",
       "      <td>NaN</td>\n",
       "      <td>SHELF</td>\n",
       "      <td>100</td>\n",
       "      <td>NaN</td>\n",
       "    </tr>\n",
       "    <tr>\n",
       "      <th>9</th>\n",
       "      <td>20051</td>\n",
       "      <td>10</td>\n",
       "      <td>VEGETABLES</td>\n",
       "      <td>Tomatoes</td>\n",
       "      <td>39.50</td>\n",
       "      <td>NaN</td>\n",
       "      <td>SHELF</td>\n",
       "      <td>125</td>\n",
       "      <td>NaN</td>\n",
       "    </tr>\n",
       "    <tr>\n",
       "      <th>10</th>\n",
       "      <td>20051</td>\n",
       "      <td>11</td>\n",
       "      <td>SHELF_ITEM</td>\n",
       "      <td>Rice</td>\n",
       "      <td>730.00</td>\n",
       "      <td>unopened</td>\n",
       "      <td>SHELF</td>\n",
       "      <td>130</td>\n",
       "      <td>white or wild</td>\n",
       "    </tr>\n",
       "    <tr>\n",
       "      <th>11</th>\n",
       "      <td>20051</td>\n",
       "      <td>12</td>\n",
       "      <td>BAKERY</td>\n",
       "      <td>Bread</td>\n",
       "      <td>90.00</td>\n",
       "      <td>NaN</td>\n",
       "      <td>FROZEN</td>\n",
       "      <td>145</td>\n",
       "      <td>commercial*</td>\n",
       "    </tr>\n",
       "    <tr>\n",
       "      <th>12</th>\n",
       "      <td>20051</td>\n",
       "      <td>13</td>\n",
       "      <td>PROCESSED_MEAT</td>\n",
       "      <td>Sausage</td>\n",
       "      <td>60.00</td>\n",
       "      <td>NaN</td>\n",
       "      <td>FROZEN</td>\n",
       "      <td>110</td>\n",
       "      <td>smoked links, patties</td>\n",
       "    </tr>\n",
       "    <tr>\n",
       "      <th>13</th>\n",
       "      <td>20051</td>\n",
       "      <td>14</td>\n",
       "      <td>SMOKEDFISH</td>\n",
       "      <td>Salmon</td>\n",
       "      <td>60.00</td>\n",
       "      <td>NaN</td>\n",
       "      <td>FROZEN</td>\n",
       "      <td>110</td>\n",
       "      <td>whitefish, cold-smoked</td>\n",
       "    </tr>\n",
       "    <tr>\n",
       "      <th>14</th>\n",
       "      <td>20051</td>\n",
       "      <td>15</td>\n",
       "      <td>BAKERY</td>\n",
       "      <td>Cakes</td>\n",
       "      <td>30.00</td>\n",
       "      <td>NaN</td>\n",
       "      <td>FROZEN</td>\n",
       "      <td>115</td>\n",
       "      <td>fruit cake</td>\n",
       "    </tr>\n",
       "    <tr>\n",
       "      <th>15</th>\n",
       "      <td>20051</td>\n",
       "      <td>16</td>\n",
       "      <td>FRESH_POULTRY</td>\n",
       "      <td>Giblets</td>\n",
       "      <td>120.00</td>\n",
       "      <td>NaN</td>\n",
       "      <td>FROZEN</td>\n",
       "      <td>140</td>\n",
       "      <td>NaN</td>\n",
       "    </tr>\n",
       "    <tr>\n",
       "      <th>16</th>\n",
       "      <td>20051</td>\n",
       "      <td>17</td>\n",
       "      <td>FROZEN_ITEM</td>\n",
       "      <td>Tempeh</td>\n",
       "      <td>14.00</td>\n",
       "      <td>NaN</td>\n",
       "      <td>THAWED</td>\n",
       "      <td>145</td>\n",
       "      <td>NaN</td>\n",
       "    </tr>\n",
       "    <tr>\n",
       "      <th>17</th>\n",
       "      <td>20051</td>\n",
       "      <td>18</td>\n",
       "      <td>BAKERY</td>\n",
       "      <td>Cakes</td>\n",
       "      <td>60.00</td>\n",
       "      <td>NaN</td>\n",
       "      <td>FROZEN</td>\n",
       "      <td>140</td>\n",
       "      <td>angel food</td>\n",
       "    </tr>\n",
       "    <tr>\n",
       "      <th>18</th>\n",
       "      <td>20051</td>\n",
       "      <td>19</td>\n",
       "      <td>PESTO</td>\n",
       "      <td>Pesto or Sala</td>\n",
       "      <td>3.00</td>\n",
       "      <td>opened</td>\n",
       "      <td>REFRIGERATED</td>\n",
       "      <td>105</td>\n",
       "      <td>NaN</td>\n",
       "    </tr>\n",
       "    <tr>\n",
       "      <th>19</th>\n",
       "      <td>20051</td>\n",
       "      <td>20</td>\n",
       "      <td>BAKERY</td>\n",
       "      <td>Cakes</td>\n",
       "      <td>120.00</td>\n",
       "      <td>NaN</td>\n",
       "      <td>FROZEN</td>\n",
       "      <td>135</td>\n",
       "      <td>chocolate</td>\n",
       "    </tr>\n",
       "  </tbody>\n",
       "</table>\n",
       "</div>"
      ],
      "text/plain": [
       "    OrderId  OrderItemId            TYPE           ITEM  PERIOD   DETAILS  \\\n",
       "0     20051            1           DIARY         Cheese   60.00       NaN   \n",
       "1     20051            2           DIARY           Eggs   35.00       NaN   \n",
       "2     20051            3           DIARY      Margarine   30.00       NaN   \n",
       "3     20051            4           DIARY           Milk    7.00       NaN   \n",
       "4     20051            5             SOY           Tofu    7.00       NaN   \n",
       "5     20051            6  PROCESSED_MEAT          Bacon    7.00       NaN   \n",
       "6     20051            7  PROCESSED_MEAT            Ham  270.00       NaN   \n",
       "7     20051            8           FRUIT         Apples    2.00       NaN   \n",
       "8     20051            9           FRUIT        Bananas   25.46       NaN   \n",
       "9     20051           10      VEGETABLES       Tomatoes   39.50       NaN   \n",
       "10    20051           11      SHELF_ITEM           Rice  730.00  unopened   \n",
       "11    20051           12          BAKERY          Bread   90.00       NaN   \n",
       "12    20051           13  PROCESSED_MEAT        Sausage   60.00       NaN   \n",
       "13    20051           14      SMOKEDFISH         Salmon   60.00       NaN   \n",
       "14    20051           15          BAKERY          Cakes   30.00       NaN   \n",
       "15    20051           16   FRESH_POULTRY        Giblets  120.00       NaN   \n",
       "16    20051           17     FROZEN_ITEM         Tempeh   14.00       NaN   \n",
       "17    20051           18          BAKERY          Cakes   60.00       NaN   \n",
       "18    20051           19           PESTO  Pesto or Sala    3.00    opened   \n",
       "19    20051           20          BAKERY          Cakes  120.00       NaN   \n",
       "\n",
       "         STORAGE  Quantity                            ITEM_DESC  \n",
       "0   REFRIGERATED       105                     processed slices  \n",
       "1   REFRIGERATED       120                             in shell  \n",
       "2         FROZEN       140                                  NaN  \n",
       "3   REFRIGERATED       135                    plain or flavored  \n",
       "4   REFRIGERATED       145                                  NaN  \n",
       "5   REFRIGERATED       140                                  NaN  \n",
       "6   REFRIGERATED       110   canned (\"keep refrigerated\" label)  \n",
       "7          SHELF       130                                  NaN  \n",
       "8          SHELF       100                                  NaN  \n",
       "9          SHELF       125                                  NaN  \n",
       "10         SHELF       130                        white or wild  \n",
       "11        FROZEN       145                          commercial*  \n",
       "12        FROZEN       110                smoked links, patties  \n",
       "13        FROZEN       110               whitefish, cold-smoked  \n",
       "14        FROZEN       115                           fruit cake  \n",
       "15        FROZEN       140                                  NaN  \n",
       "16        THAWED       145                                  NaN  \n",
       "17        FROZEN       140                           angel food  \n",
       "18  REFRIGERATED       105                                  NaN  \n",
       "19        FROZEN       135                            chocolate  "
      ]
     },
     "execution_count": 12,
     "metadata": {},
     "output_type": "execute_result"
    }
   ],
   "source": [
    "oid.head(20)"
   ]
  },
  {
   "cell_type": "code",
   "execution_count": 5,
   "metadata": {},
   "outputs": [
    {
     "data": {
      "text/html": [
       "<div>\n",
       "<style scoped>\n",
       "    .dataframe tbody tr th:only-of-type {\n",
       "        vertical-align: middle;\n",
       "    }\n",
       "\n",
       "    .dataframe tbody tr th {\n",
       "        vertical-align: top;\n",
       "    }\n",
       "\n",
       "    .dataframe thead th {\n",
       "        text-align: right;\n",
       "    }\n",
       "</style>\n",
       "<table border=\"1\" class=\"dataframe\">\n",
       "  <thead>\n",
       "    <tr style=\"text-align: right;\">\n",
       "      <th></th>\n",
       "      <th>OrderId</th>\n",
       "      <th>CustomerId</th>\n",
       "      <th>OrderTotal</th>\n",
       "      <th>OrderDate</th>\n",
       "      <th>Location</th>\n",
       "      <th>CustomerName</th>\n",
       "      <th>CustomerGeoLat</th>\n",
       "      <th>CustomerGeoLon</th>\n",
       "    </tr>\n",
       "  </thead>\n",
       "  <tbody>\n",
       "    <tr>\n",
       "      <th>0</th>\n",
       "      <td>50050</td>\n",
       "      <td>90050</td>\n",
       "      <td>200</td>\n",
       "      <td>2021-01-10</td>\n",
       "      <td>AGA North</td>\n",
       "      <td>Mark Burton</td>\n",
       "      <td>-27.54249</td>\n",
       "      <td>153.09159</td>\n",
       "    </tr>\n",
       "    <tr>\n",
       "      <th>1</th>\n",
       "      <td>50051</td>\n",
       "      <td>90050</td>\n",
       "      <td>200</td>\n",
       "      <td>2021-01-20</td>\n",
       "      <td>AGA North</td>\n",
       "      <td>Mark Burton</td>\n",
       "      <td>-27.54249</td>\n",
       "      <td>153.09159</td>\n",
       "    </tr>\n",
       "    <tr>\n",
       "      <th>2</th>\n",
       "      <td>50052</td>\n",
       "      <td>90050</td>\n",
       "      <td>200</td>\n",
       "      <td>2021-01-25</td>\n",
       "      <td>AGA North</td>\n",
       "      <td>Mark Burton</td>\n",
       "      <td>-27.54249</td>\n",
       "      <td>153.09159</td>\n",
       "    </tr>\n",
       "    <tr>\n",
       "      <th>3</th>\n",
       "      <td>50053</td>\n",
       "      <td>90050</td>\n",
       "      <td>200</td>\n",
       "      <td>2021-01-30</td>\n",
       "      <td>AGA North</td>\n",
       "      <td>Mark Burton</td>\n",
       "      <td>-27.54249</td>\n",
       "      <td>153.09159</td>\n",
       "    </tr>\n",
       "    <tr>\n",
       "      <th>4</th>\n",
       "      <td>50054</td>\n",
       "      <td>90050</td>\n",
       "      <td>200</td>\n",
       "      <td>2021-02-06</td>\n",
       "      <td>AGA North</td>\n",
       "      <td>Mark Burton</td>\n",
       "      <td>-27.54249</td>\n",
       "      <td>153.09159</td>\n",
       "    </tr>\n",
       "  </tbody>\n",
       "</table>\n",
       "</div>"
      ],
      "text/plain": [
       "   OrderId  CustomerId  OrderTotal   OrderDate   Location CustomerName  \\\n",
       "0    50050       90050         200  2021-01-10  AGA North  Mark Burton   \n",
       "1    50051       90050         200  2021-01-20  AGA North  Mark Burton   \n",
       "2    50052       90050         200  2021-01-25  AGA North  Mark Burton   \n",
       "3    50053       90050         200  2021-01-30  AGA North  Mark Burton   \n",
       "4    50054       90050         200  2021-02-06  AGA North  Mark Burton   \n",
       "\n",
       "   CustomerGeoLat  CustomerGeoLon  \n",
       "0       -27.54249       153.09159  \n",
       "1       -27.54249       153.09159  \n",
       "2       -27.54249       153.09159  \n",
       "3       -27.54249       153.09159  \n",
       "4       -27.54249       153.09159  "
      ]
     },
     "execution_count": 5,
     "metadata": {},
     "output_type": "execute_result"
    }
   ],
   "source": [
    "ohr.head()"
   ]
  },
  {
   "cell_type": "code",
   "execution_count": 7,
   "metadata": {},
   "outputs": [
    {
     "data": {
      "text/html": [
       "<div>\n",
       "<style scoped>\n",
       "    .dataframe tbody tr th:only-of-type {\n",
       "        vertical-align: middle;\n",
       "    }\n",
       "\n",
       "    .dataframe tbody tr th {\n",
       "        vertical-align: top;\n",
       "    }\n",
       "\n",
       "    .dataframe thead th {\n",
       "        text-align: right;\n",
       "    }\n",
       "</style>\n",
       "<table border=\"1\" class=\"dataframe\">\n",
       "  <thead>\n",
       "    <tr style=\"text-align: right;\">\n",
       "      <th></th>\n",
       "      <th>OrderId</th>\n",
       "      <th>OrderItemId</th>\n",
       "      <th>TYPE</th>\n",
       "      <th>ITEM</th>\n",
       "      <th>PERIOD</th>\n",
       "      <th>DETAILS</th>\n",
       "      <th>STORAGE</th>\n",
       "      <th>ITEM_DESC</th>\n",
       "    </tr>\n",
       "  </thead>\n",
       "  <tbody>\n",
       "    <tr>\n",
       "      <th>0</th>\n",
       "      <td>50050</td>\n",
       "      <td>2</td>\n",
       "      <td>SHELF_ITEM</td>\n",
       "      <td>Tea</td>\n",
       "      <td>30.00</td>\n",
       "      <td>unopened</td>\n",
       "      <td>SHELF</td>\n",
       "      <td>bags</td>\n",
       "    </tr>\n",
       "    <tr>\n",
       "      <th>1</th>\n",
       "      <td>50050</td>\n",
       "      <td>3</td>\n",
       "      <td>BAKERY</td>\n",
       "      <td>Pies</td>\n",
       "      <td>240.00</td>\n",
       "      <td>NaN</td>\n",
       "      <td>FROZEN</td>\n",
       "      <td>mincemeat</td>\n",
       "    </tr>\n",
       "    <tr>\n",
       "      <th>2</th>\n",
       "      <td>50050</td>\n",
       "      <td>4</td>\n",
       "      <td>SHELF_ITEM</td>\n",
       "      <td>Marshmallows</td>\n",
       "      <td>120.00</td>\n",
       "      <td>unopened</td>\n",
       "      <td>SHELF</td>\n",
       "      <td>marshmallow creme</td>\n",
       "    </tr>\n",
       "    <tr>\n",
       "      <th>3</th>\n",
       "      <td>50050</td>\n",
       "      <td>5</td>\n",
       "      <td>BAKERY</td>\n",
       "      <td>Doughnuts</td>\n",
       "      <td>7.00</td>\n",
       "      <td>G</td>\n",
       "      <td>REFRIGERATED</td>\n",
       "      <td>glazed or cake</td>\n",
       "    </tr>\n",
       "    <tr>\n",
       "      <th>4</th>\n",
       "      <td>50050</td>\n",
       "      <td>6</td>\n",
       "      <td>DIARY</td>\n",
       "      <td>Cream</td>\n",
       "      <td>120.00</td>\n",
       "      <td>NaN</td>\n",
       "      <td>FROZEN</td>\n",
       "      <td>half-and-half</td>\n",
       "    </tr>\n",
       "    <tr>\n",
       "      <th>5</th>\n",
       "      <td>50050</td>\n",
       "      <td>7</td>\n",
       "      <td>SMOKEDFISH</td>\n",
       "      <td>Salmon</td>\n",
       "      <td>60.00</td>\n",
       "      <td>NaN</td>\n",
       "      <td>FROZEN</td>\n",
       "      <td>whitefish, cold-smoked</td>\n",
       "    </tr>\n",
       "    <tr>\n",
       "      <th>6</th>\n",
       "      <td>50050</td>\n",
       "      <td>8</td>\n",
       "      <td>SHELF_ITEM</td>\n",
       "      <td>Milk</td>\n",
       "      <td>5.00</td>\n",
       "      <td>opened</td>\n",
       "      <td>REFRIGERATED</td>\n",
       "      <td>canned evaporated</td>\n",
       "    </tr>\n",
       "    <tr>\n",
       "      <th>7</th>\n",
       "      <td>50050</td>\n",
       "      <td>9</td>\n",
       "      <td>DIARY</td>\n",
       "      <td>Milk</td>\n",
       "      <td>90.00</td>\n",
       "      <td>NaN</td>\n",
       "      <td>FROZEN</td>\n",
       "      <td>plain or flavored</td>\n",
       "    </tr>\n",
       "    <tr>\n",
       "      <th>8</th>\n",
       "      <td>50050</td>\n",
       "      <td>10</td>\n",
       "      <td>SHELF_ITEM</td>\n",
       "      <td>Extracts</td>\n",
       "      <td>1095.00</td>\n",
       "      <td>unopened</td>\n",
       "      <td>SHELF</td>\n",
       "      <td>vanilla, lemon, etc.</td>\n",
       "    </tr>\n",
       "    <tr>\n",
       "      <th>9</th>\n",
       "      <td>50050</td>\n",
       "      <td>11</td>\n",
       "      <td>BAKERY</td>\n",
       "      <td>Rolls</td>\n",
       "      <td>36.62</td>\n",
       "      <td>NaN</td>\n",
       "      <td>SHELF</td>\n",
       "      <td>yeast, partially baked</td>\n",
       "    </tr>\n",
       "    <tr>\n",
       "      <th>10</th>\n",
       "      <td>50050</td>\n",
       "      <td>13</td>\n",
       "      <td>SHELF_ITEM</td>\n",
       "      <td>Sugar</td>\n",
       "      <td>120.00</td>\n",
       "      <td>NaN</td>\n",
       "      <td>SHELF</td>\n",
       "      <td>brown</td>\n",
       "    </tr>\n",
       "    <tr>\n",
       "      <th>11</th>\n",
       "      <td>50050</td>\n",
       "      <td>14</td>\n",
       "      <td>SHELF_ITEM</td>\n",
       "      <td>Spaghetti sauce in jars</td>\n",
       "      <td>30.00</td>\n",
       "      <td>unopened</td>\n",
       "      <td>SHELF</td>\n",
       "      <td>NaN</td>\n",
       "    </tr>\n",
       "    <tr>\n",
       "      <th>12</th>\n",
       "      <td>50051</td>\n",
       "      <td>1</td>\n",
       "      <td>SHELF_ITEM</td>\n",
       "      <td>Commercially microwave packets</td>\n",
       "      <td>30.00</td>\n",
       "      <td>unopened</td>\n",
       "      <td>SHELF</td>\n",
       "      <td>NaN</td>\n",
       "    </tr>\n",
       "    <tr>\n",
       "      <th>13</th>\n",
       "      <td>50051</td>\n",
       "      <td>2</td>\n",
       "      <td>BAKERY</td>\n",
       "      <td>Cakes</td>\n",
       "      <td>180.00</td>\n",
       "      <td>NaN</td>\n",
       "      <td>REFRIGERATED</td>\n",
       "      <td>fruit cake</td>\n",
       "    </tr>\n",
       "    <tr>\n",
       "      <th>14</th>\n",
       "      <td>50051</td>\n",
       "      <td>3</td>\n",
       "      <td>BAKERY</td>\n",
       "      <td>Muffins</td>\n",
       "      <td>2.00</td>\n",
       "      <td>NaN</td>\n",
       "      <td>SHELF</td>\n",
       "      <td>NaN</td>\n",
       "    </tr>\n",
       "    <tr>\n",
       "      <th>15</th>\n",
       "      <td>50051</td>\n",
       "      <td>4</td>\n",
       "      <td>VEGETABLES</td>\n",
       "      <td>Eggplant</td>\n",
       "      <td>1.00</td>\n",
       "      <td>NaN</td>\n",
       "      <td>SHELF</td>\n",
       "      <td>NaN</td>\n",
       "    </tr>\n",
       "    <tr>\n",
       "      <th>16</th>\n",
       "      <td>50051</td>\n",
       "      <td>5</td>\n",
       "      <td>FRUIT</td>\n",
       "      <td>Coconuts</td>\n",
       "      <td>180.00</td>\n",
       "      <td>Shredded</td>\n",
       "      <td>FROZEN</td>\n",
       "      <td>NaN</td>\n",
       "    </tr>\n",
       "    <tr>\n",
       "      <th>17</th>\n",
       "      <td>50051</td>\n",
       "      <td>6</td>\n",
       "      <td>SHELF_ITEM</td>\n",
       "      <td>Gelatin</td>\n",
       "      <td>1095.00</td>\n",
       "      <td>unopened</td>\n",
       "      <td>SHELF</td>\n",
       "      <td>unflavored</td>\n",
       "    </tr>\n",
       "    <tr>\n",
       "      <th>18</th>\n",
       "      <td>50051</td>\n",
       "      <td>8</td>\n",
       "      <td>FROZEN_ITEM</td>\n",
       "      <td>Bread Dough</td>\n",
       "      <td>7.00</td>\n",
       "      <td>After baking</td>\n",
       "      <td>THAWED</td>\n",
       "      <td>commercial</td>\n",
       "    </tr>\n",
       "    <tr>\n",
       "      <th>19</th>\n",
       "      <td>50051</td>\n",
       "      <td>9</td>\n",
       "      <td>SHELF_ITEM</td>\n",
       "      <td>Rice</td>\n",
       "      <td>730.00</td>\n",
       "      <td>unopened</td>\n",
       "      <td>SHELF</td>\n",
       "      <td>white or wild</td>\n",
       "    </tr>\n",
       "  </tbody>\n",
       "</table>\n",
       "</div>"
      ],
      "text/plain": [
       "    OrderId  OrderItemId         TYPE                            ITEM  \\\n",
       "0     50050            2   SHELF_ITEM                             Tea   \n",
       "1     50050            3       BAKERY                            Pies   \n",
       "2     50050            4   SHELF_ITEM                    Marshmallows   \n",
       "3     50050            5       BAKERY                       Doughnuts   \n",
       "4     50050            6        DIARY                           Cream   \n",
       "5     50050            7   SMOKEDFISH                          Salmon   \n",
       "6     50050            8   SHELF_ITEM                            Milk   \n",
       "7     50050            9        DIARY                            Milk   \n",
       "8     50050           10   SHELF_ITEM                        Extracts   \n",
       "9     50050           11       BAKERY                           Rolls   \n",
       "10    50050           13   SHELF_ITEM                           Sugar   \n",
       "11    50050           14   SHELF_ITEM         Spaghetti sauce in jars   \n",
       "12    50051            1   SHELF_ITEM  Commercially microwave packets   \n",
       "13    50051            2       BAKERY                           Cakes   \n",
       "14    50051            3       BAKERY                         Muffins   \n",
       "15    50051            4   VEGETABLES                        Eggplant   \n",
       "16    50051            5        FRUIT                        Coconuts   \n",
       "17    50051            6   SHELF_ITEM                         Gelatin   \n",
       "18    50051            8  FROZEN_ITEM                     Bread Dough   \n",
       "19    50051            9   SHELF_ITEM                            Rice   \n",
       "\n",
       "     PERIOD       DETAILS       STORAGE                ITEM_DESC  \n",
       "0     30.00      unopened         SHELF                     bags  \n",
       "1    240.00           NaN        FROZEN                mincemeat  \n",
       "2    120.00      unopened         SHELF        marshmallow creme  \n",
       "3      7.00             G  REFRIGERATED           glazed or cake  \n",
       "4    120.00           NaN        FROZEN            half-and-half  \n",
       "5     60.00           NaN        FROZEN   whitefish, cold-smoked  \n",
       "6      5.00        opened  REFRIGERATED        canned evaporated  \n",
       "7     90.00           NaN        FROZEN        plain or flavored  \n",
       "8   1095.00      unopened         SHELF     vanilla, lemon, etc.  \n",
       "9     36.62           NaN         SHELF   yeast, partially baked  \n",
       "10   120.00           NaN         SHELF                    brown  \n",
       "11    30.00      unopened         SHELF                      NaN  \n",
       "12    30.00      unopened         SHELF                      NaN  \n",
       "13   180.00           NaN  REFRIGERATED               fruit cake  \n",
       "14     2.00           NaN         SHELF                      NaN  \n",
       "15     1.00           NaN         SHELF                      NaN  \n",
       "16   180.00      Shredded        FROZEN                      NaN  \n",
       "17  1095.00      unopened         SHELF               unflavored  \n",
       "18     7.00  After baking        THAWED               commercial  \n",
       "19   730.00      unopened         SHELF            white or wild  "
      ]
     },
     "execution_count": 7,
     "metadata": {},
     "output_type": "execute_result"
    }
   ],
   "source": [
    "oir.head(20)"
   ]
  },
  {
   "cell_type": "code",
   "execution_count": 89,
   "metadata": {},
   "outputs": [],
   "source": [
    "donor_data = pd.merge(ohd,oid,on='OrderId')\n",
    "consumer_data = pd.merge(ohr,oir,on='OrderId')"
   ]
  },
  {
   "cell_type": "code",
   "execution_count": 14,
   "metadata": {},
   "outputs": [
    {
     "data": {
      "text/html": [
       "<div>\n",
       "<style scoped>\n",
       "    .dataframe tbody tr th:only-of-type {\n",
       "        vertical-align: middle;\n",
       "    }\n",
       "\n",
       "    .dataframe tbody tr th {\n",
       "        vertical-align: top;\n",
       "    }\n",
       "\n",
       "    .dataframe thead th {\n",
       "        text-align: right;\n",
       "    }\n",
       "</style>\n",
       "<table border=\"1\" class=\"dataframe\">\n",
       "  <thead>\n",
       "    <tr style=\"text-align: right;\">\n",
       "      <th></th>\n",
       "      <th>OrderId</th>\n",
       "      <th>PartnerId</th>\n",
       "      <th>OrderTotal</th>\n",
       "      <th>OrderDate</th>\n",
       "      <th>PartnerName</th>\n",
       "      <th>PartnerGeoLat</th>\n",
       "      <th>PartnerGeoLon</th>\n",
       "      <th>OrderItemId</th>\n",
       "      <th>TYPE</th>\n",
       "      <th>ITEM</th>\n",
       "      <th>PERIOD</th>\n",
       "      <th>DETAILS</th>\n",
       "      <th>STORAGE</th>\n",
       "      <th>Quantity</th>\n",
       "      <th>ITEM_DESC</th>\n",
       "    </tr>\n",
       "  </thead>\n",
       "  <tbody>\n",
       "    <tr>\n",
       "      <th>0</th>\n",
       "      <td>20051</td>\n",
       "      <td>190050</td>\n",
       "      <td>2000</td>\n",
       "      <td>2021-01-11</td>\n",
       "      <td>FoodieLand</td>\n",
       "      <td>-27.49079</td>\n",
       "      <td>153.06799</td>\n",
       "      <td>1</td>\n",
       "      <td>DIARY</td>\n",
       "      <td>Cheese</td>\n",
       "      <td>60.0</td>\n",
       "      <td>NaN</td>\n",
       "      <td>REFRIGERATED</td>\n",
       "      <td>105</td>\n",
       "      <td>processed slices</td>\n",
       "    </tr>\n",
       "    <tr>\n",
       "      <th>1</th>\n",
       "      <td>20051</td>\n",
       "      <td>190050</td>\n",
       "      <td>2000</td>\n",
       "      <td>2021-01-11</td>\n",
       "      <td>FoodieLand</td>\n",
       "      <td>-27.49079</td>\n",
       "      <td>153.06799</td>\n",
       "      <td>2</td>\n",
       "      <td>DIARY</td>\n",
       "      <td>Eggs</td>\n",
       "      <td>35.0</td>\n",
       "      <td>NaN</td>\n",
       "      <td>REFRIGERATED</td>\n",
       "      <td>120</td>\n",
       "      <td>in shell</td>\n",
       "    </tr>\n",
       "    <tr>\n",
       "      <th>2</th>\n",
       "      <td>20051</td>\n",
       "      <td>190050</td>\n",
       "      <td>2000</td>\n",
       "      <td>2021-01-11</td>\n",
       "      <td>FoodieLand</td>\n",
       "      <td>-27.49079</td>\n",
       "      <td>153.06799</td>\n",
       "      <td>3</td>\n",
       "      <td>DIARY</td>\n",
       "      <td>Margarine</td>\n",
       "      <td>30.0</td>\n",
       "      <td>NaN</td>\n",
       "      <td>FROZEN</td>\n",
       "      <td>140</td>\n",
       "      <td>NaN</td>\n",
       "    </tr>\n",
       "    <tr>\n",
       "      <th>3</th>\n",
       "      <td>20051</td>\n",
       "      <td>190050</td>\n",
       "      <td>2000</td>\n",
       "      <td>2021-01-11</td>\n",
       "      <td>FoodieLand</td>\n",
       "      <td>-27.49079</td>\n",
       "      <td>153.06799</td>\n",
       "      <td>4</td>\n",
       "      <td>DIARY</td>\n",
       "      <td>Milk</td>\n",
       "      <td>7.0</td>\n",
       "      <td>NaN</td>\n",
       "      <td>REFRIGERATED</td>\n",
       "      <td>135</td>\n",
       "      <td>plain or flavored</td>\n",
       "    </tr>\n",
       "    <tr>\n",
       "      <th>4</th>\n",
       "      <td>20051</td>\n",
       "      <td>190050</td>\n",
       "      <td>2000</td>\n",
       "      <td>2021-01-11</td>\n",
       "      <td>FoodieLand</td>\n",
       "      <td>-27.49079</td>\n",
       "      <td>153.06799</td>\n",
       "      <td>5</td>\n",
       "      <td>SOY</td>\n",
       "      <td>Tofu</td>\n",
       "      <td>7.0</td>\n",
       "      <td>NaN</td>\n",
       "      <td>REFRIGERATED</td>\n",
       "      <td>145</td>\n",
       "      <td>NaN</td>\n",
       "    </tr>\n",
       "  </tbody>\n",
       "</table>\n",
       "</div>"
      ],
      "text/plain": [
       "   OrderId  PartnerId  OrderTotal   OrderDate PartnerName  PartnerGeoLat  \\\n",
       "0    20051     190050        2000  2021-01-11  FoodieLand      -27.49079   \n",
       "1    20051     190050        2000  2021-01-11  FoodieLand      -27.49079   \n",
       "2    20051     190050        2000  2021-01-11  FoodieLand      -27.49079   \n",
       "3    20051     190050        2000  2021-01-11  FoodieLand      -27.49079   \n",
       "4    20051     190050        2000  2021-01-11  FoodieLand      -27.49079   \n",
       "\n",
       "   PartnerGeoLon  OrderItemId   TYPE       ITEM  PERIOD DETAILS       STORAGE  \\\n",
       "0      153.06799            1  DIARY     Cheese    60.0     NaN  REFRIGERATED   \n",
       "1      153.06799            2  DIARY       Eggs    35.0     NaN  REFRIGERATED   \n",
       "2      153.06799            3  DIARY  Margarine    30.0     NaN        FROZEN   \n",
       "3      153.06799            4  DIARY       Milk     7.0     NaN  REFRIGERATED   \n",
       "4      153.06799            5    SOY       Tofu     7.0     NaN  REFRIGERATED   \n",
       "\n",
       "   Quantity           ITEM_DESC  \n",
       "0       105    processed slices  \n",
       "1       120            in shell  \n",
       "2       140                 NaN  \n",
       "3       135   plain or flavored  \n",
       "4       145                 NaN  "
      ]
     },
     "execution_count": 14,
     "metadata": {},
     "output_type": "execute_result"
    }
   ],
   "source": [
    "donor_data.head()"
   ]
  },
  {
   "cell_type": "code",
   "execution_count": 125,
   "metadata": {},
   "outputs": [],
   "source": [
    "start_date = '2021-01-11'\n",
    "end_date = '2021-04-06'\n",
    "donor_data = donor_data[(donor_data['OrderDate']>=start_date)&(donor_data['OrderDate']<=end_date)]\n",
    "consumer_data = consumer_data[(consumer_data['OrderDate']>=start_date)&(consumer_data['OrderDate']<=end_date)]\n",
    "supply_total_df = donor_data.groupby('OrderDate').OrderTotal.sum()\n",
    "demand_total_df = consumer_data.groupby('OrderDate').OrderTotal.sum()\n",
    "idx = pd.date_range(start_date,end_date)\n",
    "demand_total_df.index = pd.DatetimeIndex(demand_total_df.index)\n",
    "demand_total_df = demand_total_df.reindex(idx, fill_value=0)\n",
    "supply_total_df = supply_total_df.reset_index()\n",
    "demand_total_df = demand_total_df.reset_index()\n",
    "demand_total_df.columns = ['OrderDate','OrderTotal']\n",
    "supply_total_df[\"OrderDate\"] = supply_total_df[\"OrderDate\"].apply(lambda x: datetime.strptime(x,\"%Y-%m-%d\"))\n",
    "demand_total_df[\"OrderDate\"] = demand_total_df[\"OrderDate\"].apply(lambda x: x.date())"
   ]
  },
  {
   "cell_type": "code",
   "execution_count": 126,
   "metadata": {},
   "outputs": [
    {
     "name": "stdout",
     "output_type": "stream",
     "text": [
      "<class 'pandas.core.frame.DataFrame'>\n",
      "RangeIndex: 86 entries, 0 to 85\n",
      "Data columns (total 2 columns):\n",
      " #   Column      Non-Null Count  Dtype         \n",
      "---  ------      --------------  -----         \n",
      " 0   OrderDate   86 non-null     datetime64[ns]\n",
      " 1   OrderTotal  86 non-null     int64         \n",
      "dtypes: datetime64[ns](1), int64(1)\n",
      "memory usage: 1.5 KB\n"
     ]
    }
   ],
   "source": [
    "supply_total_df.info()"
   ]
  },
  {
   "cell_type": "code",
   "execution_count": 128,
   "metadata": {},
   "outputs": [
    {
     "name": "stdout",
     "output_type": "stream",
     "text": [
      "<class 'pandas.core.frame.DataFrame'>\n",
      "RangeIndex: 86 entries, 0 to 85\n",
      "Data columns (total 2 columns):\n",
      " #   Column      Non-Null Count  Dtype \n",
      "---  ------      --------------  ----- \n",
      " 0   OrderDate   86 non-null     object\n",
      " 1   OrderTotal  86 non-null     int64 \n",
      "dtypes: int64(1), object(1)\n",
      "memory usage: 1.5+ KB\n"
     ]
    }
   ],
   "source": [
    "demand_total_df.info()"
   ]
  },
  {
   "cell_type": "code",
   "execution_count": 133,
   "metadata": {},
   "outputs": [
    {
     "name": "stderr",
     "output_type": "stream",
     "text": [
      "/home/ujwalitha/snap/jupyter/common/lib/python3.7/site-packages/joblib/_multiprocessing_helpers.py:45: UserWarning: [Errno 13] Permission denied.  joblib will operate in serial mode\n",
      "  warnings.warn('%s.  joblib will operate in serial mode' % (e,))\n"
     ]
    }
   ],
   "source": [
    "import seaborn as sns"
   ]
  },
  {
   "cell_type": "code",
   "execution_count": 137,
   "metadata": {},
   "outputs": [
    {
     "name": "stdout",
     "output_type": "stream",
     "text": [
      "86\n"
     ]
    }
   ],
   "source": [
    "cnt=0\n",
    "stock = 0\n",
    "demand = 0\n",
    "li = []\n",
    "food_wastage = 0\n",
    "for i in range(86):\n",
    "    if (supply_total_df.iloc[i]['OrderDate']==demand_total_df.iloc[i]['OrderDate']):\n",
    "        stock = stock+supply_total_df.iloc[i][\"OrderTotal\"]\n",
    "        demand = demand + demand_total_df.iloc[i][\"OrderTotal\"]\n",
    "        li.append(stock-demand)\n",
    "        cnt=cnt+1\n",
    "print(cnt)\n",
    "    "
   ]
  },
  {
   "cell_type": "code",
   "execution_count": 140,
   "metadata": {},
   "outputs": [
    {
     "data": {
      "text/plain": [
       "(150800, 34324200)"
      ]
     },
     "execution_count": 140,
     "metadata": {},
     "output_type": "execute_result"
    }
   ],
   "source": [
    "min(li), max(li)"
   ]
  },
  {
   "cell_type": "code",
   "execution_count": 69,
   "metadata": {},
   "outputs": [
    {
     "data": {
      "text/plain": [
       "86"
      ]
     },
     "execution_count": 69,
     "metadata": {},
     "output_type": "execute_result"
    }
   ],
   "source": [
    "min(supply_total_df.shape[0],consumer_data.shape[0])"
   ]
  },
  {
   "cell_type": "code",
   "execution_count": 167,
   "metadata": {},
   "outputs": [
    {
     "data": {
      "application/vnd.plotly.v1+json": {
       "config": {
        "plotlyServerURL": "https://plot.ly"
       },
       "data": [
        {
         "domain": {
          "x": [
           0,
           1
          ],
          "y": [
           0,
           1
          ]
         },
         "gauge": {
          "bar": {
           "color": "red"
          }
         },
         "mode": "gauge+number",
         "title": {
          "font": {
           "size": 15
          },
          "text": "Food Wastage on daily basis (in terms of Items)"
         },
         "type": "indicator",
         "value": 34324200
        }
       ],
       "layout": {
        "autosize": false,
        "height": 500,
        "template": {
         "data": {
          "bar": [
           {
            "error_x": {
             "color": "#2a3f5f"
            },
            "error_y": {
             "color": "#2a3f5f"
            },
            "marker": {
             "line": {
              "color": "#E5ECF6",
              "width": 0.5
             }
            },
            "type": "bar"
           }
          ],
          "barpolar": [
           {
            "marker": {
             "line": {
              "color": "#E5ECF6",
              "width": 0.5
             }
            },
            "type": "barpolar"
           }
          ],
          "carpet": [
           {
            "aaxis": {
             "endlinecolor": "#2a3f5f",
             "gridcolor": "white",
             "linecolor": "white",
             "minorgridcolor": "white",
             "startlinecolor": "#2a3f5f"
            },
            "baxis": {
             "endlinecolor": "#2a3f5f",
             "gridcolor": "white",
             "linecolor": "white",
             "minorgridcolor": "white",
             "startlinecolor": "#2a3f5f"
            },
            "type": "carpet"
           }
          ],
          "choropleth": [
           {
            "colorbar": {
             "outlinewidth": 0,
             "ticks": ""
            },
            "type": "choropleth"
           }
          ],
          "contour": [
           {
            "colorbar": {
             "outlinewidth": 0,
             "ticks": ""
            },
            "colorscale": [
             [
              0,
              "#0d0887"
             ],
             [
              0.1111111111111111,
              "#46039f"
             ],
             [
              0.2222222222222222,
              "#7201a8"
             ],
             [
              0.3333333333333333,
              "#9c179e"
             ],
             [
              0.4444444444444444,
              "#bd3786"
             ],
             [
              0.5555555555555556,
              "#d8576b"
             ],
             [
              0.6666666666666666,
              "#ed7953"
             ],
             [
              0.7777777777777778,
              "#fb9f3a"
             ],
             [
              0.8888888888888888,
              "#fdca26"
             ],
             [
              1,
              "#f0f921"
             ]
            ],
            "type": "contour"
           }
          ],
          "contourcarpet": [
           {
            "colorbar": {
             "outlinewidth": 0,
             "ticks": ""
            },
            "type": "contourcarpet"
           }
          ],
          "heatmap": [
           {
            "colorbar": {
             "outlinewidth": 0,
             "ticks": ""
            },
            "colorscale": [
             [
              0,
              "#0d0887"
             ],
             [
              0.1111111111111111,
              "#46039f"
             ],
             [
              0.2222222222222222,
              "#7201a8"
             ],
             [
              0.3333333333333333,
              "#9c179e"
             ],
             [
              0.4444444444444444,
              "#bd3786"
             ],
             [
              0.5555555555555556,
              "#d8576b"
             ],
             [
              0.6666666666666666,
              "#ed7953"
             ],
             [
              0.7777777777777778,
              "#fb9f3a"
             ],
             [
              0.8888888888888888,
              "#fdca26"
             ],
             [
              1,
              "#f0f921"
             ]
            ],
            "type": "heatmap"
           }
          ],
          "heatmapgl": [
           {
            "colorbar": {
             "outlinewidth": 0,
             "ticks": ""
            },
            "colorscale": [
             [
              0,
              "#0d0887"
             ],
             [
              0.1111111111111111,
              "#46039f"
             ],
             [
              0.2222222222222222,
              "#7201a8"
             ],
             [
              0.3333333333333333,
              "#9c179e"
             ],
             [
              0.4444444444444444,
              "#bd3786"
             ],
             [
              0.5555555555555556,
              "#d8576b"
             ],
             [
              0.6666666666666666,
              "#ed7953"
             ],
             [
              0.7777777777777778,
              "#fb9f3a"
             ],
             [
              0.8888888888888888,
              "#fdca26"
             ],
             [
              1,
              "#f0f921"
             ]
            ],
            "type": "heatmapgl"
           }
          ],
          "histogram": [
           {
            "marker": {
             "colorbar": {
              "outlinewidth": 0,
              "ticks": ""
             }
            },
            "type": "histogram"
           }
          ],
          "histogram2d": [
           {
            "colorbar": {
             "outlinewidth": 0,
             "ticks": ""
            },
            "colorscale": [
             [
              0,
              "#0d0887"
             ],
             [
              0.1111111111111111,
              "#46039f"
             ],
             [
              0.2222222222222222,
              "#7201a8"
             ],
             [
              0.3333333333333333,
              "#9c179e"
             ],
             [
              0.4444444444444444,
              "#bd3786"
             ],
             [
              0.5555555555555556,
              "#d8576b"
             ],
             [
              0.6666666666666666,
              "#ed7953"
             ],
             [
              0.7777777777777778,
              "#fb9f3a"
             ],
             [
              0.8888888888888888,
              "#fdca26"
             ],
             [
              1,
              "#f0f921"
             ]
            ],
            "type": "histogram2d"
           }
          ],
          "histogram2dcontour": [
           {
            "colorbar": {
             "outlinewidth": 0,
             "ticks": ""
            },
            "colorscale": [
             [
              0,
              "#0d0887"
             ],
             [
              0.1111111111111111,
              "#46039f"
             ],
             [
              0.2222222222222222,
              "#7201a8"
             ],
             [
              0.3333333333333333,
              "#9c179e"
             ],
             [
              0.4444444444444444,
              "#bd3786"
             ],
             [
              0.5555555555555556,
              "#d8576b"
             ],
             [
              0.6666666666666666,
              "#ed7953"
             ],
             [
              0.7777777777777778,
              "#fb9f3a"
             ],
             [
              0.8888888888888888,
              "#fdca26"
             ],
             [
              1,
              "#f0f921"
             ]
            ],
            "type": "histogram2dcontour"
           }
          ],
          "mesh3d": [
           {
            "colorbar": {
             "outlinewidth": 0,
             "ticks": ""
            },
            "type": "mesh3d"
           }
          ],
          "parcoords": [
           {
            "line": {
             "colorbar": {
              "outlinewidth": 0,
              "ticks": ""
             }
            },
            "type": "parcoords"
           }
          ],
          "pie": [
           {
            "automargin": true,
            "type": "pie"
           }
          ],
          "scatter": [
           {
            "marker": {
             "colorbar": {
              "outlinewidth": 0,
              "ticks": ""
             }
            },
            "type": "scatter"
           }
          ],
          "scatter3d": [
           {
            "line": {
             "colorbar": {
              "outlinewidth": 0,
              "ticks": ""
             }
            },
            "marker": {
             "colorbar": {
              "outlinewidth": 0,
              "ticks": ""
             }
            },
            "type": "scatter3d"
           }
          ],
          "scattercarpet": [
           {
            "marker": {
             "colorbar": {
              "outlinewidth": 0,
              "ticks": ""
             }
            },
            "type": "scattercarpet"
           }
          ],
          "scattergeo": [
           {
            "marker": {
             "colorbar": {
              "outlinewidth": 0,
              "ticks": ""
             }
            },
            "type": "scattergeo"
           }
          ],
          "scattergl": [
           {
            "marker": {
             "colorbar": {
              "outlinewidth": 0,
              "ticks": ""
             }
            },
            "type": "scattergl"
           }
          ],
          "scattermapbox": [
           {
            "marker": {
             "colorbar": {
              "outlinewidth": 0,
              "ticks": ""
             }
            },
            "type": "scattermapbox"
           }
          ],
          "scatterpolar": [
           {
            "marker": {
             "colorbar": {
              "outlinewidth": 0,
              "ticks": ""
             }
            },
            "type": "scatterpolar"
           }
          ],
          "scatterpolargl": [
           {
            "marker": {
             "colorbar": {
              "outlinewidth": 0,
              "ticks": ""
             }
            },
            "type": "scatterpolargl"
           }
          ],
          "scatterternary": [
           {
            "marker": {
             "colorbar": {
              "outlinewidth": 0,
              "ticks": ""
             }
            },
            "type": "scatterternary"
           }
          ],
          "surface": [
           {
            "colorbar": {
             "outlinewidth": 0,
             "ticks": ""
            },
            "colorscale": [
             [
              0,
              "#0d0887"
             ],
             [
              0.1111111111111111,
              "#46039f"
             ],
             [
              0.2222222222222222,
              "#7201a8"
             ],
             [
              0.3333333333333333,
              "#9c179e"
             ],
             [
              0.4444444444444444,
              "#bd3786"
             ],
             [
              0.5555555555555556,
              "#d8576b"
             ],
             [
              0.6666666666666666,
              "#ed7953"
             ],
             [
              0.7777777777777778,
              "#fb9f3a"
             ],
             [
              0.8888888888888888,
              "#fdca26"
             ],
             [
              1,
              "#f0f921"
             ]
            ],
            "type": "surface"
           }
          ],
          "table": [
           {
            "cells": {
             "fill": {
              "color": "#EBF0F8"
             },
             "line": {
              "color": "white"
             }
            },
            "header": {
             "fill": {
              "color": "#C8D4E3"
             },
             "line": {
              "color": "white"
             }
            },
            "type": "table"
           }
          ]
         },
         "layout": {
          "annotationdefaults": {
           "arrowcolor": "#2a3f5f",
           "arrowhead": 0,
           "arrowwidth": 1
          },
          "autotypenumbers": "strict",
          "coloraxis": {
           "colorbar": {
            "outlinewidth": 0,
            "ticks": ""
           }
          },
          "colorscale": {
           "diverging": [
            [
             0,
             "#8e0152"
            ],
            [
             0.1,
             "#c51b7d"
            ],
            [
             0.2,
             "#de77ae"
            ],
            [
             0.3,
             "#f1b6da"
            ],
            [
             0.4,
             "#fde0ef"
            ],
            [
             0.5,
             "#f7f7f7"
            ],
            [
             0.6,
             "#e6f5d0"
            ],
            [
             0.7,
             "#b8e186"
            ],
            [
             0.8,
             "#7fbc41"
            ],
            [
             0.9,
             "#4d9221"
            ],
            [
             1,
             "#276419"
            ]
           ],
           "sequential": [
            [
             0,
             "#0d0887"
            ],
            [
             0.1111111111111111,
             "#46039f"
            ],
            [
             0.2222222222222222,
             "#7201a8"
            ],
            [
             0.3333333333333333,
             "#9c179e"
            ],
            [
             0.4444444444444444,
             "#bd3786"
            ],
            [
             0.5555555555555556,
             "#d8576b"
            ],
            [
             0.6666666666666666,
             "#ed7953"
            ],
            [
             0.7777777777777778,
             "#fb9f3a"
            ],
            [
             0.8888888888888888,
             "#fdca26"
            ],
            [
             1,
             "#f0f921"
            ]
           ],
           "sequentialminus": [
            [
             0,
             "#0d0887"
            ],
            [
             0.1111111111111111,
             "#46039f"
            ],
            [
             0.2222222222222222,
             "#7201a8"
            ],
            [
             0.3333333333333333,
             "#9c179e"
            ],
            [
             0.4444444444444444,
             "#bd3786"
            ],
            [
             0.5555555555555556,
             "#d8576b"
            ],
            [
             0.6666666666666666,
             "#ed7953"
            ],
            [
             0.7777777777777778,
             "#fb9f3a"
            ],
            [
             0.8888888888888888,
             "#fdca26"
            ],
            [
             1,
             "#f0f921"
            ]
           ]
          },
          "colorway": [
           "#636efa",
           "#EF553B",
           "#00cc96",
           "#ab63fa",
           "#FFA15A",
           "#19d3f3",
           "#FF6692",
           "#B6E880",
           "#FF97FF",
           "#FECB52"
          ],
          "font": {
           "color": "#2a3f5f"
          },
          "geo": {
           "bgcolor": "white",
           "lakecolor": "white",
           "landcolor": "#E5ECF6",
           "showlakes": true,
           "showland": true,
           "subunitcolor": "white"
          },
          "hoverlabel": {
           "align": "left"
          },
          "hovermode": "closest",
          "mapbox": {
           "style": "light"
          },
          "paper_bgcolor": "white",
          "plot_bgcolor": "#E5ECF6",
          "polar": {
           "angularaxis": {
            "gridcolor": "white",
            "linecolor": "white",
            "ticks": ""
           },
           "bgcolor": "#E5ECF6",
           "radialaxis": {
            "gridcolor": "white",
            "linecolor": "white",
            "ticks": ""
           }
          },
          "scene": {
           "xaxis": {
            "backgroundcolor": "#E5ECF6",
            "gridcolor": "white",
            "gridwidth": 2,
            "linecolor": "white",
            "showbackground": true,
            "ticks": "",
            "zerolinecolor": "white"
           },
           "yaxis": {
            "backgroundcolor": "#E5ECF6",
            "gridcolor": "white",
            "gridwidth": 2,
            "linecolor": "white",
            "showbackground": true,
            "ticks": "",
            "zerolinecolor": "white"
           },
           "zaxis": {
            "backgroundcolor": "#E5ECF6",
            "gridcolor": "white",
            "gridwidth": 2,
            "linecolor": "white",
            "showbackground": true,
            "ticks": "",
            "zerolinecolor": "white"
           }
          },
          "shapedefaults": {
           "line": {
            "color": "#2a3f5f"
           }
          },
          "ternary": {
           "aaxis": {
            "gridcolor": "white",
            "linecolor": "white",
            "ticks": ""
           },
           "baxis": {
            "gridcolor": "white",
            "linecolor": "white",
            "ticks": ""
           },
           "bgcolor": "#E5ECF6",
           "caxis": {
            "gridcolor": "white",
            "linecolor": "white",
            "ticks": ""
           }
          },
          "title": {
           "x": 0.05
          },
          "xaxis": {
           "automargin": true,
           "gridcolor": "white",
           "linecolor": "white",
           "ticks": "",
           "title": {
            "standoff": 15
           },
           "zerolinecolor": "white",
           "zerolinewidth": 2
          },
          "yaxis": {
           "automargin": true,
           "gridcolor": "white",
           "linecolor": "white",
           "ticks": "",
           "title": {
            "standoff": 15
           },
           "zerolinecolor": "white",
           "zerolinewidth": 2
          }
         }
        },
        "width": 500
       }
      },
      "text/html": [
       "<div>                            <div id=\"23de604c-4773-48eb-9055-18c4acbc1d69\" class=\"plotly-graph-div\" style=\"height:500px; width:500px;\"></div>            <script type=\"text/javascript\">                require([\"plotly\"], function(Plotly) {                    window.PLOTLYENV=window.PLOTLYENV || {};                                    if (document.getElementById(\"23de604c-4773-48eb-9055-18c4acbc1d69\")) {                    Plotly.newPlot(                        \"23de604c-4773-48eb-9055-18c4acbc1d69\",                        [{\"domain\": {\"x\": [0, 1], \"y\": [0, 1]}, \"gauge\": {\"bar\": {\"color\": \"red\"}}, \"mode\": \"gauge+number\", \"title\": {\"font\": {\"size\": 15}, \"text\": \"Food Wastage on daily basis (in terms of Items)\"}, \"type\": \"indicator\", \"value\": 34324200}],                        {\"autosize\": false, \"height\": 500, \"template\": {\"data\": {\"bar\": [{\"error_x\": {\"color\": \"#2a3f5f\"}, \"error_y\": {\"color\": \"#2a3f5f\"}, \"marker\": {\"line\": {\"color\": \"#E5ECF6\", \"width\": 0.5}}, \"type\": \"bar\"}], \"barpolar\": [{\"marker\": {\"line\": {\"color\": \"#E5ECF6\", \"width\": 0.5}}, \"type\": \"barpolar\"}], \"carpet\": [{\"aaxis\": {\"endlinecolor\": \"#2a3f5f\", \"gridcolor\": \"white\", \"linecolor\": \"white\", \"minorgridcolor\": \"white\", \"startlinecolor\": \"#2a3f5f\"}, \"baxis\": {\"endlinecolor\": \"#2a3f5f\", \"gridcolor\": \"white\", \"linecolor\": \"white\", \"minorgridcolor\": \"white\", \"startlinecolor\": \"#2a3f5f\"}, \"type\": \"carpet\"}], \"choropleth\": [{\"colorbar\": {\"outlinewidth\": 0, \"ticks\": \"\"}, \"type\": \"choropleth\"}], \"contour\": [{\"colorbar\": {\"outlinewidth\": 0, \"ticks\": \"\"}, \"colorscale\": [[0.0, \"#0d0887\"], [0.1111111111111111, \"#46039f\"], [0.2222222222222222, \"#7201a8\"], [0.3333333333333333, \"#9c179e\"], [0.4444444444444444, \"#bd3786\"], [0.5555555555555556, \"#d8576b\"], [0.6666666666666666, \"#ed7953\"], [0.7777777777777778, \"#fb9f3a\"], [0.8888888888888888, \"#fdca26\"], [1.0, \"#f0f921\"]], \"type\": \"contour\"}], \"contourcarpet\": [{\"colorbar\": {\"outlinewidth\": 0, \"ticks\": \"\"}, \"type\": \"contourcarpet\"}], \"heatmap\": [{\"colorbar\": {\"outlinewidth\": 0, \"ticks\": \"\"}, \"colorscale\": [[0.0, \"#0d0887\"], [0.1111111111111111, \"#46039f\"], [0.2222222222222222, \"#7201a8\"], [0.3333333333333333, \"#9c179e\"], [0.4444444444444444, \"#bd3786\"], [0.5555555555555556, \"#d8576b\"], [0.6666666666666666, \"#ed7953\"], [0.7777777777777778, \"#fb9f3a\"], [0.8888888888888888, \"#fdca26\"], [1.0, \"#f0f921\"]], \"type\": \"heatmap\"}], \"heatmapgl\": [{\"colorbar\": {\"outlinewidth\": 0, \"ticks\": \"\"}, \"colorscale\": [[0.0, \"#0d0887\"], [0.1111111111111111, \"#46039f\"], [0.2222222222222222, \"#7201a8\"], [0.3333333333333333, \"#9c179e\"], [0.4444444444444444, \"#bd3786\"], [0.5555555555555556, \"#d8576b\"], [0.6666666666666666, \"#ed7953\"], [0.7777777777777778, \"#fb9f3a\"], [0.8888888888888888, \"#fdca26\"], [1.0, \"#f0f921\"]], \"type\": \"heatmapgl\"}], \"histogram\": [{\"marker\": {\"colorbar\": {\"outlinewidth\": 0, \"ticks\": \"\"}}, \"type\": \"histogram\"}], \"histogram2d\": [{\"colorbar\": {\"outlinewidth\": 0, \"ticks\": \"\"}, \"colorscale\": [[0.0, \"#0d0887\"], [0.1111111111111111, \"#46039f\"], [0.2222222222222222, \"#7201a8\"], [0.3333333333333333, \"#9c179e\"], [0.4444444444444444, \"#bd3786\"], [0.5555555555555556, \"#d8576b\"], [0.6666666666666666, \"#ed7953\"], [0.7777777777777778, \"#fb9f3a\"], [0.8888888888888888, \"#fdca26\"], [1.0, \"#f0f921\"]], \"type\": \"histogram2d\"}], \"histogram2dcontour\": [{\"colorbar\": {\"outlinewidth\": 0, \"ticks\": \"\"}, \"colorscale\": [[0.0, \"#0d0887\"], [0.1111111111111111, \"#46039f\"], [0.2222222222222222, \"#7201a8\"], [0.3333333333333333, \"#9c179e\"], [0.4444444444444444, \"#bd3786\"], [0.5555555555555556, \"#d8576b\"], [0.6666666666666666, \"#ed7953\"], [0.7777777777777778, \"#fb9f3a\"], [0.8888888888888888, \"#fdca26\"], [1.0, \"#f0f921\"]], \"type\": \"histogram2dcontour\"}], \"mesh3d\": [{\"colorbar\": {\"outlinewidth\": 0, \"ticks\": \"\"}, \"type\": \"mesh3d\"}], \"parcoords\": [{\"line\": {\"colorbar\": {\"outlinewidth\": 0, \"ticks\": \"\"}}, \"type\": \"parcoords\"}], \"pie\": [{\"automargin\": true, \"type\": \"pie\"}], \"scatter\": [{\"marker\": {\"colorbar\": {\"outlinewidth\": 0, \"ticks\": \"\"}}, \"type\": \"scatter\"}], \"scatter3d\": [{\"line\": {\"colorbar\": {\"outlinewidth\": 0, \"ticks\": \"\"}}, \"marker\": {\"colorbar\": {\"outlinewidth\": 0, \"ticks\": \"\"}}, \"type\": \"scatter3d\"}], \"scattercarpet\": [{\"marker\": {\"colorbar\": {\"outlinewidth\": 0, \"ticks\": \"\"}}, \"type\": \"scattercarpet\"}], \"scattergeo\": [{\"marker\": {\"colorbar\": {\"outlinewidth\": 0, \"ticks\": \"\"}}, \"type\": \"scattergeo\"}], \"scattergl\": [{\"marker\": {\"colorbar\": {\"outlinewidth\": 0, \"ticks\": \"\"}}, \"type\": \"scattergl\"}], \"scattermapbox\": [{\"marker\": {\"colorbar\": {\"outlinewidth\": 0, \"ticks\": \"\"}}, \"type\": \"scattermapbox\"}], \"scatterpolar\": [{\"marker\": {\"colorbar\": {\"outlinewidth\": 0, \"ticks\": \"\"}}, \"type\": \"scatterpolar\"}], \"scatterpolargl\": [{\"marker\": {\"colorbar\": {\"outlinewidth\": 0, \"ticks\": \"\"}}, \"type\": \"scatterpolargl\"}], \"scatterternary\": [{\"marker\": {\"colorbar\": {\"outlinewidth\": 0, \"ticks\": \"\"}}, \"type\": \"scatterternary\"}], \"surface\": [{\"colorbar\": {\"outlinewidth\": 0, \"ticks\": \"\"}, \"colorscale\": [[0.0, \"#0d0887\"], [0.1111111111111111, \"#46039f\"], [0.2222222222222222, \"#7201a8\"], [0.3333333333333333, \"#9c179e\"], [0.4444444444444444, \"#bd3786\"], [0.5555555555555556, \"#d8576b\"], [0.6666666666666666, \"#ed7953\"], [0.7777777777777778, \"#fb9f3a\"], [0.8888888888888888, \"#fdca26\"], [1.0, \"#f0f921\"]], \"type\": \"surface\"}], \"table\": [{\"cells\": {\"fill\": {\"color\": \"#EBF0F8\"}, \"line\": {\"color\": \"white\"}}, \"header\": {\"fill\": {\"color\": \"#C8D4E3\"}, \"line\": {\"color\": \"white\"}}, \"type\": \"table\"}]}, \"layout\": {\"annotationdefaults\": {\"arrowcolor\": \"#2a3f5f\", \"arrowhead\": 0, \"arrowwidth\": 1}, \"autotypenumbers\": \"strict\", \"coloraxis\": {\"colorbar\": {\"outlinewidth\": 0, \"ticks\": \"\"}}, \"colorscale\": {\"diverging\": [[0, \"#8e0152\"], [0.1, \"#c51b7d\"], [0.2, \"#de77ae\"], [0.3, \"#f1b6da\"], [0.4, \"#fde0ef\"], [0.5, \"#f7f7f7\"], [0.6, \"#e6f5d0\"], [0.7, \"#b8e186\"], [0.8, \"#7fbc41\"], [0.9, \"#4d9221\"], [1, \"#276419\"]], \"sequential\": [[0.0, \"#0d0887\"], [0.1111111111111111, \"#46039f\"], [0.2222222222222222, \"#7201a8\"], [0.3333333333333333, \"#9c179e\"], [0.4444444444444444, \"#bd3786\"], [0.5555555555555556, \"#d8576b\"], [0.6666666666666666, \"#ed7953\"], [0.7777777777777778, \"#fb9f3a\"], [0.8888888888888888, \"#fdca26\"], [1.0, \"#f0f921\"]], \"sequentialminus\": [[0.0, \"#0d0887\"], [0.1111111111111111, \"#46039f\"], [0.2222222222222222, \"#7201a8\"], [0.3333333333333333, \"#9c179e\"], [0.4444444444444444, \"#bd3786\"], [0.5555555555555556, \"#d8576b\"], [0.6666666666666666, \"#ed7953\"], [0.7777777777777778, \"#fb9f3a\"], [0.8888888888888888, \"#fdca26\"], [1.0, \"#f0f921\"]]}, \"colorway\": [\"#636efa\", \"#EF553B\", \"#00cc96\", \"#ab63fa\", \"#FFA15A\", \"#19d3f3\", \"#FF6692\", \"#B6E880\", \"#FF97FF\", \"#FECB52\"], \"font\": {\"color\": \"#2a3f5f\"}, \"geo\": {\"bgcolor\": \"white\", \"lakecolor\": \"white\", \"landcolor\": \"#E5ECF6\", \"showlakes\": true, \"showland\": true, \"subunitcolor\": \"white\"}, \"hoverlabel\": {\"align\": \"left\"}, \"hovermode\": \"closest\", \"mapbox\": {\"style\": \"light\"}, \"paper_bgcolor\": \"white\", \"plot_bgcolor\": \"#E5ECF6\", \"polar\": {\"angularaxis\": {\"gridcolor\": \"white\", \"linecolor\": \"white\", \"ticks\": \"\"}, \"bgcolor\": \"#E5ECF6\", \"radialaxis\": {\"gridcolor\": \"white\", \"linecolor\": \"white\", \"ticks\": \"\"}}, \"scene\": {\"xaxis\": {\"backgroundcolor\": \"#E5ECF6\", \"gridcolor\": \"white\", \"gridwidth\": 2, \"linecolor\": \"white\", \"showbackground\": true, \"ticks\": \"\", \"zerolinecolor\": \"white\"}, \"yaxis\": {\"backgroundcolor\": \"#E5ECF6\", \"gridcolor\": \"white\", \"gridwidth\": 2, \"linecolor\": \"white\", \"showbackground\": true, \"ticks\": \"\", \"zerolinecolor\": \"white\"}, \"zaxis\": {\"backgroundcolor\": \"#E5ECF6\", \"gridcolor\": \"white\", \"gridwidth\": 2, \"linecolor\": \"white\", \"showbackground\": true, \"ticks\": \"\", \"zerolinecolor\": \"white\"}}, \"shapedefaults\": {\"line\": {\"color\": \"#2a3f5f\"}}, \"ternary\": {\"aaxis\": {\"gridcolor\": \"white\", \"linecolor\": \"white\", \"ticks\": \"\"}, \"baxis\": {\"gridcolor\": \"white\", \"linecolor\": \"white\", \"ticks\": \"\"}, \"bgcolor\": \"#E5ECF6\", \"caxis\": {\"gridcolor\": \"white\", \"linecolor\": \"white\", \"ticks\": \"\"}}, \"title\": {\"x\": 0.05}, \"xaxis\": {\"automargin\": true, \"gridcolor\": \"white\", \"linecolor\": \"white\", \"ticks\": \"\", \"title\": {\"standoff\": 15}, \"zerolinecolor\": \"white\", \"zerolinewidth\": 2}, \"yaxis\": {\"automargin\": true, \"gridcolor\": \"white\", \"linecolor\": \"white\", \"ticks\": \"\", \"title\": {\"standoff\": 15}, \"zerolinecolor\": \"white\", \"zerolinewidth\": 2}}}, \"width\": 500},                        {\"responsive\": true}                    ).then(function(){\n",
       "                            \n",
       "var gd = document.getElementById('23de604c-4773-48eb-9055-18c4acbc1d69');\n",
       "var x = new MutationObserver(function (mutations, observer) {{\n",
       "        var display = window.getComputedStyle(gd).display;\n",
       "        if (!display || display === 'none') {{\n",
       "            console.log([gd, 'removed!']);\n",
       "            Plotly.purge(gd);\n",
       "            observer.disconnect();\n",
       "        }}\n",
       "}});\n",
       "\n",
       "// Listen for the removal of the full notebook cells\n",
       "var notebookContainer = gd.closest('#notebook-container');\n",
       "if (notebookContainer) {{\n",
       "    x.observe(notebookContainer, {childList: true});\n",
       "}}\n",
       "\n",
       "// Listen for the clearing of the current output cell\n",
       "var outputEl = gd.closest('.output');\n",
       "if (outputEl) {{\n",
       "    x.observe(outputEl, {childList: true});\n",
       "}}\n",
       "\n",
       "                        })                };                });            </script>        </div>"
      ]
     },
     "metadata": {},
     "output_type": "display_data"
    }
   ],
   "source": [
    "import plotly.graph_objects as go\n",
    "\n",
    "fig = go.Figure(go.Indicator(\n",
    "    mode = \"gauge+number\",\n",
    "    value = max(li),\n",
    "    domain = {'x': [0, 1], 'y': [0, 1]},\n",
    "    title = {'text': \"Food Wastage on daily basis (in terms of Items)\",'font': {'size': 15}},\n",
    "    gauge = {\n",
    "        'bar': {'color': \"red\"}},\n",
    "))\n",
    "fig.update_layout(\n",
    "    autosize=False,\n",
    "    width=500,\n",
    "    height=500)\n",
    "\n",
    "fig.show()\n"
   ]
  },
  {
   "cell_type": "code",
   "execution_count": null,
   "metadata": {},
   "outputs": [],
   "source": []
  }
 ],
 "metadata": {
  "kernelspec": {
   "display_name": "Python 3",
   "language": "python",
   "name": "python3"
  },
  "language_info": {
   "codemirror_mode": {
    "name": "ipython",
    "version": 3
   },
   "file_extension": ".py",
   "mimetype": "text/x-python",
   "name": "python",
   "nbconvert_exporter": "python",
   "pygments_lexer": "ipython3",
   "version": "3.7.3"
  }
 },
 "nbformat": 4,
 "nbformat_minor": 2
}
